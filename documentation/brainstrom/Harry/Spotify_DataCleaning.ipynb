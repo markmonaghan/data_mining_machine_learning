{
  "nbformat": 4,
  "nbformat_minor": 0,
  "metadata": {
    "colab": {
      "provenance": [],
      "authorship_tag": "ABX9TyNISMA9qFsqpUZQpQOtX9WH",
      "include_colab_link": true
    },
    "kernelspec": {
      "name": "python3",
      "display_name": "Python 3"
    },
    "language_info": {
      "name": "python"
    }
  },
  "cells": [
    {
      "cell_type": "markdown",
      "metadata": {
        "id": "view-in-github",
        "colab_type": "text"
      },
      "source": [
        "<a href=\"https://colab.research.google.com/github/dmml-heriot-watt/group-coursework-ha/blob/harry-branch/Spotify_DataCleaning.ipynb\" target=\"_parent\"><img src=\"https://colab.research.google.com/assets/colab-badge.svg\" alt=\"Open In Colab\"/></a>"
      ]
    },
    {
      "cell_type": "markdown",
      "source": [
        "**Importing the libraries**"
      ],
      "metadata": {
        "id": "ybOWE-U8T8xr"
      }
    },
    {
      "cell_type": "code",
      "source": [
        "import numpy as np\n",
        "import matplotlib.pyplot as plt\n",
        "import pandas as pd\n",
        "import seaborn as sns\n",
        "from sklearn.decomposition import PCA\n",
        "from sklearn.cluster import KMeans"
      ],
      "metadata": {
        "id": "XYQ7HZj5MazN"
      },
      "execution_count": 70,
      "outputs": []
    },
    {
      "cell_type": "markdown",
      "source": [
        "**Loading in the dataset & removing unwanted columns**"
      ],
      "metadata": {
        "id": "8jaKM2kaUQzz"
      }
    },
    {
      "cell_type": "code",
      "execution_count": 71,
      "metadata": {
        "id": "_9MMDkfYIc0e"
      },
      "outputs": [],
      "source": [
        "df = pd.read_csv('top10s-raw.csv', encoding = 'latin-1')\n",
        "df = df.iloc[:, 3:]"
      ]
    },
    {
      "cell_type": "code",
      "source": [
        "df.shape"
      ],
      "metadata": {
        "colab": {
          "base_uri": "https://localhost:8080/"
        },
        "id": "q9cEpCFYMpaw",
        "outputId": "a6715366-9014-4306-a6d9-0a5ddd9deb1e"
      },
      "execution_count": 72,
      "outputs": [
        {
          "output_type": "execute_result",
          "data": {
            "text/plain": [
              "(603, 12)"
            ]
          },
          "metadata": {},
          "execution_count": 72
        }
      ]
    },
    {
      "cell_type": "markdown",
      "source": [
        "**Checking the different genre names**"
      ],
      "metadata": {
        "id": "z19j06d3UZvX"
      }
    },
    {
      "cell_type": "code",
      "source": [
        "df['top genre'].unique()"
      ],
      "metadata": {
        "colab": {
          "base_uri": "https://localhost:8080/"
        },
        "id": "nfyvvzKDMq5P",
        "outputId": "57f3725c-acd6-4a6a-e665-f2194803d43a"
      },
      "execution_count": 73,
      "outputs": [
        {
          "output_type": "execute_result",
          "data": {
            "text/plain": [
              "array(['neo mellow', 'detroit hip hop', 'dance pop', 'pop',\n",
              "       'canadian pop', 'hip pop', 'barbadian pop', 'atl hip hop',\n",
              "       'australian pop', 'indie pop', 'art pop', 'colombian pop',\n",
              "       'big room', 'british soul', 'chicago rap', 'acoustic pop',\n",
              "       'permanent wave', 'boy band', 'baroque pop', 'celtic rock',\n",
              "       'electro', 'complextro', 'canadian hip hop', 'candy pop',\n",
              "       'alaska indie', 'folk-pop', 'metropopolis', 'house',\n",
              "       'australian hip hop', 'electropop', 'australian dance',\n",
              "       'hollywood', 'canadian contemporary r&b',\n",
              "       'irish singer-songwriter', 'tropical house', 'belgian edm',\n",
              "       'french indie pop', 'hip hop', 'danish pop', 'latin',\n",
              "       'canadian latin', 'electronic trap', 'edm', 'electro house',\n",
              "       'downtempo', 'brostep', 'contemporary country', 'moroccan pop',\n",
              "       'escape room', 'alternative r&b'], dtype=object)"
            ]
          },
          "metadata": {},
          "execution_count": 73
        }
      ]
    },
    {
      "cell_type": "markdown",
      "source": [
        "**Checking the instances of each genre**"
      ],
      "metadata": {
        "id": "1Tgk9FwkUh0_"
      }
    },
    {
      "cell_type": "code",
      "source": [
        "df['top genre'].value_counts()"
      ],
      "metadata": {
        "colab": {
          "base_uri": "https://localhost:8080/"
        },
        "id": "-EQq0D7IN2jh",
        "outputId": "3edb5bab-e20a-4038-c089-e14e2faed8ae"
      },
      "execution_count": 74,
      "outputs": [
        {
          "output_type": "execute_result",
          "data": {
            "text/plain": [
              "dance pop                    327\n",
              "pop                           60\n",
              "canadian pop                  34\n",
              "barbadian pop                 15\n",
              "boy band                      15\n",
              "electropop                    13\n",
              "british soul                  11\n",
              "big room                      10\n",
              "canadian contemporary r&b      9\n",
              "neo mellow                     9\n",
              "art pop                        8\n",
              "complextro                     6\n",
              "hip pop                        6\n",
              "australian dance               6\n",
              "atl hip hop                    5\n",
              "australian pop                 5\n",
              "edm                            5\n",
              "permanent wave                 4\n",
              "latin                          4\n",
              "hip hop                        4\n",
              "colombian pop                  3\n",
              "tropical house                 3\n",
              "brostep                        2\n",
              "downtempo                      2\n",
              "electronic trap                2\n",
              "belgian edm                    2\n",
              "escape room                    2\n",
              "folk-pop                       2\n",
              "electro                        2\n",
              "indie pop                      2\n",
              "detroit hip hop                2\n",
              "candy pop                      2\n",
              "acoustic pop                   2\n",
              "canadian hip hop               2\n",
              "baroque pop                    2\n",
              "celtic rock                    1\n",
              "moroccan pop                   1\n",
              "contemporary country           1\n",
              "chicago rap                    1\n",
              "electro house                  1\n",
              "australian hip hop             1\n",
              "canadian latin                 1\n",
              "house                          1\n",
              "danish pop                     1\n",
              "french indie pop               1\n",
              "alaska indie                   1\n",
              "irish singer-songwriter        1\n",
              "hollywood                      1\n",
              "metropopolis                   1\n",
              "alternative r&b                1\n",
              "Name: top genre, dtype: int64"
            ]
          },
          "metadata": {},
          "execution_count": 74
        }
      ]
    },
    {
      "cell_type": "markdown",
      "source": [
        "**Removing the space from the column name**"
      ],
      "metadata": {
        "id": "hdo-fwBfUxZf"
      }
    },
    {
      "cell_type": "code",
      "source": [
        "df.rename(columns={'top genre':'top_genre'}, inplace=True)"
      ],
      "metadata": {
        "id": "GjhHAOXSOidk"
      },
      "execution_count": 75,
      "outputs": []
    },
    {
      "cell_type": "code",
      "source": [
        "modified_df = df"
      ],
      "metadata": {
        "id": "8jgvKWkqN9fi"
      },
      "execution_count": 76,
      "outputs": []
    },
    {
      "cell_type": "markdown",
      "source": [
        "**Combining similar genres into groups**"
      ],
      "metadata": {
        "id": "lmhRxkOhU5aG"
      }
    },
    {
      "cell_type": "code",
      "source": [
        "#adds all instances of pop in the genre column into one shared genre\n",
        "for i in modified_df.top_genre:\n",
        "    if 'pop' in i:\n",
        "        modified_df.top_genre = modified_df.top_genre.replace(i, 'pop')\n",
        "\n",
        "    elif 'hip hop' in i:\n",
        "        modified_df.top_genre = modified_df.top_genre.replace(i, 'hip hop')\n",
        "\n",
        "    elif 'edm' in i:\n",
        "        modified_df.top_genre = modified_df.top_genre.replace(i, 'edm')\n",
        "\n",
        "    elif 'r&b' in i:\n",
        "        modified_df.top_genre = modified_df.top_genre.replace(i, 'pop')\n",
        "\n",
        "    elif 'latin' in i:\n",
        "        modified_df.top_genre = modified_df.top_genre.replace(i, 'latin')\n",
        "\n",
        "    elif 'room' in i:\n",
        "        modified_df.top_genre = modified_df.top_genre.replace(i, 'room')\n",
        "\n",
        "    elif 'electro' in i:\n",
        "        modified_df.top_genre = modified_df.top_genre.replace(i, 'edm')\n",
        "\n",
        "#replaces all instances of chicago rap with hip hop\n",
        "modified_df.top_genre = modified_df.top_genre.replace('chicago rap', 'hip hop')"
      ],
      "metadata": {
        "id": "_QQ_3BTdN_3g"
      },
      "execution_count": 77,
      "outputs": []
    },
    {
      "cell_type": "markdown",
      "source": [
        "**Checking the instances of different genres again**"
      ],
      "metadata": {
        "id": "lyCL7_vSVFtV"
      }
    },
    {
      "cell_type": "code",
      "source": [
        "modified_df.top_genre.value_counts()"
      ],
      "metadata": {
        "colab": {
          "base_uri": "https://localhost:8080/"
        },
        "id": "QqMQkpgMPDmH",
        "outputId": "9ea911c1-557b-42d1-8756-16ad383f5645"
      },
      "execution_count": 78,
      "outputs": [
        {
          "output_type": "execute_result",
          "data": {
            "text/plain": [
              "pop                        495\n",
              "boy band                    15\n",
              "hip hop                     15\n",
              "room                        12\n",
              "edm                         12\n",
              "british soul                11\n",
              "neo mellow                   9\n",
              "complextro                   6\n",
              "australian dance             6\n",
              "latin                        5\n",
              "permanent wave               4\n",
              "tropical house               3\n",
              "brostep                      2\n",
              "downtempo                    2\n",
              "alaska indie                 1\n",
              "irish singer-songwriter      1\n",
              "hollywood                    1\n",
              "house                        1\n",
              "celtic rock                  1\n",
              "contemporary country         1\n",
              "Name: top_genre, dtype: int64"
            ]
          },
          "metadata": {},
          "execution_count": 78
        }
      ]
    },
    {
      "cell_type": "markdown",
      "source": [
        "**Removing any columns with 3 or less instances**"
      ],
      "metadata": {
        "id": "15By0mSNVP5g"
      }
    },
    {
      "cell_type": "code",
      "source": [
        "cull_df = modified_df\n",
        "value_counts = cull_df.stack().value_counts()\n",
        "culled = value_counts[value_counts <= 3].index\n",
        "cull_df.replace(culled, 'other', inplace=True)\n",
        "cull_df.top_genre.value_counts()"
      ],
      "metadata": {
        "colab": {
          "base_uri": "https://localhost:8080/"
        },
        "id": "jsfQ3E99PEE0",
        "outputId": "2734e59a-e829-470c-b180-76e7da96ce84"
      },
      "execution_count": 79,
      "outputs": [
        {
          "output_type": "execute_result",
          "data": {
            "text/plain": [
              "pop                 495\n",
              "hip hop              15\n",
              "boy band             15\n",
              "other                13\n",
              "room                 12\n",
              "edm                  12\n",
              "british soul         11\n",
              "neo mellow            9\n",
              "complextro            6\n",
              "australian dance      6\n",
              "latin                 5\n",
              "permanent wave        4\n",
              "Name: top_genre, dtype: int64"
            ]
          },
          "metadata": {},
          "execution_count": 79
        }
      ]
    },
    {
      "cell_type": "markdown",
      "source": [
        "**Showing that 'other' is present in the dataframe**"
      ],
      "metadata": {
        "id": "igwW9aZlpeFL"
      }
    },
    {
      "cell_type": "code",
      "source": [
        "cull_df.head()"
      ],
      "metadata": {
        "colab": {
          "base_uri": "https://localhost:8080/",
          "height": 206
        },
        "id": "YkBP5fV5nUWZ",
        "outputId": "1da6af6e-e6c2-4eab-93f1-45a57a184459"
      },
      "execution_count": 80,
      "outputs": [
        {
          "output_type": "execute_result",
          "data": {
            "text/plain": [
              "    top_genre  year    bpm  nrgy  dnce  dB  live  val    dur  acous  spch  pop\n",
              "0  neo mellow  2010     97    89    67  -4     8   80    217     19     4   83\n",
              "1     hip hop  2010     87    93    75  -5    52   64    263     24    23   82\n",
              "2         pop  2010    120    84    76  -3    29   71    200     10    14   80\n",
              "3         pop  2010  other    92    70  -4     8   71  other      0     4   79\n",
              "4         pop  2010  other    84    64  -5     9   43    221      2     4   78"
            ],
            "text/html": [
              "\n",
              "  <div id=\"df-1e41031e-6e82-4f8b-9f91-e7142a284c7e\" class=\"colab-df-container\">\n",
              "    <div>\n",
              "<style scoped>\n",
              "    .dataframe tbody tr th:only-of-type {\n",
              "        vertical-align: middle;\n",
              "    }\n",
              "\n",
              "    .dataframe tbody tr th {\n",
              "        vertical-align: top;\n",
              "    }\n",
              "\n",
              "    .dataframe thead th {\n",
              "        text-align: right;\n",
              "    }\n",
              "</style>\n",
              "<table border=\"1\" class=\"dataframe\">\n",
              "  <thead>\n",
              "    <tr style=\"text-align: right;\">\n",
              "      <th></th>\n",
              "      <th>top_genre</th>\n",
              "      <th>year</th>\n",
              "      <th>bpm</th>\n",
              "      <th>nrgy</th>\n",
              "      <th>dnce</th>\n",
              "      <th>dB</th>\n",
              "      <th>live</th>\n",
              "      <th>val</th>\n",
              "      <th>dur</th>\n",
              "      <th>acous</th>\n",
              "      <th>spch</th>\n",
              "      <th>pop</th>\n",
              "    </tr>\n",
              "  </thead>\n",
              "  <tbody>\n",
              "    <tr>\n",
              "      <th>0</th>\n",
              "      <td>neo mellow</td>\n",
              "      <td>2010</td>\n",
              "      <td>97</td>\n",
              "      <td>89</td>\n",
              "      <td>67</td>\n",
              "      <td>-4</td>\n",
              "      <td>8</td>\n",
              "      <td>80</td>\n",
              "      <td>217</td>\n",
              "      <td>19</td>\n",
              "      <td>4</td>\n",
              "      <td>83</td>\n",
              "    </tr>\n",
              "    <tr>\n",
              "      <th>1</th>\n",
              "      <td>hip hop</td>\n",
              "      <td>2010</td>\n",
              "      <td>87</td>\n",
              "      <td>93</td>\n",
              "      <td>75</td>\n",
              "      <td>-5</td>\n",
              "      <td>52</td>\n",
              "      <td>64</td>\n",
              "      <td>263</td>\n",
              "      <td>24</td>\n",
              "      <td>23</td>\n",
              "      <td>82</td>\n",
              "    </tr>\n",
              "    <tr>\n",
              "      <th>2</th>\n",
              "      <td>pop</td>\n",
              "      <td>2010</td>\n",
              "      <td>120</td>\n",
              "      <td>84</td>\n",
              "      <td>76</td>\n",
              "      <td>-3</td>\n",
              "      <td>29</td>\n",
              "      <td>71</td>\n",
              "      <td>200</td>\n",
              "      <td>10</td>\n",
              "      <td>14</td>\n",
              "      <td>80</td>\n",
              "    </tr>\n",
              "    <tr>\n",
              "      <th>3</th>\n",
              "      <td>pop</td>\n",
              "      <td>2010</td>\n",
              "      <td>other</td>\n",
              "      <td>92</td>\n",
              "      <td>70</td>\n",
              "      <td>-4</td>\n",
              "      <td>8</td>\n",
              "      <td>71</td>\n",
              "      <td>other</td>\n",
              "      <td>0</td>\n",
              "      <td>4</td>\n",
              "      <td>79</td>\n",
              "    </tr>\n",
              "    <tr>\n",
              "      <th>4</th>\n",
              "      <td>pop</td>\n",
              "      <td>2010</td>\n",
              "      <td>other</td>\n",
              "      <td>84</td>\n",
              "      <td>64</td>\n",
              "      <td>-5</td>\n",
              "      <td>9</td>\n",
              "      <td>43</td>\n",
              "      <td>221</td>\n",
              "      <td>2</td>\n",
              "      <td>4</td>\n",
              "      <td>78</td>\n",
              "    </tr>\n",
              "  </tbody>\n",
              "</table>\n",
              "</div>\n",
              "    <div class=\"colab-df-buttons\">\n",
              "\n",
              "  <div class=\"colab-df-container\">\n",
              "    <button class=\"colab-df-convert\" onclick=\"convertToInteractive('df-1e41031e-6e82-4f8b-9f91-e7142a284c7e')\"\n",
              "            title=\"Convert this dataframe to an interactive table.\"\n",
              "            style=\"display:none;\">\n",
              "\n",
              "  <svg xmlns=\"http://www.w3.org/2000/svg\" height=\"24px\" viewBox=\"0 -960 960 960\">\n",
              "    <path d=\"M120-120v-720h720v720H120Zm60-500h600v-160H180v160Zm220 220h160v-160H400v160Zm0 220h160v-160H400v160ZM180-400h160v-160H180v160Zm440 0h160v-160H620v160ZM180-180h160v-160H180v160Zm440 0h160v-160H620v160Z\"/>\n",
              "  </svg>\n",
              "    </button>\n",
              "\n",
              "  <style>\n",
              "    .colab-df-container {\n",
              "      display:flex;\n",
              "      gap: 12px;\n",
              "    }\n",
              "\n",
              "    .colab-df-convert {\n",
              "      background-color: #E8F0FE;\n",
              "      border: none;\n",
              "      border-radius: 50%;\n",
              "      cursor: pointer;\n",
              "      display: none;\n",
              "      fill: #1967D2;\n",
              "      height: 32px;\n",
              "      padding: 0 0 0 0;\n",
              "      width: 32px;\n",
              "    }\n",
              "\n",
              "    .colab-df-convert:hover {\n",
              "      background-color: #E2EBFA;\n",
              "      box-shadow: 0px 1px 2px rgba(60, 64, 67, 0.3), 0px 1px 3px 1px rgba(60, 64, 67, 0.15);\n",
              "      fill: #174EA6;\n",
              "    }\n",
              "\n",
              "    .colab-df-buttons div {\n",
              "      margin-bottom: 4px;\n",
              "    }\n",
              "\n",
              "    [theme=dark] .colab-df-convert {\n",
              "      background-color: #3B4455;\n",
              "      fill: #D2E3FC;\n",
              "    }\n",
              "\n",
              "    [theme=dark] .colab-df-convert:hover {\n",
              "      background-color: #434B5C;\n",
              "      box-shadow: 0px 1px 3px 1px rgba(0, 0, 0, 0.15);\n",
              "      filter: drop-shadow(0px 1px 2px rgba(0, 0, 0, 0.3));\n",
              "      fill: #FFFFFF;\n",
              "    }\n",
              "  </style>\n",
              "\n",
              "    <script>\n",
              "      const buttonEl =\n",
              "        document.querySelector('#df-1e41031e-6e82-4f8b-9f91-e7142a284c7e button.colab-df-convert');\n",
              "      buttonEl.style.display =\n",
              "        google.colab.kernel.accessAllowed ? 'block' : 'none';\n",
              "\n",
              "      async function convertToInteractive(key) {\n",
              "        const element = document.querySelector('#df-1e41031e-6e82-4f8b-9f91-e7142a284c7e');\n",
              "        const dataTable =\n",
              "          await google.colab.kernel.invokeFunction('convertToInteractive',\n",
              "                                                    [key], {});\n",
              "        if (!dataTable) return;\n",
              "\n",
              "        const docLinkHtml = 'Like what you see? Visit the ' +\n",
              "          '<a target=\"_blank\" href=https://colab.research.google.com/notebooks/data_table.ipynb>data table notebook</a>'\n",
              "          + ' to learn more about interactive tables.';\n",
              "        element.innerHTML = '';\n",
              "        dataTable['output_type'] = 'display_data';\n",
              "        await google.colab.output.renderOutput(dataTable, element);\n",
              "        const docLink = document.createElement('div');\n",
              "        docLink.innerHTML = docLinkHtml;\n",
              "        element.appendChild(docLink);\n",
              "      }\n",
              "    </script>\n",
              "  </div>\n",
              "\n",
              "\n",
              "<div id=\"df-a90b85d1-7bbb-423f-b44c-88856607dd59\">\n",
              "  <button class=\"colab-df-quickchart\" onclick=\"quickchart('df-a90b85d1-7bbb-423f-b44c-88856607dd59')\"\n",
              "            title=\"Suggest charts.\"\n",
              "            style=\"display:none;\">\n",
              "\n",
              "<svg xmlns=\"http://www.w3.org/2000/svg\" height=\"24px\"viewBox=\"0 0 24 24\"\n",
              "     width=\"24px\">\n",
              "    <g>\n",
              "        <path d=\"M19 3H5c-1.1 0-2 .9-2 2v14c0 1.1.9 2 2 2h14c1.1 0 2-.9 2-2V5c0-1.1-.9-2-2-2zM9 17H7v-7h2v7zm4 0h-2V7h2v10zm4 0h-2v-4h2v4z\"/>\n",
              "    </g>\n",
              "</svg>\n",
              "  </button>\n",
              "\n",
              "<style>\n",
              "  .colab-df-quickchart {\n",
              "      --bg-color: #E8F0FE;\n",
              "      --fill-color: #1967D2;\n",
              "      --hover-bg-color: #E2EBFA;\n",
              "      --hover-fill-color: #174EA6;\n",
              "      --disabled-fill-color: #AAA;\n",
              "      --disabled-bg-color: #DDD;\n",
              "  }\n",
              "\n",
              "  [theme=dark] .colab-df-quickchart {\n",
              "      --bg-color: #3B4455;\n",
              "      --fill-color: #D2E3FC;\n",
              "      --hover-bg-color: #434B5C;\n",
              "      --hover-fill-color: #FFFFFF;\n",
              "      --disabled-bg-color: #3B4455;\n",
              "      --disabled-fill-color: #666;\n",
              "  }\n",
              "\n",
              "  .colab-df-quickchart {\n",
              "    background-color: var(--bg-color);\n",
              "    border: none;\n",
              "    border-radius: 50%;\n",
              "    cursor: pointer;\n",
              "    display: none;\n",
              "    fill: var(--fill-color);\n",
              "    height: 32px;\n",
              "    padding: 0;\n",
              "    width: 32px;\n",
              "  }\n",
              "\n",
              "  .colab-df-quickchart:hover {\n",
              "    background-color: var(--hover-bg-color);\n",
              "    box-shadow: 0 1px 2px rgba(60, 64, 67, 0.3), 0 1px 3px 1px rgba(60, 64, 67, 0.15);\n",
              "    fill: var(--button-hover-fill-color);\n",
              "  }\n",
              "\n",
              "  .colab-df-quickchart-complete:disabled,\n",
              "  .colab-df-quickchart-complete:disabled:hover {\n",
              "    background-color: var(--disabled-bg-color);\n",
              "    fill: var(--disabled-fill-color);\n",
              "    box-shadow: none;\n",
              "  }\n",
              "\n",
              "  .colab-df-spinner {\n",
              "    border: 2px solid var(--fill-color);\n",
              "    border-color: transparent;\n",
              "    border-bottom-color: var(--fill-color);\n",
              "    animation:\n",
              "      spin 1s steps(1) infinite;\n",
              "  }\n",
              "\n",
              "  @keyframes spin {\n",
              "    0% {\n",
              "      border-color: transparent;\n",
              "      border-bottom-color: var(--fill-color);\n",
              "      border-left-color: var(--fill-color);\n",
              "    }\n",
              "    20% {\n",
              "      border-color: transparent;\n",
              "      border-left-color: var(--fill-color);\n",
              "      border-top-color: var(--fill-color);\n",
              "    }\n",
              "    30% {\n",
              "      border-color: transparent;\n",
              "      border-left-color: var(--fill-color);\n",
              "      border-top-color: var(--fill-color);\n",
              "      border-right-color: var(--fill-color);\n",
              "    }\n",
              "    40% {\n",
              "      border-color: transparent;\n",
              "      border-right-color: var(--fill-color);\n",
              "      border-top-color: var(--fill-color);\n",
              "    }\n",
              "    60% {\n",
              "      border-color: transparent;\n",
              "      border-right-color: var(--fill-color);\n",
              "    }\n",
              "    80% {\n",
              "      border-color: transparent;\n",
              "      border-right-color: var(--fill-color);\n",
              "      border-bottom-color: var(--fill-color);\n",
              "    }\n",
              "    90% {\n",
              "      border-color: transparent;\n",
              "      border-bottom-color: var(--fill-color);\n",
              "    }\n",
              "  }\n",
              "</style>\n",
              "\n",
              "  <script>\n",
              "    async function quickchart(key) {\n",
              "      const quickchartButtonEl =\n",
              "        document.querySelector('#' + key + ' button');\n",
              "      quickchartButtonEl.disabled = true;  // To prevent multiple clicks.\n",
              "      quickchartButtonEl.classList.add('colab-df-spinner');\n",
              "      try {\n",
              "        const charts = await google.colab.kernel.invokeFunction(\n",
              "            'suggestCharts', [key], {});\n",
              "      } catch (error) {\n",
              "        console.error('Error during call to suggestCharts:', error);\n",
              "      }\n",
              "      quickchartButtonEl.classList.remove('colab-df-spinner');\n",
              "      quickchartButtonEl.classList.add('colab-df-quickchart-complete');\n",
              "    }\n",
              "    (() => {\n",
              "      let quickchartButtonEl =\n",
              "        document.querySelector('#df-a90b85d1-7bbb-423f-b44c-88856607dd59 button');\n",
              "      quickchartButtonEl.style.display =\n",
              "        google.colab.kernel.accessAllowed ? 'block' : 'none';\n",
              "    })();\n",
              "  </script>\n",
              "</div>\n",
              "    </div>\n",
              "  </div>\n"
            ]
          },
          "metadata": {},
          "execution_count": 80
        }
      ]
    },
    {
      "cell_type": "markdown",
      "source": [
        "**Removing all instances of 'other' and replcing it with the rounded mean value for that column**"
      ],
      "metadata": {
        "id": "MCYnf7DapmJu"
      }
    },
    {
      "cell_type": "code",
      "source": [
        "mean_value = round(pd.to_numeric(cull_df['bpm'], errors='coerce').mean())\n",
        "cull_df['bpm'] = cull_df['bpm'].replace('other', mean_value)"
      ],
      "metadata": {
        "id": "N3_hIgHGnxQQ"
      },
      "execution_count": 81,
      "outputs": []
    },
    {
      "cell_type": "code",
      "source": [
        "mean_value = round(pd.to_numeric(cull_df['nrgy'], errors='coerce').mean())\n",
        "cull_df['nrgy'] = cull_df['nrgy'].replace('other', mean_value)"
      ],
      "metadata": {
        "id": "oCv8Kr4porFC"
      },
      "execution_count": 82,
      "outputs": []
    },
    {
      "cell_type": "code",
      "source": [
        "mean_value = round(pd.to_numeric(cull_df['dnce'], errors='coerce').mean())\n",
        "cull_df['dnce'] = cull_df['dnce'].replace('other', mean_value)"
      ],
      "metadata": {
        "id": "aOPC2mjUor8J"
      },
      "execution_count": 83,
      "outputs": []
    },
    {
      "cell_type": "code",
      "source": [
        "mean_value = round(pd.to_numeric(cull_df['dB'], errors='coerce').mean())\n",
        "cull_df['dB'] = cull_df['dB'].replace('other', mean_value)"
      ],
      "metadata": {
        "id": "23QbmyqSosu6"
      },
      "execution_count": 84,
      "outputs": []
    },
    {
      "cell_type": "code",
      "source": [
        "mean_value = round(pd.to_numeric(cull_df['live'], errors='coerce').mean())\n",
        "cull_df['live'] = cull_df['live'].replace('other', mean_value)"
      ],
      "metadata": {
        "id": "oTMKHJqBotM5"
      },
      "execution_count": 85,
      "outputs": []
    },
    {
      "cell_type": "code",
      "source": [
        "mean_value = round(pd.to_numeric(cull_df['val'], errors='coerce').mean())\n",
        "cull_df['val'] = cull_df['val'].replace('other', mean_value)"
      ],
      "metadata": {
        "id": "x1kKC76lot7B"
      },
      "execution_count": 86,
      "outputs": []
    },
    {
      "cell_type": "code",
      "source": [
        "mean_value = round(pd.to_numeric(cull_df['dur'], errors='coerce').mean())\n",
        "cull_df['dur'] = cull_df['dur'].replace('other', mean_value)"
      ],
      "metadata": {
        "id": "9rs02FOfpINs"
      },
      "execution_count": 87,
      "outputs": []
    },
    {
      "cell_type": "code",
      "source": [
        "mean_value = round(pd.to_numeric(cull_df['acous'], errors='coerce').mean())\n",
        "cull_df['acous'] = cull_df['acous'].replace('other', mean_value)"
      ],
      "metadata": {
        "id": "ie4K_6i5ouc5"
      },
      "execution_count": 88,
      "outputs": []
    },
    {
      "cell_type": "code",
      "source": [
        "mean_value = round(pd.to_numeric(cull_df['spch'], errors='coerce').mean())\n",
        "cull_df['spch'] = cull_df['spch'].replace('other', mean_value)"
      ],
      "metadata": {
        "id": "aputRTlpo9ii"
      },
      "execution_count": 89,
      "outputs": []
    },
    {
      "cell_type": "code",
      "source": [
        "mean_value = round(pd.to_numeric(cull_df['pop'], errors='coerce').mean())\n",
        "cull_df['pop'] = cull_df['pop'].replace('other', mean_value)"
      ],
      "metadata": {
        "id": "HoMDK6zWo9yZ"
      },
      "execution_count": 90,
      "outputs": []
    },
    {
      "cell_type": "markdown",
      "source": [
        "**Showing that 'other' has now been replaced**"
      ],
      "metadata": {
        "id": "Kxt5s7SWpwah"
      }
    },
    {
      "cell_type": "code",
      "source": [
        "cull_df.head()"
      ],
      "metadata": {
        "colab": {
          "base_uri": "https://localhost:8080/",
          "height": 206
        },
        "id": "FIv0TvMBnlRp",
        "outputId": "5b49be70-69f3-4101-b497-93aea1b1ead8"
      },
      "execution_count": 91,
      "outputs": [
        {
          "output_type": "execute_result",
          "data": {
            "text/plain": [
              "    top_genre  year  bpm  nrgy  dnce  dB  live  val  dur  acous  spch  pop\n",
              "0  neo mellow  2010   97    89    67  -4     8   80  217     19     4   83\n",
              "1     hip hop  2010   87    93    75  -5    52   64  263     24    23   82\n",
              "2         pop  2010  120    84    76  -3    29   71  200     10    14   80\n",
              "3         pop  2010  116    92    70  -4     8   71  218      0     4   79\n",
              "4         pop  2010  116    84    64  -5     9   43  221      2     4   78"
            ],
            "text/html": [
              "\n",
              "  <div id=\"df-9574c897-494d-4f8a-9e70-5d66e2d8c672\" class=\"colab-df-container\">\n",
              "    <div>\n",
              "<style scoped>\n",
              "    .dataframe tbody tr th:only-of-type {\n",
              "        vertical-align: middle;\n",
              "    }\n",
              "\n",
              "    .dataframe tbody tr th {\n",
              "        vertical-align: top;\n",
              "    }\n",
              "\n",
              "    .dataframe thead th {\n",
              "        text-align: right;\n",
              "    }\n",
              "</style>\n",
              "<table border=\"1\" class=\"dataframe\">\n",
              "  <thead>\n",
              "    <tr style=\"text-align: right;\">\n",
              "      <th></th>\n",
              "      <th>top_genre</th>\n",
              "      <th>year</th>\n",
              "      <th>bpm</th>\n",
              "      <th>nrgy</th>\n",
              "      <th>dnce</th>\n",
              "      <th>dB</th>\n",
              "      <th>live</th>\n",
              "      <th>val</th>\n",
              "      <th>dur</th>\n",
              "      <th>acous</th>\n",
              "      <th>spch</th>\n",
              "      <th>pop</th>\n",
              "    </tr>\n",
              "  </thead>\n",
              "  <tbody>\n",
              "    <tr>\n",
              "      <th>0</th>\n",
              "      <td>neo mellow</td>\n",
              "      <td>2010</td>\n",
              "      <td>97</td>\n",
              "      <td>89</td>\n",
              "      <td>67</td>\n",
              "      <td>-4</td>\n",
              "      <td>8</td>\n",
              "      <td>80</td>\n",
              "      <td>217</td>\n",
              "      <td>19</td>\n",
              "      <td>4</td>\n",
              "      <td>83</td>\n",
              "    </tr>\n",
              "    <tr>\n",
              "      <th>1</th>\n",
              "      <td>hip hop</td>\n",
              "      <td>2010</td>\n",
              "      <td>87</td>\n",
              "      <td>93</td>\n",
              "      <td>75</td>\n",
              "      <td>-5</td>\n",
              "      <td>52</td>\n",
              "      <td>64</td>\n",
              "      <td>263</td>\n",
              "      <td>24</td>\n",
              "      <td>23</td>\n",
              "      <td>82</td>\n",
              "    </tr>\n",
              "    <tr>\n",
              "      <th>2</th>\n",
              "      <td>pop</td>\n",
              "      <td>2010</td>\n",
              "      <td>120</td>\n",
              "      <td>84</td>\n",
              "      <td>76</td>\n",
              "      <td>-3</td>\n",
              "      <td>29</td>\n",
              "      <td>71</td>\n",
              "      <td>200</td>\n",
              "      <td>10</td>\n",
              "      <td>14</td>\n",
              "      <td>80</td>\n",
              "    </tr>\n",
              "    <tr>\n",
              "      <th>3</th>\n",
              "      <td>pop</td>\n",
              "      <td>2010</td>\n",
              "      <td>116</td>\n",
              "      <td>92</td>\n",
              "      <td>70</td>\n",
              "      <td>-4</td>\n",
              "      <td>8</td>\n",
              "      <td>71</td>\n",
              "      <td>218</td>\n",
              "      <td>0</td>\n",
              "      <td>4</td>\n",
              "      <td>79</td>\n",
              "    </tr>\n",
              "    <tr>\n",
              "      <th>4</th>\n",
              "      <td>pop</td>\n",
              "      <td>2010</td>\n",
              "      <td>116</td>\n",
              "      <td>84</td>\n",
              "      <td>64</td>\n",
              "      <td>-5</td>\n",
              "      <td>9</td>\n",
              "      <td>43</td>\n",
              "      <td>221</td>\n",
              "      <td>2</td>\n",
              "      <td>4</td>\n",
              "      <td>78</td>\n",
              "    </tr>\n",
              "  </tbody>\n",
              "</table>\n",
              "</div>\n",
              "    <div class=\"colab-df-buttons\">\n",
              "\n",
              "  <div class=\"colab-df-container\">\n",
              "    <button class=\"colab-df-convert\" onclick=\"convertToInteractive('df-9574c897-494d-4f8a-9e70-5d66e2d8c672')\"\n",
              "            title=\"Convert this dataframe to an interactive table.\"\n",
              "            style=\"display:none;\">\n",
              "\n",
              "  <svg xmlns=\"http://www.w3.org/2000/svg\" height=\"24px\" viewBox=\"0 -960 960 960\">\n",
              "    <path d=\"M120-120v-720h720v720H120Zm60-500h600v-160H180v160Zm220 220h160v-160H400v160Zm0 220h160v-160H400v160ZM180-400h160v-160H180v160Zm440 0h160v-160H620v160ZM180-180h160v-160H180v160Zm440 0h160v-160H620v160Z\"/>\n",
              "  </svg>\n",
              "    </button>\n",
              "\n",
              "  <style>\n",
              "    .colab-df-container {\n",
              "      display:flex;\n",
              "      gap: 12px;\n",
              "    }\n",
              "\n",
              "    .colab-df-convert {\n",
              "      background-color: #E8F0FE;\n",
              "      border: none;\n",
              "      border-radius: 50%;\n",
              "      cursor: pointer;\n",
              "      display: none;\n",
              "      fill: #1967D2;\n",
              "      height: 32px;\n",
              "      padding: 0 0 0 0;\n",
              "      width: 32px;\n",
              "    }\n",
              "\n",
              "    .colab-df-convert:hover {\n",
              "      background-color: #E2EBFA;\n",
              "      box-shadow: 0px 1px 2px rgba(60, 64, 67, 0.3), 0px 1px 3px 1px rgba(60, 64, 67, 0.15);\n",
              "      fill: #174EA6;\n",
              "    }\n",
              "\n",
              "    .colab-df-buttons div {\n",
              "      margin-bottom: 4px;\n",
              "    }\n",
              "\n",
              "    [theme=dark] .colab-df-convert {\n",
              "      background-color: #3B4455;\n",
              "      fill: #D2E3FC;\n",
              "    }\n",
              "\n",
              "    [theme=dark] .colab-df-convert:hover {\n",
              "      background-color: #434B5C;\n",
              "      box-shadow: 0px 1px 3px 1px rgba(0, 0, 0, 0.15);\n",
              "      filter: drop-shadow(0px 1px 2px rgba(0, 0, 0, 0.3));\n",
              "      fill: #FFFFFF;\n",
              "    }\n",
              "  </style>\n",
              "\n",
              "    <script>\n",
              "      const buttonEl =\n",
              "        document.querySelector('#df-9574c897-494d-4f8a-9e70-5d66e2d8c672 button.colab-df-convert');\n",
              "      buttonEl.style.display =\n",
              "        google.colab.kernel.accessAllowed ? 'block' : 'none';\n",
              "\n",
              "      async function convertToInteractive(key) {\n",
              "        const element = document.querySelector('#df-9574c897-494d-4f8a-9e70-5d66e2d8c672');\n",
              "        const dataTable =\n",
              "          await google.colab.kernel.invokeFunction('convertToInteractive',\n",
              "                                                    [key], {});\n",
              "        if (!dataTable) return;\n",
              "\n",
              "        const docLinkHtml = 'Like what you see? Visit the ' +\n",
              "          '<a target=\"_blank\" href=https://colab.research.google.com/notebooks/data_table.ipynb>data table notebook</a>'\n",
              "          + ' to learn more about interactive tables.';\n",
              "        element.innerHTML = '';\n",
              "        dataTable['output_type'] = 'display_data';\n",
              "        await google.colab.output.renderOutput(dataTable, element);\n",
              "        const docLink = document.createElement('div');\n",
              "        docLink.innerHTML = docLinkHtml;\n",
              "        element.appendChild(docLink);\n",
              "      }\n",
              "    </script>\n",
              "  </div>\n",
              "\n",
              "\n",
              "<div id=\"df-cead2e1e-06b3-4140-aeb7-342326d145fb\">\n",
              "  <button class=\"colab-df-quickchart\" onclick=\"quickchart('df-cead2e1e-06b3-4140-aeb7-342326d145fb')\"\n",
              "            title=\"Suggest charts.\"\n",
              "            style=\"display:none;\">\n",
              "\n",
              "<svg xmlns=\"http://www.w3.org/2000/svg\" height=\"24px\"viewBox=\"0 0 24 24\"\n",
              "     width=\"24px\">\n",
              "    <g>\n",
              "        <path d=\"M19 3H5c-1.1 0-2 .9-2 2v14c0 1.1.9 2 2 2h14c1.1 0 2-.9 2-2V5c0-1.1-.9-2-2-2zM9 17H7v-7h2v7zm4 0h-2V7h2v10zm4 0h-2v-4h2v4z\"/>\n",
              "    </g>\n",
              "</svg>\n",
              "  </button>\n",
              "\n",
              "<style>\n",
              "  .colab-df-quickchart {\n",
              "      --bg-color: #E8F0FE;\n",
              "      --fill-color: #1967D2;\n",
              "      --hover-bg-color: #E2EBFA;\n",
              "      --hover-fill-color: #174EA6;\n",
              "      --disabled-fill-color: #AAA;\n",
              "      --disabled-bg-color: #DDD;\n",
              "  }\n",
              "\n",
              "  [theme=dark] .colab-df-quickchart {\n",
              "      --bg-color: #3B4455;\n",
              "      --fill-color: #D2E3FC;\n",
              "      --hover-bg-color: #434B5C;\n",
              "      --hover-fill-color: #FFFFFF;\n",
              "      --disabled-bg-color: #3B4455;\n",
              "      --disabled-fill-color: #666;\n",
              "  }\n",
              "\n",
              "  .colab-df-quickchart {\n",
              "    background-color: var(--bg-color);\n",
              "    border: none;\n",
              "    border-radius: 50%;\n",
              "    cursor: pointer;\n",
              "    display: none;\n",
              "    fill: var(--fill-color);\n",
              "    height: 32px;\n",
              "    padding: 0;\n",
              "    width: 32px;\n",
              "  }\n",
              "\n",
              "  .colab-df-quickchart:hover {\n",
              "    background-color: var(--hover-bg-color);\n",
              "    box-shadow: 0 1px 2px rgba(60, 64, 67, 0.3), 0 1px 3px 1px rgba(60, 64, 67, 0.15);\n",
              "    fill: var(--button-hover-fill-color);\n",
              "  }\n",
              "\n",
              "  .colab-df-quickchart-complete:disabled,\n",
              "  .colab-df-quickchart-complete:disabled:hover {\n",
              "    background-color: var(--disabled-bg-color);\n",
              "    fill: var(--disabled-fill-color);\n",
              "    box-shadow: none;\n",
              "  }\n",
              "\n",
              "  .colab-df-spinner {\n",
              "    border: 2px solid var(--fill-color);\n",
              "    border-color: transparent;\n",
              "    border-bottom-color: var(--fill-color);\n",
              "    animation:\n",
              "      spin 1s steps(1) infinite;\n",
              "  }\n",
              "\n",
              "  @keyframes spin {\n",
              "    0% {\n",
              "      border-color: transparent;\n",
              "      border-bottom-color: var(--fill-color);\n",
              "      border-left-color: var(--fill-color);\n",
              "    }\n",
              "    20% {\n",
              "      border-color: transparent;\n",
              "      border-left-color: var(--fill-color);\n",
              "      border-top-color: var(--fill-color);\n",
              "    }\n",
              "    30% {\n",
              "      border-color: transparent;\n",
              "      border-left-color: var(--fill-color);\n",
              "      border-top-color: var(--fill-color);\n",
              "      border-right-color: var(--fill-color);\n",
              "    }\n",
              "    40% {\n",
              "      border-color: transparent;\n",
              "      border-right-color: var(--fill-color);\n",
              "      border-top-color: var(--fill-color);\n",
              "    }\n",
              "    60% {\n",
              "      border-color: transparent;\n",
              "      border-right-color: var(--fill-color);\n",
              "    }\n",
              "    80% {\n",
              "      border-color: transparent;\n",
              "      border-right-color: var(--fill-color);\n",
              "      border-bottom-color: var(--fill-color);\n",
              "    }\n",
              "    90% {\n",
              "      border-color: transparent;\n",
              "      border-bottom-color: var(--fill-color);\n",
              "    }\n",
              "  }\n",
              "</style>\n",
              "\n",
              "  <script>\n",
              "    async function quickchart(key) {\n",
              "      const quickchartButtonEl =\n",
              "        document.querySelector('#' + key + ' button');\n",
              "      quickchartButtonEl.disabled = true;  // To prevent multiple clicks.\n",
              "      quickchartButtonEl.classList.add('colab-df-spinner');\n",
              "      try {\n",
              "        const charts = await google.colab.kernel.invokeFunction(\n",
              "            'suggestCharts', [key], {});\n",
              "      } catch (error) {\n",
              "        console.error('Error during call to suggestCharts:', error);\n",
              "      }\n",
              "      quickchartButtonEl.classList.remove('colab-df-spinner');\n",
              "      quickchartButtonEl.classList.add('colab-df-quickchart-complete');\n",
              "    }\n",
              "    (() => {\n",
              "      let quickchartButtonEl =\n",
              "        document.querySelector('#df-cead2e1e-06b3-4140-aeb7-342326d145fb button');\n",
              "      quickchartButtonEl.style.display =\n",
              "        google.colab.kernel.accessAllowed ? 'block' : 'none';\n",
              "    })();\n",
              "  </script>\n",
              "</div>\n",
              "    </div>\n",
              "  </div>\n"
            ]
          },
          "metadata": {},
          "execution_count": 91
        }
      ]
    },
    {
      "cell_type": "markdown",
      "source": [
        "**Saving dataframe as cleaned CSV for analysis**"
      ],
      "metadata": {
        "id": "IBIOunGdVrV_"
      }
    },
    {
      "cell_type": "code",
      "source": [
        "cull_df.to_csv('top10s-clean.csv')"
      ],
      "metadata": {
        "id": "UPrnEWSMVqzG"
      },
      "execution_count": 93,
      "outputs": []
    }
  ]
}