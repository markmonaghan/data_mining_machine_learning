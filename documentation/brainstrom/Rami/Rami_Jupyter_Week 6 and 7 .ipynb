{
 "cells": [
  {
   "cell_type": "markdown",
   "id": "bceba5d6",
   "metadata": {},
   "source": [
    "# MDb Movies Dataset - Data Exploration, Visualization, and Cleaning and Models Training"
   ]
  },
  {
   "cell_type": "markdown",
   "id": "35db0df7",
   "metadata": {},
   "source": [
    "The following is the Jupyter notebook that contains the data exploration, visualization, and cleaning of the IMDb movies dataset that I have been working on for the past couple of weeks. Moreover, I include models training and hyperaparameters tuning to increase the accuracy of the predictions of the models.\n",
    "\n",
    "I tried to provide detailed comments on each information that I got from exploring and visualizng the data. Moreover, I justified the choices I made when cleaning the data.\n",
    "\n",
    "Additionally, I train a baseline model that is used to make predictions on the test set. The Root Mean Squared Error (RMSE)  of this model is calculated; thus, they will serve as the loss functions that all models try to minimize. \n",
    "\n",
    "Finally, I train other models and choose the one with the best RMSE.\n",
    "\n",
    "A list of references can be found at the bottom of the notebook."
   ]
  },
  {
   "cell_type": "markdown",
   "id": "c232f583",
   "metadata": {},
   "source": [
    "## Problem Statement"
   ]
  },
  {
   "cell_type": "markdown",
   "id": "5cc1bc8c",
   "metadata": {},
   "source": [
    "The goal is to train a regression model to predict the total gross of movies. "
   ]
  },
  {
   "cell_type": "markdown",
   "id": "84590f11",
   "metadata": {},
   "source": [
    "## Data Loading"
   ]
  },
  {
   "cell_type": "code",
   "execution_count": 2,
   "id": "610fbadb",
   "metadata": {},
   "outputs": [],
   "source": [
    "import os\n",
    "import pandas as pd\n",
    "import urllib.request\n",
    "import requests\n",
    "\n",
    "def load_movies_dataset():\n",
    "    github_url = \"https://raw.githubusercontent.com/dmml-heriot-watt/group-coursework-ha/main/data/IMDb_All_Genres_etf_clean1.csv?token=GHSAT0AAAAAACIDJMTW7T5ITSFOALHDTH56ZJZECXQ\"\n",
    "    requests.get(github_url)\n",
    "    return pd.read_csv(github_url)"
   ]
  },
  {
   "cell_type": "code",
   "execution_count": 3,
   "id": "f2d9c02d",
   "metadata": {},
   "outputs": [
    {
     "data": {
      "text/html": [
       "<div>\n",
       "<style scoped>\n",
       "    .dataframe tbody tr th:only-of-type {\n",
       "        vertical-align: middle;\n",
       "    }\n",
       "\n",
       "    .dataframe tbody tr th {\n",
       "        vertical-align: top;\n",
       "    }\n",
       "\n",
       "    .dataframe thead th {\n",
       "        text-align: right;\n",
       "    }\n",
       "</style>\n",
       "<table border=\"1\" class=\"dataframe\">\n",
       "  <thead>\n",
       "    <tr style=\"text-align: right;\">\n",
       "      <th></th>\n",
       "      <th>Movie_Title</th>\n",
       "      <th>Year</th>\n",
       "      <th>Director</th>\n",
       "      <th>Actors</th>\n",
       "      <th>Rating</th>\n",
       "      <th>Runtime(Mins)</th>\n",
       "      <th>Censor</th>\n",
       "      <th>Total_Gross</th>\n",
       "      <th>main_genre</th>\n",
       "      <th>side_genre</th>\n",
       "    </tr>\n",
       "  </thead>\n",
       "  <tbody>\n",
       "    <tr>\n",
       "      <th>0</th>\n",
       "      <td>Kantara</td>\n",
       "      <td>2022</td>\n",
       "      <td>Rishab Shetty</td>\n",
       "      <td>Rishab Shetty, Sapthami Gowda, Kishore Kumar G...</td>\n",
       "      <td>9.3</td>\n",
       "      <td>148</td>\n",
       "      <td>UA</td>\n",
       "      <td>Gross Unkown</td>\n",
       "      <td>Action</td>\n",
       "      <td>Adventure,  Drama</td>\n",
       "    </tr>\n",
       "    <tr>\n",
       "      <th>1</th>\n",
       "      <td>The Dark Knight</td>\n",
       "      <td>2008</td>\n",
       "      <td>Christopher Nolan</td>\n",
       "      <td>Christian Bale, Heath Ledger, Aaron Eckhart, M...</td>\n",
       "      <td>9.0</td>\n",
       "      <td>152</td>\n",
       "      <td>UA</td>\n",
       "      <td>$534.86M</td>\n",
       "      <td>Action</td>\n",
       "      <td>Crime,  Drama</td>\n",
       "    </tr>\n",
       "    <tr>\n",
       "      <th>2</th>\n",
       "      <td>The Lord of the Rings: The Return of the King</td>\n",
       "      <td>2003</td>\n",
       "      <td>Peter Jackson</td>\n",
       "      <td>Elijah Wood, Viggo Mortensen, Ian McKellen, Or...</td>\n",
       "      <td>9.0</td>\n",
       "      <td>201</td>\n",
       "      <td>U</td>\n",
       "      <td>$377.85M</td>\n",
       "      <td>Action</td>\n",
       "      <td>Adventure,  Drama</td>\n",
       "    </tr>\n",
       "    <tr>\n",
       "      <th>3</th>\n",
       "      <td>Inception</td>\n",
       "      <td>2010</td>\n",
       "      <td>Christopher Nolan</td>\n",
       "      <td>Leonardo DiCaprio, Joseph Gordon-Levitt, Ellio...</td>\n",
       "      <td>8.8</td>\n",
       "      <td>148</td>\n",
       "      <td>UA</td>\n",
       "      <td>$292.58M</td>\n",
       "      <td>Action</td>\n",
       "      <td>Adventure,  Sci-Fi</td>\n",
       "    </tr>\n",
       "    <tr>\n",
       "      <th>4</th>\n",
       "      <td>The Lord of the Rings: The Two Towers</td>\n",
       "      <td>2002</td>\n",
       "      <td>Peter Jackson</td>\n",
       "      <td>Elijah Wood, Ian McKellen, Viggo Mortensen, Or...</td>\n",
       "      <td>8.8</td>\n",
       "      <td>179</td>\n",
       "      <td>UA</td>\n",
       "      <td>$342.55M</td>\n",
       "      <td>Action</td>\n",
       "      <td>Adventure,  Drama</td>\n",
       "    </tr>\n",
       "    <tr>\n",
       "      <th>...</th>\n",
       "      <td>...</td>\n",
       "      <td>...</td>\n",
       "      <td>...</td>\n",
       "      <td>...</td>\n",
       "      <td>...</td>\n",
       "      <td>...</td>\n",
       "      <td>...</td>\n",
       "      <td>...</td>\n",
       "      <td>...</td>\n",
       "      <td>...</td>\n",
       "    </tr>\n",
       "    <tr>\n",
       "      <th>5557</th>\n",
       "      <td>Disaster Movie</td>\n",
       "      <td>2008</td>\n",
       "      <td>Directors:Jason Friedberg, Aaron Seltzer</td>\n",
       "      <td>Carmen Electra, Vanessa Lachey, Nicole Parker,...</td>\n",
       "      <td>1.9</td>\n",
       "      <td>87</td>\n",
       "      <td>PG-13</td>\n",
       "      <td>$14.19M</td>\n",
       "      <td>Comedy</td>\n",
       "      <td>Sci-Fi</td>\n",
       "    </tr>\n",
       "    <tr>\n",
       "      <th>5558</th>\n",
       "      <td>The Hottie &amp; the Nottie</td>\n",
       "      <td>2008</td>\n",
       "      <td>Tom Putnam</td>\n",
       "      <td>Paris Hilton, Joel David Moore, Christine Laki...</td>\n",
       "      <td>1.9</td>\n",
       "      <td>91</td>\n",
       "      <td>PG-13</td>\n",
       "      <td>$0.03M</td>\n",
       "      <td>Comedy</td>\n",
       "      <td>Romance</td>\n",
       "    </tr>\n",
       "    <tr>\n",
       "      <th>5559</th>\n",
       "      <td>From Justin to Kelly</td>\n",
       "      <td>2003</td>\n",
       "      <td>Robert Iscove</td>\n",
       "      <td>Kelly Clarkson, Justin Guarini, Katherine Bail...</td>\n",
       "      <td>1.9</td>\n",
       "      <td>81</td>\n",
       "      <td>PG</td>\n",
       "      <td>$4.92M</td>\n",
       "      <td>Comedy</td>\n",
       "      <td>Musical,  Romance</td>\n",
       "    </tr>\n",
       "    <tr>\n",
       "      <th>5560</th>\n",
       "      <td>Superbabies: Baby Geniuses 2</td>\n",
       "      <td>2004</td>\n",
       "      <td>Bob Clark</td>\n",
       "      <td>Jon Voight, Scott Baio, Vanessa Angel, Skyler ...</td>\n",
       "      <td>1.5</td>\n",
       "      <td>88</td>\n",
       "      <td>PG</td>\n",
       "      <td>$9.11M</td>\n",
       "      <td>Comedy</td>\n",
       "      <td>Family,  Sci-Fi</td>\n",
       "    </tr>\n",
       "    <tr>\n",
       "      <th>5561</th>\n",
       "      <td>Cumali Ceber: Allah Seni Alsin</td>\n",
       "      <td>2017</td>\n",
       "      <td>Gökhan Gök</td>\n",
       "      <td>Halil Söyletmez, Doga Konakoglu, Emre Keskin, ...</td>\n",
       "      <td>1.0</td>\n",
       "      <td>100</td>\n",
       "      <td>Not Rated</td>\n",
       "      <td>Gross Unkown</td>\n",
       "      <td>Comedy</td>\n",
       "      <td>Comedy</td>\n",
       "    </tr>\n",
       "  </tbody>\n",
       "</table>\n",
       "<p>5562 rows × 10 columns</p>\n",
       "</div>"
      ],
      "text/plain": [
       "                                        Movie_Title  Year  \\\n",
       "0                                           Kantara  2022   \n",
       "1                                   The Dark Knight  2008   \n",
       "2     The Lord of the Rings: The Return of the King  2003   \n",
       "3                                         Inception  2010   \n",
       "4             The Lord of the Rings: The Two Towers  2002   \n",
       "...                                             ...   ...   \n",
       "5557                                 Disaster Movie  2008   \n",
       "5558                        The Hottie & the Nottie  2008   \n",
       "5559                           From Justin to Kelly  2003   \n",
       "5560                   Superbabies: Baby Geniuses 2  2004   \n",
       "5561                 Cumali Ceber: Allah Seni Alsin  2017   \n",
       "\n",
       "                                      Director  \\\n",
       "0                                Rishab Shetty   \n",
       "1                            Christopher Nolan   \n",
       "2                                Peter Jackson   \n",
       "3                            Christopher Nolan   \n",
       "4                                Peter Jackson   \n",
       "...                                        ...   \n",
       "5557  Directors:Jason Friedberg, Aaron Seltzer   \n",
       "5558                                Tom Putnam   \n",
       "5559                             Robert Iscove   \n",
       "5560                                 Bob Clark   \n",
       "5561                                Gökhan Gök   \n",
       "\n",
       "                                                 Actors  Rating  \\\n",
       "0     Rishab Shetty, Sapthami Gowda, Kishore Kumar G...     9.3   \n",
       "1     Christian Bale, Heath Ledger, Aaron Eckhart, M...     9.0   \n",
       "2     Elijah Wood, Viggo Mortensen, Ian McKellen, Or...     9.0   \n",
       "3     Leonardo DiCaprio, Joseph Gordon-Levitt, Ellio...     8.8   \n",
       "4     Elijah Wood, Ian McKellen, Viggo Mortensen, Or...     8.8   \n",
       "...                                                 ...     ...   \n",
       "5557  Carmen Electra, Vanessa Lachey, Nicole Parker,...     1.9   \n",
       "5558  Paris Hilton, Joel David Moore, Christine Laki...     1.9   \n",
       "5559  Kelly Clarkson, Justin Guarini, Katherine Bail...     1.9   \n",
       "5560  Jon Voight, Scott Baio, Vanessa Angel, Skyler ...     1.5   \n",
       "5561  Halil Söyletmez, Doga Konakoglu, Emre Keskin, ...     1.0   \n",
       "\n",
       "      Runtime(Mins)     Censor   Total_Gross main_genre           side_genre  \n",
       "0               148         UA  Gross Unkown     Action    Adventure,  Drama  \n",
       "1               152         UA      $534.86M     Action        Crime,  Drama  \n",
       "2               201          U      $377.85M     Action    Adventure,  Drama  \n",
       "3               148         UA      $292.58M     Action   Adventure,  Sci-Fi  \n",
       "4               179         UA      $342.55M     Action    Adventure,  Drama  \n",
       "...             ...        ...           ...        ...                  ...  \n",
       "5557             87      PG-13       $14.19M     Comedy               Sci-Fi  \n",
       "5558             91      PG-13        $0.03M     Comedy              Romance  \n",
       "5559             81         PG        $4.92M     Comedy    Musical,  Romance  \n",
       "5560             88         PG        $9.11M     Comedy      Family,  Sci-Fi  \n",
       "5561            100  Not Rated  Gross Unkown     Comedy               Comedy  \n",
       "\n",
       "[5562 rows x 10 columns]"
      ]
     },
     "execution_count": 3,
     "metadata": {},
     "output_type": "execute_result"
    }
   ],
   "source": [
    "movies = load_movies_dataset()\n",
    "movies"
   ]
  },
  {
   "cell_type": "markdown",
   "id": "661bf617",
   "metadata": {},
   "source": [
    "## A Quick Look at the Data"
   ]
  },
  {
   "cell_type": "markdown",
   "id": "7bf24db9",
   "metadata": {},
   "source": [
    "We will start by taking a quick look at the data. We don't want to explore the data in-depth, as we eventually want to split it into a training set and a testing set. Nontheless, we would like to get a general outlook of the dataset."
   ]
  },
  {
   "cell_type": "code",
   "execution_count": 4,
   "id": "9c109b90",
   "metadata": {},
   "outputs": [
    {
     "data": {
      "text/html": [
       "<div>\n",
       "<style scoped>\n",
       "    .dataframe tbody tr th:only-of-type {\n",
       "        vertical-align: middle;\n",
       "    }\n",
       "\n",
       "    .dataframe tbody tr th {\n",
       "        vertical-align: top;\n",
       "    }\n",
       "\n",
       "    .dataframe thead th {\n",
       "        text-align: right;\n",
       "    }\n",
       "</style>\n",
       "<table border=\"1\" class=\"dataframe\">\n",
       "  <thead>\n",
       "    <tr style=\"text-align: right;\">\n",
       "      <th></th>\n",
       "      <th>Movie_Title</th>\n",
       "      <th>Year</th>\n",
       "      <th>Director</th>\n",
       "      <th>Actors</th>\n",
       "      <th>Rating</th>\n",
       "      <th>Runtime(Mins)</th>\n",
       "      <th>Censor</th>\n",
       "      <th>Total_Gross</th>\n",
       "      <th>main_genre</th>\n",
       "      <th>side_genre</th>\n",
       "    </tr>\n",
       "  </thead>\n",
       "  <tbody>\n",
       "    <tr>\n",
       "      <th>0</th>\n",
       "      <td>Kantara</td>\n",
       "      <td>2022</td>\n",
       "      <td>Rishab Shetty</td>\n",
       "      <td>Rishab Shetty, Sapthami Gowda, Kishore Kumar G...</td>\n",
       "      <td>9.3</td>\n",
       "      <td>148</td>\n",
       "      <td>UA</td>\n",
       "      <td>Gross Unkown</td>\n",
       "      <td>Action</td>\n",
       "      <td>Adventure,  Drama</td>\n",
       "    </tr>\n",
       "    <tr>\n",
       "      <th>1</th>\n",
       "      <td>The Dark Knight</td>\n",
       "      <td>2008</td>\n",
       "      <td>Christopher Nolan</td>\n",
       "      <td>Christian Bale, Heath Ledger, Aaron Eckhart, M...</td>\n",
       "      <td>9.0</td>\n",
       "      <td>152</td>\n",
       "      <td>UA</td>\n",
       "      <td>$534.86M</td>\n",
       "      <td>Action</td>\n",
       "      <td>Crime,  Drama</td>\n",
       "    </tr>\n",
       "    <tr>\n",
       "      <th>2</th>\n",
       "      <td>The Lord of the Rings: The Return of the King</td>\n",
       "      <td>2003</td>\n",
       "      <td>Peter Jackson</td>\n",
       "      <td>Elijah Wood, Viggo Mortensen, Ian McKellen, Or...</td>\n",
       "      <td>9.0</td>\n",
       "      <td>201</td>\n",
       "      <td>U</td>\n",
       "      <td>$377.85M</td>\n",
       "      <td>Action</td>\n",
       "      <td>Adventure,  Drama</td>\n",
       "    </tr>\n",
       "    <tr>\n",
       "      <th>3</th>\n",
       "      <td>Inception</td>\n",
       "      <td>2010</td>\n",
       "      <td>Christopher Nolan</td>\n",
       "      <td>Leonardo DiCaprio, Joseph Gordon-Levitt, Ellio...</td>\n",
       "      <td>8.8</td>\n",
       "      <td>148</td>\n",
       "      <td>UA</td>\n",
       "      <td>$292.58M</td>\n",
       "      <td>Action</td>\n",
       "      <td>Adventure,  Sci-Fi</td>\n",
       "    </tr>\n",
       "    <tr>\n",
       "      <th>4</th>\n",
       "      <td>The Lord of the Rings: The Two Towers</td>\n",
       "      <td>2002</td>\n",
       "      <td>Peter Jackson</td>\n",
       "      <td>Elijah Wood, Ian McKellen, Viggo Mortensen, Or...</td>\n",
       "      <td>8.8</td>\n",
       "      <td>179</td>\n",
       "      <td>UA</td>\n",
       "      <td>$342.55M</td>\n",
       "      <td>Action</td>\n",
       "      <td>Adventure,  Drama</td>\n",
       "    </tr>\n",
       "  </tbody>\n",
       "</table>\n",
       "</div>"
      ],
      "text/plain": [
       "                                     Movie_Title  Year           Director  \\\n",
       "0                                        Kantara  2022      Rishab Shetty   \n",
       "1                                The Dark Knight  2008  Christopher Nolan   \n",
       "2  The Lord of the Rings: The Return of the King  2003      Peter Jackson   \n",
       "3                                      Inception  2010  Christopher Nolan   \n",
       "4          The Lord of the Rings: The Two Towers  2002      Peter Jackson   \n",
       "\n",
       "                                              Actors  Rating  Runtime(Mins)  \\\n",
       "0  Rishab Shetty, Sapthami Gowda, Kishore Kumar G...     9.3            148   \n",
       "1  Christian Bale, Heath Ledger, Aaron Eckhart, M...     9.0            152   \n",
       "2  Elijah Wood, Viggo Mortensen, Ian McKellen, Or...     9.0            201   \n",
       "3  Leonardo DiCaprio, Joseph Gordon-Levitt, Ellio...     8.8            148   \n",
       "4  Elijah Wood, Ian McKellen, Viggo Mortensen, Or...     8.8            179   \n",
       "\n",
       "  Censor   Total_Gross main_genre           side_genre  \n",
       "0     UA  Gross Unkown     Action    Adventure,  Drama  \n",
       "1     UA      $534.86M     Action        Crime,  Drama  \n",
       "2      U      $377.85M     Action    Adventure,  Drama  \n",
       "3     UA      $292.58M     Action   Adventure,  Sci-Fi  \n",
       "4     UA      $342.55M     Action    Adventure,  Drama  "
      ]
     },
     "execution_count": 4,
     "metadata": {},
     "output_type": "execute_result"
    }
   ],
   "source": [
    "movies.head()"
   ]
  },
  {
   "cell_type": "markdown",
   "id": "d2652e20",
   "metadata": {},
   "source": [
    "We can get information about the dataset and the types of the attributes it contains:"
   ]
  },
  {
   "cell_type": "code",
   "execution_count": 5,
   "id": "79113f5c",
   "metadata": {},
   "outputs": [
    {
     "name": "stdout",
     "output_type": "stream",
     "text": [
      "<class 'pandas.core.frame.DataFrame'>\n",
      "RangeIndex: 5562 entries, 0 to 5561\n",
      "Data columns (total 10 columns):\n",
      " #   Column         Non-Null Count  Dtype  \n",
      "---  ------         --------------  -----  \n",
      " 0   Movie_Title    5562 non-null   object \n",
      " 1   Year           5562 non-null   int64  \n",
      " 2   Director       5562 non-null   object \n",
      " 3   Actors         5562 non-null   object \n",
      " 4   Rating         5562 non-null   float64\n",
      " 5   Runtime(Mins)  5562 non-null   int64  \n",
      " 6   Censor         5562 non-null   object \n",
      " 7   Total_Gross    5562 non-null   object \n",
      " 8   main_genre     5562 non-null   object \n",
      " 9   side_genre     5562 non-null   object \n",
      "dtypes: float64(1), int64(2), object(7)\n",
      "memory usage: 434.7+ KB\n"
     ]
    }
   ],
   "source": [
    "movies.info()"
   ]
  },
  {
   "cell_type": "markdown",
   "id": "b9e5681f",
   "metadata": {},
   "source": [
    "There are 5,562 instances in the dataset. None of the attributes has any missing rows. We also note that not all attributes are numerical. The non-numerical attributes are:\n",
    "\n",
    "Movie_Title, Director, Actors, Censor, Total_Gross, main_genre, and side_genre. \n",
    "\n",
    "We can further explore these attributes.\n",
    "\n",
    "We are especially concerned with the target variable, \"Total_Gross\", which is non-numerical. We have to deal with this before processing the data. "
   ]
  },
  {
   "cell_type": "code",
   "execution_count": 6,
   "id": "8616387f",
   "metadata": {},
   "outputs": [
    {
     "data": {
      "text/plain": [
       "Gross Unkown    861\n",
       "$0.01M           25\n",
       "$0.02M           22\n",
       "$0.04M           22\n",
       "$0.03M           21\n",
       "               ... \n",
       "$1.13M            1\n",
       "$28.87M           1\n",
       "$21.08M           1\n",
       "$44.18M           1\n",
       "$9.11M            1\n",
       "Name: Total_Gross, Length: 3501, dtype: int64"
      ]
     },
     "execution_count": 6,
     "metadata": {},
     "output_type": "execute_result"
    }
   ],
   "source": [
    "movies[\"Total_Gross\"].value_counts()"
   ]
  },
  {
   "cell_type": "markdown",
   "id": "dba70e0a",
   "metadata": {},
   "source": [
    "We can notice the following:\n",
    "\n",
    "* The values of this target variable has the following format \"$X.YZM\". \n",
    "* There are 861 entries with the value \"Gross Unknown\".\n",
    "\n",
    "Let us use Pandas and a Lambda function to convert the format to a float if the total gross is known and to convert that value to np.nan if the total gross = \"Gross Unknown\"."
   ]
  },
  {
   "cell_type": "code",
   "execution_count": 7,
   "id": "2863aaf3",
   "metadata": {},
   "outputs": [],
   "source": [
    "import numpy as np\n",
    "movies[\"Total_Gross\"] = movies[\"Total_Gross\"].apply(lambda x: float(x.replace(\"$\",\"\").replace(\"M\",\"\"))*1000000 if x!=\"Gross Unkown\" else np.nan )"
   ]
  },
  {
   "cell_type": "markdown",
   "id": "5776e281",
   "metadata": {},
   "source": [
    "Let us drop NANs:"
   ]
  },
  {
   "cell_type": "code",
   "execution_count": 8,
   "id": "0a025f7e",
   "metadata": {},
   "outputs": [],
   "source": [
    "movies.dropna(subset=[\"Total_Gross\"], inplace=True)"
   ]
  },
  {
   "cell_type": "markdown",
   "id": "c75501b4",
   "metadata": {},
   "source": [
    "Let us double-check that the changes have been applied:"
   ]
  },
  {
   "cell_type": "code",
   "execution_count": 9,
   "id": "6c0fc824",
   "metadata": {},
   "outputs": [
    {
     "data": {
      "text/plain": [
       "10000.0       25\n",
       "40000.0       22\n",
       "20000.0       22\n",
       "30000.0       21\n",
       "50000.0       18\n",
       "              ..\n",
       "28870000.0     1\n",
       "21080000.0     1\n",
       "44180000.0     1\n",
       "2420000.0      1\n",
       "9110000.0      1\n",
       "Name: Total_Gross, Length: 3500, dtype: int64"
      ]
     },
     "execution_count": 9,
     "metadata": {},
     "output_type": "execute_result"
    }
   ],
   "source": [
    "movies[\"Total_Gross\"].value_counts()"
   ]
  },
  {
   "cell_type": "markdown",
   "id": "d832ecf3",
   "metadata": {},
   "source": [
    "Our target label looks greate and clean!\n",
    "\n",
    "Let us explore the rest of the non-numerical attributes:"
   ]
  },
  {
   "cell_type": "code",
   "execution_count": 10,
   "id": "b0159281",
   "metadata": {},
   "outputs": [
    {
     "data": {
      "text/plain": [
       "UA           1003\n",
       "A             972\n",
       "U             931\n",
       "R             818\n",
       "PG-13         380\n",
       "Not Rated     303\n",
       "PG            117\n",
       "18             64\n",
       "16             27\n",
       "13             19\n",
       "15+            16\n",
       "UA 16+          9\n",
       "7               9\n",
       "G               8\n",
       "(Banned)        7\n",
       "All             4\n",
       "UA 13+          3\n",
       "Unrated         3\n",
       "12+             2\n",
       "U/A             2\n",
       "UA 7+           2\n",
       "M/PG            1\n",
       "NC-17           1\n",
       "Name: Censor, dtype: int64"
      ]
     },
     "execution_count": 10,
     "metadata": {},
     "output_type": "execute_result"
    }
   ],
   "source": [
    "movies[\"Censor\"].value_counts()"
   ]
  },
  {
   "cell_type": "markdown",
   "id": "49505f5d",
   "metadata": {},
   "source": [
    "It is important to note that UA and U are not the same, and neither are UA and UA 13+. We can't just eliminate UA 13+ and U and replace them with UA's to simplify the data. This will overfit our model on the training set and will (highly likely) perform terrible on the test set. "
   ]
  },
  {
   "cell_type": "code",
   "execution_count": 11,
   "id": "b8b9e6c1",
   "metadata": {},
   "outputs": [
    {
     "data": {
      "text/plain": [
       "Action       1326\n",
       "Comedy       1203\n",
       "Drama         828\n",
       "Crime         355\n",
       "Biography     302\n",
       "Animation     279\n",
       "Adventure     263\n",
       "Horror        108\n",
       "Mystery        19\n",
       "Fantasy        11\n",
       "Western         4\n",
       "Film-Noir       3\n",
       "Name: main_genre, dtype: int64"
      ]
     },
     "execution_count": 11,
     "metadata": {},
     "output_type": "execute_result"
    }
   ],
   "source": [
    "movies[\"main_genre\"].value_counts()"
   ]
  },
  {
   "cell_type": "markdown",
   "id": "cd96bae8",
   "metadata": {},
   "source": [
    "Genre plays an important role in a movie's total gross. *Action* movies tend to perform the best [1]. \n",
    "\n",
    "We can investigate the movies with the best Box Office performance: "
   ]
  },
  {
   "cell_type": "code",
   "execution_count": 12,
   "id": "697e522a",
   "metadata": {},
   "outputs": [],
   "source": [
    "high_gross_movies = movies[movies['Total_Gross'] > 50000000]"
   ]
  },
  {
   "cell_type": "code",
   "execution_count": 13,
   "id": "a962f026",
   "metadata": {},
   "outputs": [
    {
     "data": {
      "text/html": [
       "<div>\n",
       "<style scoped>\n",
       "    .dataframe tbody tr th:only-of-type {\n",
       "        vertical-align: middle;\n",
       "    }\n",
       "\n",
       "    .dataframe tbody tr th {\n",
       "        vertical-align: top;\n",
       "    }\n",
       "\n",
       "    .dataframe thead th {\n",
       "        text-align: right;\n",
       "    }\n",
       "</style>\n",
       "<table border=\"1\" class=\"dataframe\">\n",
       "  <thead>\n",
       "    <tr style=\"text-align: right;\">\n",
       "      <th></th>\n",
       "      <th>main_genre</th>\n",
       "      <th>Frequency</th>\n",
       "    </tr>\n",
       "  </thead>\n",
       "  <tbody>\n",
       "    <tr>\n",
       "      <th>0</th>\n",
       "      <td>Action</td>\n",
       "      <td>602</td>\n",
       "    </tr>\n",
       "    <tr>\n",
       "      <th>1</th>\n",
       "      <td>Comedy</td>\n",
       "      <td>382</td>\n",
       "    </tr>\n",
       "    <tr>\n",
       "      <th>2</th>\n",
       "      <td>Animation</td>\n",
       "      <td>185</td>\n",
       "    </tr>\n",
       "    <tr>\n",
       "      <th>3</th>\n",
       "      <td>Drama</td>\n",
       "      <td>173</td>\n",
       "    </tr>\n",
       "    <tr>\n",
       "      <th>4</th>\n",
       "      <td>Adventure</td>\n",
       "      <td>104</td>\n",
       "    </tr>\n",
       "    <tr>\n",
       "      <th>5</th>\n",
       "      <td>Biography</td>\n",
       "      <td>73</td>\n",
       "    </tr>\n",
       "    <tr>\n",
       "      <th>6</th>\n",
       "      <td>Crime</td>\n",
       "      <td>65</td>\n",
       "    </tr>\n",
       "    <tr>\n",
       "      <th>7</th>\n",
       "      <td>Horror</td>\n",
       "      <td>38</td>\n",
       "    </tr>\n",
       "    <tr>\n",
       "      <th>8</th>\n",
       "      <td>Mystery</td>\n",
       "      <td>5</td>\n",
       "    </tr>\n",
       "    <tr>\n",
       "      <th>9</th>\n",
       "      <td>Fantasy</td>\n",
       "      <td>4</td>\n",
       "    </tr>\n",
       "  </tbody>\n",
       "</table>\n",
       "</div>"
      ],
      "text/plain": [
       "  main_genre  Frequency\n",
       "0     Action        602\n",
       "1     Comedy        382\n",
       "2  Animation        185\n",
       "3      Drama        173\n",
       "4  Adventure        104\n",
       "5  Biography         73\n",
       "6      Crime         65\n",
       "7     Horror         38\n",
       "8    Mystery          5\n",
       "9    Fantasy          4"
      ]
     },
     "execution_count": 13,
     "metadata": {},
     "output_type": "execute_result"
    }
   ],
   "source": [
    "genre_movie_counts = high_gross_movies[\"main_genre\"].value_counts().reset_index()\n",
    "genre_movie_counts.columns = [\"main_genre\", \"Frequency\"]\n",
    "\n",
    "# Investigate:\n",
    "genre_movie_counts"
   ]
  },
  {
   "cell_type": "markdown",
   "id": "af250a72",
   "metadata": {},
   "source": [
    "As expected! We will use an *OrdinalEncoder*, insteand of one-hot encoding, to encode the \"main_genre\" attribute. Let us keep a list of the desired ordering:"
   ]
  },
  {
   "cell_type": "code",
   "execution_count": 14,
   "id": "886ab2a3",
   "metadata": {},
   "outputs": [
    {
     "data": {
      "text/plain": [
       "[['Action',\n",
       "  'Comedy',\n",
       "  'Animation',\n",
       "  'Drama',\n",
       "  'Adventure',\n",
       "  'Biography',\n",
       "  'Crime',\n",
       "  'Horror',\n",
       "  'Mystery',\n",
       "  'Fantasy',\n",
       "  'Western',\n",
       "  'Film-Noir']]"
      ]
     },
     "execution_count": 14,
     "metadata": {},
     "output_type": "execute_result"
    }
   ],
   "source": [
    "ordered_genre = [[\"Action\", \"Comedy\", \"Animation\", \"Drama\", \"Adventure\", \"Biography\", \"Crime\", \"Horror\", \"Mystery\", \"Fantasy\", \"Western\", \"Film-Noir\"]]\n",
    "ordered_genre"
   ]
  },
  {
   "cell_type": "code",
   "execution_count": 15,
   "id": "055eeb02",
   "metadata": {},
   "outputs": [
    {
     "data": {
      "text/plain": [
       " Drama,  Romance       288\n",
       " Adventure,  Comedy    270\n",
       " Romance               269\n",
       " Drama                 265\n",
       " Crime,  Drama         254\n",
       "                      ... \n",
       " Mystery,  War           1\n",
       " Action,  Comedy         1\n",
       " Adventure,  War         1\n",
       " Fantasy,  War           1\n",
       " Fantasy,  Musical       1\n",
       "Name: side_genre, Length: 140, dtype: int64"
      ]
     },
     "execution_count": 15,
     "metadata": {},
     "output_type": "execute_result"
    }
   ],
   "source": [
    "movies[\"side_genre\"].value_counts()"
   ]
  },
  {
   "cell_type": "code",
   "execution_count": 16,
   "id": "60d84794",
   "metadata": {},
   "outputs": [
    {
     "data": {
      "text/plain": [
       "Woody Allen                            37\n",
       "Clint Eastwood                         30\n",
       "Steven Spielberg                       27\n",
       "Ron Howard                             22\n",
       "Martin Scorsese                        21\n",
       "                                       ..\n",
       "George Scribner                         1\n",
       "Directors:Eric Darnell, Tim Johnson     1\n",
       "Gil Kenan                               1\n",
       "Chris Miller                            1\n",
       "Tom Putnam                              1\n",
       "Name: Director, Length: 1921, dtype: int64"
      ]
     },
     "execution_count": 16,
     "metadata": {},
     "output_type": "execute_result"
    }
   ],
   "source": [
    "movies[\"Director\"].value_counts()"
   ]
  },
  {
   "cell_type": "code",
   "execution_count": 17,
   "id": "6e78f7ac",
   "metadata": {},
   "outputs": [
    {
     "data": {
      "text/plain": [
       "William Shatner, Leonard Nimoy, DeForest Kelley, James Doohan           6\n",
       "Sylvester Stallone, Talia Shire, Burt Young, Carl Weathers              3\n",
       "Keanu Reeves, Laurence Fishburne, Carrie-Anne Moss, Hugo Weaving        3\n",
       "Patrick Stewart, Jonathan Frakes, Brent Spiner, LeVar Burton            3\n",
       "Sandra Bullock, Michael McDonald, Melissa McCarthy, Demián Bichir       2\n",
       "                                                                       ..\n",
       "Jennifer Lopez, Edward James Olmos, Jon Seda, Jackie Guerra             1\n",
       "Robin Williams, Daniel London, Monica Potter, Philip Seymour Hoffman    1\n",
       "Christian Bale, Cate Blanchett, Heath Ledger, Ben Whishaw               1\n",
       "Cate Blanchett, Clive Owen, Geoffrey Rush, Jordi Mollà                  1\n",
       "Jon Voight, Scott Baio, Vanessa Angel, Skyler Shaye                     1\n",
       "Name: Actors, Length: 4654, dtype: int64"
      ]
     },
     "execution_count": 17,
     "metadata": {},
     "output_type": "execute_result"
    }
   ],
   "source": [
    "movies[\"Actors\"].value_counts()"
   ]
  },
  {
   "cell_type": "markdown",
   "id": "424a13b4",
   "metadata": {},
   "source": [
    "The following attributes will be OneHotEncoded:\n",
    "\n",
    "* \"Actors\"\n",
    "* \"Director\"\n",
    "* \"side_genre\"\n",
    "* \"Censor\"\n",
    "\n",
    "Finally, the last non-numerical attribute is \"Movie_Title\":"
   ]
  },
  {
   "cell_type": "code",
   "execution_count": 18,
   "id": "f37d6cba",
   "metadata": {},
   "outputs": [
    {
     "data": {
      "text/plain": [
       "Robin Hood                      3\n",
       "Taxi                            3\n",
       "Aladdin                         2\n",
       "RoboCop                         2\n",
       "The Lion King                   2\n",
       "                               ..\n",
       "Patch Adams                     1\n",
       "Selena                          1\n",
       "Bugsy                           1\n",
       "Battle of the Sexes             1\n",
       "Superbabies: Baby Geniuses 2    1\n",
       "Name: Movie_Title, Length: 4628, dtype: int64"
      ]
     },
     "execution_count": 18,
     "metadata": {},
     "output_type": "execute_result"
    }
   ],
   "source": [
    "movies[\"Movie_Title\"].value_counts()"
   ]
  },
  {
   "cell_type": "markdown",
   "id": "dd814ba7",
   "metadata": {},
   "source": [
    "We have two choices:\n",
    "   * Keep the data by encoding it with a OneHotEncoder. This will overblow the size of the matrix and will slow down our models. I have tried this before, but found no significant improvement in the accuracy of the prediction of any of the models (I have verified this using *feature_importances_*, which I will show how to do later).\n",
    "   * Entirely drop the attribute. This will make our models run faster and there is no loss in prediction accuracy. I will go with this approach."
   ]
  },
  {
   "cell_type": "code",
   "execution_count": 19,
   "id": "c2a126a5",
   "metadata": {},
   "outputs": [],
   "source": [
    "movies = movies.drop(\"Movie_Title\", axis=1)"
   ]
  },
  {
   "cell_type": "code",
   "execution_count": 20,
   "id": "3685801a",
   "metadata": {},
   "outputs": [
    {
     "data": {
      "text/html": [
       "<div>\n",
       "<style scoped>\n",
       "    .dataframe tbody tr th:only-of-type {\n",
       "        vertical-align: middle;\n",
       "    }\n",
       "\n",
       "    .dataframe tbody tr th {\n",
       "        vertical-align: top;\n",
       "    }\n",
       "\n",
       "    .dataframe thead th {\n",
       "        text-align: right;\n",
       "    }\n",
       "</style>\n",
       "<table border=\"1\" class=\"dataframe\">\n",
       "  <thead>\n",
       "    <tr style=\"text-align: right;\">\n",
       "      <th></th>\n",
       "      <th>Year</th>\n",
       "      <th>Director</th>\n",
       "      <th>Actors</th>\n",
       "      <th>Rating</th>\n",
       "      <th>Runtime(Mins)</th>\n",
       "      <th>Censor</th>\n",
       "      <th>Total_Gross</th>\n",
       "      <th>main_genre</th>\n",
       "      <th>side_genre</th>\n",
       "    </tr>\n",
       "  </thead>\n",
       "  <tbody>\n",
       "    <tr>\n",
       "      <th>1</th>\n",
       "      <td>2008</td>\n",
       "      <td>Christopher Nolan</td>\n",
       "      <td>Christian Bale, Heath Ledger, Aaron Eckhart, M...</td>\n",
       "      <td>9.0</td>\n",
       "      <td>152</td>\n",
       "      <td>UA</td>\n",
       "      <td>534860000.0</td>\n",
       "      <td>Action</td>\n",
       "      <td>Crime,  Drama</td>\n",
       "    </tr>\n",
       "    <tr>\n",
       "      <th>2</th>\n",
       "      <td>2003</td>\n",
       "      <td>Peter Jackson</td>\n",
       "      <td>Elijah Wood, Viggo Mortensen, Ian McKellen, Or...</td>\n",
       "      <td>9.0</td>\n",
       "      <td>201</td>\n",
       "      <td>U</td>\n",
       "      <td>377850000.0</td>\n",
       "      <td>Action</td>\n",
       "      <td>Adventure,  Drama</td>\n",
       "    </tr>\n",
       "    <tr>\n",
       "      <th>3</th>\n",
       "      <td>2010</td>\n",
       "      <td>Christopher Nolan</td>\n",
       "      <td>Leonardo DiCaprio, Joseph Gordon-Levitt, Ellio...</td>\n",
       "      <td>8.8</td>\n",
       "      <td>148</td>\n",
       "      <td>UA</td>\n",
       "      <td>292580000.0</td>\n",
       "      <td>Action</td>\n",
       "      <td>Adventure,  Sci-Fi</td>\n",
       "    </tr>\n",
       "    <tr>\n",
       "      <th>4</th>\n",
       "      <td>2002</td>\n",
       "      <td>Peter Jackson</td>\n",
       "      <td>Elijah Wood, Ian McKellen, Viggo Mortensen, Or...</td>\n",
       "      <td>8.8</td>\n",
       "      <td>179</td>\n",
       "      <td>UA</td>\n",
       "      <td>342550000.0</td>\n",
       "      <td>Action</td>\n",
       "      <td>Adventure,  Drama</td>\n",
       "    </tr>\n",
       "    <tr>\n",
       "      <th>5</th>\n",
       "      <td>2001</td>\n",
       "      <td>Peter Jackson</td>\n",
       "      <td>Elijah Wood, Ian McKellen, Orlando Bloom, Sean...</td>\n",
       "      <td>8.8</td>\n",
       "      <td>178</td>\n",
       "      <td>U</td>\n",
       "      <td>315540000.0</td>\n",
       "      <td>Action</td>\n",
       "      <td>Adventure,  Drama</td>\n",
       "    </tr>\n",
       "    <tr>\n",
       "      <th>...</th>\n",
       "      <td>...</td>\n",
       "      <td>...</td>\n",
       "      <td>...</td>\n",
       "      <td>...</td>\n",
       "      <td>...</td>\n",
       "      <td>...</td>\n",
       "      <td>...</td>\n",
       "      <td>...</td>\n",
       "      <td>...</td>\n",
       "    </tr>\n",
       "    <tr>\n",
       "      <th>5555</th>\n",
       "      <td>2005</td>\n",
       "      <td>Lawrence Guterman</td>\n",
       "      <td>Jamie Kennedy, Traylor Howard, Alan Cumming, L...</td>\n",
       "      <td>2.2</td>\n",
       "      <td>94</td>\n",
       "      <td>U</td>\n",
       "      <td>17020000.0</td>\n",
       "      <td>Comedy</td>\n",
       "      <td>Family,  Fantasy</td>\n",
       "    </tr>\n",
       "    <tr>\n",
       "      <th>5557</th>\n",
       "      <td>2008</td>\n",
       "      <td>Directors:Jason Friedberg, Aaron Seltzer</td>\n",
       "      <td>Carmen Electra, Vanessa Lachey, Nicole Parker,...</td>\n",
       "      <td>1.9</td>\n",
       "      <td>87</td>\n",
       "      <td>PG-13</td>\n",
       "      <td>14190000.0</td>\n",
       "      <td>Comedy</td>\n",
       "      <td>Sci-Fi</td>\n",
       "    </tr>\n",
       "    <tr>\n",
       "      <th>5558</th>\n",
       "      <td>2008</td>\n",
       "      <td>Tom Putnam</td>\n",
       "      <td>Paris Hilton, Joel David Moore, Christine Laki...</td>\n",
       "      <td>1.9</td>\n",
       "      <td>91</td>\n",
       "      <td>PG-13</td>\n",
       "      <td>30000.0</td>\n",
       "      <td>Comedy</td>\n",
       "      <td>Romance</td>\n",
       "    </tr>\n",
       "    <tr>\n",
       "      <th>5559</th>\n",
       "      <td>2003</td>\n",
       "      <td>Robert Iscove</td>\n",
       "      <td>Kelly Clarkson, Justin Guarini, Katherine Bail...</td>\n",
       "      <td>1.9</td>\n",
       "      <td>81</td>\n",
       "      <td>PG</td>\n",
       "      <td>4920000.0</td>\n",
       "      <td>Comedy</td>\n",
       "      <td>Musical,  Romance</td>\n",
       "    </tr>\n",
       "    <tr>\n",
       "      <th>5560</th>\n",
       "      <td>2004</td>\n",
       "      <td>Bob Clark</td>\n",
       "      <td>Jon Voight, Scott Baio, Vanessa Angel, Skyler ...</td>\n",
       "      <td>1.5</td>\n",
       "      <td>88</td>\n",
       "      <td>PG</td>\n",
       "      <td>9110000.0</td>\n",
       "      <td>Comedy</td>\n",
       "      <td>Family,  Sci-Fi</td>\n",
       "    </tr>\n",
       "  </tbody>\n",
       "</table>\n",
       "<p>4701 rows × 9 columns</p>\n",
       "</div>"
      ],
      "text/plain": [
       "      Year                                  Director  \\\n",
       "1     2008                         Christopher Nolan   \n",
       "2     2003                             Peter Jackson   \n",
       "3     2010                         Christopher Nolan   \n",
       "4     2002                             Peter Jackson   \n",
       "5     2001                             Peter Jackson   \n",
       "...    ...                                       ...   \n",
       "5555  2005                         Lawrence Guterman   \n",
       "5557  2008  Directors:Jason Friedberg, Aaron Seltzer   \n",
       "5558  2008                                Tom Putnam   \n",
       "5559  2003                             Robert Iscove   \n",
       "5560  2004                                 Bob Clark   \n",
       "\n",
       "                                                 Actors  Rating  \\\n",
       "1     Christian Bale, Heath Ledger, Aaron Eckhart, M...     9.0   \n",
       "2     Elijah Wood, Viggo Mortensen, Ian McKellen, Or...     9.0   \n",
       "3     Leonardo DiCaprio, Joseph Gordon-Levitt, Ellio...     8.8   \n",
       "4     Elijah Wood, Ian McKellen, Viggo Mortensen, Or...     8.8   \n",
       "5     Elijah Wood, Ian McKellen, Orlando Bloom, Sean...     8.8   \n",
       "...                                                 ...     ...   \n",
       "5555  Jamie Kennedy, Traylor Howard, Alan Cumming, L...     2.2   \n",
       "5557  Carmen Electra, Vanessa Lachey, Nicole Parker,...     1.9   \n",
       "5558  Paris Hilton, Joel David Moore, Christine Laki...     1.9   \n",
       "5559  Kelly Clarkson, Justin Guarini, Katherine Bail...     1.9   \n",
       "5560  Jon Voight, Scott Baio, Vanessa Angel, Skyler ...     1.5   \n",
       "\n",
       "      Runtime(Mins) Censor  Total_Gross main_genre           side_genre  \n",
       "1               152     UA  534860000.0     Action        Crime,  Drama  \n",
       "2               201      U  377850000.0     Action    Adventure,  Drama  \n",
       "3               148     UA  292580000.0     Action   Adventure,  Sci-Fi  \n",
       "4               179     UA  342550000.0     Action    Adventure,  Drama  \n",
       "5               178      U  315540000.0     Action    Adventure,  Drama  \n",
       "...             ...    ...          ...        ...                  ...  \n",
       "5555             94      U   17020000.0     Comedy     Family,  Fantasy  \n",
       "5557             87  PG-13   14190000.0     Comedy               Sci-Fi  \n",
       "5558             91  PG-13      30000.0     Comedy              Romance  \n",
       "5559             81     PG    4920000.0     Comedy    Musical,  Romance  \n",
       "5560             88     PG    9110000.0     Comedy      Family,  Sci-Fi  \n",
       "\n",
       "[4701 rows x 9 columns]"
      ]
     },
     "execution_count": 20,
     "metadata": {},
     "output_type": "execute_result"
    }
   ],
   "source": [
    "movies"
   ]
  },
  {
   "cell_type": "markdown",
   "id": "bfa59d8b",
   "metadata": {},
   "source": [
    "Let us plot histograms of the numerical attributes:"
   ]
  },
  {
   "cell_type": "code",
   "execution_count": 21,
   "id": "0fdd4aa3",
   "metadata": {},
   "outputs": [
    {
     "data": {
      "image/png": "[encoded data removed]",
      "text/plain": [
       "<Figure size 1200x800 with 4 Axes>"
      ]
     },
     "metadata": {},
     "output_type": "display_data"
    }
   ],
   "source": [
    "import matplotlib.pyplot as plt\n",
    "movies.hist(bins=40, figsize=(12, 8))\n",
    "plt.show()"
   ]
  },
  {
   "cell_type": "markdown",
   "id": "c62e426e",
   "metadata": {},
   "source": [
    "The following attributes have heavy-tail distribution:\n",
    "\n",
    "* \"Year\": left-skewed \n",
    "* \"Runtime(Mins)\": right-skewed \n",
    "* \"Total_Gross\": right-skewed \n",
    "\n",
    "We can apply transformations to these attribute to make thir distribution more symmetrical and bell-shaped.\n",
    "\n",
    "* The \"Rating\" attribute has a distribution that is normal."
   ]
  },
  {
   "cell_type": "markdown",
   "id": "2cf453a6",
   "metadata": {},
   "source": [
    "One final thing to do is to adjust the \"Total_Gross\" values for inflation. This is important so our final ML model will be useful.\n",
    "\n",
    "There are a couple of ways to do this. I followed the approach outlined in [2]. I simply downloaded the data as a csv from: https://www.in2013dollars.com/us/inflation/1930?amount=1."
   ]
  },
  {
   "cell_type": "code",
   "execution_count": 82,
   "id": "2c919461",
   "metadata": {},
   "outputs": [
    {
     "data": {
      "text/html": [
       "<div>\n",
       "<style scoped>\n",
       "    .dataframe tbody tr th:only-of-type {\n",
       "        vertical-align: middle;\n",
       "    }\n",
       "\n",
       "    .dataframe tbody tr th {\n",
       "        vertical-align: top;\n",
       "    }\n",
       "\n",
       "    .dataframe thead th {\n",
       "        text-align: right;\n",
       "    }\n",
       "</style>\n",
       "<table border=\"1\" class=\"dataframe\">\n",
       "  <thead>\n",
       "    <tr style=\"text-align: right;\">\n",
       "      <th></th>\n",
       "      <th>year</th>\n",
       "      <th>amount</th>\n",
       "      <th>inflation rate</th>\n",
       "    </tr>\n",
       "  </thead>\n",
       "  <tbody>\n",
       "    <tr>\n",
       "      <th>0</th>\n",
       "      <td>1930</td>\n",
       "      <td>1.00</td>\n",
       "      <td>-0.02</td>\n",
       "    </tr>\n",
       "    <tr>\n",
       "      <th>1</th>\n",
       "      <td>1931</td>\n",
       "      <td>0.91</td>\n",
       "      <td>-0.09</td>\n",
       "    </tr>\n",
       "    <tr>\n",
       "      <th>2</th>\n",
       "      <td>1932</td>\n",
       "      <td>0.82</td>\n",
       "      <td>-0.10</td>\n",
       "    </tr>\n",
       "    <tr>\n",
       "      <th>3</th>\n",
       "      <td>1933</td>\n",
       "      <td>0.78</td>\n",
       "      <td>-0.05</td>\n",
       "    </tr>\n",
       "    <tr>\n",
       "      <th>4</th>\n",
       "      <td>1934</td>\n",
       "      <td>0.80</td>\n",
       "      <td>0.03</td>\n",
       "    </tr>\n",
       "  </tbody>\n",
       "</table>\n",
       "</div>"
      ],
      "text/plain": [
       "   year  amount  inflation rate\n",
       "0  1930    1.00           -0.02\n",
       "1  1931    0.91           -0.09\n",
       "2  1932    0.82           -0.10\n",
       "3  1933    0.78           -0.05\n",
       "4  1934    0.80            0.03"
      ]
     },
     "execution_count": 82,
     "metadata": {},
     "output_type": "execute_result"
    }
   ],
   "source": [
    "inflation_data = pd.read_csv(\"C:\\\\Users\\\\Rami\\\\Downloads\\\\inflation_data.csv\")  \n",
    "inflation_data.head()"
   ]
  },
  {
   "cell_type": "markdown",
   "id": "74963209",
   "metadata": {},
   "source": [
    "Let us now use this DataFrame to adjust the \"Total_Gross\" of our movies DataFrame:"
   ]
  },
  {
   "cell_type": "code",
   "execution_count": 23,
   "id": "f6c99032",
   "metadata": {},
   "outputs": [
    {
     "data": {
      "text/html": [
       "<div>\n",
       "<style scoped>\n",
       "    .dataframe tbody tr th:only-of-type {\n",
       "        vertical-align: middle;\n",
       "    }\n",
       "\n",
       "    .dataframe tbody tr th {\n",
       "        vertical-align: top;\n",
       "    }\n",
       "\n",
       "    .dataframe thead th {\n",
       "        text-align: right;\n",
       "    }\n",
       "</style>\n",
       "<table border=\"1\" class=\"dataframe\">\n",
       "  <thead>\n",
       "    <tr style=\"text-align: right;\">\n",
       "      <th></th>\n",
       "      <th>Total_Gross</th>\n",
       "      <th>Adjusted_Total_Gross</th>\n",
       "    </tr>\n",
       "  </thead>\n",
       "  <tbody>\n",
       "    <tr>\n",
       "      <th>0</th>\n",
       "      <td>534860000.0</td>\n",
       "      <td>5.346461e+08</td>\n",
       "    </tr>\n",
       "    <tr>\n",
       "      <th>1</th>\n",
       "      <td>377850000.0</td>\n",
       "      <td>3.777744e+08</td>\n",
       "    </tr>\n",
       "    <tr>\n",
       "      <th>2</th>\n",
       "      <td>292580000.0</td>\n",
       "      <td>2.925215e+08</td>\n",
       "    </tr>\n",
       "    <tr>\n",
       "      <th>3</th>\n",
       "      <td>342550000.0</td>\n",
       "      <td>3.424815e+08</td>\n",
       "    </tr>\n",
       "    <tr>\n",
       "      <th>4</th>\n",
       "      <td>315540000.0</td>\n",
       "      <td>3.154454e+08</td>\n",
       "    </tr>\n",
       "    <tr>\n",
       "      <th>...</th>\n",
       "      <td>...</td>\n",
       "      <td>...</td>\n",
       "    </tr>\n",
       "    <tr>\n",
       "      <th>4696</th>\n",
       "      <td>17020000.0</td>\n",
       "      <td>1.701490e+07</td>\n",
       "    </tr>\n",
       "    <tr>\n",
       "      <th>4697</th>\n",
       "      <td>14190000.0</td>\n",
       "      <td>1.418433e+07</td>\n",
       "    </tr>\n",
       "    <tr>\n",
       "      <th>4698</th>\n",
       "      <td>30000.0</td>\n",
       "      <td>2.998800e+04</td>\n",
       "    </tr>\n",
       "    <tr>\n",
       "      <th>4699</th>\n",
       "      <td>4920000.0</td>\n",
       "      <td>4.919016e+06</td>\n",
       "    </tr>\n",
       "    <tr>\n",
       "      <th>4700</th>\n",
       "      <td>9110000.0</td>\n",
       "      <td>9.107268e+06</td>\n",
       "    </tr>\n",
       "  </tbody>\n",
       "</table>\n",
       "<p>4701 rows × 2 columns</p>\n",
       "</div>"
      ],
      "text/plain": [
       "      Total_Gross  Adjusted_Total_Gross\n",
       "0     534860000.0          5.346461e+08\n",
       "1     377850000.0          3.777744e+08\n",
       "2     292580000.0          2.925215e+08\n",
       "3     342550000.0          3.424815e+08\n",
       "4     315540000.0          3.154454e+08\n",
       "...           ...                   ...\n",
       "4696   17020000.0          1.701490e+07\n",
       "4697   14190000.0          1.418433e+07\n",
       "4698      30000.0          2.998800e+04\n",
       "4699    4920000.0          4.919016e+06\n",
       "4700    9110000.0          9.107268e+06\n",
       "\n",
       "[4701 rows x 2 columns]"
      ]
     },
     "execution_count": 23,
     "metadata": {},
     "output_type": "execute_result"
    }
   ],
   "source": [
    "movies = movies.merge(inflation_data, left_on=\"Year\", right_on=\"year\", how=\"left\")\n",
    "\n",
    "# A function to make inflation adjustemetn easier\n",
    "def adjust_for_inflation(row):\n",
    "    if pd.notna(row[\"inflation rate\"]):\n",
    "        inflation_factor = 1 + (row[\"inflation rate\"] / 100) \n",
    "        return row[\"Total_Gross\"] / inflation_factor\n",
    "    else:\n",
    "        return row[\"Total_Gross\"]\n",
    "    \n",
    "# We can apply the function now to our \"Total_Gross\" column    \n",
    "movies[\"Adjusted_Total_Gross\"] = movies.apply(adjust_for_inflation, axis=1)\n",
    "\n",
    "# Verify the everything works:\n",
    "movies[[\"Total_Gross\", \"Adjusted_Total_Gross\"]]"
   ]
  },
  {
   "cell_type": "code",
   "execution_count": 24,
   "id": "2031617f",
   "metadata": {},
   "outputs": [
    {
     "name": "stdout",
     "output_type": "stream",
     "text": [
      "<class 'pandas.core.frame.DataFrame'>\n",
      "Int64Index: 4701 entries, 0 to 4700\n",
      "Data columns (total 13 columns):\n",
      " #   Column                Non-Null Count  Dtype  \n",
      "---  ------                --------------  -----  \n",
      " 0   Year                  4701 non-null   int64  \n",
      " 1   Director              4701 non-null   object \n",
      " 2   Actors                4701 non-null   object \n",
      " 3   Rating                4701 non-null   float64\n",
      " 4   Runtime(Mins)         4701 non-null   int64  \n",
      " 5   Censor                4701 non-null   object \n",
      " 6   Total_Gross           4701 non-null   float64\n",
      " 7   main_genre            4701 non-null   object \n",
      " 8   side_genre            4701 non-null   object \n",
      " 9   year                  4693 non-null   float64\n",
      " 10  amount                4693 non-null   float64\n",
      " 11  inflation rate        4693 non-null   float64\n",
      " 12  Adjusted_Total_Gross  4701 non-null   float64\n",
      "dtypes: float64(6), int64(2), object(5)\n",
      "memory usage: 514.2+ KB\n"
     ]
    }
   ],
   "source": [
    "movies.info()"
   ]
  },
  {
   "cell_type": "markdown",
   "id": "bb38e65d",
   "metadata": {},
   "source": [
    "Let us drop the original \"Total_Gross\" and replace it with the adjusted one:"
   ]
  },
  {
   "cell_type": "code",
   "execution_count": 25,
   "id": "635aa300",
   "metadata": {},
   "outputs": [
    {
     "name": "stdout",
     "output_type": "stream",
     "text": [
      "<class 'pandas.core.frame.DataFrame'>\n",
      "Int64Index: 4701 entries, 0 to 4700\n",
      "Data columns (total 9 columns):\n",
      " #   Column         Non-Null Count  Dtype  \n",
      "---  ------         --------------  -----  \n",
      " 0   Year           4701 non-null   int64  \n",
      " 1   Director       4701 non-null   object \n",
      " 2   Actors         4701 non-null   object \n",
      " 3   Rating         4701 non-null   float64\n",
      " 4   Runtime(Mins)  4701 non-null   int64  \n",
      " 5   Censor         4701 non-null   object \n",
      " 6   main_genre     4701 non-null   object \n",
      " 7   side_genre     4701 non-null   object \n",
      " 8   Total_Gross    4701 non-null   float64\n",
      "dtypes: float64(2), int64(2), object(5)\n",
      "memory usage: 367.3+ KB\n"
     ]
    }
   ],
   "source": [
    "# Drop original \"Total_Gross\"\n",
    "movies.drop(columns=[\"Total_Gross\"], inplace=True)\n",
    "\n",
    "# Rename the adjusted columns\n",
    "movies.rename(columns={\"Adjusted_Total_Gross\": \"Total_Gross\"}, inplace=True)\n",
    "movies.dropna(subset=[\"Total_Gross\"], inplace=True)\n",
    "\n",
    "# Drop the rest of the augmented attributes\n",
    "movies = movies.drop(\"inflation rate\", axis=1)\n",
    "movies = movies.drop(\"year\", axis=1)\n",
    "movies = movies.drop(\"amount\", axis=1)\n",
    "\n",
    "movies.info()"
   ]
  },
  {
   "cell_type": "markdown",
   "id": "7919a95f",
   "metadata": {},
   "source": [
    "## Handling Outliers"
   ]
  },
  {
   "cell_type": "markdown",
   "id": "9f5ecb76",
   "metadata": {},
   "source": [
    "It is important to handle outliers to increase the accuracy of our prediction models. One way to handle outliers is to get rid of the a small percentage from the top and the bottom of the dataset distribution. This is known as the *Interquartile Range Method* [3]."
   ]
  },
  {
   "cell_type": "code",
   "execution_count": 26,
   "id": "b0062c84",
   "metadata": {},
   "outputs": [],
   "source": [
    "q_low = movies[\"Total_Gross\"].quantile(0.015)\n",
    "q_hi = movies[\"Total_Gross\"].quantile(0.985)\n",
    "\n",
    "movies = movies[(movies[\"Total_Gross\"] < q_hi) & (movies[\"Total_Gross\"] > q_low)]"
   ]
  },
  {
   "cell_type": "code",
   "execution_count": 27,
   "id": "ab7d0b98",
   "metadata": {},
   "outputs": [
    {
     "name": "stdout",
     "output_type": "stream",
     "text": [
      "<class 'pandas.core.frame.DataFrame'>\n",
      "Int64Index: 4551 entries, 2 to 4700\n",
      "Data columns (total 9 columns):\n",
      " #   Column         Non-Null Count  Dtype  \n",
      "---  ------         --------------  -----  \n",
      " 0   Year           4551 non-null   int64  \n",
      " 1   Director       4551 non-null   object \n",
      " 2   Actors         4551 non-null   object \n",
      " 3   Rating         4551 non-null   float64\n",
      " 4   Runtime(Mins)  4551 non-null   int64  \n",
      " 5   Censor         4551 non-null   object \n",
      " 6   main_genre     4551 non-null   object \n",
      " 7   side_genre     4551 non-null   object \n",
      " 8   Total_Gross    4551 non-null   float64\n",
      "dtypes: float64(2), int64(2), object(5)\n",
      "memory usage: 355.5+ KB\n"
     ]
    }
   ],
   "source": [
    "movies.info()"
   ]
  },
  {
   "cell_type": "markdown",
   "id": "17eabb33",
   "metadata": {},
   "source": [
    "## Create a Test Set"
   ]
  },
  {
   "cell_type": "markdown",
   "id": "f018d245",
   "metadata": {},
   "source": [
    "Before further data exploration and visualization, it is important to spearate the dataset into a testing set and a training set. This is to avoid noticing any patterns in the testing set, which may lead us to select a particular ML model, and we may end up with a model that is too optimistic and bad at generalization.\n",
    "\n",
    "We would rather split the dataset via stratified sampling. This is to to guarantee that the test set is representative of the overall population (dataset).\n",
    "\n",
    "I chose to do stratified sampling based on a newly created category: \"Total_Gross_Category\".\n",
    "\n",
    "Let's create this category first:"
   ]
  },
  {
   "cell_type": "code",
   "execution_count": 28,
   "id": "9597b620",
   "metadata": {},
   "outputs": [
    {
     "data": {
      "text/plain": [
       "count    4.551000e+03\n",
       "mean     4.829837e+07\n",
       "std      5.540752e+07\n",
       "min      3.000000e+04\n",
       "25%      7.763447e+06\n",
       "50%      3.103379e+07\n",
       "75%      6.618176e+07\n",
       "max      3.182827e+08\n",
       "Name: Total_Gross, dtype: float64"
      ]
     },
     "execution_count": 28,
     "metadata": {},
     "output_type": "execute_result"
    }
   ],
   "source": [
    "movies[\"Total_Gross\"].describe()"
   ]
  },
  {
   "cell_type": "code",
   "execution_count": 29,
   "id": "45350f8d",
   "metadata": {},
   "outputs": [],
   "source": [
    "movies[\"Total_Gross_Category\"] = pd.cut(\n",
    "    movies[\"Total_Gross\"],\n",
    "    bins=[0, 5000000, 30000000, 67000000, np.inf],\n",
    "    labels=[1, 2, 3, 4],\n",
    "    include_lowest=True\n",
    ")"
   ]
  },
  {
   "cell_type": "code",
   "execution_count": 30,
   "id": "565397d9",
   "metadata": {},
   "outputs": [
    {
     "data": {
      "image/png": "[encoded data removed]",
      "text/plain": [
       "<Figure size 640x480 with 1 Axes>"
      ]
     },
     "metadata": {},
     "output_type": "display_data"
    }
   ],
   "source": [
    "movies[\"Total_Gross_Category\"].value_counts().sort_index().plot.bar(rot=0, grid=True)\n",
    "plt.xlabel(\"Total Gross Category\")\n",
    "plt.ylabel(\"Total Gross\")\n",
    "plt.show()"
   ]
  },
  {
   "cell_type": "markdown",
   "id": "b6bbb3bc",
   "metadata": {},
   "source": [
    "Splitting the dataset based on stratified sampling:"
   ]
  },
  {
   "cell_type": "code",
   "execution_count": 31,
   "id": "db6f199a",
   "metadata": {},
   "outputs": [],
   "source": [
    "from sklearn.model_selection import StratifiedShuffleSplit\n",
    "\n",
    "# Reset the index of the df (this overcomes the KeyError)\n",
    "movies = movies.reset_index(drop=True)\n",
    "\n",
    "split = StratifiedShuffleSplit(n_splits=1, test_size=0.2, random_state=42)\n",
    "for train_index, test_index in split.split(movies, movies['Total_Gross_Category']):\n",
    "    strat_train_set = movies.loc[train_index]\n",
    "    strat_test_set = movies.loc[test_index]"
   ]
  },
  {
   "cell_type": "markdown",
   "id": "6b43cb44",
   "metadata": {},
   "source": [
    "We drop the \"Total_Gross_Category\" because we won't need it anymore:"
   ]
  },
  {
   "cell_type": "code",
   "execution_count": 32,
   "id": "00dedd27",
   "metadata": {},
   "outputs": [],
   "source": [
    "for set_ in (strat_train_set, strat_test_set):\n",
    " set_.drop(\"Total_Gross_Category\", axis=1, inplace=True)"
   ]
  },
  {
   "cell_type": "markdown",
   "id": "1d0c5d97",
   "metadata": {},
   "source": [
    "## Further Data Exploration and Visualization"
   ]
  },
  {
   "cell_type": "markdown",
   "id": "511464ac",
   "metadata": {},
   "source": [
    "We will dive in depth into exploring and visualizing our data. Since our training set is small, we can directly work on it. We will eventually using transformations on the full training set, so we start by making a copy of it:"
   ]
  },
  {
   "cell_type": "code",
   "execution_count": 33,
   "id": "7e1768cd",
   "metadata": {},
   "outputs": [],
   "source": [
    "movies = strat_train_set.copy()"
   ]
  },
  {
   "cell_type": "markdown",
   "id": "11d46049",
   "metadata": {},
   "source": [
    "## Inestigate Correlations"
   ]
  },
  {
   "cell_type": "code",
   "execution_count": 34,
   "id": "4fa8ad25",
   "metadata": {},
   "outputs": [
    {
     "name": "stdout",
     "output_type": "stream",
     "text": [
      "<class 'pandas.core.frame.DataFrame'>\n",
      "Int64Index: 3640 entries, 1395 to 658\n",
      "Data columns (total 9 columns):\n",
      " #   Column         Non-Null Count  Dtype  \n",
      "---  ------         --------------  -----  \n",
      " 0   Year           3640 non-null   int64  \n",
      " 1   Director       3640 non-null   object \n",
      " 2   Actors         3640 non-null   object \n",
      " 3   Rating         3640 non-null   float64\n",
      " 4   Runtime(Mins)  3640 non-null   int64  \n",
      " 5   Censor         3640 non-null   object \n",
      " 6   main_genre     3640 non-null   object \n",
      " 7   side_genre     3640 non-null   object \n",
      " 8   Total_Gross    3640 non-null   float64\n",
      "dtypes: float64(2), int64(2), object(5)\n",
      "memory usage: 284.4+ KB\n"
     ]
    }
   ],
   "source": [
    "movies.info()"
   ]
  },
  {
   "cell_type": "markdown",
   "id": "a127693a",
   "metadata": {},
   "source": [
    "We start by looking for correlations. We will compute the standard correlation coefficient:"
   ]
  },
  {
   "cell_type": "code",
   "execution_count": 35,
   "id": "57b284f4",
   "metadata": {},
   "outputs": [
    {
     "name": "stderr",
     "output_type": "stream",
     "text": [
      "C:\\Users\\Rami\\AppData\\Local\\Temp\\ipykernel_3780\\4019769235.py:1: FutureWarning: The default value of numeric_only in DataFrame.corr is deprecated. In a future version, it will default to False. Select only valid columns or specify the value of numeric_only to silence this warning.\n",
      "  corr_matrix = movies.corr()\n"
     ]
    },
    {
     "data": {
      "text/plain": [
       "Total_Gross      1.000000\n",
       "Runtime(Mins)    0.107817\n",
       "Year             0.081903\n",
       "Rating           0.019155\n",
       "Name: Total_Gross, dtype: float64"
      ]
     },
     "execution_count": 35,
     "metadata": {},
     "output_type": "execute_result"
    }
   ],
   "source": [
    "corr_matrix = movies.corr()\n",
    "corr_matrix[\"Total_Gross\"].sort_values(ascending=False)"
   ]
  },
  {
   "cell_type": "markdown",
   "id": "9610cb85",
   "metadata": {},
   "source": [
    "We can also investigate correlation between attributes using a scatter matrix, which is a plot of every numerical attribute against every other numerical attribute."
   ]
  },
  {
   "cell_type": "code",
   "execution_count": 36,
   "id": "c6196d95",
   "metadata": {},
   "outputs": [
    {
     "data": {
      "image/png": "[encoded data removed]",
      "text/plain": [
       "<Figure size 1200x800 with 9 Axes>"
      ]
     },
     "metadata": {},
     "output_type": "display_data"
    }
   ],
   "source": [
    "from pandas.plotting import scatter_matrix\n",
    "attributes = [\"Runtime(Mins)\", \"Year\", \"Rating\", \"Actors\"]\n",
    "scatter_matrix(movies[attributes], figsize=(12, 8))\n",
    "plt.show()"
   ]
  },
  {
   "cell_type": "markdown",
   "id": "1b2fd27a",
   "metadata": {},
   "source": [
    "Here we can experiment with adding more attributes to our dataset. We might do this later."
   ]
  },
  {
   "cell_type": "markdown",
   "id": "a4fd592a",
   "metadata": {},
   "source": [
    "## Prepare the Data for ML"
   ]
  },
  {
   "cell_type": "markdown",
   "id": "2287f3f3",
   "metadata": {},
   "source": [
    "We revert to a clean training set, and separate the predictors and the labels. This is because we don't want to apply transformations that we will apply to the predictors on the labels."
   ]
  },
  {
   "cell_type": "code",
   "execution_count": 37,
   "id": "a06fc1e6",
   "metadata": {},
   "outputs": [
    {
     "name": "stdout",
     "output_type": "stream",
     "text": [
      "<class 'pandas.core.frame.DataFrame'>\n",
      "Int64Index: 3640 entries, 1395 to 658\n",
      "Data columns (total 8 columns):\n",
      " #   Column         Non-Null Count  Dtype  \n",
      "---  ------         --------------  -----  \n",
      " 0   Year           3640 non-null   int64  \n",
      " 1   Director       3640 non-null   object \n",
      " 2   Actors         3640 non-null   object \n",
      " 3   Rating         3640 non-null   float64\n",
      " 4   Runtime(Mins)  3640 non-null   int64  \n",
      " 5   Censor         3640 non-null   object \n",
      " 6   main_genre     3640 non-null   object \n",
      " 7   side_genre     3640 non-null   object \n",
      "dtypes: float64(1), int64(2), object(5)\n",
      "memory usage: 255.9+ KB\n"
     ]
    }
   ],
   "source": [
    "movies = strat_train_set\n",
    "movies = movies.drop(\"Total_Gross\", axis=1)\n",
    "movies_labels = strat_train_set[\"Total_Gross\"].copy()\n",
    "\n",
    "movies.info()"
   ]
  },
  {
   "cell_type": "markdown",
   "id": "a7041a98",
   "metadata": {},
   "source": [
    "## Feature Scaling and the Transformation Pipeline"
   ]
  },
  {
   "cell_type": "markdown",
   "id": "78976eff",
   "metadata": {},
   "source": [
    "We recall our historgram plots that we did earlier.\n",
    "\n",
    "We notice that the input numerical attributes have very different scales. If we don't do feature scaling, most ML models will be biased toward ignoring some of our attributes' values.\n",
    "\n",
    "Since the two attributes, \"Year\" and \"Runtime(Mins)\", have a distribution that is heavy tail (see histogram above), we should first transform the features before scaling them. The goal is to make the distribution of any attribute symmetric.\n",
    "\n",
    "The appropriate transformation to make is the log transformation: we replace the feature with its logarithm. Then, I have found that applying a *MinMaxScaler()* for log-transformed attribute gives better results that a *StandardScaler()*, so I will go with that here. \n",
    "\n",
    "Another scaler we can use is the *MaxAbsScaler()*. It is appropriate to use to scale sparse data (as in our case). We use this for attributes that will no undergo a log transformation.\n",
    "\n",
    "I have also tried using a *RobustScaler()*, but that did not help much.\n",
    "\n",
    "Recall that we also said we will apply a \"OneHotEncoder()\" to most of our non-numerical attributes, and that we will apply an \"OrdinalEncoder()\" to our \"main_genre\" attribute. This can also be done in the pipeline."
   ]
  },
  {
   "cell_type": "code",
   "execution_count": 38,
   "id": "c9118004",
   "metadata": {},
   "outputs": [],
   "source": [
    "from sklearn.pipeline import Pipeline, make_pipeline\n",
    "from sklearn.preprocessing import FunctionTransformer, StandardScaler, OneHotEncoder, MaxAbsScaler, OrdinalEncoder\n",
    "from sklearn.compose import ColumnTransformer, make_column_selector\n",
    "\n",
    "from sklearn.preprocessing import MinMaxScaler, RobustScaler\n",
    "\n",
    "log_transformer = FunctionTransformer(np.log, inverse_func=np.exp)\n",
    "\n",
    "log_pipeline = make_pipeline(\n",
    "    FunctionTransformer(np.log, feature_names_out=\"one-to-one\"),\n",
    "    MinMaxScaler()\n",
    ")\n",
    "\n",
    "default_num_pipeline = make_pipeline(\n",
    "    MaxAbsScaler(),\n",
    "    StandardScaler()\n",
    ")\n",
    "\n",
    "genre_pipeline = make_pipeline(\n",
    "    OrdinalEncoder(categories=ordered_genre)\n",
    ")\n",
    "cat_pipeline = make_pipeline(\n",
    "    OneHotEncoder(handle_unknown='ignore')\n",
    ")\n",
    "\n",
    "preprocessing = ColumnTransformer([\n",
    "        (\"log\", log_pipeline, [\"Year\", \"Runtime(Mins)\"]),\n",
    "        (\"genre_ordinal\", genre_pipeline, [\"main_genre\"]),\n",
    "        (\"cat\", cat_pipeline, make_column_selector(dtype_include=object)),\n",
    "    ],\n",
    "    remainder=default_num_pipeline)"
   ]
  },
  {
   "cell_type": "markdown",
   "id": "72edc37f",
   "metadata": {},
   "source": [
    "Let us fit and transform our training set:"
   ]
  },
  {
   "cell_type": "code",
   "execution_count": 39,
   "id": "ee2b5b39",
   "metadata": {},
   "outputs": [],
   "source": [
    "movies_prepared = preprocessing.fit_transform(movies)\n",
    "movies_prepared.shapemovies_prepared = preprocessing.fit_transform(movies)"
   ]
  },
  {
   "cell_type": "code",
   "execution_count": 40,
   "id": "5fdc4aa8",
   "metadata": {},
   "outputs": [
    {
     "data": {
      "text/plain": [
       "<3640x5461 sparse matrix of type '<class 'numpy.float64'>'\n",
       "\twith 31747 stored elements in Compressed Sparse Row format>"
      ]
     },
     "execution_count": 40,
     "metadata": {},
     "output_type": "execute_result"
    }
   ],
   "source": [
    "movies_prepared"
   ]
  },
  {
   "cell_type": "markdown",
   "id": "53b32e24",
   "metadata": {},
   "source": [
    "## Select and Train a Base Model"
   ]
  },
  {
   "cell_type": "markdown",
   "id": "841fffa7",
   "metadata": {},
   "source": [
    "Before trying a Decision Tree model (and other Ensembles that leverage it), and tuning their hyperparameters and so on, I would like to start by training a Linear Regression model. This will serve as a quick model that other models can be compared to. Moreover, it is an easy hack to allow me to test that my data preparation and cleaning were done correctly."
   ]
  },
  {
   "cell_type": "code",
   "execution_count": 41,
   "id": "0b126915",
   "metadata": {},
   "outputs": [
    {
     "data": {
      "text/html": [
       "<style>#sk-container-id-1 {color: black;}#sk-container-id-1 pre{padding: 0;}#sk-container-id-1 div.sk-toggleable {background-color: white;}#sk-container-id-1 label.sk-toggleable__label {cursor: pointer;display: block;width: 100%;margin-bottom: 0;padding: 0.3em;box-sizing: border-box;text-align: center;}#sk-container-id-1 label.sk-toggleable__label-arrow:before {content: \"▸\";float: left;margin-right: 0.25em;color: #696969;}#sk-container-id-1 label.sk-toggleable__label-arrow:hover:before {color: black;}#sk-container-id-1 div.sk-estimator:hover label.sk-toggleable__label-arrow:before {color: black;}#sk-container-id-1 div.sk-toggleable__content {max-height: 0;max-width: 0;overflow: hidden;text-align: left;background-color: #f0f8ff;}#sk-container-id-1 div.sk-toggleable__content pre {margin: 0.2em;color: black;border-radius: 0.25em;background-color: #f0f8ff;}#sk-container-id-1 input.sk-toggleable__control:checked~div.sk-toggleable__content {max-height: 200px;max-width: 100%;overflow: auto;}#sk-container-id-1 input.sk-toggleable__control:checked~label.sk-toggleable__label-arrow:before {content: \"▾\";}#sk-container-id-1 div.sk-estimator input.sk-toggleable__control:checked~label.sk-toggleable__label {background-color: #d4ebff;}#sk-container-id-1 div.sk-label input.sk-toggleable__control:checked~label.sk-toggleable__label {background-color: #d4ebff;}#sk-container-id-1 input.sk-hidden--visually {border: 0;clip: rect(1px 1px 1px 1px);clip: rect(1px, 1px, 1px, 1px);height: 1px;margin: -1px;overflow: hidden;padding: 0;position: absolute;width: 1px;}#sk-container-id-1 div.sk-estimator {font-family: monospace;background-color: #f0f8ff;border: 1px dotted black;border-radius: 0.25em;box-sizing: border-box;margin-bottom: 0.5em;}#sk-container-id-1 div.sk-estimator:hover {background-color: #d4ebff;}#sk-container-id-1 div.sk-parallel-item::after {content: \"\";width: 100%;border-bottom: 1px solid gray;flex-grow: 1;}#sk-container-id-1 div.sk-label:hover label.sk-toggleable__label {background-color: #d4ebff;}#sk-container-id-1 div.sk-serial::before {content: \"\";position: absolute;border-left: 1px solid gray;box-sizing: border-box;top: 0;bottom: 0;left: 50%;z-index: 0;}#sk-container-id-1 div.sk-serial {display: flex;flex-direction: column;align-items: center;background-color: white;padding-right: 0.2em;padding-left: 0.2em;position: relative;}#sk-container-id-1 div.sk-item {position: relative;z-index: 1;}#sk-container-id-1 div.sk-parallel {display: flex;align-items: stretch;justify-content: center;background-color: white;position: relative;}#sk-container-id-1 div.sk-item::before, #sk-container-id-1 div.sk-parallel-item::before {content: \"\";position: absolute;border-left: 1px solid gray;box-sizing: border-box;top: 0;bottom: 0;left: 50%;z-index: -1;}#sk-container-id-1 div.sk-parallel-item {display: flex;flex-direction: column;z-index: 1;position: relative;background-color: white;}#sk-container-id-1 div.sk-parallel-item:first-child::after {align-self: flex-end;width: 50%;}#sk-container-id-1 div.sk-parallel-item:last-child::after {align-self: flex-start;width: 50%;}#sk-container-id-1 div.sk-parallel-item:only-child::after {width: 0;}#sk-container-id-1 div.sk-dashed-wrapped {border: 1px dashed gray;margin: 0 0.4em 0.5em 0.4em;box-sizing: border-box;padding-bottom: 0.4em;background-color: white;}#sk-container-id-1 div.sk-label label {font-family: monospace;font-weight: bold;display: inline-block;line-height: 1.2em;}#sk-container-id-1 div.sk-label-container {text-align: center;}#sk-container-id-1 div.sk-container {/* jupyter's `normalize.less` sets `[hidden] { display: none; }` but bootstrap.min.css set `[hidden] { display: none !important; }` so we also need the `!important` here to be able to override the default hidden behavior on the sphinx rendered scikit-learn.org. See: https://github.com/scikit-learn/scikit-learn/issues/21755 */display: inline-block !important;position: relative;}#sk-container-id-1 div.sk-text-repr-fallback {display: none;}</style><div id=\"sk-container-id-1\" class=\"sk-top-container\"><div class=\"sk-text-repr-fallback\"><pre>Pipeline(steps=[(&#x27;columntransformer&#x27;,\n",
       "                 ColumnTransformer(remainder=Pipeline(steps=[(&#x27;maxabsscaler&#x27;,\n",
       "                                                              MaxAbsScaler()),\n",
       "                                                             (&#x27;standardscaler&#x27;,\n",
       "                                                              StandardScaler())]),\n",
       "                                   transformers=[(&#x27;log&#x27;,\n",
       "                                                  Pipeline(steps=[(&#x27;functiontransformer&#x27;,\n",
       "                                                                   FunctionTransformer(feature_names_out=&#x27;one-to-one&#x27;,\n",
       "                                                                                       func=&lt;ufunc &#x27;log&#x27;&gt;)),\n",
       "                                                                  (&#x27;minmaxscaler&#x27;,\n",
       "                                                                   MinMaxScaler())]),\n",
       "                                                  [&#x27;Year&#x27;, &#x27;Runtime(Mins)&#x27;]),\n",
       "                                                 (&#x27;genre_...\n",
       "                                                                   OrdinalEncoder(categories=[[&#x27;Action&#x27;,\n",
       "                                                                                               &#x27;Comedy&#x27;,\n",
       "                                                                                               &#x27;Animation&#x27;,\n",
       "                                                                                               &#x27;Drama&#x27;,\n",
       "                                                                                               &#x27;Adventure&#x27;,\n",
       "                                                                                               &#x27;Biography&#x27;,\n",
       "                                                                                               &#x27;Crime&#x27;,\n",
       "                                                                                               &#x27;Horror&#x27;,\n",
       "                                                                                               &#x27;Mystery&#x27;,\n",
       "                                                                                               &#x27;Fantasy&#x27;,\n",
       "                                                                                               &#x27;Western&#x27;,\n",
       "                                                                                               &#x27;Film-Noir&#x27;]]))]),\n",
       "                                                  [&#x27;main_genre&#x27;]),\n",
       "                                                 (&#x27;cat&#x27;,\n",
       "                                                  Pipeline(steps=[(&#x27;onehotencoder&#x27;,\n",
       "                                                                   OneHotEncoder(handle_unknown=&#x27;ignore&#x27;))]),\n",
       "                                                  &lt;sklearn.compose._column_transformer.make_column_selector object at 0x00000181F0253750&gt;)])),\n",
       "                (&#x27;linearregression&#x27;, LinearRegression())])</pre><b>In a Jupyter environment, please rerun this cell to show the HTML representation or trust the notebook. <br />On GitHub, the HTML representation is unable to render, please try loading this page with nbviewer.org.</b></div><div class=\"sk-container\" hidden><div class=\"sk-item sk-dashed-wrapped\"><div class=\"sk-label-container\"><div class=\"sk-label sk-toggleable\"><input class=\"sk-toggleable__control sk-hidden--visually\" id=\"sk-estimator-id-1\" type=\"checkbox\" ><label for=\"sk-estimator-id-1\" class=\"sk-toggleable__label sk-toggleable__label-arrow\">Pipeline</label><div class=\"sk-toggleable__content\"><pre>Pipeline(steps=[(&#x27;columntransformer&#x27;,\n",
       "                 ColumnTransformer(remainder=Pipeline(steps=[(&#x27;maxabsscaler&#x27;,\n",
       "                                                              MaxAbsScaler()),\n",
       "                                                             (&#x27;standardscaler&#x27;,\n",
       "                                                              StandardScaler())]),\n",
       "                                   transformers=[(&#x27;log&#x27;,\n",
       "                                                  Pipeline(steps=[(&#x27;functiontransformer&#x27;,\n",
       "                                                                   FunctionTransformer(feature_names_out=&#x27;one-to-one&#x27;,\n",
       "                                                                                       func=&lt;ufunc &#x27;log&#x27;&gt;)),\n",
       "                                                                  (&#x27;minmaxscaler&#x27;,\n",
       "                                                                   MinMaxScaler())]),\n",
       "                                                  [&#x27;Year&#x27;, &#x27;Runtime(Mins)&#x27;]),\n",
       "                                                 (&#x27;genre_...\n",
       "                                                                   OrdinalEncoder(categories=[[&#x27;Action&#x27;,\n",
       "                                                                                               &#x27;Comedy&#x27;,\n",
       "                                                                                               &#x27;Animation&#x27;,\n",
       "                                                                                               &#x27;Drama&#x27;,\n",
       "                                                                                               &#x27;Adventure&#x27;,\n",
       "                                                                                               &#x27;Biography&#x27;,\n",
       "                                                                                               &#x27;Crime&#x27;,\n",
       "                                                                                               &#x27;Horror&#x27;,\n",
       "                                                                                               &#x27;Mystery&#x27;,\n",
       "                                                                                               &#x27;Fantasy&#x27;,\n",
       "                                                                                               &#x27;Western&#x27;,\n",
       "                                                                                               &#x27;Film-Noir&#x27;]]))]),\n",
       "                                                  [&#x27;main_genre&#x27;]),\n",
       "                                                 (&#x27;cat&#x27;,\n",
       "                                                  Pipeline(steps=[(&#x27;onehotencoder&#x27;,\n",
       "                                                                   OneHotEncoder(handle_unknown=&#x27;ignore&#x27;))]),\n",
       "                                                  &lt;sklearn.compose._column_transformer.make_column_selector object at 0x00000181F0253750&gt;)])),\n",
       "                (&#x27;linearregression&#x27;, LinearRegression())])</pre></div></div></div><div class=\"sk-serial\"><div class=\"sk-item sk-dashed-wrapped\"><div class=\"sk-label-container\"><div class=\"sk-label sk-toggleable\"><input class=\"sk-toggleable__control sk-hidden--visually\" id=\"sk-estimator-id-2\" type=\"checkbox\" ><label for=\"sk-estimator-id-2\" class=\"sk-toggleable__label sk-toggleable__label-arrow\">columntransformer: ColumnTransformer</label><div class=\"sk-toggleable__content\"><pre>ColumnTransformer(remainder=Pipeline(steps=[(&#x27;maxabsscaler&#x27;, MaxAbsScaler()),\n",
       "                                            (&#x27;standardscaler&#x27;,\n",
       "                                             StandardScaler())]),\n",
       "                  transformers=[(&#x27;log&#x27;,\n",
       "                                 Pipeline(steps=[(&#x27;functiontransformer&#x27;,\n",
       "                                                  FunctionTransformer(feature_names_out=&#x27;one-to-one&#x27;,\n",
       "                                                                      func=&lt;ufunc &#x27;log&#x27;&gt;)),\n",
       "                                                 (&#x27;minmaxscaler&#x27;,\n",
       "                                                  MinMaxScaler())]),\n",
       "                                 [&#x27;Year&#x27;, &#x27;Runtime(Mins)&#x27;]),\n",
       "                                (&#x27;genre_ordinal&#x27;,\n",
       "                                 Pipeline(steps=[(&#x27;ordinalencoder&#x27;,\n",
       "                                                  OrdinalEncoder(categories=[[&#x27;Action&#x27;,\n",
       "                                                                              &#x27;Comedy&#x27;,\n",
       "                                                                              &#x27;Animation&#x27;,\n",
       "                                                                              &#x27;Drama&#x27;,\n",
       "                                                                              &#x27;Adventure&#x27;,\n",
       "                                                                              &#x27;Biography&#x27;,\n",
       "                                                                              &#x27;Crime&#x27;,\n",
       "                                                                              &#x27;Horror&#x27;,\n",
       "                                                                              &#x27;Mystery&#x27;,\n",
       "                                                                              &#x27;Fantasy&#x27;,\n",
       "                                                                              &#x27;Western&#x27;,\n",
       "                                                                              &#x27;Film-Noir&#x27;]]))]),\n",
       "                                 [&#x27;main_genre&#x27;]),\n",
       "                                (&#x27;cat&#x27;,\n",
       "                                 Pipeline(steps=[(&#x27;onehotencoder&#x27;,\n",
       "                                                  OneHotEncoder(handle_unknown=&#x27;ignore&#x27;))]),\n",
       "                                 &lt;sklearn.compose._column_transformer.make_column_selector object at 0x00000181F0253750&gt;)])</pre></div></div></div><div class=\"sk-parallel\"><div class=\"sk-parallel-item\"><div class=\"sk-item\"><div class=\"sk-label-container\"><div class=\"sk-label sk-toggleable\"><input class=\"sk-toggleable__control sk-hidden--visually\" id=\"sk-estimator-id-3\" type=\"checkbox\" ><label for=\"sk-estimator-id-3\" class=\"sk-toggleable__label sk-toggleable__label-arrow\">log</label><div class=\"sk-toggleable__content\"><pre>[&#x27;Year&#x27;, &#x27;Runtime(Mins)&#x27;]</pre></div></div></div><div class=\"sk-serial\"><div class=\"sk-item\"><div class=\"sk-serial\"><div class=\"sk-item\"><div class=\"sk-estimator sk-toggleable\"><input class=\"sk-toggleable__control sk-hidden--visually\" id=\"sk-estimator-id-4\" type=\"checkbox\" ><label for=\"sk-estimator-id-4\" class=\"sk-toggleable__label sk-toggleable__label-arrow\">FunctionTransformer</label><div class=\"sk-toggleable__content\"><pre>FunctionTransformer(feature_names_out=&#x27;one-to-one&#x27;, func=&lt;ufunc &#x27;log&#x27;&gt;)</pre></div></div></div><div class=\"sk-item\"><div class=\"sk-estimator sk-toggleable\"><input class=\"sk-toggleable__control sk-hidden--visually\" id=\"sk-estimator-id-5\" type=\"checkbox\" ><label for=\"sk-estimator-id-5\" class=\"sk-toggleable__label sk-toggleable__label-arrow\">MinMaxScaler</label><div class=\"sk-toggleable__content\"><pre>MinMaxScaler()</pre></div></div></div></div></div></div></div></div><div class=\"sk-parallel-item\"><div class=\"sk-item\"><div class=\"sk-label-container\"><div class=\"sk-label sk-toggleable\"><input class=\"sk-toggleable__control sk-hidden--visually\" id=\"sk-estimator-id-6\" type=\"checkbox\" ><label for=\"sk-estimator-id-6\" class=\"sk-toggleable__label sk-toggleable__label-arrow\">genre_ordinal</label><div class=\"sk-toggleable__content\"><pre>[&#x27;main_genre&#x27;]</pre></div></div></div><div class=\"sk-serial\"><div class=\"sk-item\"><div class=\"sk-serial\"><div class=\"sk-item\"><div class=\"sk-estimator sk-toggleable\"><input class=\"sk-toggleable__control sk-hidden--visually\" id=\"sk-estimator-id-7\" type=\"checkbox\" ><label for=\"sk-estimator-id-7\" class=\"sk-toggleable__label sk-toggleable__label-arrow\">OrdinalEncoder</label><div class=\"sk-toggleable__content\"><pre>OrdinalEncoder(categories=[[&#x27;Action&#x27;, &#x27;Comedy&#x27;, &#x27;Animation&#x27;, &#x27;Drama&#x27;,\n",
       "                            &#x27;Adventure&#x27;, &#x27;Biography&#x27;, &#x27;Crime&#x27;, &#x27;Horror&#x27;,\n",
       "                            &#x27;Mystery&#x27;, &#x27;Fantasy&#x27;, &#x27;Western&#x27;, &#x27;Film-Noir&#x27;]])</pre></div></div></div></div></div></div></div></div><div class=\"sk-parallel-item\"><div class=\"sk-item\"><div class=\"sk-label-container\"><div class=\"sk-label sk-toggleable\"><input class=\"sk-toggleable__control sk-hidden--visually\" id=\"sk-estimator-id-8\" type=\"checkbox\" ><label for=\"sk-estimator-id-8\" class=\"sk-toggleable__label sk-toggleable__label-arrow\">cat</label><div class=\"sk-toggleable__content\"><pre>&lt;sklearn.compose._column_transformer.make_column_selector object at 0x00000181F0253750&gt;</pre></div></div></div><div class=\"sk-serial\"><div class=\"sk-item\"><div class=\"sk-serial\"><div class=\"sk-item\"><div class=\"sk-estimator sk-toggleable\"><input class=\"sk-toggleable__control sk-hidden--visually\" id=\"sk-estimator-id-9\" type=\"checkbox\" ><label for=\"sk-estimator-id-9\" class=\"sk-toggleable__label sk-toggleable__label-arrow\">OneHotEncoder</label><div class=\"sk-toggleable__content\"><pre>OneHotEncoder(handle_unknown=&#x27;ignore&#x27;)</pre></div></div></div></div></div></div></div></div><div class=\"sk-parallel-item\"><div class=\"sk-item\"><div class=\"sk-label-container\"><div class=\"sk-label sk-toggleable\"><input class=\"sk-toggleable__control sk-hidden--visually\" id=\"sk-estimator-id-10\" type=\"checkbox\" ><label for=\"sk-estimator-id-10\" class=\"sk-toggleable__label sk-toggleable__label-arrow\">remainder</label><div class=\"sk-toggleable__content\"><pre>[&#x27;Rating&#x27;]</pre></div></div></div><div class=\"sk-serial\"><div class=\"sk-item\"><div class=\"sk-serial\"><div class=\"sk-item\"><div class=\"sk-estimator sk-toggleable\"><input class=\"sk-toggleable__control sk-hidden--visually\" id=\"sk-estimator-id-11\" type=\"checkbox\" ><label for=\"sk-estimator-id-11\" class=\"sk-toggleable__label sk-toggleable__label-arrow\">MaxAbsScaler</label><div class=\"sk-toggleable__content\"><pre>MaxAbsScaler()</pre></div></div></div><div class=\"sk-item\"><div class=\"sk-estimator sk-toggleable\"><input class=\"sk-toggleable__control sk-hidden--visually\" id=\"sk-estimator-id-12\" type=\"checkbox\" ><label for=\"sk-estimator-id-12\" class=\"sk-toggleable__label sk-toggleable__label-arrow\">StandardScaler</label><div class=\"sk-toggleable__content\"><pre>StandardScaler()</pre></div></div></div></div></div></div></div></div></div></div><div class=\"sk-item\"><div class=\"sk-estimator sk-toggleable\"><input class=\"sk-toggleable__control sk-hidden--visually\" id=\"sk-estimator-id-13\" type=\"checkbox\" ><label for=\"sk-estimator-id-13\" class=\"sk-toggleable__label sk-toggleable__label-arrow\">LinearRegression</label><div class=\"sk-toggleable__content\"><pre>LinearRegression()</pre></div></div></div></div></div></div></div>"
      ],
      "text/plain": [
       "Pipeline(steps=[('columntransformer',\n",
       "                 ColumnTransformer(remainder=Pipeline(steps=[('maxabsscaler',\n",
       "                                                              MaxAbsScaler()),\n",
       "                                                             ('standardscaler',\n",
       "                                                              StandardScaler())]),\n",
       "                                   transformers=[('log',\n",
       "                                                  Pipeline(steps=[('functiontransformer',\n",
       "                                                                   FunctionTransformer(feature_names_out='one-to-one',\n",
       "                                                                                       func=<ufunc 'log'>)),\n",
       "                                                                  ('minmaxscaler',\n",
       "                                                                   MinMaxScaler())]),\n",
       "                                                  ['Year', 'Runtime(Mins)']),\n",
       "                                                 ('genre_...\n",
       "                                                                   OrdinalEncoder(categories=[['Action',\n",
       "                                                                                               'Comedy',\n",
       "                                                                                               'Animation',\n",
       "                                                                                               'Drama',\n",
       "                                                                                               'Adventure',\n",
       "                                                                                               'Biography',\n",
       "                                                                                               'Crime',\n",
       "                                                                                               'Horror',\n",
       "                                                                                               'Mystery',\n",
       "                                                                                               'Fantasy',\n",
       "                                                                                               'Western',\n",
       "                                                                                               'Film-Noir']]))]),\n",
       "                                                  ['main_genre']),\n",
       "                                                 ('cat',\n",
       "                                                  Pipeline(steps=[('onehotencoder',\n",
       "                                                                   OneHotEncoder(handle_unknown='ignore'))]),\n",
       "                                                  <sklearn.compose._column_transformer.make_column_selector object at 0x00000181F0253750>)])),\n",
       "                ('linearregression', LinearRegression())])"
      ]
     },
     "execution_count": 41,
     "metadata": {},
     "output_type": "execute_result"
    }
   ],
   "source": [
    "from sklearn.linear_model import LinearRegression\n",
    "\n",
    "lin_reg = make_pipeline(preprocessing, LinearRegression())\n",
    "lin_reg.fit(movies, movies_labels)"
   ]
  },
  {
   "cell_type": "code",
   "execution_count": 42,
   "id": "4a7479e7",
   "metadata": {},
   "outputs": [
    {
     "data": {
      "text/plain": [
       "array([20183900.,  2549800.,  3139300., 30154200.,  9450000.])"
      ]
     },
     "execution_count": 42,
     "metadata": {},
     "output_type": "execute_result"
    }
   ],
   "source": [
    "movies_predictions = lin_reg.predict(movies)\n",
    "movies_predictions[:5].round(-2)"
   ]
  },
  {
   "cell_type": "code",
   "execution_count": 43,
   "id": "d622cbec",
   "metadata": {},
   "outputs": [
    {
     "data": {
      "text/plain": [
       "array([20183944.81655503,  2549745.02549745,  3139372.12557488,\n",
       "       30153969.20615877,  9450000.        ])"
      ]
     },
     "execution_count": 43,
     "metadata": {},
     "output_type": "execute_result"
    }
   ],
   "source": [
    "movies_labels.iloc[:5].values"
   ]
  },
  {
   "cell_type": "markdown",
   "id": "406eb16c",
   "metadata": {},
   "source": [
    "We can evaluate the Linear Regression model's performance on the trainign set:"
   ]
  },
  {
   "cell_type": "code",
   "execution_count": 44,
   "id": "bbc766fb",
   "metadata": {},
   "outputs": [
    {
     "data": {
      "text/plain": [
       "136498.50168561173"
      ]
     },
     "execution_count": 44,
     "metadata": {},
     "output_type": "execute_result"
    }
   ],
   "source": [
    "from sklearn.metrics import mean_squared_error, mean_absolute_error\n",
    "\n",
    "lin_rmse = mean_squared_error(movies_labels, movies_predictions, squared=False)\n",
    "lin_rmse"
   ]
  },
  {
   "cell_type": "markdown",
   "id": "9557aa09",
   "metadata": {},
   "source": [
    "We have to use Cross Validation, because it is more accurate:"
   ]
  },
  {
   "cell_type": "code",
   "execution_count": 45,
   "id": "14c4c6b7",
   "metadata": {},
   "outputs": [
    {
     "data": {
      "text/plain": [
       "count    1.000000e+01\n",
       "mean     7.110150e+07\n",
       "std      1.288788e+07\n",
       "min      5.602761e+07\n",
       "25%      6.195788e+07\n",
       "50%      6.933641e+07\n",
       "75%      7.914082e+07\n",
       "max      9.609973e+07\n",
       "dtype: float64"
      ]
     },
     "execution_count": 45,
     "metadata": {},
     "output_type": "execute_result"
    }
   ],
   "source": [
    "from sklearn.model_selection import cross_val_score\n",
    "lin_rmses = -cross_val_score(lin_reg, movies, movies_labels,\n",
    "                              scoring=\"neg_root_mean_squared_error\", cv=10)\n",
    "pd.Series(lin_rmses).describe()"
   ]
  },
  {
   "cell_type": "markdown",
   "id": "acf293da",
   "metadata": {},
   "source": [
    "The true mean of the labels is:"
   ]
  },
  {
   "cell_type": "code",
   "execution_count": 46,
   "id": "5c9c9b30",
   "metadata": {},
   "outputs": [
    {
     "data": {
      "text/plain": [
       "48655262.49087419"
      ]
     },
     "execution_count": 46,
     "metadata": {},
     "output_type": "execute_result"
    }
   ],
   "source": [
    "movies_labels.mean()"
   ]
  },
  {
   "cell_type": "markdown",
   "id": "07732d4a",
   "metadata": {},
   "source": [
    "Thus, the normalized RMSE (NRMSE) and the NMAE are:"
   ]
  },
  {
   "cell_type": "code",
   "execution_count": 47,
   "id": "60763544",
   "metadata": {},
   "outputs": [
    {
     "name": "stdout",
     "output_type": "stream",
     "text": [
      "NRMSE of Linear Regression =  1.46133213047471\n",
      "MAE of Linear Regression =  6173.417984456401\n",
      "NMAE Of Linear Regression (Testing Set) =  0.0001268807867517782\n"
     ]
    }
   ],
   "source": [
    "print(\"NRMSE of Linear Regression = \", lin_rmses.mean() / movies_labels.mean())\n",
    "print(\"MAE of Linear Regression = \", mean_absolute_error(movies_labels, movies_predictions))\n",
    "print(\"NMAE Of Linear Regression (Testing Set) = \", mean_absolute_error(movies_labels, movies_predictions) / movies_labels.mean())\n"
   ]
  },
  {
   "cell_type": "markdown",
   "id": "02c1ceef",
   "metadata": {},
   "source": [
    "## Experiment with Other Models"
   ]
  },
  {
   "cell_type": "markdown",
   "id": "488772a5",
   "metadata": {},
   "source": [
    "Let us no explore other models.\n",
    "\n",
    "We start with a Decision Tree:"
   ]
  },
  {
   "cell_type": "code",
   "execution_count": 65,
   "id": "227efab4",
   "metadata": {},
   "outputs": [
    {
     "data": {
      "text/html": [
       "<style>#sk-container-id-2 {color: black;}#sk-container-id-2 pre{padding: 0;}#sk-container-id-2 div.sk-toggleable {background-color: white;}#sk-container-id-2 label.sk-toggleable__label {cursor: pointer;display: block;width: 100%;margin-bottom: 0;padding: 0.3em;box-sizing: border-box;text-align: center;}#sk-container-id-2 label.sk-toggleable__label-arrow:before {content: \"▸\";float: left;margin-right: 0.25em;color: #696969;}#sk-container-id-2 label.sk-toggleable__label-arrow:hover:before {color: black;}#sk-container-id-2 div.sk-estimator:hover label.sk-toggleable__label-arrow:before {color: black;}#sk-container-id-2 div.sk-toggleable__content {max-height: 0;max-width: 0;overflow: hidden;text-align: left;background-color: #f0f8ff;}#sk-container-id-2 div.sk-toggleable__content pre {margin: 0.2em;color: black;border-radius: 0.25em;background-color: #f0f8ff;}#sk-container-id-2 input.sk-toggleable__control:checked~div.sk-toggleable__content {max-height: 200px;max-width: 100%;overflow: auto;}#sk-container-id-2 input.sk-toggleable__control:checked~label.sk-toggleable__label-arrow:before {content: \"▾\";}#sk-container-id-2 div.sk-estimator input.sk-toggleable__control:checked~label.sk-toggleable__label {background-color: #d4ebff;}#sk-container-id-2 div.sk-label input.sk-toggleable__control:checked~label.sk-toggleable__label {background-color: #d4ebff;}#sk-container-id-2 input.sk-hidden--visually {border: 0;clip: rect(1px 1px 1px 1px);clip: rect(1px, 1px, 1px, 1px);height: 1px;margin: -1px;overflow: hidden;padding: 0;position: absolute;width: 1px;}#sk-container-id-2 div.sk-estimator {font-family: monospace;background-color: #f0f8ff;border: 1px dotted black;border-radius: 0.25em;box-sizing: border-box;margin-bottom: 0.5em;}#sk-container-id-2 div.sk-estimator:hover {background-color: #d4ebff;}#sk-container-id-2 div.sk-parallel-item::after {content: \"\";width: 100%;border-bottom: 1px solid gray;flex-grow: 1;}#sk-container-id-2 div.sk-label:hover label.sk-toggleable__label {background-color: #d4ebff;}#sk-container-id-2 div.sk-serial::before {content: \"\";position: absolute;border-left: 1px solid gray;box-sizing: border-box;top: 0;bottom: 0;left: 50%;z-index: 0;}#sk-container-id-2 div.sk-serial {display: flex;flex-direction: column;align-items: center;background-color: white;padding-right: 0.2em;padding-left: 0.2em;position: relative;}#sk-container-id-2 div.sk-item {position: relative;z-index: 1;}#sk-container-id-2 div.sk-parallel {display: flex;align-items: stretch;justify-content: center;background-color: white;position: relative;}#sk-container-id-2 div.sk-item::before, #sk-container-id-2 div.sk-parallel-item::before {content: \"\";position: absolute;border-left: 1px solid gray;box-sizing: border-box;top: 0;bottom: 0;left: 50%;z-index: -1;}#sk-container-id-2 div.sk-parallel-item {display: flex;flex-direction: column;z-index: 1;position: relative;background-color: white;}#sk-container-id-2 div.sk-parallel-item:first-child::after {align-self: flex-end;width: 50%;}#sk-container-id-2 div.sk-parallel-item:last-child::after {align-self: flex-start;width: 50%;}#sk-container-id-2 div.sk-parallel-item:only-child::after {width: 0;}#sk-container-id-2 div.sk-dashed-wrapped {border: 1px dashed gray;margin: 0 0.4em 0.5em 0.4em;box-sizing: border-box;padding-bottom: 0.4em;background-color: white;}#sk-container-id-2 div.sk-label label {font-family: monospace;font-weight: bold;display: inline-block;line-height: 1.2em;}#sk-container-id-2 div.sk-label-container {text-align: center;}#sk-container-id-2 div.sk-container {/* jupyter's `normalize.less` sets `[hidden] { display: none; }` but bootstrap.min.css set `[hidden] { display: none !important; }` so we also need the `!important` here to be able to override the default hidden behavior on the sphinx rendered scikit-learn.org. See: https://github.com/scikit-learn/scikit-learn/issues/21755 */display: inline-block !important;position: relative;}#sk-container-id-2 div.sk-text-repr-fallback {display: none;}</style><div id=\"sk-container-id-2\" class=\"sk-top-container\"><div class=\"sk-text-repr-fallback\"><pre>Pipeline(steps=[(&#x27;columntransformer&#x27;,\n",
       "                 ColumnTransformer(remainder=Pipeline(steps=[(&#x27;maxabsscaler&#x27;,\n",
       "                                                              MaxAbsScaler()),\n",
       "                                                             (&#x27;standardscaler&#x27;,\n",
       "                                                              StandardScaler())]),\n",
       "                                   transformers=[(&#x27;log&#x27;,\n",
       "                                                  Pipeline(steps=[(&#x27;functiontransformer&#x27;,\n",
       "                                                                   FunctionTransformer(feature_names_out=&#x27;one-to-one&#x27;,\n",
       "                                                                                       func=&lt;ufunc &#x27;log&#x27;&gt;)),\n",
       "                                                                  (&#x27;minmaxscaler&#x27;,\n",
       "                                                                   MinMaxScaler())]),\n",
       "                                                  [&#x27;Year&#x27;, &#x27;Runtime(Mins)&#x27;]),\n",
       "                                                 (&#x27;genre_...\n",
       "                                                                                               &#x27;Drama&#x27;,\n",
       "                                                                                               &#x27;Adventure&#x27;,\n",
       "                                                                                               &#x27;Biography&#x27;,\n",
       "                                                                                               &#x27;Crime&#x27;,\n",
       "                                                                                               &#x27;Horror&#x27;,\n",
       "                                                                                               &#x27;Mystery&#x27;,\n",
       "                                                                                               &#x27;Fantasy&#x27;,\n",
       "                                                                                               &#x27;Western&#x27;,\n",
       "                                                                                               &#x27;Film-Noir&#x27;]]))]),\n",
       "                                                  [&#x27;main_genre&#x27;]),\n",
       "                                                 (&#x27;cat&#x27;,\n",
       "                                                  Pipeline(steps=[(&#x27;onehotencoder&#x27;,\n",
       "                                                                   OneHotEncoder(handle_unknown=&#x27;ignore&#x27;))]),\n",
       "                                                  &lt;sklearn.compose._column_transformer.make_column_selector object at 0x00000181F0253750&gt;)])),\n",
       "                (&#x27;decisiontreeregressor&#x27;,\n",
       "                 DecisionTreeRegressor(random_state=42))])</pre><b>In a Jupyter environment, please rerun this cell to show the HTML representation or trust the notebook. <br />On GitHub, the HTML representation is unable to render, please try loading this page with nbviewer.org.</b></div><div class=\"sk-container\" hidden><div class=\"sk-item sk-dashed-wrapped\"><div class=\"sk-label-container\"><div class=\"sk-label sk-toggleable\"><input class=\"sk-toggleable__control sk-hidden--visually\" id=\"sk-estimator-id-14\" type=\"checkbox\" ><label for=\"sk-estimator-id-14\" class=\"sk-toggleable__label sk-toggleable__label-arrow\">Pipeline</label><div class=\"sk-toggleable__content\"><pre>Pipeline(steps=[(&#x27;columntransformer&#x27;,\n",
       "                 ColumnTransformer(remainder=Pipeline(steps=[(&#x27;maxabsscaler&#x27;,\n",
       "                                                              MaxAbsScaler()),\n",
       "                                                             (&#x27;standardscaler&#x27;,\n",
       "                                                              StandardScaler())]),\n",
       "                                   transformers=[(&#x27;log&#x27;,\n",
       "                                                  Pipeline(steps=[(&#x27;functiontransformer&#x27;,\n",
       "                                                                   FunctionTransformer(feature_names_out=&#x27;one-to-one&#x27;,\n",
       "                                                                                       func=&lt;ufunc &#x27;log&#x27;&gt;)),\n",
       "                                                                  (&#x27;minmaxscaler&#x27;,\n",
       "                                                                   MinMaxScaler())]),\n",
       "                                                  [&#x27;Year&#x27;, &#x27;Runtime(Mins)&#x27;]),\n",
       "                                                 (&#x27;genre_...\n",
       "                                                                                               &#x27;Drama&#x27;,\n",
       "                                                                                               &#x27;Adventure&#x27;,\n",
       "                                                                                               &#x27;Biography&#x27;,\n",
       "                                                                                               &#x27;Crime&#x27;,\n",
       "                                                                                               &#x27;Horror&#x27;,\n",
       "                                                                                               &#x27;Mystery&#x27;,\n",
       "                                                                                               &#x27;Fantasy&#x27;,\n",
       "                                                                                               &#x27;Western&#x27;,\n",
       "                                                                                               &#x27;Film-Noir&#x27;]]))]),\n",
       "                                                  [&#x27;main_genre&#x27;]),\n",
       "                                                 (&#x27;cat&#x27;,\n",
       "                                                  Pipeline(steps=[(&#x27;onehotencoder&#x27;,\n",
       "                                                                   OneHotEncoder(handle_unknown=&#x27;ignore&#x27;))]),\n",
       "                                                  &lt;sklearn.compose._column_transformer.make_column_selector object at 0x00000181F0253750&gt;)])),\n",
       "                (&#x27;decisiontreeregressor&#x27;,\n",
       "                 DecisionTreeRegressor(random_state=42))])</pre></div></div></div><div class=\"sk-serial\"><div class=\"sk-item sk-dashed-wrapped\"><div class=\"sk-label-container\"><div class=\"sk-label sk-toggleable\"><input class=\"sk-toggleable__control sk-hidden--visually\" id=\"sk-estimator-id-15\" type=\"checkbox\" ><label for=\"sk-estimator-id-15\" class=\"sk-toggleable__label sk-toggleable__label-arrow\">columntransformer: ColumnTransformer</label><div class=\"sk-toggleable__content\"><pre>ColumnTransformer(remainder=Pipeline(steps=[(&#x27;maxabsscaler&#x27;, MaxAbsScaler()),\n",
       "                                            (&#x27;standardscaler&#x27;,\n",
       "                                             StandardScaler())]),\n",
       "                  transformers=[(&#x27;log&#x27;,\n",
       "                                 Pipeline(steps=[(&#x27;functiontransformer&#x27;,\n",
       "                                                  FunctionTransformer(feature_names_out=&#x27;one-to-one&#x27;,\n",
       "                                                                      func=&lt;ufunc &#x27;log&#x27;&gt;)),\n",
       "                                                 (&#x27;minmaxscaler&#x27;,\n",
       "                                                  MinMaxScaler())]),\n",
       "                                 [&#x27;Year&#x27;, &#x27;Runtime(Mins)&#x27;]),\n",
       "                                (&#x27;genre_ordinal&#x27;,\n",
       "                                 Pipeline(steps=[(&#x27;ordinalencoder&#x27;,\n",
       "                                                  OrdinalEncoder(categories=[[&#x27;Action&#x27;,\n",
       "                                                                              &#x27;Comedy&#x27;,\n",
       "                                                                              &#x27;Animation&#x27;,\n",
       "                                                                              &#x27;Drama&#x27;,\n",
       "                                                                              &#x27;Adventure&#x27;,\n",
       "                                                                              &#x27;Biography&#x27;,\n",
       "                                                                              &#x27;Crime&#x27;,\n",
       "                                                                              &#x27;Horror&#x27;,\n",
       "                                                                              &#x27;Mystery&#x27;,\n",
       "                                                                              &#x27;Fantasy&#x27;,\n",
       "                                                                              &#x27;Western&#x27;,\n",
       "                                                                              &#x27;Film-Noir&#x27;]]))]),\n",
       "                                 [&#x27;main_genre&#x27;]),\n",
       "                                (&#x27;cat&#x27;,\n",
       "                                 Pipeline(steps=[(&#x27;onehotencoder&#x27;,\n",
       "                                                  OneHotEncoder(handle_unknown=&#x27;ignore&#x27;))]),\n",
       "                                 &lt;sklearn.compose._column_transformer.make_column_selector object at 0x00000181F0253750&gt;)])</pre></div></div></div><div class=\"sk-parallel\"><div class=\"sk-parallel-item\"><div class=\"sk-item\"><div class=\"sk-label-container\"><div class=\"sk-label sk-toggleable\"><input class=\"sk-toggleable__control sk-hidden--visually\" id=\"sk-estimator-id-16\" type=\"checkbox\" ><label for=\"sk-estimator-id-16\" class=\"sk-toggleable__label sk-toggleable__label-arrow\">log</label><div class=\"sk-toggleable__content\"><pre>[&#x27;Year&#x27;, &#x27;Runtime(Mins)&#x27;]</pre></div></div></div><div class=\"sk-serial\"><div class=\"sk-item\"><div class=\"sk-serial\"><div class=\"sk-item\"><div class=\"sk-estimator sk-toggleable\"><input class=\"sk-toggleable__control sk-hidden--visually\" id=\"sk-estimator-id-17\" type=\"checkbox\" ><label for=\"sk-estimator-id-17\" class=\"sk-toggleable__label sk-toggleable__label-arrow\">FunctionTransformer</label><div class=\"sk-toggleable__content\"><pre>FunctionTransformer(feature_names_out=&#x27;one-to-one&#x27;, func=&lt;ufunc &#x27;log&#x27;&gt;)</pre></div></div></div><div class=\"sk-item\"><div class=\"sk-estimator sk-toggleable\"><input class=\"sk-toggleable__control sk-hidden--visually\" id=\"sk-estimator-id-18\" type=\"checkbox\" ><label for=\"sk-estimator-id-18\" class=\"sk-toggleable__label sk-toggleable__label-arrow\">MinMaxScaler</label><div class=\"sk-toggleable__content\"><pre>MinMaxScaler()</pre></div></div></div></div></div></div></div></div><div class=\"sk-parallel-item\"><div class=\"sk-item\"><div class=\"sk-label-container\"><div class=\"sk-label sk-toggleable\"><input class=\"sk-toggleable__control sk-hidden--visually\" id=\"sk-estimator-id-19\" type=\"checkbox\" ><label for=\"sk-estimator-id-19\" class=\"sk-toggleable__label sk-toggleable__label-arrow\">genre_ordinal</label><div class=\"sk-toggleable__content\"><pre>[&#x27;main_genre&#x27;]</pre></div></div></div><div class=\"sk-serial\"><div class=\"sk-item\"><div class=\"sk-serial\"><div class=\"sk-item\"><div class=\"sk-estimator sk-toggleable\"><input class=\"sk-toggleable__control sk-hidden--visually\" id=\"sk-estimator-id-20\" type=\"checkbox\" ><label for=\"sk-estimator-id-20\" class=\"sk-toggleable__label sk-toggleable__label-arrow\">OrdinalEncoder</label><div class=\"sk-toggleable__content\"><pre>OrdinalEncoder(categories=[[&#x27;Action&#x27;, &#x27;Comedy&#x27;, &#x27;Animation&#x27;, &#x27;Drama&#x27;,\n",
       "                            &#x27;Adventure&#x27;, &#x27;Biography&#x27;, &#x27;Crime&#x27;, &#x27;Horror&#x27;,\n",
       "                            &#x27;Mystery&#x27;, &#x27;Fantasy&#x27;, &#x27;Western&#x27;, &#x27;Film-Noir&#x27;]])</pre></div></div></div></div></div></div></div></div><div class=\"sk-parallel-item\"><div class=\"sk-item\"><div class=\"sk-label-container\"><div class=\"sk-label sk-toggleable\"><input class=\"sk-toggleable__control sk-hidden--visually\" id=\"sk-estimator-id-21\" type=\"checkbox\" ><label for=\"sk-estimator-id-21\" class=\"sk-toggleable__label sk-toggleable__label-arrow\">cat</label><div class=\"sk-toggleable__content\"><pre>&lt;sklearn.compose._column_transformer.make_column_selector object at 0x00000181F0253750&gt;</pre></div></div></div><div class=\"sk-serial\"><div class=\"sk-item\"><div class=\"sk-serial\"><div class=\"sk-item\"><div class=\"sk-estimator sk-toggleable\"><input class=\"sk-toggleable__control sk-hidden--visually\" id=\"sk-estimator-id-22\" type=\"checkbox\" ><label for=\"sk-estimator-id-22\" class=\"sk-toggleable__label sk-toggleable__label-arrow\">OneHotEncoder</label><div class=\"sk-toggleable__content\"><pre>OneHotEncoder(handle_unknown=&#x27;ignore&#x27;)</pre></div></div></div></div></div></div></div></div><div class=\"sk-parallel-item\"><div class=\"sk-item\"><div class=\"sk-label-container\"><div class=\"sk-label sk-toggleable\"><input class=\"sk-toggleable__control sk-hidden--visually\" id=\"sk-estimator-id-23\" type=\"checkbox\" ><label for=\"sk-estimator-id-23\" class=\"sk-toggleable__label sk-toggleable__label-arrow\">remainder</label><div class=\"sk-toggleable__content\"><pre>[&#x27;Rating&#x27;]</pre></div></div></div><div class=\"sk-serial\"><div class=\"sk-item\"><div class=\"sk-serial\"><div class=\"sk-item\"><div class=\"sk-estimator sk-toggleable\"><input class=\"sk-toggleable__control sk-hidden--visually\" id=\"sk-estimator-id-24\" type=\"checkbox\" ><label for=\"sk-estimator-id-24\" class=\"sk-toggleable__label sk-toggleable__label-arrow\">MaxAbsScaler</label><div class=\"sk-toggleable__content\"><pre>MaxAbsScaler()</pre></div></div></div><div class=\"sk-item\"><div class=\"sk-estimator sk-toggleable\"><input class=\"sk-toggleable__control sk-hidden--visually\" id=\"sk-estimator-id-25\" type=\"checkbox\" ><label for=\"sk-estimator-id-25\" class=\"sk-toggleable__label sk-toggleable__label-arrow\">StandardScaler</label><div class=\"sk-toggleable__content\"><pre>StandardScaler()</pre></div></div></div></div></div></div></div></div></div></div><div class=\"sk-item\"><div class=\"sk-estimator sk-toggleable\"><input class=\"sk-toggleable__control sk-hidden--visually\" id=\"sk-estimator-id-26\" type=\"checkbox\" ><label for=\"sk-estimator-id-26\" class=\"sk-toggleable__label sk-toggleable__label-arrow\">DecisionTreeRegressor</label><div class=\"sk-toggleable__content\"><pre>DecisionTreeRegressor(random_state=42)</pre></div></div></div></div></div></div></div>"
      ],
      "text/plain": [
       "Pipeline(steps=[('columntransformer',\n",
       "                 ColumnTransformer(remainder=Pipeline(steps=[('maxabsscaler',\n",
       "                                                              MaxAbsScaler()),\n",
       "                                                             ('standardscaler',\n",
       "                                                              StandardScaler())]),\n",
       "                                   transformers=[('log',\n",
       "                                                  Pipeline(steps=[('functiontransformer',\n",
       "                                                                   FunctionTransformer(feature_names_out='one-to-one',\n",
       "                                                                                       func=<ufunc 'log'>)),\n",
       "                                                                  ('minmaxscaler',\n",
       "                                                                   MinMaxScaler())]),\n",
       "                                                  ['Year', 'Runtime(Mins)']),\n",
       "                                                 ('genre_...\n",
       "                                                                                               'Drama',\n",
       "                                                                                               'Adventure',\n",
       "                                                                                               'Biography',\n",
       "                                                                                               'Crime',\n",
       "                                                                                               'Horror',\n",
       "                                                                                               'Mystery',\n",
       "                                                                                               'Fantasy',\n",
       "                                                                                               'Western',\n",
       "                                                                                               'Film-Noir']]))]),\n",
       "                                                  ['main_genre']),\n",
       "                                                 ('cat',\n",
       "                                                  Pipeline(steps=[('onehotencoder',\n",
       "                                                                   OneHotEncoder(handle_unknown='ignore'))]),\n",
       "                                                  <sklearn.compose._column_transformer.make_column_selector object at 0x00000181F0253750>)])),\n",
       "                ('decisiontreeregressor',\n",
       "                 DecisionTreeRegressor(random_state=42))])"
      ]
     },
     "execution_count": 65,
     "metadata": {},
     "output_type": "execute_result"
    }
   ],
   "source": [
    "from sklearn.tree import DecisionTreeRegressor\n",
    "\n",
    "dt_tree_reg = make_pipeline(preprocessing, DecisionTreeRegressor(random_state=42))\n",
    "dt_tree_reg.fit(movies, movies_labels)"
   ]
  },
  {
   "cell_type": "code",
   "execution_count": 66,
   "id": "13e875dc",
   "metadata": {},
   "outputs": [
    {
     "data": {
      "text/plain": [
       "count    1.000000e+01\n",
       "mean     5.612933e+07\n",
       "std      5.036673e+06\n",
       "min      4.920636e+07\n",
       "25%      5.338644e+07\n",
       "50%      5.558508e+07\n",
       "75%      5.773547e+07\n",
       "max      6.730211e+07\n",
       "dtype: float64"
      ]
     },
     "execution_count": 66,
     "metadata": {},
     "output_type": "execute_result"
    }
   ],
   "source": [
    "movies_predictions = dt_tree_reg.predict(movies)\n",
    "tree_rmses = -cross_val_score(dt_tree_reg, movies, movies_labels,\n",
    "                              scoring=\"neg_root_mean_squared_error\", cv=10)\n",
    "\n",
    "pd.Series(tree_rmses).describe()"
   ]
  },
  {
   "cell_type": "code",
   "execution_count": 59,
   "id": "7ec7f011",
   "metadata": {},
   "outputs": [
    {
     "name": "stdout",
     "output_type": "stream",
     "text": [
      "NRMSE =  1.1536128272789317\n"
     ]
    }
   ],
   "source": [
    "print(\"NRMSE = \", tree_rmses.mean() / movies_labels.mean())"
   ]
  },
  {
   "cell_type": "markdown",
   "id": "2839ae14",
   "metadata": {},
   "source": [
    "The Decision Tree performs better than the Linear Regression model.\n",
    "\n",
    "Let us try a Random Forest model:"
   ]
  },
  {
   "cell_type": "code",
   "execution_count": 60,
   "id": "005710f6",
   "metadata": {},
   "outputs": [
    {
     "data": {
      "text/plain": [
       "count    1.000000e+01\n",
       "mean     4.599208e+07\n",
       "std      3.211302e+06\n",
       "min      3.959390e+07\n",
       "25%      4.526421e+07\n",
       "50%      4.570571e+07\n",
       "75%      4.730843e+07\n",
       "max      5.228159e+07\n",
       "dtype: float64"
      ]
     },
     "execution_count": 60,
     "metadata": {},
     "output_type": "execute_result"
    }
   ],
   "source": [
    "from sklearn.ensemble import RandomForestRegressor\n",
    "\n",
    "forest_reg = make_pipeline(preprocessing,\n",
    "                          RandomForestRegressor(random_state=42))\n",
    "forest_rmses = -cross_val_score(forest_reg, movies, movies_labels,\n",
    "                               scoring=\"neg_root_mean_squared_error\",\n",
    "                                cv=10,\n",
    "                                n_jobs=-1)\n",
    "pd.Series(forest_rmses).describe()"
   ]
  },
  {
   "cell_type": "code",
   "execution_count": 63,
   "id": "0b2aeb9b",
   "metadata": {},
   "outputs": [
    {
     "name": "stdout",
     "output_type": "stream",
     "text": [
      "NRMSE of Linear Regression =  0.9452643432290282\n"
     ]
    }
   ],
   "source": [
    "print(\"NRMSE of Linear Regression = \", forest_rmses.mean() / movies_labels.mean())"
   ]
  },
  {
   "cell_type": "markdown",
   "id": "17ae9384",
   "metadata": {},
   "source": [
    "This is way better than a Linear Regression model or a Decision Tree Model!"
   ]
  },
  {
   "cell_type": "code",
   "execution_count": 65,
   "id": "16820e9d",
   "metadata": {},
   "outputs": [
    {
     "data": {
      "text/plain": [
       "count    1.000000e+01\n",
       "mean     4.724435e+07\n",
       "std      2.965439e+06\n",
       "min      4.069145e+07\n",
       "25%      4.612357e+07\n",
       "50%      4.792359e+07\n",
       "75%      4.845839e+07\n",
       "max      5.193274e+07\n",
       "dtype: float64"
      ]
     },
     "execution_count": 65,
     "metadata": {},
     "output_type": "execute_result"
    }
   ],
   "source": [
    "from sklearn.ensemble import GradientBoostingRegressor\n",
    "\n",
    "gbdt_reg = make_pipeline(preprocessing, GradientBoostingRegressor(\n",
    "    loss='squared_error',\n",
    "    random_state=42))\n",
    "gbdt_rmses = -cross_val_score(gbdt_reg, movies, movies_labels, scoring=\"neg_root_mean_squared_error\", cv=10, n_jobs=-1)\n",
    "pd.Series(gbdt_rmses).describe()"
   ]
  },
  {
   "cell_type": "markdown",
   "id": "7338ec9f",
   "metadata": {},
   "source": [
    "GradBoost did not perform as good as a Random Forest. "
   ]
  },
  {
   "cell_type": "markdown",
   "id": "4727e861",
   "metadata": {},
   "source": [
    "## Hyperparameter Tuning"
   ]
  },
  {
   "cell_type": "markdown",
   "id": "498bd5a8",
   "metadata": {},
   "source": [
    "We can use Random Search to tune our hyperparameters."
   ]
  },
  {
   "cell_type": "code",
   "execution_count": 48,
   "id": "9cfb305f",
   "metadata": {},
   "outputs": [],
   "source": [
    "from sklearn.experimental import enable_halving_search_cv\n",
    "from sklearn.model_selection import HalvingRandomSearchCV\n",
    "\n",
    "from sklearn.model_selection import RandomizedSearchCV\n",
    "from scipy.stats import randint"
   ]
  },
  {
   "cell_type": "markdown",
   "id": "4ba009b8",
   "metadata": {},
   "source": [
    "I have tried this before. It takes sometime to run. I then used the *best_params_* and obtained the following:\n",
    "\n",
    "{'random_forest__max_depth': 1308,\n",
    " 'random_forest__max_features': 3,\n",
    " 'random_forest__n_estimators': 1343}"
   ]
  },
  {
   "cell_type": "code",
   "execution_count": 68,
   "id": "22f559e6",
   "metadata": {},
   "outputs": [
    {
     "data": {
      "text/plain": [
       "'\\nparam_distribs = {\\'random_forest__max_features\\': randint(low=2, high=20),\\n                 \\'random_forest__max_depth\\': randint(low=1000, high=2000),\\n                 \\'random_forest__n_estimators\\': randint(low=1000, high=1500)}\\n\\nfull_pipeline = Pipeline([\\n    (\"preprocessing\", preprocessing),\\n    (\"random_forest\", RandomForestRegressor(random_state=42)),\\n])\\n\\nrnd_search = RandomizedSearchCV(\\n    full_pipeline, param_distributions=param_distribs, n_iter=10, cv=3,\\n    scoring=\\'neg_root_mean_squared_error\\', random_state=42, n_jobs=-1)\\n\\nrnd_search.fit(movies, movies_labels)\\n\\nrnd_search.best_params_\\n'"
      ]
     },
     "execution_count": 68,
     "metadata": {},
     "output_type": "execute_result"
    }
   ],
   "source": [
    "'''\n",
    "param_distribs = {'random_forest__max_features': randint(low=2, high=20),\n",
    "                 'random_forest__max_depth': randint(low=1000, high=2000),\n",
    "                 'random_forest__n_estimators': randint(low=1000, high=1500)}\n",
    "\n",
    "full_pipeline = Pipeline([\n",
    "    (\"preprocessing\", preprocessing),\n",
    "    (\"random_forest\", RandomForestRegressor(random_state=42)),\n",
    "])\n",
    "\n",
    "rnd_search = RandomizedSearchCV(\n",
    "    full_pipeline, param_distributions=param_distribs, n_iter=10, cv=3,\n",
    "    scoring='neg_root_mean_squared_error', random_state=42, n_jobs=-1)\n",
    "\n",
    "rnd_search.fit(movies, movies_labels)\n",
    "\n",
    "rnd_search.best_params_\n",
    "'''\n"
   ]
  },
  {
   "cell_type": "markdown",
   "id": "bf818460",
   "metadata": {},
   "source": [
    "We can try the best parameters on the training set:"
   ]
  },
  {
   "cell_type": "code",
   "execution_count": 73,
   "id": "003548d2",
   "metadata": {},
   "outputs": [
    {
     "data": {
      "text/plain": [
       "count    1.000000e+01\n",
       "mean     4.414694e+07\n",
       "std      2.340329e+06\n",
       "min      3.893200e+07\n",
       "25%      4.315902e+07\n",
       "50%      4.473048e+07\n",
       "75%      4.503967e+07\n",
       "max      4.784781e+07\n",
       "dtype: float64"
      ]
     },
     "execution_count": 73,
     "metadata": {},
     "output_type": "execute_result"
    }
   ],
   "source": [
    "from sklearn.ensemble import RandomForestRegressor\n",
    "\n",
    "forest_reg = make_pipeline(preprocessing,\n",
    "                           RandomForestRegressor(max_depth=1308,\n",
    "                                                 max_features=3,\n",
    "                                                 n_estimators=1343,\n",
    "                                                 random_state=42,\n",
    "                                                 n_jobs=-1))\n",
    "forest_rmses = -cross_val_score(forest_reg, movies, movies_labels, scoring=\"neg_root_mean_squared_error\", cv=10, n_jobs=-1)\n",
    "pd.Series(forest_rmses).describe()"
   ]
  },
  {
   "cell_type": "code",
   "execution_count": 71,
   "id": "c0fdc1c7",
   "metadata": {},
   "outputs": [
    {
     "name": "stdout",
     "output_type": "stream",
     "text": [
      "NRMSE =  0.9073416014602346\n"
     ]
    }
   ],
   "source": [
    "print(\"NRMSE = \", forest_rmses.mean() / movies_labels.mean())"
   ]
  },
  {
   "cell_type": "code",
   "execution_count": 50,
   "id": "65021159",
   "metadata": {},
   "outputs": [],
   "source": [
    "from sklearn.ensemble import GradientBoostingRegressor\n",
    "\n",
    "full_pipeline = Pipeline([\n",
    "    (\"preprocessing\", preprocessing),\n",
    "    (\"GBDT\", GradientBoostingRegressor()),\n",
    "])\n",
    "\n",
    "param_distribs = {\n",
    "                 'GBDT__loss': [\"squared_error\"],\n",
    "                 'GBDT__learning_rate': [0.1, 0.2],\n",
    "                 'GBDT__max_depth': randint(low=20, high=40),\n",
    "                 'GBDT__n_estimators': randint(low=1800, high=2300)}"
   ]
  },
  {
   "cell_type": "code",
   "execution_count": 51,
   "id": "97ea4598",
   "metadata": {},
   "outputs": [],
   "source": [
    "rnd_search = RandomizedSearchCV(\n",
    "    full_pipeline, param_distributions=param_distribs, n_iter=10, cv=3,\n",
    "    scoring='neg_root_mean_squared_error', random_state=42, n_jobs=-1)"
   ]
  },
  {
   "cell_type": "code",
   "execution_count": 52,
   "id": "2c605f49",
   "metadata": {},
   "outputs": [
    {
     "data": {
      "text/plain": [
       "{'GBDT__learning_rate': 0.2,\n",
       " 'GBDT__loss': 'squared_error',\n",
       " 'GBDT__max_depth': 22,\n",
       " 'GBDT__n_estimators': 1949}"
      ]
     },
     "execution_count": 52,
     "metadata": {},
     "output_type": "execute_result"
    }
   ],
   "source": [
    "rnd_search.fit(movies, movies_labels)\n",
    "rnd_search.best_params_"
   ]
  },
  {
   "cell_type": "code",
   "execution_count": 56,
   "id": "f71ddb6f",
   "metadata": {},
   "outputs": [
    {
     "data": {
      "text/plain": [
       "count    1.000000e+01\n",
       "mean     4.576612e+07\n",
       "std      3.346544e+06\n",
       "min      3.998943e+07\n",
       "25%      4.455140e+07\n",
       "50%      4.563964e+07\n",
       "75%      4.759762e+07\n",
       "max      5.225986e+07\n",
       "dtype: float64"
      ]
     },
     "execution_count": 56,
     "metadata": {},
     "output_type": "execute_result"
    }
   ],
   "source": [
    "GBDT_reg = make_pipeline(preprocessing,\n",
    "                           GradientBoostingRegressor(\n",
    "                               loss=\"squared_error\",\n",
    "                               learning_rate=0.2,\n",
    "                               max_depth=22,\n",
    "                               n_estimators=1949)\n",
    "                           )\n",
    "GBDT_rmses = -cross_val_score(GBDT_reg, movies, movies_labels, scoring=\"neg_root_mean_squared_error\", cv=10, n_jobs=-1)\n",
    "pd.Series(GBDT_rmses).describe()"
   ]
  },
  {
   "cell_type": "code",
   "execution_count": 57,
   "id": "5880e606",
   "metadata": {},
   "outputs": [
    {
     "name": "stdout",
     "output_type": "stream",
     "text": [
      "NRMSE =  0.940620078792883\n"
     ]
    }
   ],
   "source": [
    "print(\"NRMSE = \", GBDT_rmses.mean() / movies_labels.mean())"
   ]
  },
  {
   "cell_type": "markdown",
   "id": "4e874cc6",
   "metadata": {},
   "source": [
    "## Model Evaluation on the Test Set"
   ]
  },
  {
   "cell_type": "markdown",
   "id": "7682830c",
   "metadata": {},
   "source": [
    "Now is the time to see whether our ML models underfit/overfit, and decide which of the four models is the actual winner.\n",
    "\n",
    "We do this by fitting them on the test sets. Moreover, it is helpful to have a general idea of how precise a model is by computing a 95% convidence interval for the generalization error."
   ]
  },
  {
   "cell_type": "code",
   "execution_count": 60,
   "id": "0a1e3fb3",
   "metadata": {},
   "outputs": [
    {
     "name": "stdout",
     "output_type": "stream",
     "text": [
      "Linear Regression RMSE =  70034379.61670037\n"
     ]
    }
   ],
   "source": [
    "lin_reg_model = lin_reg.fit(movies, movies_labels)\n",
    "X_test = strat_test_set.drop(\"Total_Gross\", axis=1)\n",
    "y_test = strat_test_set[\"Total_Gross\"].copy()\n",
    "\n",
    "final_predictions = lin_reg_model.predict(X_test)\n",
    "\n",
    "final_rmse = mean_squared_error(y_test, final_predictions, squared=False)\n",
    "print(\"Linear Regression RMSE = \", final_rmse)"
   ]
  },
  {
   "cell_type": "code",
   "execution_count": 78,
   "id": "6a55ee6e",
   "metadata": {},
   "outputs": [
    {
     "name": "stdout",
     "output_type": "stream",
     "text": [
      "Linear Regression NRMSE =  1.494150361395234\n"
     ]
    }
   ],
   "source": [
    "print(\"Linear Regression NRMSE = \", 70034379.61670037/y_test.mean())"
   ]
  },
  {
   "cell_type": "code",
   "execution_count": 63,
   "id": "f0a205f9",
   "metadata": {},
   "outputs": [
    {
     "data": {
      "text/plain": [
       "array([66228236.11881003, 73644072.38320908])"
      ]
     },
     "execution_count": 63,
     "metadata": {},
     "output_type": "execute_result"
    }
   ],
   "source": [
    "from scipy import stats\n",
    "confidence = 0.95\n",
    "squared_errors = (final_predictions - y_test) ** 2\n",
    "np.sqrt(stats.t.interval(confidence, len(squared_errors) - 1,\n",
    "                         loc=squared_errors.mean(),\n",
    "                         scale=stats.sem(squared_errors)))"
   ]
  },
  {
   "cell_type": "markdown",
   "id": "bc645d0d",
   "metadata": {},
   "source": [
    "The Decision Tree model:"
   ]
  },
  {
   "cell_type": "code",
   "execution_count": 68,
   "id": "4e8329e4",
   "metadata": {},
   "outputs": [
    {
     "name": "stdout",
     "output_type": "stream",
     "text": [
      "Decision Tree RMSE =  57796470.08038131\n"
     ]
    }
   ],
   "source": [
    "DT_model = dt_tree_reg.fit(movies, movies_labels)\n",
    "X_test = strat_test_set.drop(\"Total_Gross\", axis=1)\n",
    "y_test = strat_test_set[\"Total_Gross\"].copy()\n",
    "\n",
    "final_predictions = DT_model.predict(X_test)\n",
    "\n",
    "final_rmse = mean_squared_error(y_test, final_predictions, squared=False)\n",
    "print(\"Decision Tree RMSE = \", final_rmse)"
   ]
  },
  {
   "cell_type": "code",
   "execution_count": 79,
   "id": "508671c5",
   "metadata": {},
   "outputs": [
    {
     "name": "stdout",
     "output_type": "stream",
     "text": [
      "Decision Tree NRMSE =  1.233060350225163\n"
     ]
    }
   ],
   "source": [
    "print(\"Decision Tree NRMSE = \", 57796470.08038131/y_test.mean())"
   ]
  },
  {
   "cell_type": "code",
   "execution_count": 69,
   "id": "eee9ee50",
   "metadata": {},
   "outputs": [
    {
     "data": {
      "text/plain": [
       "array([52674689.71430558, 62499927.7680099 ])"
      ]
     },
     "execution_count": 69,
     "metadata": {},
     "output_type": "execute_result"
    }
   ],
   "source": [
    "from scipy import stats\n",
    "confidence = 0.95\n",
    "squared_errors = (final_predictions - y_test) ** 2\n",
    "np.sqrt(stats.t.interval(confidence, len(squared_errors) - 1,\n",
    "                         loc=squared_errors.mean(),\n",
    "                         scale=stats.sem(squared_errors)))"
   ]
  },
  {
   "cell_type": "markdown",
   "id": "277ef954",
   "metadata": {},
   "source": [
    "The Random Forest model:"
   ]
  },
  {
   "cell_type": "code",
   "execution_count": 74,
   "id": "0c698944",
   "metadata": {},
   "outputs": [
    {
     "name": "stdout",
     "output_type": "stream",
     "text": [
      "Decision Tree RMSE =  43059424.41489854\n"
     ]
    }
   ],
   "source": [
    "RF_model = forest_reg.fit(movies, movies_labels)\n",
    "X_test = strat_test_set.drop(\"Total_Gross\", axis=1)\n",
    "y_test = strat_test_set[\"Total_Gross\"].copy()\n",
    "\n",
    "final_predictions = forest_reg.predict(X_test)\n",
    "\n",
    "final_rmse = mean_squared_error(y_test, final_predictions, squared=False)\n",
    "print(\"Random Foorest Tree RMSE = \", final_rmse)"
   ]
  },
  {
   "cell_type": "code",
   "execution_count": 81,
   "id": "0d826541",
   "metadata": {},
   "outputs": [
    {
     "name": "stdout",
     "output_type": "stream",
     "text": [
      "Random Foorest Tree NRMSE =  0.9186524518830689\n"
     ]
    }
   ],
   "source": [
    "print(\"Random Foorest Tree NRMSE = \", 43059424.41489854/y_test.mean())"
   ]
  },
  {
   "cell_type": "code",
   "execution_count": 75,
   "id": "5d39f149",
   "metadata": {},
   "outputs": [
    {
     "data": {
      "text/plain": [
       "array([39516953.11087078, 46331830.08168317])"
      ]
     },
     "execution_count": 75,
     "metadata": {},
     "output_type": "execute_result"
    }
   ],
   "source": [
    "from scipy import stats\n",
    "confidence = 0.95\n",
    "squared_errors = (final_predictions - y_test) ** 2\n",
    "np.sqrt(stats.t.interval(confidence, len(squared_errors) - 1,\n",
    "                         loc=squared_errors.mean(),\n",
    "                         scale=stats.sem(squared_errors)))"
   ]
  },
  {
   "cell_type": "code",
   "execution_count": 76,
   "id": "f92c2e7c",
   "metadata": {},
   "outputs": [
    {
     "name": "stdout",
     "output_type": "stream",
     "text": [
      "Decision Tree RMSE =  45202651.87975597\n"
     ]
    }
   ],
   "source": [
    "GBDT_model = GBDT_reg.fit(movies, movies_labels)\n",
    "X_test = strat_test_set.drop(\"Total_Gross\", axis=1)\n",
    "y_test = strat_test_set[\"Total_Gross\"].copy()\n",
    "\n",
    "final_predictions = GBDT_reg.predict(X_test)\n",
    "\n",
    "final_rmse = mean_squared_error(y_test, final_predictions, squared=False)\n",
    "print(\"Gradient Boosting Regressor RMSE = \", final_rmse)"
   ]
  },
  {
   "cell_type": "code",
   "execution_count": 80,
   "id": "83fdae14",
   "metadata": {},
   "outputs": [
    {
     "name": "stdout",
     "output_type": "stream",
     "text": [
      "Gradient Boosting Regressor NRMSE =  0.964377196054363\n"
     ]
    }
   ],
   "source": [
    "print(\"Gradient Boosting Regressor NRMSE = \", 45202651.87975597/y_test.mean())"
   ]
  },
  {
   "cell_type": "code",
   "execution_count": 77,
   "id": "23ffd451",
   "metadata": {},
   "outputs": [
    {
     "data": {
      "text/plain": [
       "array([41325240.21571336, 48772779.24250779])"
      ]
     },
     "execution_count": 77,
     "metadata": {},
     "output_type": "execute_result"
    }
   ],
   "source": [
    "from scipy import stats\n",
    "confidence = 0.95\n",
    "squared_errors = (final_predictions - y_test) ** 2\n",
    "np.sqrt(stats.t.interval(confidence, len(squared_errors) - 1,\n",
    "                         loc=squared_errors.mean(),\n",
    "                         scale=stats.sem(squared_errors)))"
   ]
  },
  {
   "cell_type": "markdown",
   "id": "b7df9869",
   "metadata": {},
   "source": [
    "## Summary of the Results on the Training Set"
   ]
  },
  {
   "cell_type": "markdown",
   "id": "b5f681c8",
   "metadata": {},
   "source": [
    "| ML Model | RMSE Score | NRMSE |\n",
    "| --- | --- | --- |\n",
    "| Linear Regression | 71,101,500 | 1.46 |\n",
    "| Decision Tree | 56,129,330 | 1.15 |\n",
    "| Random Forest | 44,146,940 | 0.91 |\n",
    "| GradBoost | 45,766,120 | 0.94|"
   ]
  },
  {
   "cell_type": "markdown",
   "id": "1ca8a5c0",
   "metadata": {},
   "source": [
    "## Summary of the Results on the Test Set"
   ]
  },
  {
   "cell_type": "markdown",
   "id": "78403460",
   "metadata": {},
   "source": [
    "| ML Model | RMSE Score | NRMSE |\n",
    "| --- | --- | --- |\n",
    "| Linear Regression | 70,034,379.61670037 | 1.49 |\n",
    "| Decision Tree | 57,796,470.08038131 | 1.23 |\n",
    "| Random Forest | 43,059,424.41489854 | 0.91 |\n",
    "| GradBoost | 45,202,651.87975597 | 0.96 |"
   ]
  },
  {
   "cell_type": "markdown",
   "id": "d45b4b84",
   "metadata": {},
   "source": [
    "## Conclusion"
   ]
  },
  {
   "cell_type": "markdown",
   "id": "9bbae0c5",
   "metadata": {},
   "source": [
    "* The tuned Random Forest model achieved the best RMSE and NRMSE scores\n",
    "* The tuned Random Forest model RMSE's improvement is approximately 39%\n",
    "* Ensemble models (that leverage Decision Trees) tend to perform (and generalize) better than models like Linear Regression or a single Decision Tree"
   ]
  },
  {
   "cell_type": "markdown",
   "id": "704566a0",
   "metadata": {},
   "source": [
    "## Resources"
   ]
  },
  {
   "cell_type": "markdown",
   "id": "0ac20d67",
   "metadata": {},
   "source": [
    "[1] https://www.statista.com/statistics/296656/film-genres-ranked-by-box-office-gross-in-the-uk/\n",
    "\n",
    "[2] https://medium.com/@alvaro.henriquez/adjusting-for-inflation-in-pandas-9cffc0d888ac\n",
    "\n",
    "Additionally, I have used the textbook of our course, \"Hands-On Machine Learning with Scikit-Learn, Keras & Tensorflow , Aurelien Geron ( 3rd edition Oct 2022  Ebook )\" for general reference. "
   ]
  },
  {
   "cell_type": "code",
   "execution_count": null,
   "id": "86b810b7",
   "metadata": {},
   "outputs": [],
   "source": []
  }
 ],
 "metadata": {
  "kernelspec": {
   "display_name": "Python 3 (ipykernel)",
   "language": "python",
   "name": "python3"
  },
  "language_info": {
   "codemirror_mode": {
    "name": "ipython",
    "version": 3
   },
   "file_extension": ".py",
   "mimetype": "text/x-python",
   "name": "python",
   "nbconvert_exporter": "python",
   "pygments_lexer": "ipython3",
   "version": "3.11.4"
  }
 },
 "nbformat": 4,
 "nbformat_minor": 5
}
