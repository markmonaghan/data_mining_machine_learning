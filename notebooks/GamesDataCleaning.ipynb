{
 "cells": [
  {
   "cell_type": "markdown",
   "id": "7230a46b",
   "metadata": {},
   "source": [
    "> This notebook is created and edited by Rohith Kulothungan (H00423559) for the coursework of Data Mining and Machine Leaning F21DL - 2023\n",
    "\n",
    "\n",
    "## 1. Step 1 - Data Cleaning\n",
    "\n",
    "We have chosen the gaming dataset to do text classification on the reviews provided into positive and negatives.\n",
    "\n",
    "1. Understanding the data\n",
    "    \n",
    "  > Note: We have used the raw github url from the repository which contains the token that expires everyday. Kindly replace it before running the program. Thanks"
   ]
  },
  {
   "cell_type": "code",
   "execution_count": 1,
   "id": "a62044bb",
   "metadata": {},
   "outputs": [
    {
     "name": "stdout",
     "output_type": "stream",
     "text": [
      "      Unnamed: 0                                    Title  Release Date  \\\n",
      "0              0                               Elden Ring  Feb 25, 2022   \n",
      "1              1                                    Hades  Dec 10, 2019   \n",
      "2              2  The Legend of Zelda: Breath of the Wild  Mar 03, 2017   \n",
      "3              3                                Undertale  Sep 15, 2015   \n",
      "4              4                            Hollow Knight  Feb 24, 2017   \n",
      "...          ...                                      ...           ...   \n",
      "1507        1507             Back to the Future: The Game  Dec 22, 2010   \n",
      "1508        1508                        Team Sonic Racing  May 21, 2019   \n",
      "1509        1509                           Dragon's Dogma  May 22, 2012   \n",
      "1510        1510                          Baldur's Gate 3  Oct 06, 2020   \n",
      "1511        1511                 The LEGO Movie Videogame  Feb 04, 2014   \n",
      "\n",
      "                                                   Team  Rating Times Listed  \\\n",
      "0        ['Bandai Namco Entertainment', 'FromSoftware']     4.5         3.9K   \n",
      "1                                  ['Supergiant Games']     4.3         2.9K   \n",
      "2     ['Nintendo', 'Nintendo EPD Production Group No...     4.4         4.3K   \n",
      "3                                    ['tobyfox', '8-4']     4.2         3.5K   \n",
      "4                                       ['Team Cherry']     4.4           3K   \n",
      "...                                                 ...     ...          ...   \n",
      "1507                                 ['Telltale Games']     3.2           94   \n",
      "1508                           ['Sumo Digital', 'Sega']     2.9          264   \n",
      "1509                                         ['Capcom']     3.7          210   \n",
      "1510                                 ['Larian Studios']     4.1          165   \n",
      "1511                          ['WB Games', 'TT Fusion']     2.8          184   \n",
      "\n",
      "     Number of Reviews                                             Genres  \\\n",
      "0                 3.9K                               ['Adventure', 'RPG']   \n",
      "1                 2.9K           ['Adventure', 'Brawler', 'Indie', 'RPG']   \n",
      "2                 4.3K                               ['Adventure', 'RPG']   \n",
      "3                 3.5K  ['Adventure', 'Indie', 'RPG', 'Turn Based Stra...   \n",
      "4                   3K                 ['Adventure', 'Indie', 'Platform']   \n",
      "...                ...                                                ...   \n",
      "1507                94                   ['Adventure', 'Point-and-Click']   \n",
      "1508               264                               ['Arcade', 'Racing']   \n",
      "1509               210                                 ['Brawler', 'RPG']   \n",
      "1510               165  ['Adventure', 'RPG', 'Strategy', 'Tactical', '...   \n",
      "1511               184                            ['Adventure', 'Puzzle']   \n",
      "\n",
      "                                                Summary  \\\n",
      "0     Elden Ring is a fantasy, action and open world...   \n",
      "1     A rogue-lite hack and slash dungeon crawler in...   \n",
      "2     The Legend of Zelda: Breath of the Wild is the...   \n",
      "3     A small child falls into the Underground, wher...   \n",
      "4     A 2D metroidvania with an emphasis on close co...   \n",
      "...                                                 ...   \n",
      "1507  Back to the Future: The Game is one of Telltal...   \n",
      "1508  Team Sonic Racing combines the best elements o...   \n",
      "1509  Set in a huge open world, Dragon’s Dogma: Dark...   \n",
      "1510  An ancient evil has returned to Baldur's Gate,...   \n",
      "1511  Join Emmet and an unlikely group of resistance...   \n",
      "\n",
      "                                                Reviews Plays Playing  \\\n",
      "0     [\"The first playthrough of elden ring is one o...   17K    3.8K   \n",
      "1     ['convinced this is a roguelike for people who...   21K    3.2K   \n",
      "2     ['This game is the game (that is not CS:GO) th...   30K    2.5K   \n",
      "3     ['soundtrack is tied for #1 with nier automata...   28K     679   \n",
      "4     [\"this games worldbuilding is incredible, with...   21K    2.4K   \n",
      "...                                                 ...   ...     ...   \n",
      "1507  ['Very enjoyable game. The story adds onto the...   763       5   \n",
      "1508  ['jogo morto mas bom', 'not my cup of tea', \"C...  1.5K      49   \n",
      "1509  ['Underrated.', 'A grandes rasgos, es como un ...  1.1K      45   \n",
      "1510  ['Bu türe bu oyunla girmeye çalışmak hataydı s...   269      79   \n",
      "1511  ['Legal', 'Pretty Average Lego Game But It Was...  1.7K      11   \n",
      "\n",
      "     Backlogs Wishlist  \n",
      "0        4.6K     4.8K  \n",
      "1        6.3K     3.6K  \n",
      "2          5K     2.6K  \n",
      "3        4.9K     1.8K  \n",
      "4        8.3K     2.3K  \n",
      "...       ...      ...  \n",
      "1507      223       67  \n",
      "1508      413      107  \n",
      "1509      487      206  \n",
      "1510      388      602  \n",
      "1511      239       73  \n",
      "\n",
      "[1512 rows x 14 columns]\n"
     ]
    }
   ],
   "source": [
    "import pandas as pd\n",
    "import requests\n",
    "\n",
    "def read_games_data():\n",
    "    games = pd.read_csv('https://raw.githubusercontent.com/dmml-heriot-watt/group-coursework-ha/main/data/raw/games.csv?token=GHSAT0AAAAAACHSRUHF3CRZB7IHTCPEQABIZKE3NQQ')\n",
    "    print(games)\n",
    "    return games\n",
    "\n",
    "games_data = read_games_data()"
   ]
  },
  {
   "cell_type": "markdown",
   "id": "cc702e76",
   "metadata": {},
   "source": [
    "2. Filter out only the required column which is the review and understanding the datastructure of the values"
   ]
  },
  {
   "cell_type": "code",
   "execution_count": 2,
   "id": "d0a240f3",
   "metadata": {},
   "outputs": [
    {
     "name": "stdout",
     "output_type": "stream",
     "text": [
      "[\"The first playthrough of elden ring is one of the best eperiences gaming can offer you but after youve explored everything in the open world and you've experienced all of the surprises you lose motivation to go exploring on repeat playthroughs which takes a lot away from the replayability which is a very important thing for from games imo.\", 'a replay solidified my love for elden ring. so easily my favorite game of all time. actually beating malenia this time was also an amazing feeling. i just love being in this world man its the greatest of all time', 'The game is absolutely beautiful, with so much to do. The replayability is crazy. And it never gets old with it too.', 'Took everything great about the Soulsborne games and make it 100% better.', 'I play with my overlevelled friend every time and we still fail sometimes (he’s on NG6), insanely difficult game lol\\n                     \\n                     gorgeous graphics, animations, everything about this game is so beautiful. deserves all the hype it gets. If you have a powerful enough pc I definitely recommend you play it on there, if you use keyboard, you’ll want to change the keybinds because the defaults are ass.', \"Tied as my favorite souls game with Bloodborne, truly one I'll keep coming back too.\"]\n"
     ]
    }
   ],
   "source": [
    "reviews = games_data['Reviews']\n",
    "print(reviews[0])"
   ]
  },
  {
   "cell_type": "markdown",
   "id": "213cdc45",
   "metadata": {},
   "source": [
    "3. The reviews column is an array of strings which contains multiple reviews for a single game. \n",
    "4. Cleaning the data includes the following\n",
    "    - Separating into single sentence of review\n",
    "    - Removing single characters which doesn't add proper meaning\n",
    "    - Removing special characters\n",
    "    - Removing new lines & multiple spaces\n",
    "    - Removing single worded reviews for better dataset"
   ]
  },
  {
   "cell_type": "code",
   "execution_count": 3,
   "id": "ec6f7c8a",
   "metadata": {},
   "outputs": [
    {
     "name": "stdout",
     "output_type": "stream",
     "text": [
      "4149\n"
     ]
    }
   ],
   "source": [
    "import re\n",
    "\n",
    "def remove_single_characters(sentence):\n",
    "    return re.sub(r'\\W', ' ', str(sentence)) # removing single character\n",
    "\n",
    "def remove_single_words(sentence):\n",
    "    return re.sub(r'\\s+[a-zA-Z]\\s+', ' ', sentence) # removing single words\n",
    "\n",
    "def remove_special_characters(sentence):\n",
    "    return re.sub(r'\\^[a-zA-Z]\\s+', ' ', sentence) # removing special characters\n",
    "\n",
    "def remove_new_lines(sentence):\n",
    "    return sentence.replace(\"\\\\n\", ' ') # removing new lines\n",
    "\n",
    "def replace_multiple_spaces(sentence):\n",
    "    return re.sub(r\"\\s+\", \" \", sentence) # removing multiple spaces\n",
    "\n",
    "cleaned_reviews = []\n",
    "\n",
    "for review in reviews:\n",
    "    texts = review[1:]\n",
    "    texts = texts[:-1]\n",
    "    if(len(texts) == 0):\n",
    "        break\n",
    "    line_present = True\n",
    "    while(line_present):\n",
    "        try:\n",
    "            current_review = (texts[1:texts.find(texts[0], texts.find(texts) + 1)]).strip() # removing the quotes\n",
    "            original_texts = current_review\n",
    "            if(len(current_review) > 0):\n",
    "                current_review = remove_single_characters(current_review)\n",
    "                current_review = remove_single_words(current_review)\n",
    "                current_review = remove_special_characters(current_review)\n",
    "                if(len(current_review.strip()) == 0):\n",
    "                    # if the current sentence length is zero skip and move to next sentence if present\n",
    "                    remaining_texts = texts.split(original_texts, 1)\n",
    "                    if (len(remaining_texts) > 1):\n",
    "                        texts = remaining_texts[1][2:]\n",
    "                        texts = texts.strip()\n",
    "                        if (len(texts) == 0):\n",
    "                            line_present = False\n",
    "                    continue\n",
    "                current_review = remove_new_lines(current_review)\n",
    "                current_review = replace_multiple_spaces(current_review)\n",
    "                cleaned_reviews.append(current_review)\n",
    "                remaining_texts = texts.split(original_texts, 1)\n",
    "                if(len(remaining_texts) > 1):\n",
    "                    texts = remaining_texts[1][2:]\n",
    "                    texts = texts.strip()\n",
    "                    if(len(texts) == 0):\n",
    "                        line_present = False\n",
    "                else:\n",
    "                    line_present = False\n",
    "            else:\n",
    "                line_present = False\n",
    "        except:\n",
    "            print(texts)\n",
    "\n",
    "print(len(cleaned_reviews))\n"
   ]
  },
  {
   "cell_type": "code",
   "execution_count": 4,
   "id": "e5f84264",
   "metadata": {},
   "outputs": [],
   "source": [
    "df = pd.DataFrame(cleaned_reviews)\n",
    "df.to_csv('cleaned_game_dataset.csv')"
   ]
  },
  {
   "cell_type": "markdown",
   "id": "22130e17",
   "metadata": {},
   "source": [
    "5. After cleaning the dataset we have 4149 rows of reviews that can be used for training the CNN. "
   ]
  }
 ],
 "metadata": {
  "kernelspec": {
   "display_name": "Python 3 (ipykernel)",
   "language": "python",
   "name": "python3"
  },
  "language_info": {
   "codemirror_mode": {
    "name": "ipython",
    "version": 3
   },
   "file_extension": ".py",
   "mimetype": "text/x-python",
   "name": "python",
   "nbconvert_exporter": "python",
   "pygments_lexer": "ipython3",
   "version": "3.11.4"
  }
 },
 "nbformat": 4,
 "nbformat_minor": 5
}
