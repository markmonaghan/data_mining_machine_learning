{
 "cells": [
  {
   "cell_type": "markdown",
   "id": "c0d2cddf",
   "metadata": {},
   "source": [
    "# IMDb Movies Dataset - Data Cleaning, Exploration, and Visualization"
   ]
  },
  {
   "cell_type": "markdown",
   "id": "4949ca21",
   "metadata": {},
   "source": [
    "The following is the Jupyter notebook that contains the data exploration and visualization of the IMDb movies dataset.\n",
    "\n",
    "My workflow will closely match the one given in Chaoter 2 and Chapter 7 of our textbook: *Hands-on Machine Learning with Scikit-Leand, Keras & Tensorflow.* [1]\n"
   ]
  },
  {
   "cell_type": "markdown",
   "id": "6c96cf92",
   "metadata": {},
   "source": [
    "## Problem Statement"
   ]
  },
  {
   "cell_type": "markdown",
   "id": "a2bf6328",
   "metadata": {},
   "source": [
    "The goal of this project is to train a regression model to predict the total gross of movies. This is motivated by a desire to better understand the factors that lead to higher box office revenues. The challenge lies in the limitations of our dataset, which is relatively small and does not contain many variables. Therefore, it is interesting to explore the capabilities of ML models in predicting movie success."
   ]
  },
  {
   "cell_type": "markdown",
   "id": "d5aec7be",
   "metadata": {},
   "source": [
    "## Data Loading"
   ]
  },
  {
   "cell_type": "markdown",
   "id": "011556c9",
   "metadata": {},
   "source": [
    "To load the data, we write a function that gets the dataset from GitHub:"
   ]
  },
  {
   "cell_type": "code",
   "execution_count": 1,
   "id": "a61c4ea1",
   "metadata": {},
   "outputs": [],
   "source": [
    "import os\n",
    "import pandas as pd\n",
    "import urllib.request\n",
    "import requests\n",
    "\n",
    "def load_movies_dataset():\n",
    "    github_url = \"https://raw.githubusercontent.com/dmml-heriot-watt/group-coursework-ha/main/data/raw/IMDb_All_Genres_etf_clean1.csv?token=GHSAT0AAAAAACIDJMTXQQWQLH6RERQA4O5OZKY23CA\"\n",
    "    requests.get(github_url)\n",
    "    return pd.read_csv(github_url)"
   ]
  },
  {
   "cell_type": "code",
   "execution_count": 2,
   "id": "4252e7ce",
   "metadata": {},
   "outputs": [
    {
     "data": {
      "text/html": [
       "<div>\n",
       "<style scoped>\n",
       "    .dataframe tbody tr th:only-of-type {\n",
       "        vertical-align: middle;\n",
       "    }\n",
       "\n",
       "    .dataframe tbody tr th {\n",
       "        vertical-align: top;\n",
       "    }\n",
       "\n",
       "    .dataframe thead th {\n",
       "        text-align: right;\n",
       "    }\n",
       "</style>\n",
       "<table border=\"1\" class=\"dataframe\">\n",
       "  <thead>\n",
       "    <tr style=\"text-align: right;\">\n",
       "      <th></th>\n",
       "      <th>Movie_Title</th>\n",
       "      <th>Year</th>\n",
       "      <th>Director</th>\n",
       "      <th>Actors</th>\n",
       "      <th>Rating</th>\n",
       "      <th>Runtime(Mins)</th>\n",
       "      <th>Censor</th>\n",
       "      <th>Total_Gross</th>\n",
       "      <th>main_genre</th>\n",
       "      <th>side_genre</th>\n",
       "    </tr>\n",
       "  </thead>\n",
       "  <tbody>\n",
       "    <tr>\n",
       "      <th>0</th>\n",
       "      <td>Kantara</td>\n",
       "      <td>2022</td>\n",
       "      <td>Rishab Shetty</td>\n",
       "      <td>Rishab Shetty, Sapthami Gowda, Kishore Kumar G...</td>\n",
       "      <td>9.3</td>\n",
       "      <td>148</td>\n",
       "      <td>UA</td>\n",
       "      <td>Gross Unkown</td>\n",
       "      <td>Action</td>\n",
       "      <td>Adventure,  Drama</td>\n",
       "    </tr>\n",
       "    <tr>\n",
       "      <th>1</th>\n",
       "      <td>The Dark Knight</td>\n",
       "      <td>2008</td>\n",
       "      <td>Christopher Nolan</td>\n",
       "      <td>Christian Bale, Heath Ledger, Aaron Eckhart, M...</td>\n",
       "      <td>9.0</td>\n",
       "      <td>152</td>\n",
       "      <td>UA</td>\n",
       "      <td>$534.86M</td>\n",
       "      <td>Action</td>\n",
       "      <td>Crime,  Drama</td>\n",
       "    </tr>\n",
       "    <tr>\n",
       "      <th>2</th>\n",
       "      <td>The Lord of the Rings: The Return of the King</td>\n",
       "      <td>2003</td>\n",
       "      <td>Peter Jackson</td>\n",
       "      <td>Elijah Wood, Viggo Mortensen, Ian McKellen, Or...</td>\n",
       "      <td>9.0</td>\n",
       "      <td>201</td>\n",
       "      <td>U</td>\n",
       "      <td>$377.85M</td>\n",
       "      <td>Action</td>\n",
       "      <td>Adventure,  Drama</td>\n",
       "    </tr>\n",
       "    <tr>\n",
       "      <th>3</th>\n",
       "      <td>Inception</td>\n",
       "      <td>2010</td>\n",
       "      <td>Christopher Nolan</td>\n",
       "      <td>Leonardo DiCaprio, Joseph Gordon-Levitt, Ellio...</td>\n",
       "      <td>8.8</td>\n",
       "      <td>148</td>\n",
       "      <td>UA</td>\n",
       "      <td>$292.58M</td>\n",
       "      <td>Action</td>\n",
       "      <td>Adventure,  Sci-Fi</td>\n",
       "    </tr>\n",
       "    <tr>\n",
       "      <th>4</th>\n",
       "      <td>The Lord of the Rings: The Two Towers</td>\n",
       "      <td>2002</td>\n",
       "      <td>Peter Jackson</td>\n",
       "      <td>Elijah Wood, Ian McKellen, Viggo Mortensen, Or...</td>\n",
       "      <td>8.8</td>\n",
       "      <td>179</td>\n",
       "      <td>UA</td>\n",
       "      <td>$342.55M</td>\n",
       "      <td>Action</td>\n",
       "      <td>Adventure,  Drama</td>\n",
       "    </tr>\n",
       "    <tr>\n",
       "      <th>...</th>\n",
       "      <td>...</td>\n",
       "      <td>...</td>\n",
       "      <td>...</td>\n",
       "      <td>...</td>\n",
       "      <td>...</td>\n",
       "      <td>...</td>\n",
       "      <td>...</td>\n",
       "      <td>...</td>\n",
       "      <td>...</td>\n",
       "      <td>...</td>\n",
       "    </tr>\n",
       "    <tr>\n",
       "      <th>5557</th>\n",
       "      <td>Disaster Movie</td>\n",
       "      <td>2008</td>\n",
       "      <td>Directors:Jason Friedberg, Aaron Seltzer</td>\n",
       "      <td>Carmen Electra, Vanessa Lachey, Nicole Parker,...</td>\n",
       "      <td>1.9</td>\n",
       "      <td>87</td>\n",
       "      <td>PG-13</td>\n",
       "      <td>$14.19M</td>\n",
       "      <td>Comedy</td>\n",
       "      <td>Sci-Fi</td>\n",
       "    </tr>\n",
       "    <tr>\n",
       "      <th>5558</th>\n",
       "      <td>The Hottie &amp; the Nottie</td>\n",
       "      <td>2008</td>\n",
       "      <td>Tom Putnam</td>\n",
       "      <td>Paris Hilton, Joel David Moore, Christine Laki...</td>\n",
       "      <td>1.9</td>\n",
       "      <td>91</td>\n",
       "      <td>PG-13</td>\n",
       "      <td>$0.03M</td>\n",
       "      <td>Comedy</td>\n",
       "      <td>Romance</td>\n",
       "    </tr>\n",
       "    <tr>\n",
       "      <th>5559</th>\n",
       "      <td>From Justin to Kelly</td>\n",
       "      <td>2003</td>\n",
       "      <td>Robert Iscove</td>\n",
       "      <td>Kelly Clarkson, Justin Guarini, Katherine Bail...</td>\n",
       "      <td>1.9</td>\n",
       "      <td>81</td>\n",
       "      <td>PG</td>\n",
       "      <td>$4.92M</td>\n",
       "      <td>Comedy</td>\n",
       "      <td>Musical,  Romance</td>\n",
       "    </tr>\n",
       "    <tr>\n",
       "      <th>5560</th>\n",
       "      <td>Superbabies: Baby Geniuses 2</td>\n",
       "      <td>2004</td>\n",
       "      <td>Bob Clark</td>\n",
       "      <td>Jon Voight, Scott Baio, Vanessa Angel, Skyler ...</td>\n",
       "      <td>1.5</td>\n",
       "      <td>88</td>\n",
       "      <td>PG</td>\n",
       "      <td>$9.11M</td>\n",
       "      <td>Comedy</td>\n",
       "      <td>Family,  Sci-Fi</td>\n",
       "    </tr>\n",
       "    <tr>\n",
       "      <th>5561</th>\n",
       "      <td>Cumali Ceber: Allah Seni Alsin</td>\n",
       "      <td>2017</td>\n",
       "      <td>Gökhan Gök</td>\n",
       "      <td>Halil Söyletmez, Doga Konakoglu, Emre Keskin, ...</td>\n",
       "      <td>1.0</td>\n",
       "      <td>100</td>\n",
       "      <td>Not Rated</td>\n",
       "      <td>Gross Unkown</td>\n",
       "      <td>Comedy</td>\n",
       "      <td>Comedy</td>\n",
       "    </tr>\n",
       "  </tbody>\n",
       "</table>\n",
       "<p>5562 rows × 10 columns</p>\n",
       "</div>"
      ],
      "text/plain": [
       "                                        Movie_Title  Year  \\\n",
       "0                                           Kantara  2022   \n",
       "1                                   The Dark Knight  2008   \n",
       "2     The Lord of the Rings: The Return of the King  2003   \n",
       "3                                         Inception  2010   \n",
       "4             The Lord of the Rings: The Two Towers  2002   \n",
       "...                                             ...   ...   \n",
       "5557                                 Disaster Movie  2008   \n",
       "5558                        The Hottie & the Nottie  2008   \n",
       "5559                           From Justin to Kelly  2003   \n",
       "5560                   Superbabies: Baby Geniuses 2  2004   \n",
       "5561                 Cumali Ceber: Allah Seni Alsin  2017   \n",
       "\n",
       "                                      Director  \\\n",
       "0                                Rishab Shetty   \n",
       "1                            Christopher Nolan   \n",
       "2                                Peter Jackson   \n",
       "3                            Christopher Nolan   \n",
       "4                                Peter Jackson   \n",
       "...                                        ...   \n",
       "5557  Directors:Jason Friedberg, Aaron Seltzer   \n",
       "5558                                Tom Putnam   \n",
       "5559                             Robert Iscove   \n",
       "5560                                 Bob Clark   \n",
       "5561                                Gökhan Gök   \n",
       "\n",
       "                                                 Actors  Rating  \\\n",
       "0     Rishab Shetty, Sapthami Gowda, Kishore Kumar G...     9.3   \n",
       "1     Christian Bale, Heath Ledger, Aaron Eckhart, M...     9.0   \n",
       "2     Elijah Wood, Viggo Mortensen, Ian McKellen, Or...     9.0   \n",
       "3     Leonardo DiCaprio, Joseph Gordon-Levitt, Ellio...     8.8   \n",
       "4     Elijah Wood, Ian McKellen, Viggo Mortensen, Or...     8.8   \n",
       "...                                                 ...     ...   \n",
       "5557  Carmen Electra, Vanessa Lachey, Nicole Parker,...     1.9   \n",
       "5558  Paris Hilton, Joel David Moore, Christine Laki...     1.9   \n",
       "5559  Kelly Clarkson, Justin Guarini, Katherine Bail...     1.9   \n",
       "5560  Jon Voight, Scott Baio, Vanessa Angel, Skyler ...     1.5   \n",
       "5561  Halil Söyletmez, Doga Konakoglu, Emre Keskin, ...     1.0   \n",
       "\n",
       "      Runtime(Mins)     Censor   Total_Gross main_genre           side_genre  \n",
       "0               148         UA  Gross Unkown     Action    Adventure,  Drama  \n",
       "1               152         UA      $534.86M     Action        Crime,  Drama  \n",
       "2               201          U      $377.85M     Action    Adventure,  Drama  \n",
       "3               148         UA      $292.58M     Action   Adventure,  Sci-Fi  \n",
       "4               179         UA      $342.55M     Action    Adventure,  Drama  \n",
       "...             ...        ...           ...        ...                  ...  \n",
       "5557             87      PG-13       $14.19M     Comedy               Sci-Fi  \n",
       "5558             91      PG-13        $0.03M     Comedy              Romance  \n",
       "5559             81         PG        $4.92M     Comedy    Musical,  Romance  \n",
       "5560             88         PG        $9.11M     Comedy      Family,  Sci-Fi  \n",
       "5561            100  Not Rated  Gross Unkown     Comedy               Comedy  \n",
       "\n",
       "[5562 rows x 10 columns]"
      ]
     },
     "execution_count": 2,
     "metadata": {},
     "output_type": "execute_result"
    }
   ],
   "source": [
    "movies = load_movies_dataset()\n",
    "movies"
   ]
  },
  {
   "cell_type": "markdown",
   "id": "c3ade148",
   "metadata": {},
   "source": [
    "The data has been loaded correctly."
   ]
  },
  {
   "cell_type": "markdown",
   "id": "80c9502b",
   "metadata": {},
   "source": [
    "## Section 1: Data Cleaning"
   ]
  },
  {
   "cell_type": "markdown",
   "id": "e9a5f9d0",
   "metadata": {},
   "source": [
    "We will start by taking a quick look at the data. We don't want to explore the data in-depth, as we eventually want to split it into a training set and a testing set. Nevertheless, we would like to gain a general understanding of the dataset.\n",
    "\n",
    "We begin by exploring the first 5 entries of the dataset:"
   ]
  },
  {
   "cell_type": "code",
   "execution_count": 3,
   "id": "b4343bc8",
   "metadata": {},
   "outputs": [
    {
     "data": {
      "text/html": [
       "<div>\n",
       "<style scoped>\n",
       "    .dataframe tbody tr th:only-of-type {\n",
       "        vertical-align: middle;\n",
       "    }\n",
       "\n",
       "    .dataframe tbody tr th {\n",
       "        vertical-align: top;\n",
       "    }\n",
       "\n",
       "    .dataframe thead th {\n",
       "        text-align: right;\n",
       "    }\n",
       "</style>\n",
       "<table border=\"1\" class=\"dataframe\">\n",
       "  <thead>\n",
       "    <tr style=\"text-align: right;\">\n",
       "      <th></th>\n",
       "      <th>Movie_Title</th>\n",
       "      <th>Year</th>\n",
       "      <th>Director</th>\n",
       "      <th>Actors</th>\n",
       "      <th>Rating</th>\n",
       "      <th>Runtime(Mins)</th>\n",
       "      <th>Censor</th>\n",
       "      <th>Total_Gross</th>\n",
       "      <th>main_genre</th>\n",
       "      <th>side_genre</th>\n",
       "    </tr>\n",
       "  </thead>\n",
       "  <tbody>\n",
       "    <tr>\n",
       "      <th>0</th>\n",
       "      <td>Kantara</td>\n",
       "      <td>2022</td>\n",
       "      <td>Rishab Shetty</td>\n",
       "      <td>Rishab Shetty, Sapthami Gowda, Kishore Kumar G...</td>\n",
       "      <td>9.3</td>\n",
       "      <td>148</td>\n",
       "      <td>UA</td>\n",
       "      <td>Gross Unkown</td>\n",
       "      <td>Action</td>\n",
       "      <td>Adventure,  Drama</td>\n",
       "    </tr>\n",
       "    <tr>\n",
       "      <th>1</th>\n",
       "      <td>The Dark Knight</td>\n",
       "      <td>2008</td>\n",
       "      <td>Christopher Nolan</td>\n",
       "      <td>Christian Bale, Heath Ledger, Aaron Eckhart, M...</td>\n",
       "      <td>9.0</td>\n",
       "      <td>152</td>\n",
       "      <td>UA</td>\n",
       "      <td>$534.86M</td>\n",
       "      <td>Action</td>\n",
       "      <td>Crime,  Drama</td>\n",
       "    </tr>\n",
       "    <tr>\n",
       "      <th>2</th>\n",
       "      <td>The Lord of the Rings: The Return of the King</td>\n",
       "      <td>2003</td>\n",
       "      <td>Peter Jackson</td>\n",
       "      <td>Elijah Wood, Viggo Mortensen, Ian McKellen, Or...</td>\n",
       "      <td>9.0</td>\n",
       "      <td>201</td>\n",
       "      <td>U</td>\n",
       "      <td>$377.85M</td>\n",
       "      <td>Action</td>\n",
       "      <td>Adventure,  Drama</td>\n",
       "    </tr>\n",
       "    <tr>\n",
       "      <th>3</th>\n",
       "      <td>Inception</td>\n",
       "      <td>2010</td>\n",
       "      <td>Christopher Nolan</td>\n",
       "      <td>Leonardo DiCaprio, Joseph Gordon-Levitt, Ellio...</td>\n",
       "      <td>8.8</td>\n",
       "      <td>148</td>\n",
       "      <td>UA</td>\n",
       "      <td>$292.58M</td>\n",
       "      <td>Action</td>\n",
       "      <td>Adventure,  Sci-Fi</td>\n",
       "    </tr>\n",
       "    <tr>\n",
       "      <th>4</th>\n",
       "      <td>The Lord of the Rings: The Two Towers</td>\n",
       "      <td>2002</td>\n",
       "      <td>Peter Jackson</td>\n",
       "      <td>Elijah Wood, Ian McKellen, Viggo Mortensen, Or...</td>\n",
       "      <td>8.8</td>\n",
       "      <td>179</td>\n",
       "      <td>UA</td>\n",
       "      <td>$342.55M</td>\n",
       "      <td>Action</td>\n",
       "      <td>Adventure,  Drama</td>\n",
       "    </tr>\n",
       "  </tbody>\n",
       "</table>\n",
       "</div>"
      ],
      "text/plain": [
       "                                     Movie_Title  Year           Director  \\\n",
       "0                                        Kantara  2022      Rishab Shetty   \n",
       "1                                The Dark Knight  2008  Christopher Nolan   \n",
       "2  The Lord of the Rings: The Return of the King  2003      Peter Jackson   \n",
       "3                                      Inception  2010  Christopher Nolan   \n",
       "4          The Lord of the Rings: The Two Towers  2002      Peter Jackson   \n",
       "\n",
       "                                              Actors  Rating  Runtime(Mins)  \\\n",
       "0  Rishab Shetty, Sapthami Gowda, Kishore Kumar G...     9.3            148   \n",
       "1  Christian Bale, Heath Ledger, Aaron Eckhart, M...     9.0            152   \n",
       "2  Elijah Wood, Viggo Mortensen, Ian McKellen, Or...     9.0            201   \n",
       "3  Leonardo DiCaprio, Joseph Gordon-Levitt, Ellio...     8.8            148   \n",
       "4  Elijah Wood, Ian McKellen, Viggo Mortensen, Or...     8.8            179   \n",
       "\n",
       "  Censor   Total_Gross main_genre           side_genre  \n",
       "0     UA  Gross Unkown     Action    Adventure,  Drama  \n",
       "1     UA      $534.86M     Action        Crime,  Drama  \n",
       "2      U      $377.85M     Action    Adventure,  Drama  \n",
       "3     UA      $292.58M     Action   Adventure,  Sci-Fi  \n",
       "4     UA      $342.55M     Action    Adventure,  Drama  "
      ]
     },
     "execution_count": 3,
     "metadata": {},
     "output_type": "execute_result"
    }
   ],
   "source": [
    "movies.head()"
   ]
  },
  {
   "cell_type": "markdown",
   "id": "6c49c238",
   "metadata": {},
   "source": [
    "We can get information about the dataset and the types of the attributes it contains using the info() method:"
   ]
  },
  {
   "cell_type": "code",
   "execution_count": 4,
   "id": "e8d6a439",
   "metadata": {},
   "outputs": [
    {
     "name": "stdout",
     "output_type": "stream",
     "text": [
      "<class 'pandas.core.frame.DataFrame'>\n",
      "RangeIndex: 5562 entries, 0 to 5561\n",
      "Data columns (total 10 columns):\n",
      " #   Column         Non-Null Count  Dtype  \n",
      "---  ------         --------------  -----  \n",
      " 0   Movie_Title    5562 non-null   object \n",
      " 1   Year           5562 non-null   int64  \n",
      " 2   Director       5562 non-null   object \n",
      " 3   Actors         5562 non-null   object \n",
      " 4   Rating         5562 non-null   float64\n",
      " 5   Runtime(Mins)  5562 non-null   int64  \n",
      " 6   Censor         5562 non-null   object \n",
      " 7   Total_Gross    5562 non-null   object \n",
      " 8   main_genre     5562 non-null   object \n",
      " 9   side_genre     5562 non-null   object \n",
      "dtypes: float64(1), int64(2), object(7)\n",
      "memory usage: 434.7+ KB\n"
     ]
    }
   ],
   "source": [
    "movies.info()"
   ]
  },
  {
   "cell_type": "markdown",
   "id": "12de021a",
   "metadata": {},
   "source": [
    "Here are some observations:\n",
    "   1. There are 5,562 instances in the dataset.\n",
    "   2. None of the attribute has any missing rows.\n",
    "   3. Not all attributes are numerical. The non-numerical attributes are:\n",
    "        * Movie_Title\n",
    "        * Director\n",
    "        * Actors\n",
    "        * Censor\n",
    "        * Total_Gross\n",
    "        * main_genre\n",
    "        * side_genre"
   ]
  },
  {
   "cell_type": "markdown",
   "id": "6adc8de7",
   "metadata": {},
   "source": [
    "Out target label is *Total_Gross*. Currently, it is non-numerical. We must handle this in order for our ML models to work.\n",
    "\n",
    "Let's investigate the *Total_Gross* target attribute:"
   ]
  },
  {
   "cell_type": "code",
   "execution_count": 5,
   "id": "02b374b9",
   "metadata": {},
   "outputs": [
    {
     "data": {
      "text/plain": [
       "Gross Unkown    861\n",
       "$0.01M           25\n",
       "$0.02M           22\n",
       "$0.04M           22\n",
       "$0.03M           21\n",
       "               ... \n",
       "$1.13M            1\n",
       "$28.87M           1\n",
       "$21.08M           1\n",
       "$44.18M           1\n",
       "$9.11M            1\n",
       "Name: Total_Gross, Length: 3501, dtype: int64"
      ]
     },
     "execution_count": 5,
     "metadata": {},
     "output_type": "execute_result"
    }
   ],
   "source": [
    "movies[\"Total_Gross\"].value_counts()"
   ]
  },
  {
   "cell_type": "markdown",
   "id": "f3242987",
   "metadata": {},
   "source": [
    "We observe the following:\n",
    "   * The values of this attribute has the following format \"$X.YZM\"\n",
    "   * There are 861 entires with the value \"Gross Unknown\"\n",
    "    \n",
    "Let us use pandas and a Lambda function to convert the format to a float if the total gross is known and convert the format to np.nan if the value = \"Gross Unknown\"."
   ]
  },
  {
   "cell_type": "code",
   "execution_count": 6,
   "id": "0852e105",
   "metadata": {},
   "outputs": [],
   "source": [
    "import numpy as np\n",
    "movies[\"Total_Gross\"] = movies[\"Total_Gross\"].apply(lambda x: float(x.replace(\"$\",\"\").replace(\"M\",\"\"))*1000000 if x!=\"Gross Unkown\" else np.nan )"
   ]
  },
  {
   "cell_type": "markdown",
   "id": "097a450c",
   "metadata": {},
   "source": [
    "We will drop any residual NaNs:"
   ]
  },
  {
   "cell_type": "code",
   "execution_count": 7,
   "id": "8c56e07a",
   "metadata": {},
   "outputs": [],
   "source": [
    "movies.dropna(subset=[\"Total_Gross\"], inplace=True)"
   ]
  },
  {
   "cell_type": "markdown",
   "id": "dc148e60",
   "metadata": {},
   "source": [
    "Let us double-check that the changes have been applied:"
   ]
  },
  {
   "cell_type": "code",
   "execution_count": 8,
   "id": "af357fa9",
   "metadata": {},
   "outputs": [
    {
     "data": {
      "text/plain": [
       "10000.0       25\n",
       "40000.0       22\n",
       "20000.0       22\n",
       "30000.0       21\n",
       "50000.0       18\n",
       "              ..\n",
       "28870000.0     1\n",
       "21080000.0     1\n",
       "44180000.0     1\n",
       "2420000.0      1\n",
       "9110000.0      1\n",
       "Name: Total_Gross, Length: 3500, dtype: int64"
      ]
     },
     "execution_count": 8,
     "metadata": {},
     "output_type": "execute_result"
    }
   ],
   "source": [
    "movies[\"Total_Gross\"].value_counts()"
   ]
  },
  {
   "cell_type": "markdown",
   "id": "54dcb830",
   "metadata": {},
   "source": [
    "Our target label, *Total_Groos*, looks clean! "
   ]
  },
  {
   "cell_type": "markdown",
   "id": "3be91e1e",
   "metadata": {},
   "source": [
    "Let us explore the rest of the non-numerical attributes and determine how we should encode them.\n",
    "\n",
    "We start by the *Censor* attribute:"
   ]
  },
  {
   "cell_type": "code",
   "execution_count": 9,
   "id": "62ae4429",
   "metadata": {},
   "outputs": [
    {
     "data": {
      "text/plain": [
       "UA           1003\n",
       "A             972\n",
       "U             931\n",
       "R             818\n",
       "PG-13         380\n",
       "Not Rated     303\n",
       "PG            117\n",
       "18             64\n",
       "16             27\n",
       "13             19\n",
       "15+            16\n",
       "UA 16+          9\n",
       "7               9\n",
       "G               8\n",
       "(Banned)        7\n",
       "All             4\n",
       "UA 13+          3\n",
       "Unrated         3\n",
       "12+             2\n",
       "U/A             2\n",
       "UA 7+           2\n",
       "M/PG            1\n",
       "NC-17           1\n",
       "Name: Censor, dtype: int64"
      ]
     },
     "execution_count": 9,
     "metadata": {},
     "output_type": "execute_result"
    }
   ],
   "source": [
    "movies[\"Censor\"].value_counts()"
   ]
  },
  {
   "cell_type": "markdown",
   "id": "ef481576",
   "metadata": {},
   "source": [
    "It is important to note the UA and U ar enot the same same, and neither are UA and UA 13+. We can't just eliminate UA 13+ and U and replace them with UA's to simplify the data. This oversimplification may overfit our model on thetraining set and will cause to perform terribly on the testing set."
   ]
  },
  {
   "cell_type": "markdown",
   "id": "c003a798",
   "metadata": {},
   "source": [
    "Then, we will eplore the *main_genre* attribute: "
   ]
  },
  {
   "cell_type": "code",
   "execution_count": 10,
   "id": "fd1f4bbb",
   "metadata": {},
   "outputs": [
    {
     "data": {
      "text/plain": [
       "Action       1326\n",
       "Comedy       1203\n",
       "Drama         828\n",
       "Crime         355\n",
       "Biography     302\n",
       "Animation     279\n",
       "Adventure     263\n",
       "Horror        108\n",
       "Mystery        19\n",
       "Fantasy        11\n",
       "Western         4\n",
       "Film-Noir       3\n",
       "Name: main_genre, dtype: int64"
      ]
     },
     "execution_count": 10,
     "metadata": {},
     "output_type": "execute_result"
    }
   ],
   "source": [
    "movies[\"main_genre\"].value_counts()"
   ]
  },
  {
   "cell_type": "markdown",
   "id": "d5fb5d24",
   "metadata": {},
   "source": [
    "Genre plays an important role in a movie's total gross. *Action* movies tend to have the highest box office gross [[2]](https://www.bcheights.com/2017/04/26/the-appeal-of-the-action-genre/)."
   ]
  },
  {
   "cell_type": "markdown",
   "id": "f9803be8",
   "metadata": {},
   "source": [
    "We can investigate the movies with the best Box Office performance:"
   ]
  },
  {
   "cell_type": "code",
   "execution_count": 11,
   "id": "6300cc67",
   "metadata": {},
   "outputs": [
    {
     "data": {
      "text/html": [
       "<div>\n",
       "<style scoped>\n",
       "    .dataframe tbody tr th:only-of-type {\n",
       "        vertical-align: middle;\n",
       "    }\n",
       "\n",
       "    .dataframe tbody tr th {\n",
       "        vertical-align: top;\n",
       "    }\n",
       "\n",
       "    .dataframe thead th {\n",
       "        text-align: right;\n",
       "    }\n",
       "</style>\n",
       "<table border=\"1\" class=\"dataframe\">\n",
       "  <thead>\n",
       "    <tr style=\"text-align: right;\">\n",
       "      <th></th>\n",
       "      <th>main_genre</th>\n",
       "      <th>Frequency</th>\n",
       "    </tr>\n",
       "  </thead>\n",
       "  <tbody>\n",
       "    <tr>\n",
       "      <th>0</th>\n",
       "      <td>Action</td>\n",
       "      <td>602</td>\n",
       "    </tr>\n",
       "    <tr>\n",
       "      <th>1</th>\n",
       "      <td>Comedy</td>\n",
       "      <td>382</td>\n",
       "    </tr>\n",
       "    <tr>\n",
       "      <th>2</th>\n",
       "      <td>Animation</td>\n",
       "      <td>185</td>\n",
       "    </tr>\n",
       "    <tr>\n",
       "      <th>3</th>\n",
       "      <td>Drama</td>\n",
       "      <td>173</td>\n",
       "    </tr>\n",
       "    <tr>\n",
       "      <th>4</th>\n",
       "      <td>Adventure</td>\n",
       "      <td>104</td>\n",
       "    </tr>\n",
       "    <tr>\n",
       "      <th>5</th>\n",
       "      <td>Biography</td>\n",
       "      <td>73</td>\n",
       "    </tr>\n",
       "    <tr>\n",
       "      <th>6</th>\n",
       "      <td>Crime</td>\n",
       "      <td>65</td>\n",
       "    </tr>\n",
       "    <tr>\n",
       "      <th>7</th>\n",
       "      <td>Horror</td>\n",
       "      <td>38</td>\n",
       "    </tr>\n",
       "    <tr>\n",
       "      <th>8</th>\n",
       "      <td>Mystery</td>\n",
       "      <td>5</td>\n",
       "    </tr>\n",
       "    <tr>\n",
       "      <th>9</th>\n",
       "      <td>Fantasy</td>\n",
       "      <td>4</td>\n",
       "    </tr>\n",
       "  </tbody>\n",
       "</table>\n",
       "</div>"
      ],
      "text/plain": [
       "  main_genre  Frequency\n",
       "0     Action        602\n",
       "1     Comedy        382\n",
       "2  Animation        185\n",
       "3      Drama        173\n",
       "4  Adventure        104\n",
       "5  Biography         73\n",
       "6      Crime         65\n",
       "7     Horror         38\n",
       "8    Mystery          5\n",
       "9    Fantasy          4"
      ]
     },
     "execution_count": 11,
     "metadata": {},
     "output_type": "execute_result"
    }
   ],
   "source": [
    "# Get the movies that have a gross revenue: > 50,000,000\n",
    "high_gross_movies = movies[movies['Total_Gross'] > 50000000]\n",
    "\n",
    "# Extract the information\n",
    "genre_movie_counts = high_gross_movies[\"main_genre\"].value_counts().reset_index()\n",
    "genre_movie_counts.columns = [\"main_genre\", \"Frequency\"]\n",
    "\n",
    "# Investigate:\n",
    "genre_movie_counts"
   ]
  },
  {
   "cell_type": "markdown",
   "id": "9977bf75",
   "metadata": {},
   "source": [
    "As expected!\n",
    "\n",
    "We can also use *seaborn* to visualize categorical data. In this case, it is helpful to plot a *categorical scatterplot* [[3]](https://seaborn.pydata.org/tutorial/categorical.html)."
   ]
  },
  {
   "cell_type": "code",
   "execution_count": 12,
   "id": "9d0fa510",
   "metadata": {},
   "outputs": [
    {
     "data": {
      "text/plain": [
       "<seaborn.axisgrid.FacetGrid at 0x2884546e090>"
      ]
     },
     "execution_count": 12,
     "metadata": {},
     "output_type": "execute_result"
    },
    {
     "data": {
      "image/png": "[encoded data removed]",
      "text/plain": [
       "<Figure size 1129.88x500 with 1 Axes>"
      ]
     },
     "metadata": {},
     "output_type": "display_data"
    }
   ],
   "source": [
    "import seaborn as sns\n",
    "\n",
    "sns.catplot(data=movies, x=\"main_genre\", y=\"Total_Gross\", aspect=2, hue=\"Total_Gross\", palette='viridis')"
   ]
  },
  {
   "cell_type": "markdown",
   "id": "71d693e8",
   "metadata": {},
   "source": [
    "We can't solely rely on the figure. Doing so, we might rank *Animation* higher than *Comedy* (but it should be vice-versa, per our statistical results in the table above). Regardless, it is still helpful to visualize our findings.\n",
    "\n",
    "We will use an *OrdinalEncoder*, instead of one-hot-encoding, to encode the *main_genre* attribute. Let us maintain a list of the desired ordering:"
   ]
  },
  {
   "cell_type": "code",
   "execution_count": 13,
   "id": "a8a23d1b",
   "metadata": {},
   "outputs": [
    {
     "data": {
      "text/plain": [
       "[['Action',\n",
       "  'Comedy',\n",
       "  'Animation',\n",
       "  'Drama',\n",
       "  'Adventure',\n",
       "  'Biography',\n",
       "  'Crime',\n",
       "  'Horror',\n",
       "  'Mystery',\n",
       "  'Fantasy',\n",
       "  'Western',\n",
       "  'Film-Noir']]"
      ]
     },
     "execution_count": 13,
     "metadata": {},
     "output_type": "execute_result"
    }
   ],
   "source": [
    "ordered_genre = [[\"Action\", \"Comedy\", \"Animation\", \"Drama\", \"Adventure\", \"Biography\", \"Crime\", \"Horror\", \"Mystery\", \"Fantasy\", \"Western\", \"Film-Noir\"]]\n",
    "ordered_genre"
   ]
  },
  {
   "cell_type": "markdown",
   "id": "53b978b6",
   "metadata": {},
   "source": [
    "Next, we will investigate the *side_genre* attribute:"
   ]
  },
  {
   "cell_type": "code",
   "execution_count": 14,
   "id": "453476f0",
   "metadata": {},
   "outputs": [
    {
     "data": {
      "text/plain": [
       " Drama,  Romance       288\n",
       " Adventure,  Comedy    270\n",
       " Romance               269\n",
       " Drama                 265\n",
       " Crime,  Drama         254\n",
       "                      ... \n",
       " Mystery,  War           1\n",
       " Action,  Comedy         1\n",
       " Adventure,  War         1\n",
       " Fantasy,  War           1\n",
       " Fantasy,  Musical       1\n",
       "Name: side_genre, Length: 140, dtype: int64"
      ]
     },
     "execution_count": 14,
     "metadata": {},
     "output_type": "execute_result"
    }
   ],
   "source": [
    "movies[\"side_genre\"].value_counts()"
   ]
  },
  {
   "cell_type": "markdown",
   "id": "95734e3c",
   "metadata": {},
   "source": [
    "I will use a *OneHotEncoder* to encode this attribute. We can go with an *OrdinalEncoder* as we did with the previous attribute, but we will end up with a list of ordered side genres that is very long.\n",
    "\n",
    "Let's explore the *Director* attribute now:"
   ]
  },
  {
   "cell_type": "code",
   "execution_count": 15,
   "id": "fad65baa",
   "metadata": {},
   "outputs": [
    {
     "data": {
      "text/plain": [
       "Woody Allen                            37\n",
       "Clint Eastwood                         30\n",
       "Steven Spielberg                       27\n",
       "Ron Howard                             22\n",
       "Martin Scorsese                        21\n",
       "                                       ..\n",
       "George Scribner                         1\n",
       "Directors:Eric Darnell, Tim Johnson     1\n",
       "Gil Kenan                               1\n",
       "Chris Miller                            1\n",
       "Tom Putnam                              1\n",
       "Name: Director, Length: 1921, dtype: int64"
      ]
     },
     "execution_count": 15,
     "metadata": {},
     "output_type": "execute_result"
    }
   ],
   "source": [
    "movies[\"Director\"].value_counts()"
   ]
  },
  {
   "cell_type": "markdown",
   "id": "991749f1",
   "metadata": {},
   "source": [
    "We will use a *OneHotEncoder* to encode this attribute. "
   ]
  },
  {
   "cell_type": "markdown",
   "id": "95a11e66",
   "metadata": {},
   "source": [
    "The last non-numerical attribute to explore is *Movie_Title*:"
   ]
  },
  {
   "cell_type": "code",
   "execution_count": 16,
   "id": "4c94b9a9",
   "metadata": {},
   "outputs": [
    {
     "data": {
      "text/plain": [
       "Robin Hood                      3\n",
       "Taxi                            3\n",
       "Aladdin                         2\n",
       "RoboCop                         2\n",
       "The Lion King                   2\n",
       "                               ..\n",
       "Patch Adams                     1\n",
       "Selena                          1\n",
       "Bugsy                           1\n",
       "Battle of the Sexes             1\n",
       "Superbabies: Baby Geniuses 2    1\n",
       "Name: Movie_Title, Length: 4628, dtype: int64"
      ]
     },
     "execution_count": 16,
     "metadata": {},
     "output_type": "execute_result"
    }
   ],
   "source": [
    "movies[\"Movie_Title\"].value_counts()"
   ]
  },
  {
   "cell_type": "markdown",
   "id": "be248830",
   "metadata": {},
   "source": [
    "We have two choicecs:\n",
    "   * Keep the data by encoding it with a OneHotEncoder. This will significantly increase the size of the sparse matrix (the output of fit_transform on a OneHotEncoder) and slow down our models. I have tried this approach before but found no significant improvement in the prediction accuracy of any of the models (verified using the feature_importances_ of Random Forest).\n",
    "   \n",
    "   * Entirely drop the attribute. This will make our models run faster and there is no (major) loss in prediction accuracy. I will go with this approach."
   ]
  },
  {
   "cell_type": "code",
   "execution_count": 17,
   "id": "641148ea",
   "metadata": {},
   "outputs": [
    {
     "data": {
      "text/html": [
       "<div>\n",
       "<style scoped>\n",
       "    .dataframe tbody tr th:only-of-type {\n",
       "        vertical-align: middle;\n",
       "    }\n",
       "\n",
       "    .dataframe tbody tr th {\n",
       "        vertical-align: top;\n",
       "    }\n",
       "\n",
       "    .dataframe thead th {\n",
       "        text-align: right;\n",
       "    }\n",
       "</style>\n",
       "<table border=\"1\" class=\"dataframe\">\n",
       "  <thead>\n",
       "    <tr style=\"text-align: right;\">\n",
       "      <th></th>\n",
       "      <th>Year</th>\n",
       "      <th>Director</th>\n",
       "      <th>Actors</th>\n",
       "      <th>Rating</th>\n",
       "      <th>Runtime(Mins)</th>\n",
       "      <th>Censor</th>\n",
       "      <th>Total_Gross</th>\n",
       "      <th>main_genre</th>\n",
       "      <th>side_genre</th>\n",
       "    </tr>\n",
       "  </thead>\n",
       "  <tbody>\n",
       "    <tr>\n",
       "      <th>1</th>\n",
       "      <td>2008</td>\n",
       "      <td>Christopher Nolan</td>\n",
       "      <td>Christian Bale, Heath Ledger, Aaron Eckhart, M...</td>\n",
       "      <td>9.0</td>\n",
       "      <td>152</td>\n",
       "      <td>UA</td>\n",
       "      <td>534860000.0</td>\n",
       "      <td>Action</td>\n",
       "      <td>Crime,  Drama</td>\n",
       "    </tr>\n",
       "    <tr>\n",
       "      <th>2</th>\n",
       "      <td>2003</td>\n",
       "      <td>Peter Jackson</td>\n",
       "      <td>Elijah Wood, Viggo Mortensen, Ian McKellen, Or...</td>\n",
       "      <td>9.0</td>\n",
       "      <td>201</td>\n",
       "      <td>U</td>\n",
       "      <td>377850000.0</td>\n",
       "      <td>Action</td>\n",
       "      <td>Adventure,  Drama</td>\n",
       "    </tr>\n",
       "    <tr>\n",
       "      <th>3</th>\n",
       "      <td>2010</td>\n",
       "      <td>Christopher Nolan</td>\n",
       "      <td>Leonardo DiCaprio, Joseph Gordon-Levitt, Ellio...</td>\n",
       "      <td>8.8</td>\n",
       "      <td>148</td>\n",
       "      <td>UA</td>\n",
       "      <td>292580000.0</td>\n",
       "      <td>Action</td>\n",
       "      <td>Adventure,  Sci-Fi</td>\n",
       "    </tr>\n",
       "    <tr>\n",
       "      <th>4</th>\n",
       "      <td>2002</td>\n",
       "      <td>Peter Jackson</td>\n",
       "      <td>Elijah Wood, Ian McKellen, Viggo Mortensen, Or...</td>\n",
       "      <td>8.8</td>\n",
       "      <td>179</td>\n",
       "      <td>UA</td>\n",
       "      <td>342550000.0</td>\n",
       "      <td>Action</td>\n",
       "      <td>Adventure,  Drama</td>\n",
       "    </tr>\n",
       "    <tr>\n",
       "      <th>5</th>\n",
       "      <td>2001</td>\n",
       "      <td>Peter Jackson</td>\n",
       "      <td>Elijah Wood, Ian McKellen, Orlando Bloom, Sean...</td>\n",
       "      <td>8.8</td>\n",
       "      <td>178</td>\n",
       "      <td>U</td>\n",
       "      <td>315540000.0</td>\n",
       "      <td>Action</td>\n",
       "      <td>Adventure,  Drama</td>\n",
       "    </tr>\n",
       "    <tr>\n",
       "      <th>...</th>\n",
       "      <td>...</td>\n",
       "      <td>...</td>\n",
       "      <td>...</td>\n",
       "      <td>...</td>\n",
       "      <td>...</td>\n",
       "      <td>...</td>\n",
       "      <td>...</td>\n",
       "      <td>...</td>\n",
       "      <td>...</td>\n",
       "    </tr>\n",
       "    <tr>\n",
       "      <th>5555</th>\n",
       "      <td>2005</td>\n",
       "      <td>Lawrence Guterman</td>\n",
       "      <td>Jamie Kennedy, Traylor Howard, Alan Cumming, L...</td>\n",
       "      <td>2.2</td>\n",
       "      <td>94</td>\n",
       "      <td>U</td>\n",
       "      <td>17020000.0</td>\n",
       "      <td>Comedy</td>\n",
       "      <td>Family,  Fantasy</td>\n",
       "    </tr>\n",
       "    <tr>\n",
       "      <th>5557</th>\n",
       "      <td>2008</td>\n",
       "      <td>Directors:Jason Friedberg, Aaron Seltzer</td>\n",
       "      <td>Carmen Electra, Vanessa Lachey, Nicole Parker,...</td>\n",
       "      <td>1.9</td>\n",
       "      <td>87</td>\n",
       "      <td>PG-13</td>\n",
       "      <td>14190000.0</td>\n",
       "      <td>Comedy</td>\n",
       "      <td>Sci-Fi</td>\n",
       "    </tr>\n",
       "    <tr>\n",
       "      <th>5558</th>\n",
       "      <td>2008</td>\n",
       "      <td>Tom Putnam</td>\n",
       "      <td>Paris Hilton, Joel David Moore, Christine Laki...</td>\n",
       "      <td>1.9</td>\n",
       "      <td>91</td>\n",
       "      <td>PG-13</td>\n",
       "      <td>30000.0</td>\n",
       "      <td>Comedy</td>\n",
       "      <td>Romance</td>\n",
       "    </tr>\n",
       "    <tr>\n",
       "      <th>5559</th>\n",
       "      <td>2003</td>\n",
       "      <td>Robert Iscove</td>\n",
       "      <td>Kelly Clarkson, Justin Guarini, Katherine Bail...</td>\n",
       "      <td>1.9</td>\n",
       "      <td>81</td>\n",
       "      <td>PG</td>\n",
       "      <td>4920000.0</td>\n",
       "      <td>Comedy</td>\n",
       "      <td>Musical,  Romance</td>\n",
       "    </tr>\n",
       "    <tr>\n",
       "      <th>5560</th>\n",
       "      <td>2004</td>\n",
       "      <td>Bob Clark</td>\n",
       "      <td>Jon Voight, Scott Baio, Vanessa Angel, Skyler ...</td>\n",
       "      <td>1.5</td>\n",
       "      <td>88</td>\n",
       "      <td>PG</td>\n",
       "      <td>9110000.0</td>\n",
       "      <td>Comedy</td>\n",
       "      <td>Family,  Sci-Fi</td>\n",
       "    </tr>\n",
       "  </tbody>\n",
       "</table>\n",
       "<p>4701 rows × 9 columns</p>\n",
       "</div>"
      ],
      "text/plain": [
       "      Year                                  Director  \\\n",
       "1     2008                         Christopher Nolan   \n",
       "2     2003                             Peter Jackson   \n",
       "3     2010                         Christopher Nolan   \n",
       "4     2002                             Peter Jackson   \n",
       "5     2001                             Peter Jackson   \n",
       "...    ...                                       ...   \n",
       "5555  2005                         Lawrence Guterman   \n",
       "5557  2008  Directors:Jason Friedberg, Aaron Seltzer   \n",
       "5558  2008                                Tom Putnam   \n",
       "5559  2003                             Robert Iscove   \n",
       "5560  2004                                 Bob Clark   \n",
       "\n",
       "                                                 Actors  Rating  \\\n",
       "1     Christian Bale, Heath Ledger, Aaron Eckhart, M...     9.0   \n",
       "2     Elijah Wood, Viggo Mortensen, Ian McKellen, Or...     9.0   \n",
       "3     Leonardo DiCaprio, Joseph Gordon-Levitt, Ellio...     8.8   \n",
       "4     Elijah Wood, Ian McKellen, Viggo Mortensen, Or...     8.8   \n",
       "5     Elijah Wood, Ian McKellen, Orlando Bloom, Sean...     8.8   \n",
       "...                                                 ...     ...   \n",
       "5555  Jamie Kennedy, Traylor Howard, Alan Cumming, L...     2.2   \n",
       "5557  Carmen Electra, Vanessa Lachey, Nicole Parker,...     1.9   \n",
       "5558  Paris Hilton, Joel David Moore, Christine Laki...     1.9   \n",
       "5559  Kelly Clarkson, Justin Guarini, Katherine Bail...     1.9   \n",
       "5560  Jon Voight, Scott Baio, Vanessa Angel, Skyler ...     1.5   \n",
       "\n",
       "      Runtime(Mins) Censor  Total_Gross main_genre           side_genre  \n",
       "1               152     UA  534860000.0     Action        Crime,  Drama  \n",
       "2               201      U  377850000.0     Action    Adventure,  Drama  \n",
       "3               148     UA  292580000.0     Action   Adventure,  Sci-Fi  \n",
       "4               179     UA  342550000.0     Action    Adventure,  Drama  \n",
       "5               178      U  315540000.0     Action    Adventure,  Drama  \n",
       "...             ...    ...          ...        ...                  ...  \n",
       "5555             94      U   17020000.0     Comedy     Family,  Fantasy  \n",
       "5557             87  PG-13   14190000.0     Comedy               Sci-Fi  \n",
       "5558             91  PG-13      30000.0     Comedy              Romance  \n",
       "5559             81     PG    4920000.0     Comedy    Musical,  Romance  \n",
       "5560             88     PG    9110000.0     Comedy      Family,  Sci-Fi  \n",
       "\n",
       "[4701 rows x 9 columns]"
      ]
     },
     "execution_count": 17,
     "metadata": {},
     "output_type": "execute_result"
    }
   ],
   "source": [
    "movies = movies.drop(\"Movie_Title\", axis=1)\n",
    "movies"
   ]
  },
  {
   "cell_type": "markdown",
   "id": "942c0f30",
   "metadata": {},
   "source": [
    "Let us plot histograms of the numerical attributes:"
   ]
  },
  {
   "cell_type": "code",
   "execution_count": 18,
   "id": "ef335ab3",
   "metadata": {},
   "outputs": [
    {
     "data": {
      "image/png": "[encoded data removed]",
      "text/plain": [
       "<Figure size 1200x800 with 4 Axes>"
      ]
     },
     "metadata": {},
     "output_type": "display_data"
    }
   ],
   "source": [
    "import matplotlib.pyplot as plt\n",
    "movies.hist(bins=40, figsize=(12, 8))\n",
    "plt.show()"
   ]
  },
  {
   "cell_type": "markdown",
   "id": "e64aa1a9",
   "metadata": {},
   "source": [
    "The following attributes have heavy-tail distribution:\n",
    "\n",
    "* \"Year\": left-skewed\n",
    "* \"Runtime(Mins)\": right-skewed\n",
    "* \"Total_Gross\": right-skewed\n",
    "\n",
    "We can apply transformations to these attribute to make thir distribution more symmetrical and bell-shaped. We will discuss the appropriate transformations to use later.\n"
   ]
  },
  {
   "cell_type": "markdown",
   "id": "d7906f39",
   "metadata": {},
   "source": [
    "### 1.1 Adjusting Total Gross for Inflation"
   ]
  },
  {
   "cell_type": "markdown",
   "id": "d078c3da",
   "metadata": {},
   "source": [
    "One final thing to do is to adjust the \"Total_Gross\" values for inflation. This is important so our final ML model will be useful.\n",
    "\n",
    "There are a couple of ways to do this. I followed the approach outlined in [[4]](https://medium.com/@alvaro.henriquez/adjusting-for-inflation-in-pandas-9cffc0d888ac). I simply downloaded the data as a csv from: https://www.in2013dollars.com/us/inflation/1930?amount=1."
   ]
  },
  {
   "cell_type": "code",
   "execution_count": 19,
   "id": "dc91505e",
   "metadata": {},
   "outputs": [
    {
     "data": {
      "text/html": [
       "<div>\n",
       "<style scoped>\n",
       "    .dataframe tbody tr th:only-of-type {\n",
       "        vertical-align: middle;\n",
       "    }\n",
       "\n",
       "    .dataframe tbody tr th {\n",
       "        vertical-align: top;\n",
       "    }\n",
       "\n",
       "    .dataframe thead th {\n",
       "        text-align: right;\n",
       "    }\n",
       "</style>\n",
       "<table border=\"1\" class=\"dataframe\">\n",
       "  <thead>\n",
       "    <tr style=\"text-align: right;\">\n",
       "      <th></th>\n",
       "      <th>year</th>\n",
       "      <th>amount</th>\n",
       "      <th>inflation rate</th>\n",
       "    </tr>\n",
       "  </thead>\n",
       "  <tbody>\n",
       "    <tr>\n",
       "      <th>0</th>\n",
       "      <td>1930</td>\n",
       "      <td>1.00</td>\n",
       "      <td>-0.02</td>\n",
       "    </tr>\n",
       "    <tr>\n",
       "      <th>1</th>\n",
       "      <td>1931</td>\n",
       "      <td>0.91</td>\n",
       "      <td>-0.09</td>\n",
       "    </tr>\n",
       "    <tr>\n",
       "      <th>2</th>\n",
       "      <td>1932</td>\n",
       "      <td>0.82</td>\n",
       "      <td>-0.10</td>\n",
       "    </tr>\n",
       "    <tr>\n",
       "      <th>3</th>\n",
       "      <td>1933</td>\n",
       "      <td>0.78</td>\n",
       "      <td>-0.05</td>\n",
       "    </tr>\n",
       "    <tr>\n",
       "      <th>4</th>\n",
       "      <td>1934</td>\n",
       "      <td>0.80</td>\n",
       "      <td>0.03</td>\n",
       "    </tr>\n",
       "  </tbody>\n",
       "</table>\n",
       "</div>"
      ],
      "text/plain": [
       "   year  amount  inflation rate\n",
       "0  1930    1.00           -0.02\n",
       "1  1931    0.91           -0.09\n",
       "2  1932    0.82           -0.10\n",
       "3  1933    0.78           -0.05\n",
       "4  1934    0.80            0.03"
      ]
     },
     "execution_count": 19,
     "metadata": {},
     "output_type": "execute_result"
    }
   ],
   "source": [
    "inflation_data = pd.read_csv(\"C:\\\\Users\\\\Rami\\\\Downloads\\\\inflation_data.csv\")  \n",
    "inflation_data.head()"
   ]
  },
  {
   "cell_type": "markdown",
   "id": "0bf53e81",
   "metadata": {},
   "source": [
    "Let us now use this DataFrame to adjust the *Total_Gross* of our movies DataFrame:"
   ]
  },
  {
   "cell_type": "code",
   "execution_count": 20,
   "id": "25ec8b5a",
   "metadata": {},
   "outputs": [
    {
     "data": {
      "text/html": [
       "<div>\n",
       "<style scoped>\n",
       "    .dataframe tbody tr th:only-of-type {\n",
       "        vertical-align: middle;\n",
       "    }\n",
       "\n",
       "    .dataframe tbody tr th {\n",
       "        vertical-align: top;\n",
       "    }\n",
       "\n",
       "    .dataframe thead th {\n",
       "        text-align: right;\n",
       "    }\n",
       "</style>\n",
       "<table border=\"1\" class=\"dataframe\">\n",
       "  <thead>\n",
       "    <tr style=\"text-align: right;\">\n",
       "      <th></th>\n",
       "      <th>Total_Gross</th>\n",
       "      <th>Adjusted_Total_Gross</th>\n",
       "    </tr>\n",
       "  </thead>\n",
       "  <tbody>\n",
       "    <tr>\n",
       "      <th>0</th>\n",
       "      <td>534860000.0</td>\n",
       "      <td>5.346461e+08</td>\n",
       "    </tr>\n",
       "    <tr>\n",
       "      <th>1</th>\n",
       "      <td>377850000.0</td>\n",
       "      <td>3.777744e+08</td>\n",
       "    </tr>\n",
       "    <tr>\n",
       "      <th>2</th>\n",
       "      <td>292580000.0</td>\n",
       "      <td>2.925215e+08</td>\n",
       "    </tr>\n",
       "    <tr>\n",
       "      <th>3</th>\n",
       "      <td>342550000.0</td>\n",
       "      <td>3.424815e+08</td>\n",
       "    </tr>\n",
       "    <tr>\n",
       "      <th>4</th>\n",
       "      <td>315540000.0</td>\n",
       "      <td>3.154454e+08</td>\n",
       "    </tr>\n",
       "    <tr>\n",
       "      <th>...</th>\n",
       "      <td>...</td>\n",
       "      <td>...</td>\n",
       "    </tr>\n",
       "    <tr>\n",
       "      <th>4696</th>\n",
       "      <td>17020000.0</td>\n",
       "      <td>1.701490e+07</td>\n",
       "    </tr>\n",
       "    <tr>\n",
       "      <th>4697</th>\n",
       "      <td>14190000.0</td>\n",
       "      <td>1.418433e+07</td>\n",
       "    </tr>\n",
       "    <tr>\n",
       "      <th>4698</th>\n",
       "      <td>30000.0</td>\n",
       "      <td>2.998800e+04</td>\n",
       "    </tr>\n",
       "    <tr>\n",
       "      <th>4699</th>\n",
       "      <td>4920000.0</td>\n",
       "      <td>4.919016e+06</td>\n",
       "    </tr>\n",
       "    <tr>\n",
       "      <th>4700</th>\n",
       "      <td>9110000.0</td>\n",
       "      <td>9.107268e+06</td>\n",
       "    </tr>\n",
       "  </tbody>\n",
       "</table>\n",
       "<p>4701 rows × 2 columns</p>\n",
       "</div>"
      ],
      "text/plain": [
       "      Total_Gross  Adjusted_Total_Gross\n",
       "0     534860000.0          5.346461e+08\n",
       "1     377850000.0          3.777744e+08\n",
       "2     292580000.0          2.925215e+08\n",
       "3     342550000.0          3.424815e+08\n",
       "4     315540000.0          3.154454e+08\n",
       "...           ...                   ...\n",
       "4696   17020000.0          1.701490e+07\n",
       "4697   14190000.0          1.418433e+07\n",
       "4698      30000.0          2.998800e+04\n",
       "4699    4920000.0          4.919016e+06\n",
       "4700    9110000.0          9.107268e+06\n",
       "\n",
       "[4701 rows x 2 columns]"
      ]
     },
     "execution_count": 20,
     "metadata": {},
     "output_type": "execute_result"
    }
   ],
   "source": [
    "movies = movies.merge(inflation_data, left_on=\"Year\", right_on=\"year\", how=\"left\")\n",
    "\n",
    "# A function to make inflation adjustemetn easier\n",
    "def adjust_for_inflation(row):\n",
    "    if pd.notna(row[\"inflation rate\"]):\n",
    "        inflation_factor = 1 + (row[\"inflation rate\"] / 100) \n",
    "        return row[\"Total_Gross\"] / inflation_factor\n",
    "    else:\n",
    "        return row[\"Total_Gross\"]\n",
    "    \n",
    "# We can apply the function now to our \"Total_Gross\" column    \n",
    "movies[\"Adjusted_Total_Gross\"] = movies.apply(adjust_for_inflation, axis=1)\n",
    "\n",
    "# Verify the everything works:\n",
    "movies[[\"Total_Gross\", \"Adjusted_Total_Gross\"]]"
   ]
  },
  {
   "cell_type": "code",
   "execution_count": 21,
   "id": "958d5358",
   "metadata": {},
   "outputs": [
    {
     "name": "stdout",
     "output_type": "stream",
     "text": [
      "<class 'pandas.core.frame.DataFrame'>\n",
      "Int64Index: 4701 entries, 0 to 4700\n",
      "Data columns (total 13 columns):\n",
      " #   Column                Non-Null Count  Dtype  \n",
      "---  ------                --------------  -----  \n",
      " 0   Year                  4701 non-null   int64  \n",
      " 1   Director              4701 non-null   object \n",
      " 2   Actors                4701 non-null   object \n",
      " 3   Rating                4701 non-null   float64\n",
      " 4   Runtime(Mins)         4701 non-null   int64  \n",
      " 5   Censor                4701 non-null   object \n",
      " 6   Total_Gross           4701 non-null   float64\n",
      " 7   main_genre            4701 non-null   object \n",
      " 8   side_genre            4701 non-null   object \n",
      " 9   year                  4693 non-null   float64\n",
      " 10  amount                4693 non-null   float64\n",
      " 11  inflation rate        4693 non-null   float64\n",
      " 12  Adjusted_Total_Gross  4701 non-null   float64\n",
      "dtypes: float64(6), int64(2), object(5)\n",
      "memory usage: 514.2+ KB\n"
     ]
    }
   ],
   "source": [
    "movies.info()"
   ]
  },
  {
   "cell_type": "markdown",
   "id": "4fa24925",
   "metadata": {},
   "source": [
    "Let us drop the original *Total_Gross* columns and the columns added from the infaltion dataset:"
   ]
  },
  {
   "cell_type": "code",
   "execution_count": 22,
   "id": "cc1630a2",
   "metadata": {},
   "outputs": [
    {
     "name": "stdout",
     "output_type": "stream",
     "text": [
      "<class 'pandas.core.frame.DataFrame'>\n",
      "Int64Index: 4701 entries, 0 to 4700\n",
      "Data columns (total 9 columns):\n",
      " #   Column         Non-Null Count  Dtype  \n",
      "---  ------         --------------  -----  \n",
      " 0   Year           4701 non-null   int64  \n",
      " 1   Director       4701 non-null   object \n",
      " 2   Actors         4701 non-null   object \n",
      " 3   Rating         4701 non-null   float64\n",
      " 4   Runtime(Mins)  4701 non-null   int64  \n",
      " 5   Censor         4701 non-null   object \n",
      " 6   main_genre     4701 non-null   object \n",
      " 7   side_genre     4701 non-null   object \n",
      " 8   Total_Gross    4701 non-null   float64\n",
      "dtypes: float64(2), int64(2), object(5)\n",
      "memory usage: 367.3+ KB\n"
     ]
    }
   ],
   "source": [
    "# Drop original \"Total_Gross\"\n",
    "movies.drop(columns=[\"Total_Gross\"], inplace=True)\n",
    "\n",
    "# Rename the adjusted column\n",
    "movies.rename(columns={\"Adjusted_Total_Gross\": \"Total_Gross\"}, inplace=True)\n",
    "movies.dropna(subset=[\"Total_Gross\"], inplace=True)\n",
    "\n",
    "# Drop the rest of the augmented attributes\n",
    "movies = movies.drop(\"inflation rate\", axis=1)\n",
    "movies = movies.drop(\"year\", axis=1)\n",
    "movies = movies.drop(\"amount\", axis=1)\n",
    "\n",
    "movies.info()"
   ]
  },
  {
   "cell_type": "markdown",
   "id": "4a35ca23",
   "metadata": {},
   "source": [
    "### 1.2 Handling Outliers"
   ]
  },
  {
   "cell_type": "markdown",
   "id": "54a9bfd9",
   "metadata": {},
   "source": [
    "It is important to handle outliers to increase the accuracy of our prediction models. One way to ahndle outliers is to remove a small percentage of the instances from the top and bottom of the dataset distribution. This method is known as the *Interquartile Range Method* [[5]](https://machinelearningmastery.com/how-to-use-statistics-to-identify-outliers-in-data/)."
   ]
  },
  {
   "cell_type": "code",
   "execution_count": 23,
   "id": "ec32a1f0",
   "metadata": {},
   "outputs": [
    {
     "data": {
      "image/png": "[encoded data removed]",
      "text/plain": [
       "<Figure size 800x600 with 1 Axes>"
      ]
     },
     "metadata": {},
     "output_type": "display_data"
    }
   ],
   "source": [
    "import seaborn as sns\n",
    "\n",
    "plt.figure(figsize=(8, 6))\n",
    "sns.boxplot(x=movies[\"Total_Gross\"])\n",
    "plt.title(\"Box Plot of Total_Gross Before Removing Outliers\")\n",
    "plt.show()"
   ]
  },
  {
   "cell_type": "code",
   "execution_count": 24,
   "id": "f2aa45cf",
   "metadata": {},
   "outputs": [
    {
     "name": "stdout",
     "output_type": "stream",
     "text": [
      "<class 'pandas.core.frame.DataFrame'>\n",
      "Int64Index: 4551 entries, 2 to 4700\n",
      "Data columns (total 9 columns):\n",
      " #   Column         Non-Null Count  Dtype  \n",
      "---  ------         --------------  -----  \n",
      " 0   Year           4551 non-null   int64  \n",
      " 1   Director       4551 non-null   object \n",
      " 2   Actors         4551 non-null   object \n",
      " 3   Rating         4551 non-null   float64\n",
      " 4   Runtime(Mins)  4551 non-null   int64  \n",
      " 5   Censor         4551 non-null   object \n",
      " 6   main_genre     4551 non-null   object \n",
      " 7   side_genre     4551 non-null   object \n",
      " 8   Total_Gross    4551 non-null   float64\n",
      "dtypes: float64(2), int64(2), object(5)\n",
      "memory usage: 355.5+ KB\n"
     ]
    }
   ],
   "source": [
    "q_low = movies[\"Total_Gross\"].quantile(0.015)\n",
    "q_hi = movies[\"Total_Gross\"].quantile(0.985)\n",
    "\n",
    "movies = movies[(movies[\"Total_Gross\"] < q_hi) & (movies[\"Total_Gross\"] > q_low)]\n",
    "\n",
    "movies.info()"
   ]
  },
  {
   "cell_type": "code",
   "execution_count": 25,
   "id": "6807305a",
   "metadata": {},
   "outputs": [
    {
     "data": {
      "image/png": "[encoded data removed]",
      "text/plain": [
       "<Figure size 800x600 with 1 Axes>"
      ]
     },
     "metadata": {},
     "output_type": "display_data"
    }
   ],
   "source": [
    "plt.figure(figsize=(8, 6))\n",
    "sns.boxplot(x=movies[\"Total_Gross\"])\n",
    "plt.title(\"Box Plot of Total_Gross After Removing Outliers\")\n",
    "plt.show()"
   ]
  },
  {
   "cell_type": "markdown",
   "id": "a1b7b8c6",
   "metadata": {},
   "source": [
    "Notice the difference between the two box plots.\n",
    "   * In the first box plot, the outliers (represented as dots to the right of the whisker)\n",
    "    extend too far to the right.\n",
    "   * In the second box plot, the outliers don't extend as far to the right.\n",
    "   \n",
    "We note that despite removing some of the outliers, we still have many outliers left in our dataset. This is an added complexity, and it will make the prediction of ML models less accurate. For this reason, we need to be more generours when applying scalers (a StandardScaler() alone will not do the job). We will revisit this in a later section.\n",
    "\n",
    "We have 4,551 instances left in the dataset. "
   ]
  },
  {
   "cell_type": "markdown",
   "id": "f8bf5d8b",
   "metadata": {},
   "source": [
    "## Section 2: Create a Test Set"
   ]
  },
  {
   "cell_type": "markdown",
   "id": "c2507372",
   "metadata": {},
   "source": [
    "Before further data exploration and visualization, it is important to separate the dataset into a testing set and a training set. This is to avoid noticing any patterns in the testing set, which may lead us to select a particular ML model, and we may end up with a model that is too optimistic and bad at generalization."
   ]
  },
  {
   "cell_type": "code",
   "execution_count": 26,
   "id": "59e8b5df",
   "metadata": {},
   "outputs": [],
   "source": [
    "from sklearn.model_selection import train_test_split\n",
    "\n",
    "train_set, test_set = train_test_split(movies, test_size=0.2, random_state=42)"
   ]
  },
  {
   "cell_type": "markdown",
   "id": "0fb511d0",
   "metadata": {},
   "source": [
    "## Section 3: Further Data Exploration and Visualization"
   ]
  },
  {
   "cell_type": "markdown",
   "id": "e84292ba",
   "metadata": {},
   "source": [
    "We will dive in-depth into exploring and visualizing our data. Since our training set is small, we can directly work on it. We will eventually use transformations on the full training set, so we start by making a copy of it:"
   ]
  },
  {
   "cell_type": "code",
   "execution_count": 27,
   "id": "c89d25cb",
   "metadata": {},
   "outputs": [],
   "source": [
    "movies = train_set.copy()"
   ]
  },
  {
   "cell_type": "markdown",
   "id": "911ea016",
   "metadata": {},
   "source": [
    "### 3.1 Investigate Correlations"
   ]
  },
  {
   "cell_type": "markdown",
   "id": "9be6a0d9",
   "metadata": {},
   "source": [
    "We start by looking for correlations. We will compute the *standard correlation coefficient*:"
   ]
  },
  {
   "cell_type": "code",
   "execution_count": 28,
   "id": "05b965de",
   "metadata": {},
   "outputs": [
    {
     "data": {
      "text/plain": [
       "Total_Gross      1.000000\n",
       "Runtime(Mins)    0.103909\n",
       "Year             0.089544\n",
       "Rating           0.000317\n",
       "Name: Total_Gross, dtype: float64"
      ]
     },
     "execution_count": 28,
     "metadata": {},
     "output_type": "execute_result"
    }
   ],
   "source": [
    "import warnings\n",
    "warnings.filterwarnings('ignore')  # This is to keep the notebook clean and hide all future warnings\n",
    "\n",
    "corr_matrix = movies.corr()\n",
    "corr_matrix[\"Total_Gross\"].sort_values(ascending=False)"
   ]
  },
  {
   "cell_type": "markdown",
   "id": "1892285b",
   "metadata": {},
   "source": [
    "We can also investigate correlation between attributes using a *scatter matrix*, which is a plot of every numerical attribute against every other numerical attribute:"
   ]
  },
  {
   "cell_type": "code",
   "execution_count": 29,
   "id": "d4ac7e23",
   "metadata": {},
   "outputs": [
    {
     "data": {
      "image/png": "[encoded data removed]",
      "text/plain": [
       "<Figure size 1200x800 with 9 Axes>"
      ]
     },
     "metadata": {},
     "output_type": "display_data"
    }
   ],
   "source": [
    "from pandas.plotting import scatter_matrix\n",
    "attributes = [\"Runtime(Mins)\", \"Year\", \"Rating\", \"Actors\"]\n",
    "scatter_matrix(movies[attributes], figsize=(12, 8))\n",
    "plt.show()"
   ]
  },
  {
   "cell_type": "markdown",
   "id": "d32367a0",
   "metadata": {},
   "source": [
    "## Section 4: Preapre the Data for ML"
   ]
  },
  {
   "cell_type": "markdown",
   "id": "4be709fc",
   "metadata": {},
   "source": [
    "We revert to a clean training set, and separate the predictors and the labels. This is because we don't want to apply transformations that we will apply to the predictors on the labels."
   ]
  },
  {
   "cell_type": "code",
   "execution_count": 30,
   "id": "c6d90a2c",
   "metadata": {},
   "outputs": [
    {
     "name": "stdout",
     "output_type": "stream",
     "text": [
      "<class 'pandas.core.frame.DataFrame'>\n",
      "Int64Index: 3640 entries, 4279 to 920\n",
      "Data columns (total 8 columns):\n",
      " #   Column         Non-Null Count  Dtype  \n",
      "---  ------         --------------  -----  \n",
      " 0   Year           3640 non-null   int64  \n",
      " 1   Director       3640 non-null   object \n",
      " 2   Actors         3640 non-null   object \n",
      " 3   Rating         3640 non-null   float64\n",
      " 4   Runtime(Mins)  3640 non-null   int64  \n",
      " 5   Censor         3640 non-null   object \n",
      " 6   main_genre     3640 non-null   object \n",
      " 7   side_genre     3640 non-null   object \n",
      "dtypes: float64(1), int64(2), object(5)\n",
      "memory usage: 255.9+ KB\n"
     ]
    }
   ],
   "source": [
    "movies = train_set.drop(\"Total_Gross\", axis=1)\n",
    "movies_labels = train_set[\"Total_Gross\"].copy()\n",
    "\n",
    "movies.info()"
   ]
  },
  {
   "cell_type": "markdown",
   "id": "4042bb6f",
   "metadata": {},
   "source": [
    "### 4.1 Feature Scaling"
   ]
  },
  {
   "cell_type": "markdown",
   "id": "dda553ee",
   "metadata": {},
   "source": [
    "We recall our historgram plots that we did earlier.\n",
    "\n",
    "\n",
    "\n",
    "We notice that the input numerical attributes have very different scales. If we don't do feature scaling, most ML models will be biased toward ignoring some of our attributes' values.\n",
    "\n",
    "\n",
    "\n",
    "Since the two attributes, \"Year\" and \"Runtime(Mins)\", have a distribution that is heavy tail (see histogram above), we should first transform the features before scaling them. The goal is to make the distribution of any attribute symmetric.\n",
    "\n",
    "\n",
    "\n",
    "The appropriate transformation to make is the log transformation: we replace the feature with its logarithm. Then, I have found that applying a MinMaxScaler() for log-transformed attributes gives better results than a StandardScaler(), so I will go with that here.\n",
    "\n",
    "\n",
    "\n",
    "Another scaler we can use is the MaxAbsScaler(). It is appropriate to use this scaler to scale sparse data (as in our case). We use this for attributes that will not undergo a log transformation.\n",
    "\n",
    "\n",
    "\n",
    "I have also tried using a RobustScaler(), but that did not help much.\n",
    "\n",
    "\n",
    "\n",
    "Recall that we also said we would apply a \"OneHotEncoder()\" to most of our non-numerical attributes, and that we will apply an \"OrdinalEncoder()\" to our \"main_genre\" attribute. This can also be done in the pipeline.\n",
    "\n",
    "Here is a table summarizing our transformation process:"
   ]
  },
  {
   "cell_type": "markdown",
   "id": "b0533080",
   "metadata": {},
   "source": [
    "\n",
    "| Attribute       |Type | Encoding | Scaling (After Encoding)                                                   |\n",
    "|-----------------| --- | --- |----------------------------------------------------------------------------|\n",
    "| *Year*          | Numerical | N/A | Log-Transformation → MinMaxScaler() → MaxAbsScaler() → StandardScaler()    |\n",
    "| *Director*      | Non-numerical | OneHotEncoder() | MaxAbsScaler() → StandardScaler()                                          |\n",
    "| *Actors*        | Non-numerical | OneHotEncoder() | MaxAbsScaler() → StandardScaler()                                          |\n",
    "| *Rating*        | Numerical | N/A | MaxAbsScaler() → StandardScaler()                                          |\n",
    "| *Runtime(Mins)* | Numerical | N/A | Log-Transformation → MinMaxScaler() → MaxAbsScaler() → StandardScaler()    |\n",
    "| *Censor*        | Non-numerical | OneHotEncoder() | MaxAbsScaler() → StandardScaler()                                          |\n",
    "| *main_genre*    | Non-numerical | OrdinalEncoder() | MaxAbsScaler() → StandardScaler()                                          |\n",
    "| *side_genre*    | Non-numerical | OneHotEncoder() | MaxAbsScaler() → StandardScaler()                                          |\n"
   ]
  },
  {
   "cell_type": "markdown",
   "id": "c23d0998",
   "metadata": {},
   "source": [
    "### 4.2 The Transformation Pipeline"
   ]
  },
  {
   "cell_type": "markdown",
   "id": "8bebf204",
   "metadata": {},
   "source": [
    "As indicated in our textbook, we can leverage the Pipepline class of scikit-lean to create a \"*preprocessing pipeline that takes the entire dataset and applies each transformer to the appropriate columns*\" [1]\n",
    "\n",
    "The components of the pipeline will be similar to the outline presented above. "
   ]
  },
  {
   "cell_type": "code",
   "execution_count": 31,
   "id": "0a2f44ae",
   "metadata": {},
   "outputs": [],
   "source": [
    "from sklearn.pipeline import Pipeline, make_pipeline\n",
    "from sklearn.preprocessing import FunctionTransformer, StandardScaler, OneHotEncoder, MaxAbsScaler, OrdinalEncoder\n",
    "from sklearn.compose import ColumnTransformer, make_column_selector\n",
    "\n",
    "from sklearn.preprocessing import MinMaxScaler, RobustScaler\n",
    "\n",
    "log_transformer = FunctionTransformer(np.log, inverse_func=np.exp)\n",
    "\n",
    "log_pipeline = make_pipeline(\n",
    "    FunctionTransformer(np.log, feature_names_out=\"one-to-one\"),\n",
    "    MinMaxScaler()\n",
    ")\n",
    "\n",
    "default_num_pipeline = make_pipeline(\n",
    "    MaxAbsScaler(),\n",
    "    StandardScaler()\n",
    ")\n",
    "\n",
    "genre_pipeline = make_pipeline(\n",
    "    OrdinalEncoder(categories=ordered_genre)\n",
    ")\n",
    "cat_pipeline = make_pipeline(\n",
    "    OneHotEncoder(handle_unknown='ignore')\n",
    ")\n",
    "\n",
    "preprocessing = ColumnTransformer([\n",
    "        (\"log\", log_pipeline, [\"Year\", \"Runtime(Mins)\"]),\n",
    "        (\"genre_ordinal\", genre_pipeline, [\"main_genre\"]),\n",
    "        (\"cat\", cat_pipeline, make_column_selector(dtype_include=object)),\n",
    "    ],\n",
    "    remainder=default_num_pipeline)"
   ]
  },
  {
   "cell_type": "markdown",
   "id": "f46f2f7a",
   "metadata": {},
   "source": [
    "Let us fit and transform our training set:"
   ]
  },
  {
   "cell_type": "code",
   "execution_count": 32,
   "id": "9df9e2f7",
   "metadata": {},
   "outputs": [
    {
     "data": {
      "text/plain": [
       "<3640x5436 sparse matrix of type '<class 'numpy.float64'>'\n",
       "\twith 31771 stored elements in Compressed Sparse Row format>"
      ]
     },
     "execution_count": 32,
     "metadata": {},
     "output_type": "execute_result"
    }
   ],
   "source": [
    "movies_prepared = preprocessing.fit_transform(movies)\n",
    "movies_prepared.shapemovies_prepared = preprocessing.fit_transform(movies)\n",
    "movies_prepared"
   ]
  },
  {
   "cell_type": "markdown",
   "id": "d17841e1",
   "metadata": {},
   "source": [
    "### 4.3 When to Train/Test Split"
   ]
  },
  {
   "cell_type": "markdown",
   "id": "60eaea12",
   "metadata": {},
   "source": [
    "We should split our dataset into a training set and a testing set before applying any transformations. This is to prevent any informatioation leakage, which can lean to over-optimistic results and unrealistic performance evaluations. If we don't split before applying transformations, the train set would contain information from the test set. What happens is that once new data is fed to the model (from outside the dataset), it will perform poorly.\n"
   ]
  },
  {
   "cell_type": "markdown",
   "id": "8391f92a",
   "metadata": {},
   "source": [
    "## Section 5: Select and Train a Base Model"
   ]
  },
  {
   "cell_type": "markdown",
   "id": "fe58110e",
   "metadata": {},
   "source": [
    "### 5.1 RMSE"
   ]
  },
  {
   "cell_type": "markdown",
   "id": "935bfdab",
   "metadata": {},
   "source": [
    "*Root-Mean-Squared-Error* (RMSE) will be used for the following reasons:\n",
    "\n",
    "1. It punishes larger errors more than smaller errors; therefore, it provides a more realistic assessment of the model's performance. \n",
    "2. Normalizing the RMSE helps in comparing the score of a ML model with scores achieved by other models that are trained on different scales."
   ]
  },
  {
   "cell_type": "markdown",
   "id": "17e889fa",
   "metadata": {},
   "source": [
    "### 5.2 Training a Linear Regression Model"
   ]
  },
  {
   "cell_type": "markdown",
   "id": "819f0aa8",
   "metadata": {},
   "source": [
    "Before trying a Decision Tree model (and other Ensembles that leverage it), and tuning their hyperparameters and so on, I would like to start by training a Linear Regression model. This will serve as a quick model that other models can be compared to. Moreover, it is an easy hack to allow me to test that my data preparation and data cleaning were done correctly."
   ]
  },
  {
   "cell_type": "code",
   "execution_count": 62,
   "id": "e1122949",
   "metadata": {},
   "outputs": [
    {
     "data": {
      "text/html": [
       "<style>#sk-container-id-5 {color: black;}#sk-container-id-5 pre{padding: 0;}#sk-container-id-5 div.sk-toggleable {background-color: white;}#sk-container-id-5 label.sk-toggleable__label {cursor: pointer;display: block;width: 100%;margin-bottom: 0;padding: 0.3em;box-sizing: border-box;text-align: center;}#sk-container-id-5 label.sk-toggleable__label-arrow:before {content: \"▸\";float: left;margin-right: 0.25em;color: #696969;}#sk-container-id-5 label.sk-toggleable__label-arrow:hover:before {color: black;}#sk-container-id-5 div.sk-estimator:hover label.sk-toggleable__label-arrow:before {color: black;}#sk-container-id-5 div.sk-toggleable__content {max-height: 0;max-width: 0;overflow: hidden;text-align: left;background-color: #f0f8ff;}#sk-container-id-5 div.sk-toggleable__content pre {margin: 0.2em;color: black;border-radius: 0.25em;background-color: #f0f8ff;}#sk-container-id-5 input.sk-toggleable__control:checked~div.sk-toggleable__content {max-height: 200px;max-width: 100%;overflow: auto;}#sk-container-id-5 input.sk-toggleable__control:checked~label.sk-toggleable__label-arrow:before {content: \"▾\";}#sk-container-id-5 div.sk-estimator input.sk-toggleable__control:checked~label.sk-toggleable__label {background-color: #d4ebff;}#sk-container-id-5 div.sk-label input.sk-toggleable__control:checked~label.sk-toggleable__label {background-color: #d4ebff;}#sk-container-id-5 input.sk-hidden--visually {border: 0;clip: rect(1px 1px 1px 1px);clip: rect(1px, 1px, 1px, 1px);height: 1px;margin: -1px;overflow: hidden;padding: 0;position: absolute;width: 1px;}#sk-container-id-5 div.sk-estimator {font-family: monospace;background-color: #f0f8ff;border: 1px dotted black;border-radius: 0.25em;box-sizing: border-box;margin-bottom: 0.5em;}#sk-container-id-5 div.sk-estimator:hover {background-color: #d4ebff;}#sk-container-id-5 div.sk-parallel-item::after {content: \"\";width: 100%;border-bottom: 1px solid gray;flex-grow: 1;}#sk-container-id-5 div.sk-label:hover label.sk-toggleable__label {background-color: #d4ebff;}#sk-container-id-5 div.sk-serial::before {content: \"\";position: absolute;border-left: 1px solid gray;box-sizing: border-box;top: 0;bottom: 0;left: 50%;z-index: 0;}#sk-container-id-5 div.sk-serial {display: flex;flex-direction: column;align-items: center;background-color: white;padding-right: 0.2em;padding-left: 0.2em;position: relative;}#sk-container-id-5 div.sk-item {position: relative;z-index: 1;}#sk-container-id-5 div.sk-parallel {display: flex;align-items: stretch;justify-content: center;background-color: white;position: relative;}#sk-container-id-5 div.sk-item::before, #sk-container-id-5 div.sk-parallel-item::before {content: \"\";position: absolute;border-left: 1px solid gray;box-sizing: border-box;top: 0;bottom: 0;left: 50%;z-index: -1;}#sk-container-id-5 div.sk-parallel-item {display: flex;flex-direction: column;z-index: 1;position: relative;background-color: white;}#sk-container-id-5 div.sk-parallel-item:first-child::after {align-self: flex-end;width: 50%;}#sk-container-id-5 div.sk-parallel-item:last-child::after {align-self: flex-start;width: 50%;}#sk-container-id-5 div.sk-parallel-item:only-child::after {width: 0;}#sk-container-id-5 div.sk-dashed-wrapped {border: 1px dashed gray;margin: 0 0.4em 0.5em 0.4em;box-sizing: border-box;padding-bottom: 0.4em;background-color: white;}#sk-container-id-5 div.sk-label label {font-family: monospace;font-weight: bold;display: inline-block;line-height: 1.2em;}#sk-container-id-5 div.sk-label-container {text-align: center;}#sk-container-id-5 div.sk-container {/* jupyter's `normalize.less` sets `[hidden] { display: none; }` but bootstrap.min.css set `[hidden] { display: none !important; }` so we also need the `!important` here to be able to override the default hidden behavior on the sphinx rendered scikit-learn.org. See: https://github.com/scikit-learn/scikit-learn/issues/21755 */display: inline-block !important;position: relative;}#sk-container-id-5 div.sk-text-repr-fallback {display: none;}</style><div id=\"sk-container-id-5\" class=\"sk-top-container\"><div class=\"sk-text-repr-fallback\"><pre>Pipeline(steps=[(&#x27;columntransformer&#x27;,\n",
       "                 ColumnTransformer(remainder=Pipeline(steps=[(&#x27;maxabsscaler&#x27;,\n",
       "                                                              MaxAbsScaler()),\n",
       "                                                             (&#x27;standardscaler&#x27;,\n",
       "                                                              StandardScaler())]),\n",
       "                                   transformers=[(&#x27;log&#x27;,\n",
       "                                                  Pipeline(steps=[(&#x27;functiontransformer&#x27;,\n",
       "                                                                   FunctionTransformer(feature_names_out=&#x27;one-to-one&#x27;,\n",
       "                                                                                       func=&lt;ufunc &#x27;log&#x27;&gt;)),\n",
       "                                                                  (&#x27;minmaxscaler&#x27;,\n",
       "                                                                   MinMaxScaler())]),\n",
       "                                                  [&#x27;Year&#x27;, &#x27;Runtime(Mins)&#x27;]),\n",
       "                                                 (&#x27;genre_...\n",
       "                                                                   OrdinalEncoder(categories=[[&#x27;Action&#x27;,\n",
       "                                                                                               &#x27;Comedy&#x27;,\n",
       "                                                                                               &#x27;Animation&#x27;,\n",
       "                                                                                               &#x27;Drama&#x27;,\n",
       "                                                                                               &#x27;Adventure&#x27;,\n",
       "                                                                                               &#x27;Biography&#x27;,\n",
       "                                                                                               &#x27;Crime&#x27;,\n",
       "                                                                                               &#x27;Horror&#x27;,\n",
       "                                                                                               &#x27;Mystery&#x27;,\n",
       "                                                                                               &#x27;Fantasy&#x27;,\n",
       "                                                                                               &#x27;Western&#x27;,\n",
       "                                                                                               &#x27;Film-Noir&#x27;]]))]),\n",
       "                                                  [&#x27;main_genre&#x27;]),\n",
       "                                                 (&#x27;cat&#x27;,\n",
       "                                                  Pipeline(steps=[(&#x27;onehotencoder&#x27;,\n",
       "                                                                   OneHotEncoder(handle_unknown=&#x27;ignore&#x27;))]),\n",
       "                                                  &lt;sklearn.compose._column_transformer.make_column_selector object at 0x0000028846061250&gt;)])),\n",
       "                (&#x27;linearregression&#x27;, LinearRegression())])</pre><b>In a Jupyter environment, please rerun this cell to show the HTML representation or trust the notebook. <br />On GitHub, the HTML representation is unable to render, please try loading this page with nbviewer.org.</b></div><div class=\"sk-container\" hidden><div class=\"sk-item sk-dashed-wrapped\"><div class=\"sk-label-container\"><div class=\"sk-label sk-toggleable\"><input class=\"sk-toggleable__control sk-hidden--visually\" id=\"sk-estimator-id-59\" type=\"checkbox\" ><label for=\"sk-estimator-id-59\" class=\"sk-toggleable__label sk-toggleable__label-arrow\">Pipeline</label><div class=\"sk-toggleable__content\"><pre>Pipeline(steps=[(&#x27;columntransformer&#x27;,\n",
       "                 ColumnTransformer(remainder=Pipeline(steps=[(&#x27;maxabsscaler&#x27;,\n",
       "                                                              MaxAbsScaler()),\n",
       "                                                             (&#x27;standardscaler&#x27;,\n",
       "                                                              StandardScaler())]),\n",
       "                                   transformers=[(&#x27;log&#x27;,\n",
       "                                                  Pipeline(steps=[(&#x27;functiontransformer&#x27;,\n",
       "                                                                   FunctionTransformer(feature_names_out=&#x27;one-to-one&#x27;,\n",
       "                                                                                       func=&lt;ufunc &#x27;log&#x27;&gt;)),\n",
       "                                                                  (&#x27;minmaxscaler&#x27;,\n",
       "                                                                   MinMaxScaler())]),\n",
       "                                                  [&#x27;Year&#x27;, &#x27;Runtime(Mins)&#x27;]),\n",
       "                                                 (&#x27;genre_...\n",
       "                                                                   OrdinalEncoder(categories=[[&#x27;Action&#x27;,\n",
       "                                                                                               &#x27;Comedy&#x27;,\n",
       "                                                                                               &#x27;Animation&#x27;,\n",
       "                                                                                               &#x27;Drama&#x27;,\n",
       "                                                                                               &#x27;Adventure&#x27;,\n",
       "                                                                                               &#x27;Biography&#x27;,\n",
       "                                                                                               &#x27;Crime&#x27;,\n",
       "                                                                                               &#x27;Horror&#x27;,\n",
       "                                                                                               &#x27;Mystery&#x27;,\n",
       "                                                                                               &#x27;Fantasy&#x27;,\n",
       "                                                                                               &#x27;Western&#x27;,\n",
       "                                                                                               &#x27;Film-Noir&#x27;]]))]),\n",
       "                                                  [&#x27;main_genre&#x27;]),\n",
       "                                                 (&#x27;cat&#x27;,\n",
       "                                                  Pipeline(steps=[(&#x27;onehotencoder&#x27;,\n",
       "                                                                   OneHotEncoder(handle_unknown=&#x27;ignore&#x27;))]),\n",
       "                                                  &lt;sklearn.compose._column_transformer.make_column_selector object at 0x0000028846061250&gt;)])),\n",
       "                (&#x27;linearregression&#x27;, LinearRegression())])</pre></div></div></div><div class=\"sk-serial\"><div class=\"sk-item sk-dashed-wrapped\"><div class=\"sk-label-container\"><div class=\"sk-label sk-toggleable\"><input class=\"sk-toggleable__control sk-hidden--visually\" id=\"sk-estimator-id-60\" type=\"checkbox\" ><label for=\"sk-estimator-id-60\" class=\"sk-toggleable__label sk-toggleable__label-arrow\">columntransformer: ColumnTransformer</label><div class=\"sk-toggleable__content\"><pre>ColumnTransformer(remainder=Pipeline(steps=[(&#x27;maxabsscaler&#x27;, MaxAbsScaler()),\n",
       "                                            (&#x27;standardscaler&#x27;,\n",
       "                                             StandardScaler())]),\n",
       "                  transformers=[(&#x27;log&#x27;,\n",
       "                                 Pipeline(steps=[(&#x27;functiontransformer&#x27;,\n",
       "                                                  FunctionTransformer(feature_names_out=&#x27;one-to-one&#x27;,\n",
       "                                                                      func=&lt;ufunc &#x27;log&#x27;&gt;)),\n",
       "                                                 (&#x27;minmaxscaler&#x27;,\n",
       "                                                  MinMaxScaler())]),\n",
       "                                 [&#x27;Year&#x27;, &#x27;Runtime(Mins)&#x27;]),\n",
       "                                (&#x27;genre_ordinal&#x27;,\n",
       "                                 Pipeline(steps=[(&#x27;ordinalencoder&#x27;,\n",
       "                                                  OrdinalEncoder(categories=[[&#x27;Action&#x27;,\n",
       "                                                                              &#x27;Comedy&#x27;,\n",
       "                                                                              &#x27;Animation&#x27;,\n",
       "                                                                              &#x27;Drama&#x27;,\n",
       "                                                                              &#x27;Adventure&#x27;,\n",
       "                                                                              &#x27;Biography&#x27;,\n",
       "                                                                              &#x27;Crime&#x27;,\n",
       "                                                                              &#x27;Horror&#x27;,\n",
       "                                                                              &#x27;Mystery&#x27;,\n",
       "                                                                              &#x27;Fantasy&#x27;,\n",
       "                                                                              &#x27;Western&#x27;,\n",
       "                                                                              &#x27;Film-Noir&#x27;]]))]),\n",
       "                                 [&#x27;main_genre&#x27;]),\n",
       "                                (&#x27;cat&#x27;,\n",
       "                                 Pipeline(steps=[(&#x27;onehotencoder&#x27;,\n",
       "                                                  OneHotEncoder(handle_unknown=&#x27;ignore&#x27;))]),\n",
       "                                 &lt;sklearn.compose._column_transformer.make_column_selector object at 0x0000028846061250&gt;)])</pre></div></div></div><div class=\"sk-parallel\"><div class=\"sk-parallel-item\"><div class=\"sk-item\"><div class=\"sk-label-container\"><div class=\"sk-label sk-toggleable\"><input class=\"sk-toggleable__control sk-hidden--visually\" id=\"sk-estimator-id-61\" type=\"checkbox\" ><label for=\"sk-estimator-id-61\" class=\"sk-toggleable__label sk-toggleable__label-arrow\">log</label><div class=\"sk-toggleable__content\"><pre>[&#x27;Year&#x27;, &#x27;Runtime(Mins)&#x27;]</pre></div></div></div><div class=\"sk-serial\"><div class=\"sk-item\"><div class=\"sk-serial\"><div class=\"sk-item\"><div class=\"sk-estimator sk-toggleable\"><input class=\"sk-toggleable__control sk-hidden--visually\" id=\"sk-estimator-id-62\" type=\"checkbox\" ><label for=\"sk-estimator-id-62\" class=\"sk-toggleable__label sk-toggleable__label-arrow\">FunctionTransformer</label><div class=\"sk-toggleable__content\"><pre>FunctionTransformer(feature_names_out=&#x27;one-to-one&#x27;, func=&lt;ufunc &#x27;log&#x27;&gt;)</pre></div></div></div><div class=\"sk-item\"><div class=\"sk-estimator sk-toggleable\"><input class=\"sk-toggleable__control sk-hidden--visually\" id=\"sk-estimator-id-63\" type=\"checkbox\" ><label for=\"sk-estimator-id-63\" class=\"sk-toggleable__label sk-toggleable__label-arrow\">MinMaxScaler</label><div class=\"sk-toggleable__content\"><pre>MinMaxScaler()</pre></div></div></div></div></div></div></div></div><div class=\"sk-parallel-item\"><div class=\"sk-item\"><div class=\"sk-label-container\"><div class=\"sk-label sk-toggleable\"><input class=\"sk-toggleable__control sk-hidden--visually\" id=\"sk-estimator-id-64\" type=\"checkbox\" ><label for=\"sk-estimator-id-64\" class=\"sk-toggleable__label sk-toggleable__label-arrow\">genre_ordinal</label><div class=\"sk-toggleable__content\"><pre>[&#x27;main_genre&#x27;]</pre></div></div></div><div class=\"sk-serial\"><div class=\"sk-item\"><div class=\"sk-serial\"><div class=\"sk-item\"><div class=\"sk-estimator sk-toggleable\"><input class=\"sk-toggleable__control sk-hidden--visually\" id=\"sk-estimator-id-65\" type=\"checkbox\" ><label for=\"sk-estimator-id-65\" class=\"sk-toggleable__label sk-toggleable__label-arrow\">OrdinalEncoder</label><div class=\"sk-toggleable__content\"><pre>OrdinalEncoder(categories=[[&#x27;Action&#x27;, &#x27;Comedy&#x27;, &#x27;Animation&#x27;, &#x27;Drama&#x27;,\n",
       "                            &#x27;Adventure&#x27;, &#x27;Biography&#x27;, &#x27;Crime&#x27;, &#x27;Horror&#x27;,\n",
       "                            &#x27;Mystery&#x27;, &#x27;Fantasy&#x27;, &#x27;Western&#x27;, &#x27;Film-Noir&#x27;]])</pre></div></div></div></div></div></div></div></div><div class=\"sk-parallel-item\"><div class=\"sk-item\"><div class=\"sk-label-container\"><div class=\"sk-label sk-toggleable\"><input class=\"sk-toggleable__control sk-hidden--visually\" id=\"sk-estimator-id-66\" type=\"checkbox\" ><label for=\"sk-estimator-id-66\" class=\"sk-toggleable__label sk-toggleable__label-arrow\">cat</label><div class=\"sk-toggleable__content\"><pre>&lt;sklearn.compose._column_transformer.make_column_selector object at 0x0000028846061250&gt;</pre></div></div></div><div class=\"sk-serial\"><div class=\"sk-item\"><div class=\"sk-serial\"><div class=\"sk-item\"><div class=\"sk-estimator sk-toggleable\"><input class=\"sk-toggleable__control sk-hidden--visually\" id=\"sk-estimator-id-67\" type=\"checkbox\" ><label for=\"sk-estimator-id-67\" class=\"sk-toggleable__label sk-toggleable__label-arrow\">OneHotEncoder</label><div class=\"sk-toggleable__content\"><pre>OneHotEncoder(handle_unknown=&#x27;ignore&#x27;)</pre></div></div></div></div></div></div></div></div><div class=\"sk-parallel-item\"><div class=\"sk-item\"><div class=\"sk-label-container\"><div class=\"sk-label sk-toggleable\"><input class=\"sk-toggleable__control sk-hidden--visually\" id=\"sk-estimator-id-68\" type=\"checkbox\" ><label for=\"sk-estimator-id-68\" class=\"sk-toggleable__label sk-toggleable__label-arrow\">remainder</label><div class=\"sk-toggleable__content\"><pre>[&#x27;Rating&#x27;]</pre></div></div></div><div class=\"sk-serial\"><div class=\"sk-item\"><div class=\"sk-serial\"><div class=\"sk-item\"><div class=\"sk-estimator sk-toggleable\"><input class=\"sk-toggleable__control sk-hidden--visually\" id=\"sk-estimator-id-69\" type=\"checkbox\" ><label for=\"sk-estimator-id-69\" class=\"sk-toggleable__label sk-toggleable__label-arrow\">MaxAbsScaler</label><div class=\"sk-toggleable__content\"><pre>MaxAbsScaler()</pre></div></div></div><div class=\"sk-item\"><div class=\"sk-estimator sk-toggleable\"><input class=\"sk-toggleable__control sk-hidden--visually\" id=\"sk-estimator-id-70\" type=\"checkbox\" ><label for=\"sk-estimator-id-70\" class=\"sk-toggleable__label sk-toggleable__label-arrow\">StandardScaler</label><div class=\"sk-toggleable__content\"><pre>StandardScaler()</pre></div></div></div></div></div></div></div></div></div></div><div class=\"sk-item\"><div class=\"sk-estimator sk-toggleable\"><input class=\"sk-toggleable__control sk-hidden--visually\" id=\"sk-estimator-id-71\" type=\"checkbox\" ><label for=\"sk-estimator-id-71\" class=\"sk-toggleable__label sk-toggleable__label-arrow\">LinearRegression</label><div class=\"sk-toggleable__content\"><pre>LinearRegression()</pre></div></div></div></div></div></div></div>"
      ],
      "text/plain": [
       "Pipeline(steps=[('columntransformer',\n",
       "                 ColumnTransformer(remainder=Pipeline(steps=[('maxabsscaler',\n",
       "                                                              MaxAbsScaler()),\n",
       "                                                             ('standardscaler',\n",
       "                                                              StandardScaler())]),\n",
       "                                   transformers=[('log',\n",
       "                                                  Pipeline(steps=[('functiontransformer',\n",
       "                                                                   FunctionTransformer(feature_names_out='one-to-one',\n",
       "                                                                                       func=<ufunc 'log'>)),\n",
       "                                                                  ('minmaxscaler',\n",
       "                                                                   MinMaxScaler())]),\n",
       "                                                  ['Year', 'Runtime(Mins)']),\n",
       "                                                 ('genre_...\n",
       "                                                                   OrdinalEncoder(categories=[['Action',\n",
       "                                                                                               'Comedy',\n",
       "                                                                                               'Animation',\n",
       "                                                                                               'Drama',\n",
       "                                                                                               'Adventure',\n",
       "                                                                                               'Biography',\n",
       "                                                                                               'Crime',\n",
       "                                                                                               'Horror',\n",
       "                                                                                               'Mystery',\n",
       "                                                                                               'Fantasy',\n",
       "                                                                                               'Western',\n",
       "                                                                                               'Film-Noir']]))]),\n",
       "                                                  ['main_genre']),\n",
       "                                                 ('cat',\n",
       "                                                  Pipeline(steps=[('onehotencoder',\n",
       "                                                                   OneHotEncoder(handle_unknown='ignore'))]),\n",
       "                                                  <sklearn.compose._column_transformer.make_column_selector object at 0x0000028846061250>)])),\n",
       "                ('linearregression', LinearRegression())])"
      ]
     },
     "execution_count": 62,
     "metadata": {},
     "output_type": "execute_result"
    }
   ],
   "source": [
    "from sklearn.linear_model import LinearRegression\n",
    "\n",
    "lin_reg = make_pipeline(preprocessing, LinearRegression())\n",
    "lin_reg.fit(movies, movies_labels)"
   ]
  },
  {
   "cell_type": "markdown",
   "id": "78eff811",
   "metadata": {},
   "source": [
    "Use the trained *Linear Regression* model to make predictions on the movies dataset:"
   ]
  },
  {
   "cell_type": "code",
   "execution_count": 63,
   "id": "4f134c98",
   "metadata": {},
   "outputs": [],
   "source": [
    "movies_predictions = lin_reg.predict(movies)"
   ]
  },
  {
   "cell_type": "markdown",
   "id": "1d63f8e4",
   "metadata": {},
   "source": [
    "We can evaluate the Linear Regression model's performance on the trainign set:"
   ]
  },
  {
   "cell_type": "code",
   "execution_count": 64,
   "id": "2dc2c9a9",
   "metadata": {},
   "outputs": [
    {
     "data": {
      "text/plain": [
       "483276.18722301186"
      ]
     },
     "execution_count": 64,
     "metadata": {},
     "output_type": "execute_result"
    }
   ],
   "source": [
    "from sklearn.metrics import mean_squared_error\n",
    "\n",
    "lin_rmse = mean_squared_error(movies_labels, movies_predictions, squared=False)\n",
    "lin_rmse"
   ]
  },
  {
   "cell_type": "markdown",
   "id": "cd8512ce",
   "metadata": {},
   "source": [
    "### 5.3 Cross-Validation Evaluation"
   ]
  },
  {
   "cell_type": "markdown",
   "id": "2b159ecd",
   "metadata": {},
   "source": [
    "We can use Scikit-Learns's *k_-fold cross-validation* to get the cross-validation score. This is a more accurate evaluation method. Cross-validation helps in making our training set more representative: the model can use the training set to generalize well against unseen data. "
   ]
  },
  {
   "cell_type": "code",
   "execution_count": 65,
   "id": "a031c048",
   "metadata": {},
   "outputs": [
    {
     "data": {
      "text/plain": [
       "count    1.000000e+01\n",
       "mean     2.240501e+08\n",
       "std      9.385236e+07\n",
       "min      5.739925e+07\n",
       "25%      2.288375e+08\n",
       "50%      2.547323e+08\n",
       "75%      2.636599e+08\n",
       "max      3.518344e+08\n",
       "dtype: float64"
      ]
     },
     "execution_count": 65,
     "metadata": {},
     "output_type": "execute_result"
    }
   ],
   "source": [
    "from sklearn.model_selection import cross_val_score\n",
    "lin_rmses = -cross_val_score(lin_reg, movies, movies_labels,\n",
    "                              scoring=\"neg_root_mean_squared_error\", cv=10)\n",
    "pd.Series(lin_rmses).describe()"
   ]
  },
  {
   "cell_type": "markdown",
   "id": "9e70c2ad",
   "metadata": {},
   "source": [
    "The true mean of the labels is:"
   ]
  },
  {
   "cell_type": "code",
   "execution_count": 66,
   "id": "4af144aa",
   "metadata": {},
   "outputs": [
    {
     "data": {
      "text/plain": [
       "47922201.353391394"
      ]
     },
     "execution_count": 66,
     "metadata": {},
     "output_type": "execute_result"
    }
   ],
   "source": [
    "movies_labels.mean()"
   ]
  },
  {
   "cell_type": "markdown",
   "id": "18f89662",
   "metadata": {},
   "source": [
    "Thus, the normalized RMSE (NRMSE) is:"
   ]
  },
  {
   "cell_type": "code",
   "execution_count": 67,
   "id": "332b6fee",
   "metadata": {},
   "outputs": [
    {
     "name": "stdout",
     "output_type": "stream",
     "text": [
      "NRMSE of Linear Regression =  4.675288471682255\n"
     ]
    }
   ],
   "source": [
    "print(\"NRMSE of Linear Regression = \", lin_rmses.mean() / movies_labels.mean())"
   ]
  },
  {
   "cell_type": "markdown",
   "id": "7f0ac53e",
   "metadata": {},
   "source": [
    "## Section 6: Experiment with Other Models"
   ]
  },
  {
   "cell_type": "markdown",
   "id": "6cd39d2b",
   "metadata": {},
   "source": [
    "### 6.1 Decision Tree"
   ]
  },
  {
   "cell_type": "markdown",
   "id": "78686478",
   "metadata": {},
   "source": [
    "Let us start with a *Decision Tree*:"
   ]
  },
  {
   "cell_type": "code",
   "execution_count": 39,
   "id": "d8a3f022",
   "metadata": {},
   "outputs": [
    {
     "data": {
      "text/html": [
       "<style>#sk-container-id-2 {color: black;}#sk-container-id-2 pre{padding: 0;}#sk-container-id-2 div.sk-toggleable {background-color: white;}#sk-container-id-2 label.sk-toggleable__label {cursor: pointer;display: block;width: 100%;margin-bottom: 0;padding: 0.3em;box-sizing: border-box;text-align: center;}#sk-container-id-2 label.sk-toggleable__label-arrow:before {content: \"▸\";float: left;margin-right: 0.25em;color: #696969;}#sk-container-id-2 label.sk-toggleable__label-arrow:hover:before {color: black;}#sk-container-id-2 div.sk-estimator:hover label.sk-toggleable__label-arrow:before {color: black;}#sk-container-id-2 div.sk-toggleable__content {max-height: 0;max-width: 0;overflow: hidden;text-align: left;background-color: #f0f8ff;}#sk-container-id-2 div.sk-toggleable__content pre {margin: 0.2em;color: black;border-radius: 0.25em;background-color: #f0f8ff;}#sk-container-id-2 input.sk-toggleable__control:checked~div.sk-toggleable__content {max-height: 200px;max-width: 100%;overflow: auto;}#sk-container-id-2 input.sk-toggleable__control:checked~label.sk-toggleable__label-arrow:before {content: \"▾\";}#sk-container-id-2 div.sk-estimator input.sk-toggleable__control:checked~label.sk-toggleable__label {background-color: #d4ebff;}#sk-container-id-2 div.sk-label input.sk-toggleable__control:checked~label.sk-toggleable__label {background-color: #d4ebff;}#sk-container-id-2 input.sk-hidden--visually {border: 0;clip: rect(1px 1px 1px 1px);clip: rect(1px, 1px, 1px, 1px);height: 1px;margin: -1px;overflow: hidden;padding: 0;position: absolute;width: 1px;}#sk-container-id-2 div.sk-estimator {font-family: monospace;background-color: #f0f8ff;border: 1px dotted black;border-radius: 0.25em;box-sizing: border-box;margin-bottom: 0.5em;}#sk-container-id-2 div.sk-estimator:hover {background-color: #d4ebff;}#sk-container-id-2 div.sk-parallel-item::after {content: \"\";width: 100%;border-bottom: 1px solid gray;flex-grow: 1;}#sk-container-id-2 div.sk-label:hover label.sk-toggleable__label {background-color: #d4ebff;}#sk-container-id-2 div.sk-serial::before {content: \"\";position: absolute;border-left: 1px solid gray;box-sizing: border-box;top: 0;bottom: 0;left: 50%;z-index: 0;}#sk-container-id-2 div.sk-serial {display: flex;flex-direction: column;align-items: center;background-color: white;padding-right: 0.2em;padding-left: 0.2em;position: relative;}#sk-container-id-2 div.sk-item {position: relative;z-index: 1;}#sk-container-id-2 div.sk-parallel {display: flex;align-items: stretch;justify-content: center;background-color: white;position: relative;}#sk-container-id-2 div.sk-item::before, #sk-container-id-2 div.sk-parallel-item::before {content: \"\";position: absolute;border-left: 1px solid gray;box-sizing: border-box;top: 0;bottom: 0;left: 50%;z-index: -1;}#sk-container-id-2 div.sk-parallel-item {display: flex;flex-direction: column;z-index: 1;position: relative;background-color: white;}#sk-container-id-2 div.sk-parallel-item:first-child::after {align-self: flex-end;width: 50%;}#sk-container-id-2 div.sk-parallel-item:last-child::after {align-self: flex-start;width: 50%;}#sk-container-id-2 div.sk-parallel-item:only-child::after {width: 0;}#sk-container-id-2 div.sk-dashed-wrapped {border: 1px dashed gray;margin: 0 0.4em 0.5em 0.4em;box-sizing: border-box;padding-bottom: 0.4em;background-color: white;}#sk-container-id-2 div.sk-label label {font-family: monospace;font-weight: bold;display: inline-block;line-height: 1.2em;}#sk-container-id-2 div.sk-label-container {text-align: center;}#sk-container-id-2 div.sk-container {/* jupyter's `normalize.less` sets `[hidden] { display: none; }` but bootstrap.min.css set `[hidden] { display: none !important; }` so we also need the `!important` here to be able to override the default hidden behavior on the sphinx rendered scikit-learn.org. See: https://github.com/scikit-learn/scikit-learn/issues/21755 */display: inline-block !important;position: relative;}#sk-container-id-2 div.sk-text-repr-fallback {display: none;}</style><div id=\"sk-container-id-2\" class=\"sk-top-container\"><div class=\"sk-text-repr-fallback\"><pre>Pipeline(steps=[(&#x27;columntransformer&#x27;,\n",
       "                 ColumnTransformer(remainder=Pipeline(steps=[(&#x27;maxabsscaler&#x27;,\n",
       "                                                              MaxAbsScaler()),\n",
       "                                                             (&#x27;standardscaler&#x27;,\n",
       "                                                              StandardScaler())]),\n",
       "                                   transformers=[(&#x27;log&#x27;,\n",
       "                                                  Pipeline(steps=[(&#x27;functiontransformer&#x27;,\n",
       "                                                                   FunctionTransformer(feature_names_out=&#x27;one-to-one&#x27;,\n",
       "                                                                                       func=&lt;ufunc &#x27;log&#x27;&gt;)),\n",
       "                                                                  (&#x27;minmaxscaler&#x27;,\n",
       "                                                                   MinMaxScaler())]),\n",
       "                                                  [&#x27;Year&#x27;, &#x27;Runtime(Mins)&#x27;]),\n",
       "                                                 (&#x27;genre_...\n",
       "                                                                                               &#x27;Drama&#x27;,\n",
       "                                                                                               &#x27;Adventure&#x27;,\n",
       "                                                                                               &#x27;Biography&#x27;,\n",
       "                                                                                               &#x27;Crime&#x27;,\n",
       "                                                                                               &#x27;Horror&#x27;,\n",
       "                                                                                               &#x27;Mystery&#x27;,\n",
       "                                                                                               &#x27;Fantasy&#x27;,\n",
       "                                                                                               &#x27;Western&#x27;,\n",
       "                                                                                               &#x27;Film-Noir&#x27;]]))]),\n",
       "                                                  [&#x27;main_genre&#x27;]),\n",
       "                                                 (&#x27;cat&#x27;,\n",
       "                                                  Pipeline(steps=[(&#x27;onehotencoder&#x27;,\n",
       "                                                                   OneHotEncoder(handle_unknown=&#x27;ignore&#x27;))]),\n",
       "                                                  &lt;sklearn.compose._column_transformer.make_column_selector object at 0x0000028846061250&gt;)])),\n",
       "                (&#x27;decisiontreeregressor&#x27;,\n",
       "                 DecisionTreeRegressor(random_state=42))])</pre><b>In a Jupyter environment, please rerun this cell to show the HTML representation or trust the notebook. <br />On GitHub, the HTML representation is unable to render, please try loading this page with nbviewer.org.</b></div><div class=\"sk-container\" hidden><div class=\"sk-item sk-dashed-wrapped\"><div class=\"sk-label-container\"><div class=\"sk-label sk-toggleable\"><input class=\"sk-toggleable__control sk-hidden--visually\" id=\"sk-estimator-id-14\" type=\"checkbox\" ><label for=\"sk-estimator-id-14\" class=\"sk-toggleable__label sk-toggleable__label-arrow\">Pipeline</label><div class=\"sk-toggleable__content\"><pre>Pipeline(steps=[(&#x27;columntransformer&#x27;,\n",
       "                 ColumnTransformer(remainder=Pipeline(steps=[(&#x27;maxabsscaler&#x27;,\n",
       "                                                              MaxAbsScaler()),\n",
       "                                                             (&#x27;standardscaler&#x27;,\n",
       "                                                              StandardScaler())]),\n",
       "                                   transformers=[(&#x27;log&#x27;,\n",
       "                                                  Pipeline(steps=[(&#x27;functiontransformer&#x27;,\n",
       "                                                                   FunctionTransformer(feature_names_out=&#x27;one-to-one&#x27;,\n",
       "                                                                                       func=&lt;ufunc &#x27;log&#x27;&gt;)),\n",
       "                                                                  (&#x27;minmaxscaler&#x27;,\n",
       "                                                                   MinMaxScaler())]),\n",
       "                                                  [&#x27;Year&#x27;, &#x27;Runtime(Mins)&#x27;]),\n",
       "                                                 (&#x27;genre_...\n",
       "                                                                                               &#x27;Drama&#x27;,\n",
       "                                                                                               &#x27;Adventure&#x27;,\n",
       "                                                                                               &#x27;Biography&#x27;,\n",
       "                                                                                               &#x27;Crime&#x27;,\n",
       "                                                                                               &#x27;Horror&#x27;,\n",
       "                                                                                               &#x27;Mystery&#x27;,\n",
       "                                                                                               &#x27;Fantasy&#x27;,\n",
       "                                                                                               &#x27;Western&#x27;,\n",
       "                                                                                               &#x27;Film-Noir&#x27;]]))]),\n",
       "                                                  [&#x27;main_genre&#x27;]),\n",
       "                                                 (&#x27;cat&#x27;,\n",
       "                                                  Pipeline(steps=[(&#x27;onehotencoder&#x27;,\n",
       "                                                                   OneHotEncoder(handle_unknown=&#x27;ignore&#x27;))]),\n",
       "                                                  &lt;sklearn.compose._column_transformer.make_column_selector object at 0x0000028846061250&gt;)])),\n",
       "                (&#x27;decisiontreeregressor&#x27;,\n",
       "                 DecisionTreeRegressor(random_state=42))])</pre></div></div></div><div class=\"sk-serial\"><div class=\"sk-item sk-dashed-wrapped\"><div class=\"sk-label-container\"><div class=\"sk-label sk-toggleable\"><input class=\"sk-toggleable__control sk-hidden--visually\" id=\"sk-estimator-id-15\" type=\"checkbox\" ><label for=\"sk-estimator-id-15\" class=\"sk-toggleable__label sk-toggleable__label-arrow\">columntransformer: ColumnTransformer</label><div class=\"sk-toggleable__content\"><pre>ColumnTransformer(remainder=Pipeline(steps=[(&#x27;maxabsscaler&#x27;, MaxAbsScaler()),\n",
       "                                            (&#x27;standardscaler&#x27;,\n",
       "                                             StandardScaler())]),\n",
       "                  transformers=[(&#x27;log&#x27;,\n",
       "                                 Pipeline(steps=[(&#x27;functiontransformer&#x27;,\n",
       "                                                  FunctionTransformer(feature_names_out=&#x27;one-to-one&#x27;,\n",
       "                                                                      func=&lt;ufunc &#x27;log&#x27;&gt;)),\n",
       "                                                 (&#x27;minmaxscaler&#x27;,\n",
       "                                                  MinMaxScaler())]),\n",
       "                                 [&#x27;Year&#x27;, &#x27;Runtime(Mins)&#x27;]),\n",
       "                                (&#x27;genre_ordinal&#x27;,\n",
       "                                 Pipeline(steps=[(&#x27;ordinalencoder&#x27;,\n",
       "                                                  OrdinalEncoder(categories=[[&#x27;Action&#x27;,\n",
       "                                                                              &#x27;Comedy&#x27;,\n",
       "                                                                              &#x27;Animation&#x27;,\n",
       "                                                                              &#x27;Drama&#x27;,\n",
       "                                                                              &#x27;Adventure&#x27;,\n",
       "                                                                              &#x27;Biography&#x27;,\n",
       "                                                                              &#x27;Crime&#x27;,\n",
       "                                                                              &#x27;Horror&#x27;,\n",
       "                                                                              &#x27;Mystery&#x27;,\n",
       "                                                                              &#x27;Fantasy&#x27;,\n",
       "                                                                              &#x27;Western&#x27;,\n",
       "                                                                              &#x27;Film-Noir&#x27;]]))]),\n",
       "                                 [&#x27;main_genre&#x27;]),\n",
       "                                (&#x27;cat&#x27;,\n",
       "                                 Pipeline(steps=[(&#x27;onehotencoder&#x27;,\n",
       "                                                  OneHotEncoder(handle_unknown=&#x27;ignore&#x27;))]),\n",
       "                                 &lt;sklearn.compose._column_transformer.make_column_selector object at 0x0000028846061250&gt;)])</pre></div></div></div><div class=\"sk-parallel\"><div class=\"sk-parallel-item\"><div class=\"sk-item\"><div class=\"sk-label-container\"><div class=\"sk-label sk-toggleable\"><input class=\"sk-toggleable__control sk-hidden--visually\" id=\"sk-estimator-id-16\" type=\"checkbox\" ><label for=\"sk-estimator-id-16\" class=\"sk-toggleable__label sk-toggleable__label-arrow\">log</label><div class=\"sk-toggleable__content\"><pre>[&#x27;Year&#x27;, &#x27;Runtime(Mins)&#x27;]</pre></div></div></div><div class=\"sk-serial\"><div class=\"sk-item\"><div class=\"sk-serial\"><div class=\"sk-item\"><div class=\"sk-estimator sk-toggleable\"><input class=\"sk-toggleable__control sk-hidden--visually\" id=\"sk-estimator-id-17\" type=\"checkbox\" ><label for=\"sk-estimator-id-17\" class=\"sk-toggleable__label sk-toggleable__label-arrow\">FunctionTransformer</label><div class=\"sk-toggleable__content\"><pre>FunctionTransformer(feature_names_out=&#x27;one-to-one&#x27;, func=&lt;ufunc &#x27;log&#x27;&gt;)</pre></div></div></div><div class=\"sk-item\"><div class=\"sk-estimator sk-toggleable\"><input class=\"sk-toggleable__control sk-hidden--visually\" id=\"sk-estimator-id-18\" type=\"checkbox\" ><label for=\"sk-estimator-id-18\" class=\"sk-toggleable__label sk-toggleable__label-arrow\">MinMaxScaler</label><div class=\"sk-toggleable__content\"><pre>MinMaxScaler()</pre></div></div></div></div></div></div></div></div><div class=\"sk-parallel-item\"><div class=\"sk-item\"><div class=\"sk-label-container\"><div class=\"sk-label sk-toggleable\"><input class=\"sk-toggleable__control sk-hidden--visually\" id=\"sk-estimator-id-19\" type=\"checkbox\" ><label for=\"sk-estimator-id-19\" class=\"sk-toggleable__label sk-toggleable__label-arrow\">genre_ordinal</label><div class=\"sk-toggleable__content\"><pre>[&#x27;main_genre&#x27;]</pre></div></div></div><div class=\"sk-serial\"><div class=\"sk-item\"><div class=\"sk-serial\"><div class=\"sk-item\"><div class=\"sk-estimator sk-toggleable\"><input class=\"sk-toggleable__control sk-hidden--visually\" id=\"sk-estimator-id-20\" type=\"checkbox\" ><label for=\"sk-estimator-id-20\" class=\"sk-toggleable__label sk-toggleable__label-arrow\">OrdinalEncoder</label><div class=\"sk-toggleable__content\"><pre>OrdinalEncoder(categories=[[&#x27;Action&#x27;, &#x27;Comedy&#x27;, &#x27;Animation&#x27;, &#x27;Drama&#x27;,\n",
       "                            &#x27;Adventure&#x27;, &#x27;Biography&#x27;, &#x27;Crime&#x27;, &#x27;Horror&#x27;,\n",
       "                            &#x27;Mystery&#x27;, &#x27;Fantasy&#x27;, &#x27;Western&#x27;, &#x27;Film-Noir&#x27;]])</pre></div></div></div></div></div></div></div></div><div class=\"sk-parallel-item\"><div class=\"sk-item\"><div class=\"sk-label-container\"><div class=\"sk-label sk-toggleable\"><input class=\"sk-toggleable__control sk-hidden--visually\" id=\"sk-estimator-id-21\" type=\"checkbox\" ><label for=\"sk-estimator-id-21\" class=\"sk-toggleable__label sk-toggleable__label-arrow\">cat</label><div class=\"sk-toggleable__content\"><pre>&lt;sklearn.compose._column_transformer.make_column_selector object at 0x0000028846061250&gt;</pre></div></div></div><div class=\"sk-serial\"><div class=\"sk-item\"><div class=\"sk-serial\"><div class=\"sk-item\"><div class=\"sk-estimator sk-toggleable\"><input class=\"sk-toggleable__control sk-hidden--visually\" id=\"sk-estimator-id-22\" type=\"checkbox\" ><label for=\"sk-estimator-id-22\" class=\"sk-toggleable__label sk-toggleable__label-arrow\">OneHotEncoder</label><div class=\"sk-toggleable__content\"><pre>OneHotEncoder(handle_unknown=&#x27;ignore&#x27;)</pre></div></div></div></div></div></div></div></div><div class=\"sk-parallel-item\"><div class=\"sk-item\"><div class=\"sk-label-container\"><div class=\"sk-label sk-toggleable\"><input class=\"sk-toggleable__control sk-hidden--visually\" id=\"sk-estimator-id-23\" type=\"checkbox\" ><label for=\"sk-estimator-id-23\" class=\"sk-toggleable__label sk-toggleable__label-arrow\">remainder</label><div class=\"sk-toggleable__content\"><pre>[&#x27;Rating&#x27;]</pre></div></div></div><div class=\"sk-serial\"><div class=\"sk-item\"><div class=\"sk-serial\"><div class=\"sk-item\"><div class=\"sk-estimator sk-toggleable\"><input class=\"sk-toggleable__control sk-hidden--visually\" id=\"sk-estimator-id-24\" type=\"checkbox\" ><label for=\"sk-estimator-id-24\" class=\"sk-toggleable__label sk-toggleable__label-arrow\">MaxAbsScaler</label><div class=\"sk-toggleable__content\"><pre>MaxAbsScaler()</pre></div></div></div><div class=\"sk-item\"><div class=\"sk-estimator sk-toggleable\"><input class=\"sk-toggleable__control sk-hidden--visually\" id=\"sk-estimator-id-25\" type=\"checkbox\" ><label for=\"sk-estimator-id-25\" class=\"sk-toggleable__label sk-toggleable__label-arrow\">StandardScaler</label><div class=\"sk-toggleable__content\"><pre>StandardScaler()</pre></div></div></div></div></div></div></div></div></div></div><div class=\"sk-item\"><div class=\"sk-estimator sk-toggleable\"><input class=\"sk-toggleable__control sk-hidden--visually\" id=\"sk-estimator-id-26\" type=\"checkbox\" ><label for=\"sk-estimator-id-26\" class=\"sk-toggleable__label sk-toggleable__label-arrow\">DecisionTreeRegressor</label><div class=\"sk-toggleable__content\"><pre>DecisionTreeRegressor(random_state=42)</pre></div></div></div></div></div></div></div>"
      ],
      "text/plain": [
       "Pipeline(steps=[('columntransformer',\n",
       "                 ColumnTransformer(remainder=Pipeline(steps=[('maxabsscaler',\n",
       "                                                              MaxAbsScaler()),\n",
       "                                                             ('standardscaler',\n",
       "                                                              StandardScaler())]),\n",
       "                                   transformers=[('log',\n",
       "                                                  Pipeline(steps=[('functiontransformer',\n",
       "                                                                   FunctionTransformer(feature_names_out='one-to-one',\n",
       "                                                                                       func=<ufunc 'log'>)),\n",
       "                                                                  ('minmaxscaler',\n",
       "                                                                   MinMaxScaler())]),\n",
       "                                                  ['Year', 'Runtime(Mins)']),\n",
       "                                                 ('genre_...\n",
       "                                                                                               'Drama',\n",
       "                                                                                               'Adventure',\n",
       "                                                                                               'Biography',\n",
       "                                                                                               'Crime',\n",
       "                                                                                               'Horror',\n",
       "                                                                                               'Mystery',\n",
       "                                                                                               'Fantasy',\n",
       "                                                                                               'Western',\n",
       "                                                                                               'Film-Noir']]))]),\n",
       "                                                  ['main_genre']),\n",
       "                                                 ('cat',\n",
       "                                                  Pipeline(steps=[('onehotencoder',\n",
       "                                                                   OneHotEncoder(handle_unknown='ignore'))]),\n",
       "                                                  <sklearn.compose._column_transformer.make_column_selector object at 0x0000028846061250>)])),\n",
       "                ('decisiontreeregressor',\n",
       "                 DecisionTreeRegressor(random_state=42))])"
      ]
     },
     "execution_count": 39,
     "metadata": {},
     "output_type": "execute_result"
    }
   ],
   "source": [
    "from sklearn.tree import DecisionTreeRegressor\n",
    "\n",
    "dt_tree_reg = make_pipeline(preprocessing, DecisionTreeRegressor(random_state=42))\n",
    "dt_tree_reg.fit(movies, movies_labels)"
   ]
  },
  {
   "cell_type": "markdown",
   "id": "1dc0b486",
   "metadata": {},
   "source": [
    "Now, we use the *Decision Tree* model to make predictions and evaluate its cross-validation score:"
   ]
  },
  {
   "cell_type": "code",
   "execution_count": 40,
   "id": "27c709a9",
   "metadata": {},
   "outputs": [
    {
     "data": {
      "text/plain": [
       "count    1.000000e+01\n",
       "mean     5.477880e+07\n",
       "std      4.547337e+06\n",
       "min      4.813420e+07\n",
       "25%      5.150334e+07\n",
       "50%      5.521847e+07\n",
       "75%      5.716879e+07\n",
       "max      6.243202e+07\n",
       "dtype: float64"
      ]
     },
     "execution_count": 40,
     "metadata": {},
     "output_type": "execute_result"
    }
   ],
   "source": [
    "movies_predictions = dt_tree_reg.predict(movies)\n",
    "tree_rmses = -cross_val_score(dt_tree_reg, movies, movies_labels,\n",
    "                              scoring=\"neg_root_mean_squared_error\", cv=10)\n",
    "\n",
    "pd.Series(tree_rmses).describe()"
   ]
  },
  {
   "cell_type": "markdown",
   "id": "79281da2",
   "metadata": {},
   "source": [
    "We can calculate the NRMSE score:"
   ]
  },
  {
   "cell_type": "code",
   "execution_count": 41,
   "id": "4d2b8d13",
   "metadata": {},
   "outputs": [
    {
     "name": "stdout",
     "output_type": "stream",
     "text": [
      "NRMSE of Decision Tree =  1.1430776671776206\n"
     ]
    }
   ],
   "source": [
    "print(\"NRMSE of Decision Tree = \", tree_rmses.mean() / movies_labels.mean())"
   ]
  },
  {
   "cell_type": "markdown",
   "id": "8b6c48be",
   "metadata": {},
   "source": [
    "The *Decision Tree* model performs better than the *Linear Regression* model."
   ]
  },
  {
   "cell_type": "markdown",
   "id": "8584234a",
   "metadata": {},
   "source": [
    "### 6.2 Random Forest"
   ]
  },
  {
   "cell_type": "markdown",
   "id": "c7f97544",
   "metadata": {},
   "source": [
    "Let us use a *Random Forest* model to make predictions. A *Random Forest* is an ensemble ML model that fits a number of decision tree regressors on parts of the dataset and uses averaging to increase their prediction accuracy [[6]]( https://scikit-learn.org/stable/modules/generated/sklearn.ensemble.RandomForestClassifier.html)."
   ]
  },
  {
   "cell_type": "code",
   "execution_count": 42,
   "id": "a751239b",
   "metadata": {},
   "outputs": [
    {
     "data": {
      "text/plain": [
       "count    1.000000e+01\n",
       "mean     4.565302e+07\n",
       "std      3.577763e+06\n",
       "min      3.916027e+07\n",
       "25%      4.390238e+07\n",
       "50%      4.558694e+07\n",
       "75%      4.738095e+07\n",
       "max      5.251790e+07\n",
       "dtype: float64"
      ]
     },
     "execution_count": 42,
     "metadata": {},
     "output_type": "execute_result"
    }
   ],
   "source": [
    "from sklearn.ensemble import RandomForestRegressor\n",
    "\n",
    "forest_reg = make_pipeline(preprocessing,\n",
    "                          RandomForestRegressor(random_state=42))\n",
    "forest_rmses = -cross_val_score(forest_reg, movies, movies_labels,\n",
    "                               scoring=\"neg_root_mean_squared_error\",\n",
    "                                cv=10,\n",
    "                                n_jobs=-1)\n",
    "pd.Series(forest_rmses).describe()"
   ]
  },
  {
   "cell_type": "markdown",
   "id": "517fbdfb",
   "metadata": {},
   "source": [
    "Now, we get the NRMSE of the *Random Forest* model:"
   ]
  },
  {
   "cell_type": "code",
   "execution_count": 43,
   "id": "ef09d0ee",
   "metadata": {},
   "outputs": [
    {
     "name": "stdout",
     "output_type": "stream",
     "text": [
      "NRMSE of Random Forest =  0.9526485843048041\n"
     ]
    }
   ],
   "source": [
    "print(\"NRMSE of Random Forest = \", forest_rmses.mean() / movies_labels.mean())"
   ]
  },
  {
   "cell_type": "markdown",
   "id": "44149ee5",
   "metadata": {},
   "source": [
    "The *Random Forest* model performed very well compared to *Decision Tree* and *Linear Regression* models."
   ]
  },
  {
   "cell_type": "markdown",
   "id": "95d4a742",
   "metadata": {},
   "source": [
    "### 6.3 Gradient Boosted Decision Trees"
   ]
  },
  {
   "cell_type": "markdown",
   "id": "d6402a7d",
   "metadata": {},
   "source": [
    "*Gradient Boosted Decision Trees* (*GBDT*) is another ensemble ML model. GBDT is an ensemble of *decision trees* where tree are added one at a time to the ensemble. Each added tree is fit to correct the prediction errors made be the previous decision tree model [[7]](https://machinelearningmastery.com/gradient-boosting-with-scikit-learn-xgboost-lightgbm-and-catboost/)."
   ]
  },
  {
   "cell_type": "code",
   "execution_count": 44,
   "id": "3c4ee7e8",
   "metadata": {},
   "outputs": [
    {
     "data": {
      "text/plain": [
       "count    1.000000e+01\n",
       "mean     4.629474e+07\n",
       "std      3.232908e+06\n",
       "min      4.123956e+07\n",
       "25%      4.515758e+07\n",
       "50%      4.554240e+07\n",
       "75%      4.738289e+07\n",
       "max      5.368460e+07\n",
       "dtype: float64"
      ]
     },
     "execution_count": 44,
     "metadata": {},
     "output_type": "execute_result"
    }
   ],
   "source": [
    "from sklearn.ensemble import GradientBoostingRegressor\n",
    "\n",
    "gbdt_reg = make_pipeline(preprocessing, GradientBoostingRegressor(\n",
    "    loss='squared_error',\n",
    "    random_state=42))\n",
    "gbdt_rmses = -cross_val_score(gbdt_reg, movies, movies_labels, scoring=\"neg_root_mean_squared_error\", cv=10, n_jobs=-1)\n",
    "pd.Series(gbdt_rmses).describe()"
   ]
  },
  {
   "cell_type": "markdown",
   "id": "05a6f27d",
   "metadata": {},
   "source": [
    "*GDBT* did not perform as well as the *Random Forest* model.\n",
    "\n",
    "The NRMSE of the GDBT is:"
   ]
  },
  {
   "cell_type": "code",
   "execution_count": 45,
   "id": "f0fcede7",
   "metadata": {},
   "outputs": [
    {
     "name": "stdout",
     "output_type": "stream",
     "text": [
      "NRMSE of GBDT =  0.9660394906320112\n"
     ]
    }
   ],
   "source": [
    "print(\"NRMSE of GBDT = \", gbdt_rmses.mean() / movies_labels.mean())"
   ]
  },
  {
   "cell_type": "markdown",
   "id": "323c6561",
   "metadata": {},
   "source": [
    "### 6.4 Extra Trees"
   ]
  },
  {
   "cell_type": "markdown",
   "id": "9eddbffa",
   "metadata": {},
   "source": [
    "*Extremely Randomized Trees*, or *Extra Trees*, are a variant of the *Random Forest* model. *Extra Trees*, unlike *Random Forest*, splits are made at random."
   ]
  },
  {
   "cell_type": "code",
   "execution_count": 46,
   "id": "6a098d5b",
   "metadata": {},
   "outputs": [
    {
     "data": {
      "text/plain": [
       "count    1.000000e+01\n",
       "mean     4.724134e+07\n",
       "std      3.819065e+06\n",
       "min      4.114796e+07\n",
       "25%      4.487563e+07\n",
       "50%      4.639944e+07\n",
       "75%      4.938257e+07\n",
       "max      5.384222e+07\n",
       "dtype: float64"
      ]
     },
     "execution_count": 46,
     "metadata": {},
     "output_type": "execute_result"
    }
   ],
   "source": [
    "from sklearn.ensemble import ExtraTreesRegressor\n",
    "\n",
    "extra_forest_reg = make_pipeline(preprocessing,\n",
    "                          ExtraTreesRegressor(random_state=42))\n",
    "extra_forest_rmses = -cross_val_score(extra_forest_reg, movies, movies_labels,\n",
    "                               scoring=\"neg_root_mean_squared_error\",\n",
    "                                cv=10,\n",
    "                                n_jobs=-1)\n",
    "pd.Series(extra_forest_rmses).describe()\n",
    "\n"
   ]
  },
  {
   "cell_type": "code",
   "execution_count": 47,
   "id": "93aad5b3",
   "metadata": {},
   "outputs": [
    {
     "name": "stdout",
     "output_type": "stream",
     "text": [
      "NRMSE of Extra-Trees =  0.9857923216828568\n"
     ]
    }
   ],
   "source": [
    "print(\"NRMSE of Extra-Trees = \", extra_forest_rmses.mean() / movies_labels.mean())"
   ]
  },
  {
   "cell_type": "markdown",
   "id": "fe528309",
   "metadata": {},
   "source": [
    "### 6.5 AdaBoost"
   ]
  },
  {
   "cell_type": "markdown",
   "id": "4c808ddd",
   "metadata": {},
   "source": [
    "An *AdaBoost* fits weak learners (decision trees, in our case) on repeatedly modified versions of the data. Then, the predictions from all of them is combined using a weighted majority vote to return the final prediction [[8]]( https://scikit-learn.org/stable/modules/ensemble.html#voting-regressor)."
   ]
  },
  {
   "cell_type": "code",
   "execution_count": 48,
   "id": "4cd3c648",
   "metadata": {},
   "outputs": [
    {
     "data": {
      "text/plain": [
       "count    1.000000e+01\n",
       "mean     4.736903e+07\n",
       "std      3.784332e+06\n",
       "min      3.994280e+07\n",
       "25%      4.584362e+07\n",
       "50%      4.725426e+07\n",
       "75%      4.883171e+07\n",
       "max      5.425911e+07\n",
       "dtype: float64"
      ]
     },
     "execution_count": 48,
     "metadata": {},
     "output_type": "execute_result"
    }
   ],
   "source": [
    "from sklearn.tree import DecisionTreeRegressor\n",
    "from sklearn.ensemble import AdaBoostRegressor\n",
    "\n",
    "Ada_Boost_reg = make_pipeline(preprocessing,\n",
    "                             AdaBoostRegressor(\n",
    "                                  DecisionTreeRegressor(random_state=42),\n",
    "                                  random_state=42))\n",
    "Ada_Boost_rmses = -cross_val_score(Ada_Boost_reg, movies, movies_labels,\n",
    "                               scoring=\"neg_root_mean_squared_error\",\n",
    "                                cv=10,\n",
    "                                n_jobs=-1)\n",
    "pd.Series(Ada_Boost_rmses).describe()\n",
    "\n"
   ]
  },
  {
   "cell_type": "code",
   "execution_count": 49,
   "id": "86b9d1d3",
   "metadata": {},
   "outputs": [
    {
     "name": "stdout",
     "output_type": "stream",
     "text": [
      "NRMSE of AdaBoost =  0.988456954300905\n"
     ]
    }
   ],
   "source": [
    "print(\"NRMSE of AdaBoost = \", Ada_Boost_rmses.mean() / movies_labels.mean())"
   ]
  },
  {
   "cell_type": "markdown",
   "id": "2bec3af8",
   "metadata": {},
   "source": [
    "### 6.6 Voting Regressor"
   ]
  },
  {
   "cell_type": "markdown",
   "id": "d7b1bf22",
   "metadata": {},
   "source": [
    "A *Voting Regressor* combines various ML models and returns the average of their predictions [[8]]( https://scikit-learn.org/stable/modules/ensemble.html#voting-regressor).\n",
    "\n",
    "In the following, we combine a *Random Forest* and *Gradient Boosted Decision Trees*:"
   ]
  },
  {
   "cell_type": "code",
   "execution_count": 50,
   "id": "d7c1cdf3",
   "metadata": {},
   "outputs": [
    {
     "data": {
      "text/html": [
       "<style>#sk-container-id-3 {color: black;}#sk-container-id-3 pre{padding: 0;}#sk-container-id-3 div.sk-toggleable {background-color: white;}#sk-container-id-3 label.sk-toggleable__label {cursor: pointer;display: block;width: 100%;margin-bottom: 0;padding: 0.3em;box-sizing: border-box;text-align: center;}#sk-container-id-3 label.sk-toggleable__label-arrow:before {content: \"▸\";float: left;margin-right: 0.25em;color: #696969;}#sk-container-id-3 label.sk-toggleable__label-arrow:hover:before {color: black;}#sk-container-id-3 div.sk-estimator:hover label.sk-toggleable__label-arrow:before {color: black;}#sk-container-id-3 div.sk-toggleable__content {max-height: 0;max-width: 0;overflow: hidden;text-align: left;background-color: #f0f8ff;}#sk-container-id-3 div.sk-toggleable__content pre {margin: 0.2em;color: black;border-radius: 0.25em;background-color: #f0f8ff;}#sk-container-id-3 input.sk-toggleable__control:checked~div.sk-toggleable__content {max-height: 200px;max-width: 100%;overflow: auto;}#sk-container-id-3 input.sk-toggleable__control:checked~label.sk-toggleable__label-arrow:before {content: \"▾\";}#sk-container-id-3 div.sk-estimator input.sk-toggleable__control:checked~label.sk-toggleable__label {background-color: #d4ebff;}#sk-container-id-3 div.sk-label input.sk-toggleable__control:checked~label.sk-toggleable__label {background-color: #d4ebff;}#sk-container-id-3 input.sk-hidden--visually {border: 0;clip: rect(1px 1px 1px 1px);clip: rect(1px, 1px, 1px, 1px);height: 1px;margin: -1px;overflow: hidden;padding: 0;position: absolute;width: 1px;}#sk-container-id-3 div.sk-estimator {font-family: monospace;background-color: #f0f8ff;border: 1px dotted black;border-radius: 0.25em;box-sizing: border-box;margin-bottom: 0.5em;}#sk-container-id-3 div.sk-estimator:hover {background-color: #d4ebff;}#sk-container-id-3 div.sk-parallel-item::after {content: \"\";width: 100%;border-bottom: 1px solid gray;flex-grow: 1;}#sk-container-id-3 div.sk-label:hover label.sk-toggleable__label {background-color: #d4ebff;}#sk-container-id-3 div.sk-serial::before {content: \"\";position: absolute;border-left: 1px solid gray;box-sizing: border-box;top: 0;bottom: 0;left: 50%;z-index: 0;}#sk-container-id-3 div.sk-serial {display: flex;flex-direction: column;align-items: center;background-color: white;padding-right: 0.2em;padding-left: 0.2em;position: relative;}#sk-container-id-3 div.sk-item {position: relative;z-index: 1;}#sk-container-id-3 div.sk-parallel {display: flex;align-items: stretch;justify-content: center;background-color: white;position: relative;}#sk-container-id-3 div.sk-item::before, #sk-container-id-3 div.sk-parallel-item::before {content: \"\";position: absolute;border-left: 1px solid gray;box-sizing: border-box;top: 0;bottom: 0;left: 50%;z-index: -1;}#sk-container-id-3 div.sk-parallel-item {display: flex;flex-direction: column;z-index: 1;position: relative;background-color: white;}#sk-container-id-3 div.sk-parallel-item:first-child::after {align-self: flex-end;width: 50%;}#sk-container-id-3 div.sk-parallel-item:last-child::after {align-self: flex-start;width: 50%;}#sk-container-id-3 div.sk-parallel-item:only-child::after {width: 0;}#sk-container-id-3 div.sk-dashed-wrapped {border: 1px dashed gray;margin: 0 0.4em 0.5em 0.4em;box-sizing: border-box;padding-bottom: 0.4em;background-color: white;}#sk-container-id-3 div.sk-label label {font-family: monospace;font-weight: bold;display: inline-block;line-height: 1.2em;}#sk-container-id-3 div.sk-label-container {text-align: center;}#sk-container-id-3 div.sk-container {/* jupyter's `normalize.less` sets `[hidden] { display: none; }` but bootstrap.min.css set `[hidden] { display: none !important; }` so we also need the `!important` here to be able to override the default hidden behavior on the sphinx rendered scikit-learn.org. See: https://github.com/scikit-learn/scikit-learn/issues/21755 */display: inline-block !important;position: relative;}#sk-container-id-3 div.sk-text-repr-fallback {display: none;}</style><div id=\"sk-container-id-3\" class=\"sk-top-container\"><div class=\"sk-text-repr-fallback\"><pre>Pipeline(steps=[(&#x27;columntransformer&#x27;,\n",
       "                 ColumnTransformer(remainder=Pipeline(steps=[(&#x27;maxabsscaler&#x27;,\n",
       "                                                              MaxAbsScaler()),\n",
       "                                                             (&#x27;standardscaler&#x27;,\n",
       "                                                              StandardScaler())]),\n",
       "                                   transformers=[(&#x27;log&#x27;,\n",
       "                                                  Pipeline(steps=[(&#x27;functiontransformer&#x27;,\n",
       "                                                                   FunctionTransformer(feature_names_out=&#x27;one-to-one&#x27;,\n",
       "                                                                                       func=&lt;ufunc &#x27;log&#x27;&gt;)),\n",
       "                                                                  (&#x27;minmaxscaler&#x27;,\n",
       "                                                                   MinMaxScaler())]),\n",
       "                                                  [&#x27;Year&#x27;, &#x27;Runtime(Mins)&#x27;]),\n",
       "                                                 (&#x27;genre_...\n",
       "                                                                                               &#x27;Film-Noir&#x27;]]))]),\n",
       "                                                  [&#x27;main_genre&#x27;]),\n",
       "                                                 (&#x27;cat&#x27;,\n",
       "                                                  Pipeline(steps=[(&#x27;onehotencoder&#x27;,\n",
       "                                                                   OneHotEncoder(handle_unknown=&#x27;ignore&#x27;))]),\n",
       "                                                  &lt;sklearn.compose._column_transformer.make_column_selector object at 0x0000028846061250&gt;)])),\n",
       "                (&#x27;votingregressor&#x27;,\n",
       "                 VotingRegressor(estimators=[(&#x27;rf&#x27;,\n",
       "                                              RandomForestRegressor(random_state=42)),\n",
       "                                             (&#x27;gb&#x27;,\n",
       "                                              GradientBoostingRegressor(random_state=42))]))])</pre><b>In a Jupyter environment, please rerun this cell to show the HTML representation or trust the notebook. <br />On GitHub, the HTML representation is unable to render, please try loading this page with nbviewer.org.</b></div><div class=\"sk-container\" hidden><div class=\"sk-item sk-dashed-wrapped\"><div class=\"sk-label-container\"><div class=\"sk-label sk-toggleable\"><input class=\"sk-toggleable__control sk-hidden--visually\" id=\"sk-estimator-id-27\" type=\"checkbox\" ><label for=\"sk-estimator-id-27\" class=\"sk-toggleable__label sk-toggleable__label-arrow\">Pipeline</label><div class=\"sk-toggleable__content\"><pre>Pipeline(steps=[(&#x27;columntransformer&#x27;,\n",
       "                 ColumnTransformer(remainder=Pipeline(steps=[(&#x27;maxabsscaler&#x27;,\n",
       "                                                              MaxAbsScaler()),\n",
       "                                                             (&#x27;standardscaler&#x27;,\n",
       "                                                              StandardScaler())]),\n",
       "                                   transformers=[(&#x27;log&#x27;,\n",
       "                                                  Pipeline(steps=[(&#x27;functiontransformer&#x27;,\n",
       "                                                                   FunctionTransformer(feature_names_out=&#x27;one-to-one&#x27;,\n",
       "                                                                                       func=&lt;ufunc &#x27;log&#x27;&gt;)),\n",
       "                                                                  (&#x27;minmaxscaler&#x27;,\n",
       "                                                                   MinMaxScaler())]),\n",
       "                                                  [&#x27;Year&#x27;, &#x27;Runtime(Mins)&#x27;]),\n",
       "                                                 (&#x27;genre_...\n",
       "                                                                                               &#x27;Film-Noir&#x27;]]))]),\n",
       "                                                  [&#x27;main_genre&#x27;]),\n",
       "                                                 (&#x27;cat&#x27;,\n",
       "                                                  Pipeline(steps=[(&#x27;onehotencoder&#x27;,\n",
       "                                                                   OneHotEncoder(handle_unknown=&#x27;ignore&#x27;))]),\n",
       "                                                  &lt;sklearn.compose._column_transformer.make_column_selector object at 0x0000028846061250&gt;)])),\n",
       "                (&#x27;votingregressor&#x27;,\n",
       "                 VotingRegressor(estimators=[(&#x27;rf&#x27;,\n",
       "                                              RandomForestRegressor(random_state=42)),\n",
       "                                             (&#x27;gb&#x27;,\n",
       "                                              GradientBoostingRegressor(random_state=42))]))])</pre></div></div></div><div class=\"sk-serial\"><div class=\"sk-item sk-dashed-wrapped\"><div class=\"sk-label-container\"><div class=\"sk-label sk-toggleable\"><input class=\"sk-toggleable__control sk-hidden--visually\" id=\"sk-estimator-id-28\" type=\"checkbox\" ><label for=\"sk-estimator-id-28\" class=\"sk-toggleable__label sk-toggleable__label-arrow\">columntransformer: ColumnTransformer</label><div class=\"sk-toggleable__content\"><pre>ColumnTransformer(remainder=Pipeline(steps=[(&#x27;maxabsscaler&#x27;, MaxAbsScaler()),\n",
       "                                            (&#x27;standardscaler&#x27;,\n",
       "                                             StandardScaler())]),\n",
       "                  transformers=[(&#x27;log&#x27;,\n",
       "                                 Pipeline(steps=[(&#x27;functiontransformer&#x27;,\n",
       "                                                  FunctionTransformer(feature_names_out=&#x27;one-to-one&#x27;,\n",
       "                                                                      func=&lt;ufunc &#x27;log&#x27;&gt;)),\n",
       "                                                 (&#x27;minmaxscaler&#x27;,\n",
       "                                                  MinMaxScaler())]),\n",
       "                                 [&#x27;Year&#x27;, &#x27;Runtime(Mins)&#x27;]),\n",
       "                                (&#x27;genre_ordinal&#x27;,\n",
       "                                 Pipeline(steps=[(&#x27;ordinalencoder&#x27;,\n",
       "                                                  OrdinalEncoder(categories=[[&#x27;Action&#x27;,\n",
       "                                                                              &#x27;Comedy&#x27;,\n",
       "                                                                              &#x27;Animation&#x27;,\n",
       "                                                                              &#x27;Drama&#x27;,\n",
       "                                                                              &#x27;Adventure&#x27;,\n",
       "                                                                              &#x27;Biography&#x27;,\n",
       "                                                                              &#x27;Crime&#x27;,\n",
       "                                                                              &#x27;Horror&#x27;,\n",
       "                                                                              &#x27;Mystery&#x27;,\n",
       "                                                                              &#x27;Fantasy&#x27;,\n",
       "                                                                              &#x27;Western&#x27;,\n",
       "                                                                              &#x27;Film-Noir&#x27;]]))]),\n",
       "                                 [&#x27;main_genre&#x27;]),\n",
       "                                (&#x27;cat&#x27;,\n",
       "                                 Pipeline(steps=[(&#x27;onehotencoder&#x27;,\n",
       "                                                  OneHotEncoder(handle_unknown=&#x27;ignore&#x27;))]),\n",
       "                                 &lt;sklearn.compose._column_transformer.make_column_selector object at 0x0000028846061250&gt;)])</pre></div></div></div><div class=\"sk-parallel\"><div class=\"sk-parallel-item\"><div class=\"sk-item\"><div class=\"sk-label-container\"><div class=\"sk-label sk-toggleable\"><input class=\"sk-toggleable__control sk-hidden--visually\" id=\"sk-estimator-id-29\" type=\"checkbox\" ><label for=\"sk-estimator-id-29\" class=\"sk-toggleable__label sk-toggleable__label-arrow\">log</label><div class=\"sk-toggleable__content\"><pre>[&#x27;Year&#x27;, &#x27;Runtime(Mins)&#x27;]</pre></div></div></div><div class=\"sk-serial\"><div class=\"sk-item\"><div class=\"sk-serial\"><div class=\"sk-item\"><div class=\"sk-estimator sk-toggleable\"><input class=\"sk-toggleable__control sk-hidden--visually\" id=\"sk-estimator-id-30\" type=\"checkbox\" ><label for=\"sk-estimator-id-30\" class=\"sk-toggleable__label sk-toggleable__label-arrow\">FunctionTransformer</label><div class=\"sk-toggleable__content\"><pre>FunctionTransformer(feature_names_out=&#x27;one-to-one&#x27;, func=&lt;ufunc &#x27;log&#x27;&gt;)</pre></div></div></div><div class=\"sk-item\"><div class=\"sk-estimator sk-toggleable\"><input class=\"sk-toggleable__control sk-hidden--visually\" id=\"sk-estimator-id-31\" type=\"checkbox\" ><label for=\"sk-estimator-id-31\" class=\"sk-toggleable__label sk-toggleable__label-arrow\">MinMaxScaler</label><div class=\"sk-toggleable__content\"><pre>MinMaxScaler()</pre></div></div></div></div></div></div></div></div><div class=\"sk-parallel-item\"><div class=\"sk-item\"><div class=\"sk-label-container\"><div class=\"sk-label sk-toggleable\"><input class=\"sk-toggleable__control sk-hidden--visually\" id=\"sk-estimator-id-32\" type=\"checkbox\" ><label for=\"sk-estimator-id-32\" class=\"sk-toggleable__label sk-toggleable__label-arrow\">genre_ordinal</label><div class=\"sk-toggleable__content\"><pre>[&#x27;main_genre&#x27;]</pre></div></div></div><div class=\"sk-serial\"><div class=\"sk-item\"><div class=\"sk-serial\"><div class=\"sk-item\"><div class=\"sk-estimator sk-toggleable\"><input class=\"sk-toggleable__control sk-hidden--visually\" id=\"sk-estimator-id-33\" type=\"checkbox\" ><label for=\"sk-estimator-id-33\" class=\"sk-toggleable__label sk-toggleable__label-arrow\">OrdinalEncoder</label><div class=\"sk-toggleable__content\"><pre>OrdinalEncoder(categories=[[&#x27;Action&#x27;, &#x27;Comedy&#x27;, &#x27;Animation&#x27;, &#x27;Drama&#x27;,\n",
       "                            &#x27;Adventure&#x27;, &#x27;Biography&#x27;, &#x27;Crime&#x27;, &#x27;Horror&#x27;,\n",
       "                            &#x27;Mystery&#x27;, &#x27;Fantasy&#x27;, &#x27;Western&#x27;, &#x27;Film-Noir&#x27;]])</pre></div></div></div></div></div></div></div></div><div class=\"sk-parallel-item\"><div class=\"sk-item\"><div class=\"sk-label-container\"><div class=\"sk-label sk-toggleable\"><input class=\"sk-toggleable__control sk-hidden--visually\" id=\"sk-estimator-id-34\" type=\"checkbox\" ><label for=\"sk-estimator-id-34\" class=\"sk-toggleable__label sk-toggleable__label-arrow\">cat</label><div class=\"sk-toggleable__content\"><pre>&lt;sklearn.compose._column_transformer.make_column_selector object at 0x0000028846061250&gt;</pre></div></div></div><div class=\"sk-serial\"><div class=\"sk-item\"><div class=\"sk-serial\"><div class=\"sk-item\"><div class=\"sk-estimator sk-toggleable\"><input class=\"sk-toggleable__control sk-hidden--visually\" id=\"sk-estimator-id-35\" type=\"checkbox\" ><label for=\"sk-estimator-id-35\" class=\"sk-toggleable__label sk-toggleable__label-arrow\">OneHotEncoder</label><div class=\"sk-toggleable__content\"><pre>OneHotEncoder(handle_unknown=&#x27;ignore&#x27;)</pre></div></div></div></div></div></div></div></div><div class=\"sk-parallel-item\"><div class=\"sk-item\"><div class=\"sk-label-container\"><div class=\"sk-label sk-toggleable\"><input class=\"sk-toggleable__control sk-hidden--visually\" id=\"sk-estimator-id-36\" type=\"checkbox\" ><label for=\"sk-estimator-id-36\" class=\"sk-toggleable__label sk-toggleable__label-arrow\">remainder</label><div class=\"sk-toggleable__content\"><pre>[&#x27;Rating&#x27;]</pre></div></div></div><div class=\"sk-serial\"><div class=\"sk-item\"><div class=\"sk-serial\"><div class=\"sk-item\"><div class=\"sk-estimator sk-toggleable\"><input class=\"sk-toggleable__control sk-hidden--visually\" id=\"sk-estimator-id-37\" type=\"checkbox\" ><label for=\"sk-estimator-id-37\" class=\"sk-toggleable__label sk-toggleable__label-arrow\">MaxAbsScaler</label><div class=\"sk-toggleable__content\"><pre>MaxAbsScaler()</pre></div></div></div><div class=\"sk-item\"><div class=\"sk-estimator sk-toggleable\"><input class=\"sk-toggleable__control sk-hidden--visually\" id=\"sk-estimator-id-38\" type=\"checkbox\" ><label for=\"sk-estimator-id-38\" class=\"sk-toggleable__label sk-toggleable__label-arrow\">StandardScaler</label><div class=\"sk-toggleable__content\"><pre>StandardScaler()</pre></div></div></div></div></div></div></div></div></div></div><div class=\"sk-item sk-dashed-wrapped\"><div class=\"sk-label-container\"><div class=\"sk-label sk-toggleable\"><input class=\"sk-toggleable__control sk-hidden--visually\" id=\"sk-estimator-id-39\" type=\"checkbox\" ><label for=\"sk-estimator-id-39\" class=\"sk-toggleable__label sk-toggleable__label-arrow\">votingregressor: VotingRegressor</label><div class=\"sk-toggleable__content\"><pre>VotingRegressor(estimators=[(&#x27;rf&#x27;, RandomForestRegressor(random_state=42)),\n",
       "                            (&#x27;gb&#x27;, GradientBoostingRegressor(random_state=42))])</pre></div></div></div><div class=\"sk-parallel\"><div class=\"sk-parallel-item\"><div class=\"sk-item\"><div class=\"sk-label-container\"><div class=\"sk-label sk-toggleable\"><label>rf</label></div></div><div class=\"sk-serial\"><div class=\"sk-item\"><div class=\"sk-estimator sk-toggleable\"><input class=\"sk-toggleable__control sk-hidden--visually\" id=\"sk-estimator-id-40\" type=\"checkbox\" ><label for=\"sk-estimator-id-40\" class=\"sk-toggleable__label sk-toggleable__label-arrow\">RandomForestRegressor</label><div class=\"sk-toggleable__content\"><pre>RandomForestRegressor(random_state=42)</pre></div></div></div></div></div></div><div class=\"sk-parallel-item\"><div class=\"sk-item\"><div class=\"sk-label-container\"><div class=\"sk-label sk-toggleable\"><label>gb</label></div></div><div class=\"sk-serial\"><div class=\"sk-item\"><div class=\"sk-estimator sk-toggleable\"><input class=\"sk-toggleable__control sk-hidden--visually\" id=\"sk-estimator-id-41\" type=\"checkbox\" ><label for=\"sk-estimator-id-41\" class=\"sk-toggleable__label sk-toggleable__label-arrow\">GradientBoostingRegressor</label><div class=\"sk-toggleable__content\"><pre>GradientBoostingRegressor(random_state=42)</pre></div></div></div></div></div></div></div></div></div></div></div></div>"
      ],
      "text/plain": [
       "Pipeline(steps=[('columntransformer',\n",
       "                 ColumnTransformer(remainder=Pipeline(steps=[('maxabsscaler',\n",
       "                                                              MaxAbsScaler()),\n",
       "                                                             ('standardscaler',\n",
       "                                                              StandardScaler())]),\n",
       "                                   transformers=[('log',\n",
       "                                                  Pipeline(steps=[('functiontransformer',\n",
       "                                                                   FunctionTransformer(feature_names_out='one-to-one',\n",
       "                                                                                       func=<ufunc 'log'>)),\n",
       "                                                                  ('minmaxscaler',\n",
       "                                                                   MinMaxScaler())]),\n",
       "                                                  ['Year', 'Runtime(Mins)']),\n",
       "                                                 ('genre_...\n",
       "                                                                                               'Film-Noir']]))]),\n",
       "                                                  ['main_genre']),\n",
       "                                                 ('cat',\n",
       "                                                  Pipeline(steps=[('onehotencoder',\n",
       "                                                                   OneHotEncoder(handle_unknown='ignore'))]),\n",
       "                                                  <sklearn.compose._column_transformer.make_column_selector object at 0x0000028846061250>)])),\n",
       "                ('votingregressor',\n",
       "                 VotingRegressor(estimators=[('rf',\n",
       "                                              RandomForestRegressor(random_state=42)),\n",
       "                                             ('gb',\n",
       "                                              GradientBoostingRegressor(random_state=42))]))])"
      ]
     },
     "execution_count": 50,
     "metadata": {},
     "output_type": "execute_result"
    }
   ],
   "source": [
    "from sklearn.ensemble import VotingRegressor\n",
    "\n",
    "reg1 = RandomForestRegressor(random_state=42)\n",
    "reg2 = GradientBoostingRegressor(loss='squared_error', random_state=42)\n",
    "\n",
    "voting_reg = make_pipeline(preprocessing, VotingRegressor(estimators=[('rf', reg1), ('gb', reg2)]))\n",
    "voting_reg.fit(movies, movies_labels)"
   ]
  },
  {
   "cell_type": "code",
   "execution_count": 51,
   "id": "e0373a87",
   "metadata": {},
   "outputs": [
    {
     "data": {
      "text/plain": [
       "count    1.000000e+01\n",
       "mean     4.504750e+07\n",
       "std      3.400001e+06\n",
       "min      3.919672e+07\n",
       "25%      4.332842e+07\n",
       "50%      4.455557e+07\n",
       "75%      4.645932e+07\n",
       "max      5.226792e+07\n",
       "dtype: float64"
      ]
     },
     "execution_count": 51,
     "metadata": {},
     "output_type": "execute_result"
    }
   ],
   "source": [
    "voting_rmses = -cross_val_score(voting_reg, movies, movies_labels, scoring=\"neg_root_mean_squared_error\", cv=10, n_jobs=-1)\n",
    "pd.Series(voting_rmses).describe()"
   ]
  },
  {
   "cell_type": "code",
   "execution_count": 52,
   "id": "6a48e395",
   "metadata": {},
   "outputs": [
    {
     "name": "stdout",
     "output_type": "stream",
     "text": [
      "NRMSE of Voting =  0.9400131805357883\n"
     ]
    }
   ],
   "source": [
    "print(\"NRMSE of Voting = \",voting_rmses.mean() / movies_labels.mean())"
   ]
  },
  {
   "cell_type": "markdown",
   "id": "d7e96460",
   "metadata": {},
   "source": [
    "### 6.7 Stacking"
   ]
  },
  {
   "cell_type": "markdown",
   "id": "b77175da",
   "metadata": {},
   "source": [
    "*Stacking* combined estimators to reduce their biases. The predictions of each estimator are stacked together. Each prediction is used as an input to a final estimator to computer the prediction [[8]]( https://scikit-learn.org/stable/modules/ensemble.html#voting-regressor)."
   ]
  },
  {
   "cell_type": "code",
   "execution_count": 53,
   "id": "dd26c42b",
   "metadata": {},
   "outputs": [
    {
     "data": {
      "text/html": [
       "<style>#sk-container-id-4 {color: black;}#sk-container-id-4 pre{padding: 0;}#sk-container-id-4 div.sk-toggleable {background-color: white;}#sk-container-id-4 label.sk-toggleable__label {cursor: pointer;display: block;width: 100%;margin-bottom: 0;padding: 0.3em;box-sizing: border-box;text-align: center;}#sk-container-id-4 label.sk-toggleable__label-arrow:before {content: \"▸\";float: left;margin-right: 0.25em;color: #696969;}#sk-container-id-4 label.sk-toggleable__label-arrow:hover:before {color: black;}#sk-container-id-4 div.sk-estimator:hover label.sk-toggleable__label-arrow:before {color: black;}#sk-container-id-4 div.sk-toggleable__content {max-height: 0;max-width: 0;overflow: hidden;text-align: left;background-color: #f0f8ff;}#sk-container-id-4 div.sk-toggleable__content pre {margin: 0.2em;color: black;border-radius: 0.25em;background-color: #f0f8ff;}#sk-container-id-4 input.sk-toggleable__control:checked~div.sk-toggleable__content {max-height: 200px;max-width: 100%;overflow: auto;}#sk-container-id-4 input.sk-toggleable__control:checked~label.sk-toggleable__label-arrow:before {content: \"▾\";}#sk-container-id-4 div.sk-estimator input.sk-toggleable__control:checked~label.sk-toggleable__label {background-color: #d4ebff;}#sk-container-id-4 div.sk-label input.sk-toggleable__control:checked~label.sk-toggleable__label {background-color: #d4ebff;}#sk-container-id-4 input.sk-hidden--visually {border: 0;clip: rect(1px 1px 1px 1px);clip: rect(1px, 1px, 1px, 1px);height: 1px;margin: -1px;overflow: hidden;padding: 0;position: absolute;width: 1px;}#sk-container-id-4 div.sk-estimator {font-family: monospace;background-color: #f0f8ff;border: 1px dotted black;border-radius: 0.25em;box-sizing: border-box;margin-bottom: 0.5em;}#sk-container-id-4 div.sk-estimator:hover {background-color: #d4ebff;}#sk-container-id-4 div.sk-parallel-item::after {content: \"\";width: 100%;border-bottom: 1px solid gray;flex-grow: 1;}#sk-container-id-4 div.sk-label:hover label.sk-toggleable__label {background-color: #d4ebff;}#sk-container-id-4 div.sk-serial::before {content: \"\";position: absolute;border-left: 1px solid gray;box-sizing: border-box;top: 0;bottom: 0;left: 50%;z-index: 0;}#sk-container-id-4 div.sk-serial {display: flex;flex-direction: column;align-items: center;background-color: white;padding-right: 0.2em;padding-left: 0.2em;position: relative;}#sk-container-id-4 div.sk-item {position: relative;z-index: 1;}#sk-container-id-4 div.sk-parallel {display: flex;align-items: stretch;justify-content: center;background-color: white;position: relative;}#sk-container-id-4 div.sk-item::before, #sk-container-id-4 div.sk-parallel-item::before {content: \"\";position: absolute;border-left: 1px solid gray;box-sizing: border-box;top: 0;bottom: 0;left: 50%;z-index: -1;}#sk-container-id-4 div.sk-parallel-item {display: flex;flex-direction: column;z-index: 1;position: relative;background-color: white;}#sk-container-id-4 div.sk-parallel-item:first-child::after {align-self: flex-end;width: 50%;}#sk-container-id-4 div.sk-parallel-item:last-child::after {align-self: flex-start;width: 50%;}#sk-container-id-4 div.sk-parallel-item:only-child::after {width: 0;}#sk-container-id-4 div.sk-dashed-wrapped {border: 1px dashed gray;margin: 0 0.4em 0.5em 0.4em;box-sizing: border-box;padding-bottom: 0.4em;background-color: white;}#sk-container-id-4 div.sk-label label {font-family: monospace;font-weight: bold;display: inline-block;line-height: 1.2em;}#sk-container-id-4 div.sk-label-container {text-align: center;}#sk-container-id-4 div.sk-container {/* jupyter's `normalize.less` sets `[hidden] { display: none; }` but bootstrap.min.css set `[hidden] { display: none !important; }` so we also need the `!important` here to be able to override the default hidden behavior on the sphinx rendered scikit-learn.org. See: https://github.com/scikit-learn/scikit-learn/issues/21755 */display: inline-block !important;position: relative;}#sk-container-id-4 div.sk-text-repr-fallback {display: none;}</style><div id=\"sk-container-id-4\" class=\"sk-top-container\"><div class=\"sk-text-repr-fallback\"><pre>Pipeline(steps=[(&#x27;columntransformer&#x27;,\n",
       "                 ColumnTransformer(remainder=Pipeline(steps=[(&#x27;maxabsscaler&#x27;,\n",
       "                                                              MaxAbsScaler()),\n",
       "                                                             (&#x27;standardscaler&#x27;,\n",
       "                                                              StandardScaler())]),\n",
       "                                   transformers=[(&#x27;log&#x27;,\n",
       "                                                  Pipeline(steps=[(&#x27;functiontransformer&#x27;,\n",
       "                                                                   FunctionTransformer(feature_names_out=&#x27;one-to-one&#x27;,\n",
       "                                                                                       func=&lt;ufunc &#x27;log&#x27;&gt;)),\n",
       "                                                                  (&#x27;minmaxscaler&#x27;,\n",
       "                                                                   MinMaxScaler())]),\n",
       "                                                  [&#x27;Year&#x27;, &#x27;Runtime(Mins)&#x27;]),\n",
       "                                                 (&#x27;genre_...\n",
       "                                                  &lt;sklearn.compose._column_transformer.make_column_selector object at 0x0000028846061250&gt;)])),\n",
       "                (&#x27;stackingregressor&#x27;,\n",
       "                 StackingRegressor(estimators=[(&#x27;RF&#x27;,\n",
       "                                                RandomForestRegressor(random_state=42)),\n",
       "                                               (&#x27;GradBoost&#x27;,\n",
       "                                                GradientBoostingRegressor(random_state=42)),\n",
       "                                               (&#x27;ExtraTrees&#x27;,\n",
       "                                                ExtraTreesRegressor(random_state=42))],\n",
       "                                   final_estimator=RandomForestRegressor(random_state=42)))])</pre><b>In a Jupyter environment, please rerun this cell to show the HTML representation or trust the notebook. <br />On GitHub, the HTML representation is unable to render, please try loading this page with nbviewer.org.</b></div><div class=\"sk-container\" hidden><div class=\"sk-item sk-dashed-wrapped\"><div class=\"sk-label-container\"><div class=\"sk-label sk-toggleable\"><input class=\"sk-toggleable__control sk-hidden--visually\" id=\"sk-estimator-id-42\" type=\"checkbox\" ><label for=\"sk-estimator-id-42\" class=\"sk-toggleable__label sk-toggleable__label-arrow\">Pipeline</label><div class=\"sk-toggleable__content\"><pre>Pipeline(steps=[(&#x27;columntransformer&#x27;,\n",
       "                 ColumnTransformer(remainder=Pipeline(steps=[(&#x27;maxabsscaler&#x27;,\n",
       "                                                              MaxAbsScaler()),\n",
       "                                                             (&#x27;standardscaler&#x27;,\n",
       "                                                              StandardScaler())]),\n",
       "                                   transformers=[(&#x27;log&#x27;,\n",
       "                                                  Pipeline(steps=[(&#x27;functiontransformer&#x27;,\n",
       "                                                                   FunctionTransformer(feature_names_out=&#x27;one-to-one&#x27;,\n",
       "                                                                                       func=&lt;ufunc &#x27;log&#x27;&gt;)),\n",
       "                                                                  (&#x27;minmaxscaler&#x27;,\n",
       "                                                                   MinMaxScaler())]),\n",
       "                                                  [&#x27;Year&#x27;, &#x27;Runtime(Mins)&#x27;]),\n",
       "                                                 (&#x27;genre_...\n",
       "                                                  &lt;sklearn.compose._column_transformer.make_column_selector object at 0x0000028846061250&gt;)])),\n",
       "                (&#x27;stackingregressor&#x27;,\n",
       "                 StackingRegressor(estimators=[(&#x27;RF&#x27;,\n",
       "                                                RandomForestRegressor(random_state=42)),\n",
       "                                               (&#x27;GradBoost&#x27;,\n",
       "                                                GradientBoostingRegressor(random_state=42)),\n",
       "                                               (&#x27;ExtraTrees&#x27;,\n",
       "                                                ExtraTreesRegressor(random_state=42))],\n",
       "                                   final_estimator=RandomForestRegressor(random_state=42)))])</pre></div></div></div><div class=\"sk-serial\"><div class=\"sk-item sk-dashed-wrapped\"><div class=\"sk-label-container\"><div class=\"sk-label sk-toggleable\"><input class=\"sk-toggleable__control sk-hidden--visually\" id=\"sk-estimator-id-43\" type=\"checkbox\" ><label for=\"sk-estimator-id-43\" class=\"sk-toggleable__label sk-toggleable__label-arrow\">columntransformer: ColumnTransformer</label><div class=\"sk-toggleable__content\"><pre>ColumnTransformer(remainder=Pipeline(steps=[(&#x27;maxabsscaler&#x27;, MaxAbsScaler()),\n",
       "                                            (&#x27;standardscaler&#x27;,\n",
       "                                             StandardScaler())]),\n",
       "                  transformers=[(&#x27;log&#x27;,\n",
       "                                 Pipeline(steps=[(&#x27;functiontransformer&#x27;,\n",
       "                                                  FunctionTransformer(feature_names_out=&#x27;one-to-one&#x27;,\n",
       "                                                                      func=&lt;ufunc &#x27;log&#x27;&gt;)),\n",
       "                                                 (&#x27;minmaxscaler&#x27;,\n",
       "                                                  MinMaxScaler())]),\n",
       "                                 [&#x27;Year&#x27;, &#x27;Runtime(Mins)&#x27;]),\n",
       "                                (&#x27;genre_ordinal&#x27;,\n",
       "                                 Pipeline(steps=[(&#x27;ordinalencoder&#x27;,\n",
       "                                                  OrdinalEncoder(categories=[[&#x27;Action&#x27;,\n",
       "                                                                              &#x27;Comedy&#x27;,\n",
       "                                                                              &#x27;Animation&#x27;,\n",
       "                                                                              &#x27;Drama&#x27;,\n",
       "                                                                              &#x27;Adventure&#x27;,\n",
       "                                                                              &#x27;Biography&#x27;,\n",
       "                                                                              &#x27;Crime&#x27;,\n",
       "                                                                              &#x27;Horror&#x27;,\n",
       "                                                                              &#x27;Mystery&#x27;,\n",
       "                                                                              &#x27;Fantasy&#x27;,\n",
       "                                                                              &#x27;Western&#x27;,\n",
       "                                                                              &#x27;Film-Noir&#x27;]]))]),\n",
       "                                 [&#x27;main_genre&#x27;]),\n",
       "                                (&#x27;cat&#x27;,\n",
       "                                 Pipeline(steps=[(&#x27;onehotencoder&#x27;,\n",
       "                                                  OneHotEncoder(handle_unknown=&#x27;ignore&#x27;))]),\n",
       "                                 &lt;sklearn.compose._column_transformer.make_column_selector object at 0x0000028846061250&gt;)])</pre></div></div></div><div class=\"sk-parallel\"><div class=\"sk-parallel-item\"><div class=\"sk-item\"><div class=\"sk-label-container\"><div class=\"sk-label sk-toggleable\"><input class=\"sk-toggleable__control sk-hidden--visually\" id=\"sk-estimator-id-44\" type=\"checkbox\" ><label for=\"sk-estimator-id-44\" class=\"sk-toggleable__label sk-toggleable__label-arrow\">log</label><div class=\"sk-toggleable__content\"><pre>[&#x27;Year&#x27;, &#x27;Runtime(Mins)&#x27;]</pre></div></div></div><div class=\"sk-serial\"><div class=\"sk-item\"><div class=\"sk-serial\"><div class=\"sk-item\"><div class=\"sk-estimator sk-toggleable\"><input class=\"sk-toggleable__control sk-hidden--visually\" id=\"sk-estimator-id-45\" type=\"checkbox\" ><label for=\"sk-estimator-id-45\" class=\"sk-toggleable__label sk-toggleable__label-arrow\">FunctionTransformer</label><div class=\"sk-toggleable__content\"><pre>FunctionTransformer(feature_names_out=&#x27;one-to-one&#x27;, func=&lt;ufunc &#x27;log&#x27;&gt;)</pre></div></div></div><div class=\"sk-item\"><div class=\"sk-estimator sk-toggleable\"><input class=\"sk-toggleable__control sk-hidden--visually\" id=\"sk-estimator-id-46\" type=\"checkbox\" ><label for=\"sk-estimator-id-46\" class=\"sk-toggleable__label sk-toggleable__label-arrow\">MinMaxScaler</label><div class=\"sk-toggleable__content\"><pre>MinMaxScaler()</pre></div></div></div></div></div></div></div></div><div class=\"sk-parallel-item\"><div class=\"sk-item\"><div class=\"sk-label-container\"><div class=\"sk-label sk-toggleable\"><input class=\"sk-toggleable__control sk-hidden--visually\" id=\"sk-estimator-id-47\" type=\"checkbox\" ><label for=\"sk-estimator-id-47\" class=\"sk-toggleable__label sk-toggleable__label-arrow\">genre_ordinal</label><div class=\"sk-toggleable__content\"><pre>[&#x27;main_genre&#x27;]</pre></div></div></div><div class=\"sk-serial\"><div class=\"sk-item\"><div class=\"sk-serial\"><div class=\"sk-item\"><div class=\"sk-estimator sk-toggleable\"><input class=\"sk-toggleable__control sk-hidden--visually\" id=\"sk-estimator-id-48\" type=\"checkbox\" ><label for=\"sk-estimator-id-48\" class=\"sk-toggleable__label sk-toggleable__label-arrow\">OrdinalEncoder</label><div class=\"sk-toggleable__content\"><pre>OrdinalEncoder(categories=[[&#x27;Action&#x27;, &#x27;Comedy&#x27;, &#x27;Animation&#x27;, &#x27;Drama&#x27;,\n",
       "                            &#x27;Adventure&#x27;, &#x27;Biography&#x27;, &#x27;Crime&#x27;, &#x27;Horror&#x27;,\n",
       "                            &#x27;Mystery&#x27;, &#x27;Fantasy&#x27;, &#x27;Western&#x27;, &#x27;Film-Noir&#x27;]])</pre></div></div></div></div></div></div></div></div><div class=\"sk-parallel-item\"><div class=\"sk-item\"><div class=\"sk-label-container\"><div class=\"sk-label sk-toggleable\"><input class=\"sk-toggleable__control sk-hidden--visually\" id=\"sk-estimator-id-49\" type=\"checkbox\" ><label for=\"sk-estimator-id-49\" class=\"sk-toggleable__label sk-toggleable__label-arrow\">cat</label><div class=\"sk-toggleable__content\"><pre>&lt;sklearn.compose._column_transformer.make_column_selector object at 0x0000028846061250&gt;</pre></div></div></div><div class=\"sk-serial\"><div class=\"sk-item\"><div class=\"sk-serial\"><div class=\"sk-item\"><div class=\"sk-estimator sk-toggleable\"><input class=\"sk-toggleable__control sk-hidden--visually\" id=\"sk-estimator-id-50\" type=\"checkbox\" ><label for=\"sk-estimator-id-50\" class=\"sk-toggleable__label sk-toggleable__label-arrow\">OneHotEncoder</label><div class=\"sk-toggleable__content\"><pre>OneHotEncoder(handle_unknown=&#x27;ignore&#x27;)</pre></div></div></div></div></div></div></div></div><div class=\"sk-parallel-item\"><div class=\"sk-item\"><div class=\"sk-label-container\"><div class=\"sk-label sk-toggleable\"><input class=\"sk-toggleable__control sk-hidden--visually\" id=\"sk-estimator-id-51\" type=\"checkbox\" ><label for=\"sk-estimator-id-51\" class=\"sk-toggleable__label sk-toggleable__label-arrow\">remainder</label><div class=\"sk-toggleable__content\"><pre>[&#x27;Rating&#x27;]</pre></div></div></div><div class=\"sk-serial\"><div class=\"sk-item\"><div class=\"sk-serial\"><div class=\"sk-item\"><div class=\"sk-estimator sk-toggleable\"><input class=\"sk-toggleable__control sk-hidden--visually\" id=\"sk-estimator-id-52\" type=\"checkbox\" ><label for=\"sk-estimator-id-52\" class=\"sk-toggleable__label sk-toggleable__label-arrow\">MaxAbsScaler</label><div class=\"sk-toggleable__content\"><pre>MaxAbsScaler()</pre></div></div></div><div class=\"sk-item\"><div class=\"sk-estimator sk-toggleable\"><input class=\"sk-toggleable__control sk-hidden--visually\" id=\"sk-estimator-id-53\" type=\"checkbox\" ><label for=\"sk-estimator-id-53\" class=\"sk-toggleable__label sk-toggleable__label-arrow\">StandardScaler</label><div class=\"sk-toggleable__content\"><pre>StandardScaler()</pre></div></div></div></div></div></div></div></div></div></div><div class=\"sk-item\"><div class=\"sk-label-container\"><div class=\"sk-label sk-toggleable\"><input class=\"sk-toggleable__control sk-hidden--visually\" id=\"sk-estimator-id-54\" type=\"checkbox\" ><label for=\"sk-estimator-id-54\" class=\"sk-toggleable__label sk-toggleable__label-arrow\">stackingregressor: StackingRegressor</label><div class=\"sk-toggleable__content\"><pre>StackingRegressor(estimators=[(&#x27;RF&#x27;, RandomForestRegressor(random_state=42)),\n",
       "                              (&#x27;GradBoost&#x27;,\n",
       "                               GradientBoostingRegressor(random_state=42)),\n",
       "                              (&#x27;ExtraTrees&#x27;,\n",
       "                               ExtraTreesRegressor(random_state=42))],\n",
       "                  final_estimator=RandomForestRegressor(random_state=42))</pre></div></div></div><div class=\"sk-serial\"><div class=\"sk-item\"><div class=\"sk-parallel\"><div class=\"sk-parallel-item\"><div class=\"sk-item\"><div class=\"sk-label-container\"><div class=\"sk-label sk-toggleable\"><label>RF</label></div></div><div class=\"sk-serial\"><div class=\"sk-item\"><div class=\"sk-estimator sk-toggleable\"><input class=\"sk-toggleable__control sk-hidden--visually\" id=\"sk-estimator-id-55\" type=\"checkbox\" ><label for=\"sk-estimator-id-55\" class=\"sk-toggleable__label sk-toggleable__label-arrow\">RandomForestRegressor</label><div class=\"sk-toggleable__content\"><pre>RandomForestRegressor(random_state=42)</pre></div></div></div></div></div></div><div class=\"sk-parallel-item\"><div class=\"sk-item\"><div class=\"sk-label-container\"><div class=\"sk-label sk-toggleable\"><label>GradBoost</label></div></div><div class=\"sk-serial\"><div class=\"sk-item\"><div class=\"sk-estimator sk-toggleable\"><input class=\"sk-toggleable__control sk-hidden--visually\" id=\"sk-estimator-id-56\" type=\"checkbox\" ><label for=\"sk-estimator-id-56\" class=\"sk-toggleable__label sk-toggleable__label-arrow\">GradientBoostingRegressor</label><div class=\"sk-toggleable__content\"><pre>GradientBoostingRegressor(random_state=42)</pre></div></div></div></div></div></div><div class=\"sk-parallel-item\"><div class=\"sk-item\"><div class=\"sk-label-container\"><div class=\"sk-label sk-toggleable\"><label>ExtraTrees</label></div></div><div class=\"sk-serial\"><div class=\"sk-item\"><div class=\"sk-estimator sk-toggleable\"><input class=\"sk-toggleable__control sk-hidden--visually\" id=\"sk-estimator-id-57\" type=\"checkbox\" ><label for=\"sk-estimator-id-57\" class=\"sk-toggleable__label sk-toggleable__label-arrow\">ExtraTreesRegressor</label><div class=\"sk-toggleable__content\"><pre>ExtraTreesRegressor(random_state=42)</pre></div></div></div></div></div></div></div></div><div class=\"sk-item\"><div class=\"sk-parallel\"><div class=\"sk-parallel-item\"><div class=\"sk-item\"><div class=\"sk-label-container\"><div class=\"sk-label sk-toggleable\"><label>final_estimator</label></div></div><div class=\"sk-serial\"><div class=\"sk-item\"><div class=\"sk-estimator sk-toggleable\"><input class=\"sk-toggleable__control sk-hidden--visually\" id=\"sk-estimator-id-58\" type=\"checkbox\" ><label for=\"sk-estimator-id-58\" class=\"sk-toggleable__label sk-toggleable__label-arrow\">RandomForestRegressor</label><div class=\"sk-toggleable__content\"><pre>RandomForestRegressor(random_state=42)</pre></div></div></div></div></div></div></div></div></div></div></div></div></div></div>"
      ],
      "text/plain": [
       "Pipeline(steps=[('columntransformer',\n",
       "                 ColumnTransformer(remainder=Pipeline(steps=[('maxabsscaler',\n",
       "                                                              MaxAbsScaler()),\n",
       "                                                             ('standardscaler',\n",
       "                                                              StandardScaler())]),\n",
       "                                   transformers=[('log',\n",
       "                                                  Pipeline(steps=[('functiontransformer',\n",
       "                                                                   FunctionTransformer(feature_names_out='one-to-one',\n",
       "                                                                                       func=<ufunc 'log'>)),\n",
       "                                                                  ('minmaxscaler',\n",
       "                                                                   MinMaxScaler())]),\n",
       "                                                  ['Year', 'Runtime(Mins)']),\n",
       "                                                 ('genre_...\n",
       "                                                  <sklearn.compose._column_transformer.make_column_selector object at 0x0000028846061250>)])),\n",
       "                ('stackingregressor',\n",
       "                 StackingRegressor(estimators=[('RF',\n",
       "                                                RandomForestRegressor(random_state=42)),\n",
       "                                               ('GradBoost',\n",
       "                                                GradientBoostingRegressor(random_state=42)),\n",
       "                                               ('ExtraTrees',\n",
       "                                                ExtraTreesRegressor(random_state=42))],\n",
       "                                   final_estimator=RandomForestRegressor(random_state=42)))])"
      ]
     },
     "execution_count": 53,
     "metadata": {},
     "output_type": "execute_result"
    }
   ],
   "source": [
    "from sklearn.ensemble import RandomForestRegressor, GradientBoostingRegressor, StackingRegressor\n",
    "\n",
    "estimators = [\n",
    "    (\"RF\", RandomForestRegressor(random_state=42)),\n",
    "    (\"GradBoost\", GradientBoostingRegressor(loss=\"squared_error\", random_state=42)),\n",
    "    (\"ExtraTrees\", ExtraTreesRegressor(random_state=42))]\n",
    "\n",
    "stacking_reg = make_pipeline(preprocessing,\n",
    "                             StackingRegressor(estimators=estimators, final_estimator=RandomForestRegressor(random_state=42)))\n",
    "stacking_reg.fit(movies, movies_labels)\n"
   ]
  },
  {
   "cell_type": "code",
   "execution_count": 54,
   "id": "b286327b",
   "metadata": {},
   "outputs": [
    {
     "data": {
      "text/plain": [
       "count    1.000000e+01\n",
       "mean     4.609765e+07\n",
       "std      3.579693e+06\n",
       "min      3.962868e+07\n",
       "25%      4.424853e+07\n",
       "50%      4.579395e+07\n",
       "75%      4.823448e+07\n",
       "max      5.124189e+07\n",
       "dtype: float64"
      ]
     },
     "execution_count": 54,
     "metadata": {},
     "output_type": "execute_result"
    }
   ],
   "source": [
    "stacking_rmses = -cross_val_score(stacking_reg, movies, movies_labels, scoring=\"neg_root_mean_squared_error\", cv=10, n_jobs=-1)\n",
    "pd.Series(stacking_rmses).describe()"
   ]
  },
  {
   "cell_type": "code",
   "execution_count": 55,
   "id": "7fd59ef7",
   "metadata": {},
   "outputs": [
    {
     "name": "stdout",
     "output_type": "stream",
     "text": [
      "NRMSE of Stacking =  0.9619267748480618\n"
     ]
    }
   ],
   "source": [
    "print(\"NRMSE of Stacking = \", stacking_rmses.mean() / movies_labels.mean())"
   ]
  },
  {
   "cell_type": "markdown",
   "id": "49f5e185",
   "metadata": {},
   "source": [
    "### 6.8 Conclusion of Training the Models on the Training Set"
   ]
  },
  {
   "cell_type": "markdown",
   "id": "6e78b1dc",
   "metadata": {},
   "source": [
    "| Regression Model | RMSE | NRMSE |\n",
    "|----------|----------|----------|\n",
    "| Linear Regression | 71,101,500 | 1.46 |\n",
    "| Decision Tree | 56,129,330 | 1.15 |\n",
    "| Random Forest | 45,992,080 | 0.94 |\n",
    "| Extra Trees | 48,204,900 | 0.99 |\n",
    "| Gradient Boosted Decision Trees | 47,244,350 | 0.97 |\n",
    "| AdaBoost  | 47,534,090 | 0.98 |\n",
    "| **Voting** | **45,583,420** | **0.94** |\n",
    "| Stacking | 47,119,790 | 0.97 |\n"
   ]
  },
  {
   "cell_type": "markdown",
   "id": "d7f5ee13",
   "metadata": {},
   "source": [
    "## Section 7: Hyperparameters Tuning"
   ]
  },
  {
   "cell_type": "markdown",
   "id": "0ac850bb",
   "metadata": {},
   "source": [
    "### 7.1 Random Search"
   ]
  },
  {
   "cell_type": "markdown",
   "id": "ca46829a",
   "metadata": {},
   "source": [
    "We can use a random search to explore the space of hyperparamteres. It is much quicker than using a grid search."
   ]
  },
  {
   "cell_type": "code",
   "execution_count": 69,
   "id": "08389fd7",
   "metadata": {},
   "outputs": [],
   "source": [
    "from sklearn.experimental import enable_halving_search_cv\n",
    "from sklearn.model_selection import HalvingRandomSearchCV\n",
    "\n",
    "from sklearn.model_selection import RandomizedSearchCV\n",
    "from scipy.stats import randint"
   ]
  },
  {
   "cell_type": "markdown",
   "id": "b77683ab",
   "metadata": {},
   "source": [
    "We start by doing a random search for the *Random Forest* model:"
   ]
  },
  {
   "cell_type": "code",
   "execution_count": 70,
   "id": "b3fe729d",
   "metadata": {},
   "outputs": [
    {
     "data": {
      "text/plain": [
       "{'random_forest__max_depth': 1308,\n",
       " 'random_forest__max_features': 3,\n",
       " 'random_forest__n_estimators': 1343}"
      ]
     },
     "execution_count": 70,
     "metadata": {},
     "output_type": "execute_result"
    }
   ],
   "source": [
    "param_distribs = {'random_forest__max_features': randint(low=2, high=20),\n",
    "                 'random_forest__max_depth': randint(low=1000, high=2000),\n",
    "                 'random_forest__n_estimators': randint(low=1000, high=1500)}\n",
    "\n",
    "full_pipeline = Pipeline([\n",
    "    (\"preprocessing\", preprocessing),\n",
    "    (\"random_forest\", RandomForestRegressor(random_state=42, n_jobs=-1)),\n",
    "])\n",
    "\n",
    "rnd_search = RandomizedSearchCV(\n",
    "    full_pipeline, param_distributions=param_distribs, n_iter=10, cv=3,\n",
    "    scoring='neg_root_mean_squared_error', random_state=42, n_jobs=-1)\n",
    "\n",
    "rnd_search.fit(movies, movies_labels)\n",
    "\n",
    "rnd_search.best_params_"
   ]
  },
  {
   "cell_type": "code",
   "execution_count": 71,
   "id": "26dacb47",
   "metadata": {},
   "outputs": [],
   "source": [
    "rf_model = rnd_search.best_estimator_"
   ]
  },
  {
   "cell_type": "markdown",
   "id": "4f55d2d3",
   "metadata": {},
   "source": [
    "We can get the feature importances using the *Random Foest* model:"
   ]
  },
  {
   "cell_type": "code",
   "execution_count": 73,
   "id": "40b6a85a",
   "metadata": {},
   "outputs": [
    {
     "data": {
      "text/plain": [
       "[(0.048185531835142965, 'log__Runtime(Mins)'),\n",
       " (0.04523989400631471, 'remainder__Rating'),\n",
       " (0.0414416321156439, 'log__Year'),\n",
       " (0.021160497391911535, 'cat__Censor_R'),\n",
       " (0.018913039613140663, 'cat__Censor_UA'),\n",
       " (0.01676925618839516, 'genre_ordinal__main_genre'),\n",
       " (0.012358125090707715, 'cat__Censor_U'),\n",
       " (0.012205204717491331, 'cat__side_genre_ Adventure,  Comedy'),\n",
       " (0.0113498686174554, 'cat__side_genre_ Adventure,  Sci-Fi'),\n",
       " (0.010447610444867273, 'cat__main_genre_Animation'),\n",
       " (0.009712426357960033, 'cat__main_genre_Action'),\n",
       " (0.007431594675828932, 'cat__Censor_A'),\n",
       " (0.006428115875813887, 'cat__main_genre_Drama'),\n",
       " (0.005940301375766624, 'cat__Censor_Not Rated'),\n",
       " (0.005038663980281292, 'cat__Director_Steven Spielberg'),\n",
       " (0.004708363186219875, 'cat__Censor_PG-13'),\n",
       " (0.0046893090763458, 'cat__Director_David Yates'),\n",
       " (0.004372209831059694, 'cat__side_genre_ Adventure,  Fantasy'),\n",
       " (0.003861648796432497, 'cat__main_genre_Comedy'),\n",
       " (0.0037911915118701927, 'cat__side_genre_ Adventure'),\n",
       " (0.003790142596267066, 'cat__side_genre_ Family,  Fantasy'),\n",
       " (0.003443588378313821, 'cat__side_genre_ Crime,  Drama'),\n",
       " (0.0033035588288470095, 'cat__main_genre_Crime'),\n",
       " (0.0031458916201989005, 'cat__side_genre_ Drama'),\n",
       " (0.0030835302376491357, 'cat__Director_Gore Verbinski'),\n",
       " (0.003038969592241567,\n",
       "  'cat__Actors_Mark Hamill, Harrison Ford, Carrie Fisher, Billy Dee Williams'),\n",
       " (0.0027448663290554447, 'cat__side_genre_ Adventure,  Thriller'),\n",
       " (0.0027389289012772983, 'cat__Director_Bryan Singer'),\n",
       " (0.0026988488638668017, 'cat__main_genre_Adventure'),\n",
       " (0.002641150568988897, 'cat__Director_Francis Lawrence'),\n",
       " (0.0025975150974797494, 'cat__Director_M. Night Shyamalan'),\n",
       " (0.0025800149160864166, 'cat__Director_Christopher Nolan'),\n",
       " (0.002526993298358883, 'cat__side_genre_Drama'),\n",
       " (0.0024533559570287782, 'cat__Director_Todd Phillips'),\n",
       " (0.0023840409643112476, 'cat__side_genre_ Adventure,  Drama'),\n",
       " (0.002382690907620083,\n",
       "  'cat__Actors_Robert Downey Jr., Gwyneth Paltrow, Terrence Howard, Jeff Bridges'),\n",
       " (0.002332787337681665,\n",
       "  'cat__Actors_Dwayne Johnson, Jack Black, Kevin Hart, Karen Gillan'),\n",
       " (0.0022429830261670135, 'cat__side_genre_ Drama,  Romance'),\n",
       " (0.0022247483588990293,\n",
       "  'cat__Actors_Bruce Willis, Haley Joel Osment, Toni Collette, Olivia Williams'),\n",
       " (0.0021273471320047165, 'cat__Director_Barry Sonnenfeld'),\n",
       " (0.002126100409094455, 'cat__Director_Ron Howard'),\n",
       " (0.0021120262852479263, 'cat__main_genre_Biography'),\n",
       " (0.0020997866188393007, 'cat__side_genre_ Adventure,  Family'),\n",
       " (0.0020729072841164193,\n",
       "  'cat__Actors_Chris Hemsworth, Tom Hiddleston, Cate Blanchett, Mark Ruffalo'),\n",
       " (0.0020467309788079844,\n",
       "  'cat__Actors_Johnny Depp, Orlando Bloom, Keira Knightley, Geoffrey Rush'),\n",
       " (0.002045764227596557, 'cat__side_genre_ Comedy,  Family'),\n",
       " (0.0020359658043924804, 'cat__Director_J.J. Abrams'),\n",
       " (0.002030931941142051, 'cat__Director_Roland Emmerich'),\n",
       " (0.002010769477656828, 'cat__Director_Jake Kasdan'),\n",
       " (0.0020003635776859176,\n",
       "  'cat__Actors_Keanu Reeves, Laurence Fishburne, Carrie-Anne Moss, Hugo Weaving'),\n",
       " (0.001988353200721696,\n",
       "  'cat__Actors_Harrison Ford, Cate Blanchett, Shia LaBeouf, Karen Allen'),\n",
       " (0.001972208336158286, 'cat__Director_Jon Favreau'),\n",
       " (0.0019381182337493636, 'cat__Director_Richard Marquand'),\n",
       " (0.0019216276224342489, 'cat__Director_Alfonso Cuarón'),\n",
       " (0.001918630839652048, 'cat__side_genre_ Comedy,  Crime'),\n",
       " (0.0019106744708763772, 'cat__Director_Peter Jackson'),\n",
       " (0.0018956926779952268,\n",
       "  'cat__Actors_Will Smith, Bill Pullman, Jeff Goldblum, Mary McDonnell'),\n",
       " (0.0018812850176095114, 'cat__Director_Justin Lin'),\n",
       " (0.001869018789301457, 'cat__side_genre_ Sci-Fi'),\n",
       " (0.0018483778419596047, 'cat__side_genre_ Drama,  Thriller'),\n",
       " (0.0018035636362110725,\n",
       "  'cat__Actors_Zach Galifianakis, Bradley Cooper, Justin Bartha, Ed Helms'),\n",
       " (0.001798478500379517,\n",
       "  'cat__Actors_Johnny Depp, Geoffrey Rush, Orlando Bloom, Keira Knightley'),\n",
       " (0.0017588494339068025,\n",
       "  'cat__Actors_Kristen Stewart, Robert Pattinson, Taylor Lautner, Xavier Samuel'),\n",
       " (0.0017518086818909615,\n",
       "  'cat__Actors_Elijah Wood, Ian McKellen, Orlando Bloom, Sean Bean'),\n",
       " (0.00172700947502433,\n",
       "  'cat__Actors_Daniel Radcliffe, Emma Watson, Rupert Grint, Michael Gambon'),\n",
       " (0.0017169253941348701, 'cat__Director_Rob Marshall'),\n",
       " (0.0017158548356814697, 'cat__side_genre_ Action,  Adventure'),\n",
       " (0.0017123382174610703,\n",
       "  'cat__Actors_Sandra Bullock, George Clooney, Ed Harris, Orto Ignatiussen'),\n",
       " (0.0016997620907218411, 'cat__side_genre_ Romance'),\n",
       " (0.0016926965308327402, 'cat__side_genre_Comedy'),\n",
       " (0.001690362585616384,\n",
       "  'cat__Director_Directors:Pete Docter, David Silverman, Lee Unkrich'),\n",
       " (0.0016750817211958551, 'cat__side_genre_ Drama,  History'),\n",
       " (0.0016497980188305763,\n",
       "  'cat__Actors_Kristen Stewart, Robert Pattinson, Taylor Lautner, Gil Birmingham'),\n",
       " (0.001640796029492446, 'cat__Director_Ridley Scott'),\n",
       " (0.0016247895039964194,\n",
       "  'cat__Actors_Billy Crystal, John Goodman, Mary Gibbs, Steve Buscemi'),\n",
       " (0.0016154540330159995,\n",
       "  'cat__Actors_Bradley Cooper, Zach Galifianakis, Ed Helms, Justin Bartha'),\n",
       " (0.0016133831615165615, 'cat__side_genre_ Drama,  Fantasy'),\n",
       " (0.0015941164054012523, 'cat__Director_Taika Waititi'),\n",
       " (0.0015929746385351892, 'cat__side_genre_ Mystery,  Thriller'),\n",
       " (0.0015742984574850809, 'cat__Director_Marc Webb'),\n",
       " (0.0015699138054362431,\n",
       "  'cat__Actors_Kristen Stewart, Robert Pattinson, Taylor Lautner, Christina Jastrzembska'),\n",
       " (0.0015528984886897209, 'cat__side_genre_ Drama,  Sci-Fi'),\n",
       " (0.0015318830044422874, 'cat__Director_Shawn Levy'),\n",
       " (0.0015209422437304793, 'cat__Director_Michael Bay'),\n",
       " (0.0015149695955120016, 'cat__Director_Chris Weitz'),\n",
       " (0.0015090098270112604,\n",
       "  'cat__Actors_Daniel Radcliffe, Emma Watson, Rupert Grint, Bill Nighy'),\n",
       " (0.001485885378475276, 'cat__Director_David Slade'),\n",
       " (0.001484109744115704, 'cat__Director_Paul Greengrass'),\n",
       " (0.0014823697098207496,\n",
       "  'cat__Actors_Jim Carrey, Taylor Momsen, Kelley, Jeffrey Tambor'),\n",
       " (0.0014822854910708989,\n",
       "  'cat__Actors_Jennifer Lawrence, Josh Hutcherson, Liam Hemsworth, Woody Harrelson'),\n",
       " (0.001462339483775577,\n",
       "  'cat__Actors_Daniel Radcliffe, Emma Watson, Rupert Grint, Brendan Gleeson'),\n",
       " (0.0014330593184589031,\n",
       "  'cat__Actors_Daniel Radcliffe, Emma Watson, Rupert Grint, Eric Sykes'),\n",
       " (0.0014310798000318984,\n",
       "  'cat__Director_Directors:Lana Wachowski, Lilly Wachowski'),\n",
       " (0.0014136593322724668, 'cat__side_genre_ Comedy,  Drama'),\n",
       " (0.001393275920037684, 'cat__Censor_(Banned)'),\n",
       " (0.0013905650387841964,\n",
       "  \"cat__Actors_Tommy Lee Jones, Will Smith, Linda Fiorentino, Vincent D'Onofrio\"),\n",
       " (0.001382376676409651,\n",
       "  'cat__Actors_Quinton Aaron, Sandra Bullock, Tim McGraw, Jae Head'),\n",
       " (0.0013320987292792298,\n",
       "  'cat__Actors_Mike Myers, Eddie Murphy, Cameron Diaz, John Lithgow'),\n",
       " (0.0013299089921471922, 'cat__Director_Robert Zemeckis'),\n",
       " (0.0013177669143477587,\n",
       "  'cat__Actors_Leonardo DiCaprio, Joseph Gordon-Levitt, Elliot Page, Ken Watanabe'),\n",
       " (0.0013111047247372845,\n",
       "  'cat__Actors_Will Smith, Alice Braga, Charlie Tahan, Salli Richardson-Whitfield'),\n",
       " (0.00129576228865543, 'cat__Censor_PG'),\n",
       " (0.0012953775730806054,\n",
       "  'cat__Director_Directors:Andrew Adamson, Vicky Jenson'),\n",
       " (0.0012935963463417898, 'cat__side_genre_ Crime,  Thriller'),\n",
       " (0.001285501044799994, 'cat__Director_Directors:Pierre Coffin, Chris Renaud'),\n",
       " (0.0012827485086328429,\n",
       "  'cat__Actors_Benedict Cumberbatch, Cameron Seely, Rashida Jones, Pharrell Williams'),\n",
       " (0.0012793072169142254,\n",
       "  'cat__Actors_Andrew Garfield, Emma Stone, Rhys Ifans, Irrfan Khan'),\n",
       " (0.001273827749502789,\n",
       "  'cat__Actors_Jim Carrey, Jennifer Aniston, Morgan Freeman, Philip Baker Hall'),\n",
       " (0.0012719728765066738,\n",
       "  'cat__Actors_Craig T. Nelson, Samuel L. Jackson, Holly Hunter, Jason Lee'),\n",
       " (0.0012680673571402088, 'cat__side_genre_ Thriller'),\n",
       " (0.0012671157164875603,\n",
       "  'cat__Actors_Steve Carell, Kristen Wiig, Trey Parker, Miranda Cosgrove'),\n",
       " (0.0012642066883795625,\n",
       "  'cat__Actors_Eddie Murphy, Judge Reinhold, John Ashton, Lisa Eilbacher'),\n",
       " (0.0012640232718801384, 'cat__Director_Irvin Kershner'),\n",
       " (0.00126282260627653, 'cat__Director_Directors:Yarrow Cheney, Scott Mosier'),\n",
       " (0.0012488676260392288,\n",
       "  'cat__Actors_Chris Pine, Zachary Quinto, Simon Pegg, Leonard Nimoy'),\n",
       " (0.001223870588268091,\n",
       "  'cat__Director_Directors:Kyle Balda, Pierre Coffin, Eric Guillon'),\n",
       " (0.001223553519745493, 'cat__Director_Peyton Reed'),\n",
       " (0.0012020295956517606, 'cat__side_genre_ Adventure,  Mystery'),\n",
       " (0.0012016007498213581, 'cat__Director_Brett Ratner'),\n",
       " (0.0011996167293667657,\n",
       "  'cat__Actors_Chris Evans, Samuel L. Jackson, Scarlett Johansson, Robert Redford'),\n",
       " (0.001195205064272479, 'cat__Director_Dennis Dugan'),\n",
       " (0.001193761480978744, 'cat__Director_John Lee Hancock'),\n",
       " (0.0011865428216925246,\n",
       "  \"cat__Actors_Auli'i Cravalho, Dwayne Johnson, Rachel House, Temuera Morrison\"),\n",
       " (0.001186283794108987, 'cat__Director_Mike Newell'),\n",
       " (0.0011747646029800145,\n",
       "  'cat__Actors_Daniel Radcliffe, Emma Watson, Rupert Grint, Richard Griffiths'),\n",
       " (0.0011671796538603705, 'cat__Director_Directors:John Lasseter, Joe Ranft'),\n",
       " (0.0011620068718782408, 'cat__Director_Bill Condon'),\n",
       " (0.0011509846117023885,\n",
       "  'cat__Actors_Harrison Ford, Karen Allen, Paul Freeman, John Rhys-Davies'),\n",
       " (0.001144575257714336,\n",
       "  'cat__Actors_Steve Carell, Jason Segel, Russell Brand, Julie Andrews'),\n",
       " (0.0011213834850876607,\n",
       "  'cat__Actors_Helen Hunt, Bill Paxton, Cary Elwes, Jami Gertz'),\n",
       " (0.0011075447075014032,\n",
       "  'cat__Actors_Mel Gibson, Joaquin Phoenix, Rory Culkin, Abigail Breslin'),\n",
       " (0.0011040522260655186, 'cat__side_genre_ Drama,  Family'),\n",
       " (0.0010982594330110125, 'cat__side_genre_ Sci-Fi,  Thriller'),\n",
       " (0.001098120366040362,\n",
       "  'cat__Director_Directors:Ron Clements, John Musker, Don Hall, Chris Williams'),\n",
       " (0.0010969647835671684,\n",
       "  'cat__Actors_Jackie Chan, Chris Tucker, John Lone, Ziyi Zhang'),\n",
       " (0.0010930691202335084, 'cat__Director_Chris Columbus'),\n",
       " (0.0010898426362047913, 'cat__Director_Directors:Anthony Russo, Joe Russo'),\n",
       " (0.0010862295490134185,\n",
       "  'cat__Actors_Robin Williams, Sally Field, Pierce Brosnan, Harvey Fierstein'),\n",
       " (0.001082486549661902, 'cat__Director_F. Gary Gray'),\n",
       " (0.0010766577347289172, 'cat__side_genre_ Drama,  Mystery'),\n",
       " (0.001076530082187327,\n",
       "  'cat__Actors_Bill Murray, Dan Aykroyd, Sigourney Weaver, Harold Ramis'),\n",
       " (0.0010714756091222137,\n",
       "  'cat__Actors_Tom Cruise, Dakota Fanning, Tim Robbins, Miranda Otto'),\n",
       " (0.0010682887758084007,\n",
       "  'cat__Actors_Johnny Depp, Penélope Cruz, Ian McShane, Geoffrey Rush'),\n",
       " (0.0010618330932131437,\n",
       "  'cat__Actors_Ben Stiller, Carla Gugino, Ricky Gervais, Dick Van Dyke'),\n",
       " (0.001055287916640982,\n",
       "  'cat__Actors_Vin Diesel, Jason Statham, Dwayne Johnson, Michelle Rodriguez'),\n",
       " (0.0010442111174174154,\n",
       "  'cat__Actors_Vin Diesel, Paul Walker, Dwayne Johnson, Michelle Rodriguez'),\n",
       " (0.0010428625429951416,\n",
       "  'cat__Actors_Mark Wahlberg, Mila Kunis, Seth MacFarlane, Joel McHale'),\n",
       " (0.0010425340679413296,\n",
       "  'cat__Actors_Mark Wahlberg, Nicola Peltz Beckham, Jack Reynor, Stanley Tucci'),\n",
       " (0.0010405383174660237, 'cat__Director_Woody Allen'),\n",
       " (0.0010364389168152522,\n",
       "  'cat__Actors_Owen Wilson, Bonnie Hunt, Paul Newman, Larry the Cable Guy'),\n",
       " (0.0010326200197424975,\n",
       "  'cat__Actors_Matt Damon, Edgar Ramírez, Joan Allen, Julia Stiles'),\n",
       " (0.0010194591685314634,\n",
       "  'cat__Actors_Benedict Cumberbatch, Chiwetel Ejiofor, Rachel McAdams, Benedict Wong'),\n",
       " (0.0010138465472999065, 'cat__side_genre_ Fantasy,  Romance'),\n",
       " (0.0010024175854514363, 'cat__Director_Tim Hill'),\n",
       " (0.0009881150257778331, 'cat__Director_Brad Bird'),\n",
       " (0.0009880436561034516, 'cat__Director_Tom Shadyac'),\n",
       " (0.00097925414445476, 'cat__Director_Directors:Dean DeBlois, Chris Sanders'),\n",
       " (0.0009744333367929245, 'cat__Director_Ivan Reitman'),\n",
       " (0.0009693080543663999,\n",
       "  'cat__Director_Directors:Phil Lord, Christopher Miller'),\n",
       " (0.0009682652071096139, 'cat__Director_Peter Segal'),\n",
       " (0.0009675801899729417,\n",
       "  'cat__Actors_Ben Affleck, Gal Gadot, Jason Momoa, Ezra Miller'),\n",
       " (0.0009666917798348067, 'cat__Director_Jordan Peele'),\n",
       " (0.0009620712747746409,\n",
       "  'cat__Actors_Matt Damon, Jessica Chastain, Kristen Wiig, Kate Mara'),\n",
       " (0.0009583185953500626, 'cat__side_genre_ Biography,  Drama'),\n",
       " (0.000953948708092176, 'cat__Director_Paul Feig'),\n",
       " (0.0009509145151647816, 'cat__Director_David Fincher'),\n",
       " (0.0009477916876260958, 'cat__Director_Jon Turteltaub'),\n",
       " (0.000946766252274558, 'cat__Director_Joe Johnston'),\n",
       " (0.0009421791042209788, 'cat__side_genre_ Drama,  Sport'),\n",
       " (0.0009375920156062229, 'cat__Director_Bradley Cooper'),\n",
       " (0.0009362404758499906,\n",
       "  'cat__Director_Directors:Mark Andrews, Brenda Chapman, Steve Purcell'),\n",
       " (0.0009358920158214416, 'cat__Censor_UA 7+'),\n",
       " (0.0009283786424501745, 'cat__Director_Jerry Zucker'),\n",
       " (0.0009259615182120175, 'cat__Director_Directors:Eric Darnell, Tom McGrath'),\n",
       " (0.0009255858220534472,\n",
       "  'cat__Actors_Lady Gaga, Bradley Cooper, Sam Elliott, Greg Grunberg'),\n",
       " (0.0009180146823047875,\n",
       "  'cat__Actors_Jason Lee, Ross Bagdasarian Jr., Janice Karman, David Cross'),\n",
       " (0.0009152361224486014,\n",
       "  'cat__Actors_Patrick Swayze, Demi Moore, Whoopi Goldberg, Tony Goldwyn'),\n",
       " (0.0009139010474371319, 'cat__Director_Seth MacFarlane'),\n",
       " (0.0009092778313043471,\n",
       "  'cat__Actors_Kelly Macdonald, Billy Connolly, Emma Thompson, Julie Walters'),\n",
       " (0.0009063271721838008, 'cat__Director_Genndy Tartakovsky'),\n",
       " (0.0008897567162603347,\n",
       "  'cat__Actors_Owen Wilson, Vince Vaughn, Rachel McAdams, Christopher Walken'),\n",
       " (0.0008875957816287692, 'cat__Director_Garry Marshall'),\n",
       " (0.0008808612339855516, 'cat__Director_Nancy Meyers'),\n",
       " (0.0008789062845542281, 'cat__side_genre_ Drama,  Music'),\n",
       " (0.0008787691930597929, 'cat__Director_Carlos Saldanha'),\n",
       " (0.0008767924571710511, 'cat__Director_Jan de Bont'),\n",
       " (0.0008763511642730985,\n",
       "  'cat__Actors_Naomi Watts, Jack Black, Adrien Brody, Thomas Kretschmann'),\n",
       " (0.0008703683008089422, 'cat__Censor_16'),\n",
       " (0.0008674083709164707, 'cat__Director_Steven Soderbergh'),\n",
       " (0.000864690473844105,\n",
       "  'cat__Actors_Johnny Depp, Freddie Highmore, David Kelly, Helena Bonham Carter'),\n",
       " (0.0008608330239058571, 'cat__Director_Scott Derrickson'),\n",
       " (0.0008601757674891967,\n",
       "  'cat__Actors_Ben Burtt, Elissa Knight, Jeff Garlin, Fred Willard'),\n",
       " (0.0008588970713578974, 'cat__Director_Marc Forster'),\n",
       " (0.0008471909294456816, 'cat__Director_Andrew Stanton'),\n",
       " (0.0008396544477469034,\n",
       "  'cat__Actors_Jeff Goldblum, Julianne Moore, Pete Postlethwaite, Vince Vaughn'),\n",
       " (0.000835993661284978,\n",
       "  'cat__Actors_Nicolas Cage, Diane Kruger, Justin Bartha, Jon Voight'),\n",
       " (0.0008336814884030117,\n",
       "  'cat__Actors_Paul Rudd, Evangeline Lilly, Michael Peña, Walton Goggins'),\n",
       " (0.0008256278800211137,\n",
       "  'cat__Actors_Patrick Stewart, Ian McKellen, Hugh Jackman, James McAvoy'),\n",
       " (0.0008245107357733285, 'cat__side_genre_ Mystery,  Sci-Fi'),\n",
       " (0.0008222495029651596,\n",
       "  \"cat__Actors_Paige O'Hara, Robby Benson, Jesse Corti, Rex Everhart\"),\n",
       " (0.000822214095633721, 'cat__Director_Directors:Don Hall, Chris Williams'),\n",
       " (0.0008132614612612846, 'cat__Director_Tim Story'),\n",
       " (0.0008124750909872377,\n",
       "  'cat__Actors_Ryan Potter, Scott Adsit, Jamie Chung, T.J. Miller'),\n",
       " (0.0008122404690098959, 'cat__side_genre_ Fantasy,  Horror'),\n",
       " (0.0008119717264527306,\n",
       "  'cat__Actors_Jessica Chastain, James McAvoy, Bill Hader, Isaiah Mustafa'),\n",
       " (0.0008087658036544262, 'cat__Director_Andy Muschietti'),\n",
       " (0.0008065924792821858, 'cat__Director_Tim Burton'),\n",
       " (0.000805848564714145, 'cat__Director_Quentin Tarantino'),\n",
       " (0.000803922540973106, 'cat__Director_Clint Eastwood'),\n",
       " (0.0008036542449438901, 'cat__Director_Matt Reeves'),\n",
       " (0.0007994085081684959,\n",
       "  'cat__Actors_Simu Liu, Awkwafina, Tony Chiu-Wai Leung, Ben Kingsley'),\n",
       " (0.0007968989933906904,\n",
       "  'cat__Actors_Scott Weinger, Robin Williams, Linda Larkin, Jonathan Freeman'),\n",
       " (0.000794169395194446, 'cat__Director_Zack Snyder'),\n",
       " (0.0007929761249526227,\n",
       "  'cat__Actors_Christian Bale, Michael Caine, Ken Watanabe, Liam Neeson'),\n",
       " (0.0007884971615323091,\n",
       "  'cat__Director_Directors:Adil El Arbi, Bilall Fallah'),\n",
       " (0.0007855175372847079,\n",
       "  'cat__Actors_Tom Cruise, Dougray Scott, Thandiwe Newton, Ving Rhames'),\n",
       " (0.0007852275409342962, 'cat__Director_Sydney Pollack'),\n",
       " (0.0007794157630063725,\n",
       "  'cat__Actors_Tom Hardy, Michelle Williams, Riz Ahmed, Scott Haze'),\n",
       " (0.0007774917818102697, 'cat__Director_Barry Levinson'),\n",
       " (0.0007730039849383857,\n",
       "  'cat__Actors_Tom Hardy, Woody Harrelson, Michelle Williams, Naomie Harris'),\n",
       " (0.0007718118751533568,\n",
       "  'cat__Actors_Tom Hanks, Audrey Tautou, Jean Reno, Ian McKellen'),\n",
       " (0.0007715541285346575,\n",
       "  'cat__Actors_Rami Malek, Lucy Boynton, Gwilym Lee, Ben Hardy'),\n",
       " (0.0007633613092105175,\n",
       "  'cat__Director_Directors:Eric Darnell, Tom McGrath, Conrad Vernon'),\n",
       " (0.0007618702695017427,\n",
       "  'cat__Actors_Brendan Fraser, Rachel Weisz, John Hannah, Arnold Vosloo'),\n",
       " (0.0007606845927204699,\n",
       "  'cat__Actors_Gary Oldman, Keri Russell, Andy Serkis, Kodi Smit-McPhee'),\n",
       " (0.000757353267212032,\n",
       "  'cat__Actors_Zac Efron, Taylor Swift, Danny DeVito, Ed Helms'),\n",
       " (0.0007567303798809609, 'cat__Director_Alan Taylor'),\n",
       " (0.0007567191532624372,\n",
       "  'cat__Actors_Chris Pine, Zachary Quinto, Zoe Saldana, Benedict Cumberbatch'),\n",
       " (0.0007547133372829559,\n",
       "  'cat__Actors_Jason Lee, Zachary Levi, David Cross, Justin Long'),\n",
       " (0.0007518862814667366,\n",
       "  'cat__Actors_Vin Diesel, Paul Walker, Michelle Rodriguez, Jordana Brewster'),\n",
       " (0.0007472378249827092, 'cat__Director_Stephen Sommers'),\n",
       " (0.0007463526102485025,\n",
       "  'cat__Actors_Will Smith, Martin Lawrence, Vanessa Hudgens, Alexander Ludwig'),\n",
       " (0.0007457113688560875, 'cat__Director_Martin Brest'),\n",
       " (0.00074296633892142, 'cat__Director_Directors:Chris Renaud, Kyle Balda'),\n",
       " (0.0007410596955038794,\n",
       "  'cat__Actors_Kristen Stewart, Robert Pattinson, Billy Burke, Sarah Clarke'),\n",
       " (0.0007406484509062192, 'cat__Director_Rawson Marshall Thurber'),\n",
       " (0.0007386387253747785, 'cat__Director_Directors:Gary Trousdale, Kirk Wise'),\n",
       " (0.000738622565167032, 'cat__Director_Dean DeBlois'),\n",
       " (0.0007338192268441645,\n",
       "  'cat__Actors_Ben Stiller, Jada Pinkett Smith, Chris Rock, David Schwimmer'),\n",
       " (0.0007248338928380618,\n",
       "  'cat__Actors_Alden Ehrenreich, Woody Harrelson, Emilia Clarke, Donald Glover'),\n",
       " (0.0007236853290968217, 'cat__Censor_18'),\n",
       " (0.0007206038610588677, 'cat__Director_Betty Thomas'),\n",
       " (0.0007203068752665534,\n",
       "  'cat__Actors_Dustin Hoffman, Tom Cruise, Valeria Golino, Gerald R. Molen'),\n",
       " (0.0007151746194152179, 'cat__side_genre_ Comedy,  Fantasy'),\n",
       " (0.0007148331832947307,\n",
       "  'cat__Actors_Chris Hemsworth, Natalie Portman, Tom Hiddleston, Stellan Skarsgård'),\n",
       " (0.0007143944546339922, 'cat__Director_Andy Serkis'),\n",
       " (0.0007142831021053281, 'cat__Director_James Cameron'),\n",
       " (0.0007139970474909994,\n",
       "  'cat__Actors_Patrick Stewart, Hugh Jackman, Halle Berry, Ian McKellen'),\n",
       " (0.0007099530688763641, 'cat__Director_David Dobkin'),\n",
       " (0.0007071116159394198,\n",
       "  'cat__Actors_Channing Tatum, Jonah Hill, Ice Cube, Nick Offerman'),\n",
       " (0.00070603286066274,\n",
       "  'cat__Actors_Jay Baruchel, Gerard Butler, Christopher Mintz-Plasse, Craig Ferguson'),\n",
       " (0.0006928919542014218, 'cat__Director_Destin Daniel Cretton'),\n",
       " (0.0006880288623096897,\n",
       "  'cat__Actors_Robert Downey Jr., Jude Law, Rachel McAdams, Mark Strong'),\n",
       " (0.0006873696348224337, 'cat__Director_Directors:Ron Clements, John Musker'),\n",
       " (0.000683977382344472,\n",
       "  'cat__Director_Directors:Victor Fleming, George Cukor, Sam Wood'),\n",
       " (0.0006736698175833983,\n",
       "  'cat__Actors_Andrew Garfield, Emma Stone, Jamie Foxx, Paul Giamatti'),\n",
       " (0.0006710189042790411,\n",
       "  'cat__Actors_Adam Sandler, Andy Samberg, Selena Gomez, Kevin James'),\n",
       " (0.0006686320117053915, 'cat__side_genre_ Horror,  Sci-Fi'),\n",
       " (0.0006683067091629748, 'cat__Director_Frank Coraci'),\n",
       " (0.0006680670289129231,\n",
       "  'cat__Actors_Megan Fox, Will Arnett, William Fichtner, Noel Fisher'),\n",
       " (0.0006674179618961279, 'cat__Director_Hayao Miyazaki'),\n",
       " (0.0006666253221905656, 'cat__side_genre_ Horror,  Thriller'),\n",
       " (0.0006651905332790192,\n",
       "  'cat__Actors_Tommy Lee Jones, Will Smith, Rip Torn, Lara Flynn Boyle'),\n",
       " (0.0006625751975296007, 'cat__side_genre_ Horror,  Mystery'),\n",
       " (0.0006598794970253206, 'cat__Director_John Woo'),\n",
       " (0.0006576356019820715,\n",
       "  'cat__Actors_Brad Pitt, Mireille Enos, Daniella Kertesz, James Badge Dale'),\n",
       " (0.00065070282371833, 'cat__Director_Directors:Rob Letterman, Conrad Vernon'),\n",
       " (0.0006500808609150202,\n",
       "  'cat__Actors_Aaron Taylor-Johnson, Elizabeth Olsen, Bryan Cranston, Ken Watanabe'),\n",
       " (0.0006460565945289886, 'cat__Director_Tom McGrath'),\n",
       " (0.0006416198014065263,\n",
       "  'cat__Actors_Cameron Diaz, Matt Dillon, Ben Stiller, Lee Evans'),\n",
       " (0.000638904598502022,\n",
       "  'cat__Actors_Anthony Gonzalez, Gael García Bernal, Benjamin Bratt, Alanna Ubach'),\n",
       " (0.0006380941018097866, 'cat__Director_Sam Mendes'),\n",
       " (0.000635719379441573,\n",
       "  'cat__Actors_Dustin Hoffman, Jessica Lange, Teri Garr, Dabney Coleman'),\n",
       " (0.0006351819464605703, 'cat__Director_David O. Russell'),\n",
       " (0.000633084102340625, 'cat__Director_Wolfgang Petersen'),\n",
       " (0.0006272618781618017,\n",
       "  'cat__Actors_Daniel Day-Lewis, Sally Field, David Strathairn, Joseph Gordon-Levitt'),\n",
       " (0.0006257147714303145,\n",
       "  'cat__Actors_John Travolta, Olivia Newton-John, Stockard Channing, Jeff Conaway'),\n",
       " (0.0006255781311406007,\n",
       "  'cat__Actors_Michael J. Fox, Christopher Lloyd, Lea Thompson, Crispin Glover'),\n",
       " (0.0006248860547676292,\n",
       "  'cat__Actors_George Clooney, Brad Pitt, Julia Roberts, Matt Damon'),\n",
       " (0.0006225517146006606, 'cat__Director_Directors:Lee Unkrich, Adrian Molina'),\n",
       " (0.0006166560487959732, 'cat__Director_Doug Liman'),\n",
       " (0.0006159619352899024, 'cat__side_genre_ Fantasy'),\n",
       " (0.0006153470481406704, 'cat__side_genre_ Musical,  Romance'),\n",
       " (0.0006121794423037802,\n",
       "  'cat__Actors_Anthony Hopkins, Julianne Moore, Gary Oldman, Ray Liotta'),\n",
       " (0.0006113460046032351,\n",
       "  'cat__Actors_Harrison Ford, Tommy Lee Jones, Sela Ward, Julianne Moore'),\n",
       " (0.0006109924724820367, 'cat__main_genre_Horror'),\n",
       " (0.0006089214824851756,\n",
       "  'cat__Actors_Daniel Craig, Christoph Waltz, Léa Seydoux, Ralph Fiennes'),\n",
       " (0.0006042259528972846,\n",
       "  'cat__Actors_Constance Wu, Henry Golding, Michelle Yeoh, Gemma Chan'),\n",
       " (0.0006019867005048041, 'cat__Director_Gareth Edwards'),\n",
       " (0.0006016414450945691, 'cat__Director_Martin Scorsese'),\n",
       " (0.0006008478983164961,\n",
       "  \"cat__Actors_Clark Gable, Vivien Leigh, Thomas Mitchell, Barbara O'Neil\"),\n",
       " (0.0005972599812261423, 'cat__Director_Jon M. Chu'),\n",
       " (0.0005957552275830869, 'cat__Director_Directors:Phil Johnston, Rich Moore'),\n",
       " (0.0005913671357659923, 'cat__Director_Elizabeth Banks'),\n",
       " (0.0005910284512933048, 'cat__Director_Randal Kleiser'),\n",
       " (0.0005880986066107322, 'cat__Director_Jonathan Liebesman'),\n",
       " (0.0005843929206648495, 'cat__Director_Raja Gosnell'),\n",
       " (0.0005835262776830984, 'cat__side_genre_ Sport'),\n",
       " (0.0005827562934836866,\n",
       "  'cat__Actors_Brandon Routh, Kevin Spacey, Kate Bosworth, James Marsden'),\n",
       " (0.0005825613196576973,\n",
       "  'cat__Actors_Ben Stiller, Owen Wilson, Amy Adams, Hank Azaria'),\n",
       " (0.0005803585861218315,\n",
       "  'cat__Actors_Richard Gere, Julia Roberts, Jason Alexander, Laura San Giacomo'),\n",
       " (0.0005802416816378109,\n",
       "  'cat__Actors_Dennis Quaid, Jake Gyllenhaal, Emmy Rossum, Dash Mihok'),\n",
       " (0.0005794731188372619,\n",
       "  'cat__Actors_Brad Pitt, Angelina Jolie, Adam Brody, Vince Vaughn'),\n",
       " (0.0005777435120103773,\n",
       "  'cat__Actors_Matt Damon, Franka Potente, Joan Allen, Brian Cox'),\n",
       " (0.000575950956426737,\n",
       "  'cat__Actors_Fionn Whitehead, Barry Keoghan, Mark Rylance, Tom Hardy'),\n",
       " (0.0005739179822867,\n",
       "  'cat__Actors_John C. Reilly, Sarah Silverman, Gal Gadot, Taraji P. Henson'),\n",
       " (0.00057052944385749,\n",
       "  'cat__Actors_Tom Cruise, Rebecca Ferguson, Jeremy Renner, Simon Pegg'),\n",
       " (0.0005677797300439692, 'cat__Director_Nora Ephron'),\n",
       " (0.0005593175476132272, 'cat__Director_Ruben Fleischer'),\n",
       " (0.0005566931171567021,\n",
       "  'cat__Actors_Paul Hogan, Linda Kozlowski, John Meillon, David Gulpilil'),\n",
       " (0.0005554040731428857,\n",
       "  'cat__Actors_Ray Romano, John Leguizamo, Denis Leary, Eunice Cho'),\n",
       " (0.0005537888559113233, 'cat__side_genre_ Drama,  Musical'),\n",
       " (0.0005536783997099118, 'cat__side_genre_ Music'),\n",
       " (0.000552783864443052, 'cat__side_genre_ Comedy,  Sci-Fi'),\n",
       " (0.0005514570027635642,\n",
       "  'cat__Actors_Mandy Moore, Zachary Levi, Donna Murphy, Ron Perlman'),\n",
       " (0.0005512880777598472,\n",
       "  'cat__Actors_Harrison Ford, Sean Connery, Alison Doody, Denholm Elliott'),\n",
       " (0.0005493710129854833,\n",
       "  'cat__Actors_John C. Reilly, Jack McBrayer, Jane Lynch, Sarah Silverman'),\n",
       " (0.0005486640398074475,\n",
       "  'cat__Actors_Adam Sandler, Joey Lauren Adams, Jon Stewart, Cole Sprouse'),\n",
       " (0.0005453642276541829,\n",
       "  'cat__Actors_Russell Crowe, Joaquin Phoenix, Connie Nielsen, Oliver Reed'),\n",
       " (0.0005445928046469755,\n",
       "  'cat__Director_Directors:John Lasseter, Bradford Lewis'),\n",
       " (0.0005429671755068852, 'cat__side_genre_ Music,  Romance'),\n",
       " (0.0005424898741361242, 'cat__Censor_15+'),\n",
       " (0.00053923031848928, 'cat__Director_Directors:Nathan Greno, Byron Howard'),\n",
       " (0.0005372162783980008,\n",
       "  'cat__Actors_Bruce Willis, Billy Bob Thornton, Ben Affleck, Liv Tyler'),\n",
       " (0.0005365468110518099, 'cat__Director_Wes Anderson'),\n",
       " (0.000533328538243281,\n",
       "  'cat__Actors_Reese Witherspoon, Rainn Wilson, Stephen Colbert, Seth Rogen'),\n",
       " (0.0005324336434624202,\n",
       "  'cat__Actors_Kevin Costner, Mary McDonnell, Graham Greene, Rodney A. Grant'),\n",
       " (0.0005312024147744514, 'cat__Director_Rich Moore'),\n",
       " (0.0005295589213733985,\n",
       "  'cat__Actors_Will Smith, Tommy Lee Jones, Josh Brolin, Jemaine Clement'),\n",
       " (0.0005288964955855147,\n",
       "  \"cat__Actors_Macaulay Culkin, Joe Pesci, Daniel Stern, Catherine O'Hara\"),\n",
       " (0.000528612309996241,\n",
       "  'cat__Actors_Ben Affleck, Rosamund Pike, Neil Patrick Harris, Tyler Perry'),\n",
       " (0.0005268835150671364,\n",
       "  'cat__Actors_Arnold Schwarzenegger, Linda Hamilton, Edward Furlong, Robert Patrick'),\n",
       " (0.0005266403170571275,\n",
       "  'cat__Actors_Mel Gibson, Helen Hunt, Marisa Tomei, Alan Alda'),\n",
       " (0.0005257361867295488,\n",
       "  'cat__Actors_Ray Romano, John Leguizamo, Denis Leary, Seann William Scott'),\n",
       " (0.0005242816426574558, 'cat__side_genre_ Horror'),\n",
       " (0.0005233842890532554,\n",
       "  'cat__Director_Directors:Carlos Saldanha, Michael Thurmeier'),\n",
       " (0.0005188717256995102, 'cat__Director_Sylvester Stallone'),\n",
       " (0.000518427191058626,\n",
       "  'cat__Actors_George Clooney, Mark Wahlberg, John C. Reilly, Diane Lane'),\n",
       " (0.0005172243754929928,\n",
       "  'cat__Actors_Ben Stiller, Robert De Niro, Teri Polo, Blythe Danner'),\n",
       " (0.0005152350771642239,\n",
       "  'cat__Actors_Harrison Ford, Michelle Pfeiffer, Katharine Towne, Miranda Otto'),\n",
       " (0.0005110157769565271,\n",
       "  'cat__Actors_Anna Kendrick, Rebel Wilson, Hailee Steinfeld, Brittany Snow'),\n",
       " (0.0005090105447096711,\n",
       "  'cat__Actors_Tom Cruise, Jon Voight, Emmanuelle Béart, Henry Czerny'),\n",
       " (0.0005087769855777278,\n",
       "  \"cat__Actors_O'Shea Jackson Jr., Corey Hawkins, Jason Mitchell, Neil Brown Jr.\"),\n",
       " (0.0005073616523871283,\n",
       "  'cat__Actors_Sandra Bullock, Ryan Reynolds, Mary Steenburgen, Craig T. Nelson'),\n",
       " (0.000506691538273926, 'cat__Director_Brian De Palma'),\n",
       " (0.0005063969860970977, 'cat__side_genre_ Western'),\n",
       " (0.0005060281663140702,\n",
       "  'cat__Actors_Daniel Kaluuya, Allison Williams, Bradley Whitford, Catherine Keener'),\n",
       " (0.0005006793801592923, 'cat__Director_Catherine Hardwicke'),\n",
       " (0.0005002095088811805, 'cat__Director_George Roy Hill'),\n",
       " (0.0004994474913965486,\n",
       "  'cat__Actors_Tom Selleck, Steve Guttenberg, Ted Danson, Nancy Travis'),\n",
       " (0.0004994423463156168,\n",
       "  'cat__Actors_Tom Hanks, Bill Paxton, Kevin Bacon, Gary Sinise'),\n",
       " (0.0004983768405269657,\n",
       "  'cat__Actors_Chris Rock, Ben Stiller, David Schwimmer, Jada Pinkett Smith'),\n",
       " (0.0004967568559468827,\n",
       "  'cat__Actors_Michael Douglas, Glenn Close, Anne Archer, Ellen Latzen'),\n",
       " (0.000493988378691213, 'cat__Director_Michael Gracey'),\n",
       " (0.0004939808575779734, 'cat__side_genre_ Crime'),\n",
       " (0.000493749406120563,\n",
       "  'cat__Actors_James Franco, Andy Serkis, Freida Pinto, Karin Konoval'),\n",
       " (0.0004934458042559646, 'cat__Director_Anne Fletcher'),\n",
       " (0.0004913600533037791,\n",
       "  \"cat__Actors_Lupita Nyong'o, Winston Duke, Elisabeth Moss, Tim Heidecker\"),\n",
       " (0.0004886200172779608, 'cat__Director_Leonard Nimoy'),\n",
       " (0.00048760353422461986,\n",
       "  'cat__Actors_Tom Hanks, Tim Allen, Don Rickles, Jim Varney'),\n",
       " (0.0004862819328386573,\n",
       "  'cat__Director_Directors:Bobby Farrelly, Peter Farrelly'),\n",
       " (0.00048609524423021177,\n",
       "  'cat__Actors_Hugh Jackman, Liev Schreiber, Ryan Reynolds, Danny Huston'),\n",
       " (0.00048427733479165786,\n",
       "  'cat__Actors_Taraji P. Henson, Octavia Spencer, Janelle Monáe, Kevin Costner'),\n",
       " (0.00048358325542165995, 'cat__side_genre_ War'),\n",
       " (0.00048147175073188125,\n",
       "  'cat__Actors_Leonardo DiCaprio, Tom Hanks, Christopher Walken, Martin Sheen'),\n",
       " (0.0004797957184555001,\n",
       "  'cat__Actors_Emily Blunt, Millicent Simmonds, Cillian Murphy, John Krasinski'),\n",
       " (0.00047940736420279043, 'cat__Director_Peter Faiman'),\n",
       " (0.00047928541838976617,\n",
       "  'cat__Actors_Owen Wilson, Larry the Cable Guy, Michael Caine, Emily Mortimer'),\n",
       " (0.0004792734989711287,\n",
       "  'cat__Actors_Sam Neill, William H. Macy, Téa Leoni, Alessandro Nivola'),\n",
       " (0.0004766789365214247, 'cat__Director_Andrew Davis'),\n",
       " (0.0004750706454101946,\n",
       "  'cat__Actors_Paul Rudd, Michael Douglas, Corey Stoll, Evangeline Lilly'),\n",
       " (0.00047314667499399204, 'cat__Director_Alfred Hitchcock'),\n",
       " (0.0004731051004970823,\n",
       "  'cat__Actors_Hugh Jackman, Michelle Williams, Zac Efron, Zendaya'),\n",
       " (0.0004728070405479331,\n",
       "  'cat__Actors_Tom Cruise, Cuba Gooding Jr., Renée Zellweger, Kelly Preston'),\n",
       " (0.0004716931003796101,\n",
       "  'cat__Actors_Jackie Chan, Jaden Smith, Taraji P. Henson, Wenwen Han'),\n",
       " (0.0004713504104293944, 'cat__Censor_13'),\n",
       " (0.0004683359234428914, 'cat__Director_Kevin Costner'),\n",
       " (0.0004679333429628801,\n",
       "  'cat__Actors_Will Ferrell, James Caan, Bob Newhart, Zooey Deschanel'),\n",
       " (0.0004677870045636436, 'cat__Director_Theodore Melfi'),\n",
       " (0.000467084612738111, 'cat__side_genre_ Adventure,  Crime'),\n",
       " (0.00046568585868619395, 'cat__Director_Christopher McQuarrie'),\n",
       " (0.0004631481373636466, 'cat__Director_Rian Johnson'),\n",
       " (0.00046300777591480336, 'cat__Director_John Lasseter'),\n",
       " (0.0004608466883832784,\n",
       "  'cat__Actors_Nicolas Cage, Ryan Reynolds, Emma Stone, Catherine Keener'),\n",
       " (0.00045952470979706135, 'cat__side_genre_ Biography,  Crime'),\n",
       " (0.0004594607705257364, 'cat__side_genre_ Romance,  Thriller'),\n",
       " (0.00045789902823799473, 'cat__Director_John Krasinski'),\n",
       " (0.0004575086906721632,\n",
       "  'cat__Actors_Tom Cruise, Jeanne Tripplehorn, Gene Hackman, Hal Holbrook'),\n",
       " (0.0004534928750656434,\n",
       "  'cat__Actors_Adam Sandler, Salma Hayek, Kevin James, Chris Rock'),\n",
       " (0.00045339199519780403, 'cat__Director_Luc Besson'),\n",
       " (0.0004520883271430276,\n",
       "  'cat__Actors_Jamie Lee Curtis, Judy Greer, Andi Matichak, James Jude Courtney'),\n",
       " (0.0004509178459183976,\n",
       "  'cat__Actors_Matthew McConaughey, Anne Hathaway, Jessica Chastain, Mackenzie Foy'),\n",
       " (0.00044815797187642393, 'cat__Director_Jim Jarmusch'),\n",
       " (0.0004473791783337574, 'cat__Director_Ang Lee'),\n",
       " (0.00044566989597101574,\n",
       "  'cat__Actors_Ben Stiller, Chris Rock, David Schwimmer, Jada Pinkett Smith'),\n",
       " (0.0004451197140046415,\n",
       "  'cat__Director_Directors:Kirk DeMicco, Chris Sanders'),\n",
       " (0.0004444214314601754, 'cat__Director_Richard Donner'),\n",
       " (0.00044414652950104037,\n",
       "  'cat__Actors_Clint Eastwood, Bee Vang, Christopher Carley, Ahney Her'),\n",
       " (0.000441549785158189,\n",
       "  'cat__Actors_Kristen Wiig, Maya Rudolph, Rose Byrne, Terry Crews'),\n",
       " (0.00044140275960759983, 'cat__Director_Guy Ritchie'),\n",
       " (0.0004390806305378438,\n",
       "  'cat__Actors_Johnny Depp, Geoffrey Rush, Javier Bardem, Orlando Bloom'),\n",
       " (0.0004388312786567664,\n",
       "  'cat__Actors_Scarlett Johansson, Florence Pugh, David Harbour, Rachel Weisz'),\n",
       " (0.00043855884718452454,\n",
       "  'cat__Actors_Renée Zellweger, Catherine Zeta-Jones, Richard Gere, Taye Diggs'),\n",
       " (0.0004352416860391357, 'cat__side_genre_ Adventure,  Horror'),\n",
       " (0.00043383828098556606,\n",
       "  'cat__Actors_Julie Andrews, Christopher Plummer, Eleanor Parker, Richard Haydn'),\n",
       " (0.00043262413965352225, 'cat__main_genre_Mystery'),\n",
       " (0.00043246089947328434, 'cat__Director_David Silverman'),\n",
       " (0.0004323002435864509, 'cat__Director_Simon West'),\n",
       " (0.0004280498124923503,\n",
       "  'cat__Actors_Dan Castellaneta, Julie Kavner, Nancy Cartwright, Yeardley Smith'),\n",
       " (0.00042802417975767315, 'cat__Director_Seth Gordon'),\n",
       " (0.00042679161518605454, 'cat__Director_Jay Roach'),\n",
       " (0.00042518179864133916, 'cat__Director_Jason Reitman'),\n",
       " (0.0004227761132850782,\n",
       "  'cat__Actors_Jeff Bridges, Garrett Hedlund, Olivia Wilde, Bruce Boxleitner'),\n",
       " (0.0004219760379827754,\n",
       "  'cat__Actors_Daniel Craig, Chris Evans, Ana de Armas, Jamie Lee Curtis'),\n",
       " (0.00042154057649047675, 'cat__Director_Gavin Hood'),\n",
       " (0.00042120943613780434, 'cat__Director_Tim Johnson'),\n",
       " (0.0004210173638773665, 'cat__Director_Ali Abbas Zafar'),\n",
       " (0.0004184716402320271,\n",
       "  'cat__Actors_Leonardo DiCaprio, Carey Mulligan, Joel Edgerton, Tobey Maguire'),\n",
       " (0.00041787721310850544,\n",
       "  'cat__Actors_Jamie Foxx, Christoph Waltz, Leonardo DiCaprio, Kerry Washington'),\n",
       " (0.0004162833563775274, 'cat__Director_Adrian Lyne'),\n",
       " (0.00041612770887117505,\n",
       "  'cat__Actors_Adam Sandler, Kathy Bates, Henry Winkler, Fairuza Balk'),\n",
       " (0.0004154193849751685, 'cat__Director_Cate Shortland'),\n",
       " (0.000415183367673308, 'cat__Director_Kevin Reynolds'),\n",
       " (0.00041141630596543317, 'cat__Director_Jordan Vogt-Roberts'),\n",
       " (0.00041066589098671664, 'cat__Director_Joseph Kosinski'),\n",
       " (0.00040875003167466977, 'cat__side_genre_ Mystery'),\n",
       " (0.0004081399179697114,\n",
       "  'cat__Actors_Vin Diesel, Michelle Rodriguez, Jordana Brewster, Tyrese Gibson'),\n",
       " (0.00040631783111529134,\n",
       "  'cat__Actors_Daniel Craig, Olga Kurylenko, Mathieu Amalric, Judi Dench'),\n",
       " (0.00040576851199878303, 'cat__Director_Park Chan-wook'),\n",
       " (0.0004042472925595719,\n",
       "  'cat__Actors_Sylvester Stallone, Talia Shire, Burt Young, Carl Weathers'),\n",
       " (0.00040395363836129235, 'cat__Director_Rob Cohen'),\n",
       " (0.00040117129320052004,\n",
       "  'cat__Actors_Christian Bale, Amy Adams, Bradley Cooper, Jennifer Lawrence'),\n",
       " (0.00039949018201420136,\n",
       "  'cat__Actors_Jay Baruchel, Cate Blanchett, Gerard Butler, Craig Ferguson'),\n",
       " (0.00039829129170697975,\n",
       "  'cat__Actors_Sandra Bullock, Michael McDonald, Melissa McCarthy, Demián Bichir'),\n",
       " (0.0003977981668824293, 'cat__Director_Oliver Stone'),\n",
       " (0.00039662339941659434, 'cat__Director_Rupert Wyatt'),\n",
       " (0.00039608558828803543, 'cat__Director_James Mangold'),\n",
       " (0.0003946618144447059,\n",
       "  'cat__Actors_Ryan Gosling, Emma Stone, Rosemarie DeWitt, J.K. Simmons'),\n",
       " (0.0003943819424721358,\n",
       "  'cat__Actors_Daniel Craig, Eva Green, Judi Dench, Jeffrey Wright'),\n",
       " (0.00039400927543623904,\n",
       "  'cat__Actors_Dwayne Johnson, Jason Statham, Idris Elba, Vanessa Kirby'),\n",
       " (0.0003929190483211169,\n",
       "  'cat__Actors_Tom Hiddleston, Samuel L. Jackson, Brie Larson, John C. Reilly'),\n",
       " (0.0003911647483946246, 'cat__side_genre_ Mystery,  Romance'),\n",
       " (0.00038689079627650597, 'cat__Director_John Carpenter'),\n",
       " (0.0003804624416247266,\n",
       "  'cat__Actors_Ben Stiller, Teri Polo, Robert De Niro, Owen Wilson'),\n",
       " (0.0003803095548522967,\n",
       "  'cat__Director_Directors:Paul Tibbitt, Mike Mitchell'),\n",
       " (0.0003800654593568252, 'cat__Director_Rob Minkoff'),\n",
       " (0.0003794913918155105,\n",
       "  'cat__Actors_Ioan Gruffudd, Michael Chiklis, Chris Evans, Jessica Alba'),\n",
       " (0.00037944511121402997,\n",
       "  'cat__Actors_Tony Goldwyn, Minnie Driver, Brian Blessed, Glenn Close'),\n",
       " (0.0003788926669192912, 'cat__Director_Directors:Chris Buck, Kevin Lima'),\n",
       " (0.00037815834637893776,\n",
       "  'cat__Actors_Jack Nicholson, Helen Hunt, Greg Kinnear, Cuba Gooding Jr.'),\n",
       " (0.00037747004230775813, 'cat__Director_Gus Van Sant'),\n",
       " (0.000376163893855308,\n",
       "  'cat__Actors_Will Arnett, Michael Cera, Rosario Dawson, Ralph Fiennes'),\n",
       " (0.00037554767447880945,\n",
       "  'cat__Actors_Jim Parsons, Rihanna, Steve Martin, Jennifer Lopez'),\n",
       " (0.000374253928858245,\n",
       "  'cat__Actors_Pierce Brosnan, Halle Berry, Rosamund Pike, Toby Stephens'),\n",
       " (0.0003735370131790796,\n",
       "  'cat__Actors_Kevin Costner, Morgan Freeman, Mary Elizabeth Mastrantonio, Christian Slater'),\n",
       " (0.0003721881900760843, 'cat__Director_Chris McKay'),\n",
       " (0.00037197256074460487, 'cat__Director_David Leitch'),\n",
       " (0.00037171083621431657, 'cat__Director_Kevin Smith'),\n",
       " (0.00037136597142860994,\n",
       "  'cat__Actors_Matthew Lillard, Freddie Prinze Jr., Sarah Michelle Gellar, Linda Cardellini'),\n",
       " (0.00036825967842525083,\n",
       "  'cat__Actors_Chris Evans, Hugo Weaving, Samuel L. Jackson, Hayley Atwell'),\n",
       " (0.00036707526163264824,\n",
       "  'cat__Actors_Liam Neeson, Maggie Grace, Famke Janssen, Leland Orser'),\n",
       " (0.00036656519716958704,\n",
       "  'cat__Actors_Matt Damon, Tommy Lee Jones, Alicia Vikander, Vincent Cassel'),\n",
       " (0.00036622139825630105, 'cat__Director_Sam Taylor-Johnson'),\n",
       " (0.0003660959028617654,\n",
       "  'cat__Actors_Elliot Page, Michael Cera, Jennifer Garner, Jason Bateman'),\n",
       " (0.0003654803442418856, 'cat__side_genre_ Romance,  War'),\n",
       " (0.00036337252966306237, 'cat__Director_Paul Weitz'),\n",
       " (0.00036255118787672375, 'cat__Director_Lee Tamahori'),\n",
       " (0.00036221721705025366, 'cat__Director_James L. Brooks'),\n",
       " (0.000359977035070617,\n",
       "  'cat__Actors_Jason Sudeikis, Jennifer Aniston, Emma Roberts, Ed Helms'),\n",
       " (0.0003588838266906251, 'cat__side_genre_ Crime,  Musical'),\n",
       " (0.0003588353545318869,\n",
       "  'cat__Actors_Sylvester Stallone, Richard Crenna, Charles Napier, Steven Berkoff'),\n",
       " (0.0003586103401723683,\n",
       "  'cat__Actors_Paul Newman, Robert Redford, Robert Shaw, Charles Durning'),\n",
       " (0.0003584016196776517,\n",
       "  'cat__Actors_Dakota Johnson, Jamie Dornan, Jennifer Ehle, Eloise Mumford'),\n",
       " (0.00035716611917368965,\n",
       "  'cat__Actors_Julia Roberts, Richard Gere, Joan Cusack, Hector Elizondo'),\n",
       " (0.0003561979454231998, 'cat__Director_Kar-Wai Wong'),\n",
       " (0.00035444746007839864, 'cat__Director_David Gordon Green'),\n",
       " (0.00035306283901759, 'cat__Director_Robert Wise'),\n",
       " (0.0003524351833676224,\n",
       "  'cat__Actors_Tom Kenny, Antonio Banderas, Bill Fagerbakke, Clancy Brown'),\n",
       " (0.000352218450780725,\n",
       "  'cat__Actors_Harrison Ford, Kate Capshaw, Ke Huy Quan, Amrish Puri'),\n",
       " (0.00035129611149282557, 'cat__Director_Louis Leterrier'),\n",
       " (0.00035067377473787056,\n",
       "  'cat__Actors_John Cusack, Thandiwe Newton, Chiwetel Ejiofor, Amanda Peet'),\n",
       " (0.0003494896340268086,\n",
       "  'cat__Director_Directors:Joachim Rønning, Espen Sandberg'),\n",
       " (0.0003478727936517235,\n",
       "  'cat__Actors_Hugh Jackman, Russell Crowe, Anne Hathaway, Amanda Seyfried'),\n",
       " (0.0003477101480070272,\n",
       "  'cat__Actors_Jack Black, Angelina Jolie, Jackie Chan, Dustin Hoffman'),\n",
       " (0.000346943681846455,\n",
       "  'cat__Actors_Seth Rogen, Rose Byrne, Zac Efron, Lisa Kudrow'),\n",
       " (0.0003429611391356922, 'cat__Director_Chloé Zhao'),\n",
       " (0.00034269042005022674, 'cat__side_genre_ Drama,  War'),\n",
       " (0.0003421170963505894,\n",
       "  'cat__Actors_Alec Baldwin, Steve Buscemi, Jimmy Kimmel, Lisa Kudrow'),\n",
       " (0.0003420548577292474, 'cat__Director_Roman Polanski'),\n",
       " (0.00034166660193355174, 'cat__Director_Joe Dante'),\n",
       " (0.0003413515249397993, 'cat__Director_Michael Mann'),\n",
       " (0.0003406756639696347,\n",
       "  'cat__Actors_Adam Sandler, Burt Reynolds, Chris Rock, Nelly'),\n",
       " (0.0003400447479406705, 'cat__Director_John Landis'),\n",
       " (0.0003394530683672617, 'cat__Director_Bruce Beresford'),\n",
       " (0.000337064870351277, 'cat__Director_Harald Zwart'),\n",
       " (0.00033332177910063305, 'cat__side_genre_ Romance,  Sci-Fi'),\n",
       " (0.000332629624668808, 'cat__Director_Ben Affleck'),\n",
       " (0.0003308831525198684, 'cat__Director_Taylor Hackford'),\n",
       " (0.00032917901209648584, 'cat__Director_George Miller'),\n",
       " (0.00032855665430381716, 'cat__side_genre_ Drama,  Western'),\n",
       " (0.0003248372645832357,\n",
       "  'cat__Director_Directors:Garth Jennings, Christophe Lourdelet'),\n",
       " (0.0003242115024219372, 'cat__Director_Judd Apatow'),\n",
       " (0.0003216349120663011,\n",
       "  'cat__Actors_Will Smith, Robert De Niro, Renée Zellweger, Angelina Jolie'),\n",
       " (0.0003201730053980133, 'cat__Director_James Wan'),\n",
       " (0.00031977636867248677, 'cat__Director_Satoshi Kon'),\n",
       " (0.0003194579764662423, 'cat__Director_Mike Nichols'),\n",
       " (0.00031913511399725766,\n",
       "  'cat__Actors_Gemma Chan, Richard Madden, Angelina Jolie, Salma Hayek'),\n",
       " (0.00031897657047219043, 'cat__Director_Jennifer Yuh Nelson'),\n",
       " (0.0003173662685387546,\n",
       "  'cat__Actors_Jackie Chan, Chris Tucker, Max von Sydow, Hiroyuki Sanada'),\n",
       " (0.00031537171819576496, 'cat__Director_Stephen Herek'),\n",
       " (0.0003152061049965488,\n",
       "  'cat__Actors_Robin Williams, Matt Damon, Ben Affleck, Stellan Skarsgård'),\n",
       " (0.00031366726524586965, 'cat__Director_Phillip Noyce'),\n",
       " (0.00031358183292401926, 'cat__Director_Tom Hooper'),\n",
       " (0.0003133397055854762,\n",
       "  'cat__Actors_Leonardo DiCaprio, Brad Pitt, Margot Robbie, Emile Hirsch'),\n",
       " (0.00031250311936316166,\n",
       "  'cat__Director_Directors:Bibo Bergeron, Vicky Jenson, Rob Letterman'),\n",
       " (0.0003121159399203054,\n",
       "  'cat__Actors_Charlie Sheen, Tom Berenger, Willem Dafoe, Keith David'),\n",
       " (0.0003107724804481006, 'cat__Director_John Pasquin'),\n",
       " (0.00031036146611305223,\n",
       "  'cat__Actors_Michael Keaton, Danny DeVito, Michelle Pfeiffer, Christopher Walken'),\n",
       " (0.00031022212637070126,\n",
       "  'cat__Actors_Tim Allen, Judge Reinhold, Wendy Crewson, Eric Lloyd'),\n",
       " (0.0003101610438117715, 'cat__Director_Baz Luhrmann'),\n",
       " (0.00030937596810299054, 'cat__Director_Adam McKay'),\n",
       " (0.0003093021566515815, 'cat__side_genre_ Family'),\n",
       " (0.00030850669588003806,\n",
       "  'cat__Actors_Owen Wilson, Jennifer Aniston, Eric Dane, Kathleen Turner'),\n",
       " (0.0003080220055311903, 'cat__Director_J.B. Rogers'),\n",
       " (0.00030697789971836535,\n",
       "  'cat__Actors_Ben Affleck, Bryan Cranston, John Goodman, Alan Arkin'),\n",
       " (0.00030658667911848966,\n",
       "  'cat__Actors_Emily Blunt, Lin-Manuel Miranda, Ben Whishaw, Emily Mortimer'),\n",
       " (0.0003063464355292838,\n",
       "  'cat__Actors_Dev Patel, Freida Pinto, Saurabh Shukla, Anil Kapoor'),\n",
       " (0.00030554909002687025, 'cat__Director_David Lynch'),\n",
       " (0.0003055279208447465,\n",
       "  'cat__Actors_Mel Gibson, Danny Glover, Joe Pesci, Rene Russo'),\n",
       " (0.00030510339167498247, 'cat__Censor_7'),\n",
       " (0.0003051002589916652, 'cat__side_genre_ Action,  Crime'),\n",
       " (0.000303722616837919, 'cat__Director_Michael Lembeck'),\n",
       " (0.0003028269771377859, 'cat__Director_Lars von Trier'),\n",
       " (0.00030199725871608065,\n",
       "  'cat__Actors_Zach Galligan, Phoebe Cates, Hoyt Axton, John Louie'),\n",
       " (0.0003007979672422301, 'cat__Director_A.R. Murugadoss'),\n",
       " (0.0002996954237282109, 'cat__Director_Renny Harlin'),\n",
       " (0.00029946431033981097,\n",
       "  'cat__Actors_Eddie Murphy, Peter Boyle, Ossie Davis, Oliver Platt'),\n",
       " (0.00029911828558584606, 'cat__Director_Jonathan Demme'),\n",
       " (0.00029887097509505566,\n",
       "  'cat__Director_Directors:Danny Boyle, Loveleen Tandan'),\n",
       " (0.00029813327889602646, 'cat__Director_Cameron Crowe'),\n",
       " (0.0002966216267434203,\n",
       "  'cat__Director_Directors:Jimmy Hayward, Steve Martino'),\n",
       " (0.0002961010531364969,\n",
       "  'cat__Actors_Ice Cube, Kevin Hart, Tika Sumpter, John Leguizamo'),\n",
       " (0.00029409187784732534,\n",
       "  'cat__Actors_Kristen Stewart, Chris Hemsworth, Charlize Theron, Sam Claflin'),\n",
       " (0.000294014117354598,\n",
       "  'cat__Actors_Jackie Chan, Chris Tucker, Ken Leung, Tom Wilkinson'),\n",
       " (0.00029191727410795415, 'cat__Director_Francis Ford Coppola'),\n",
       " (0.00029183963162912206,\n",
       "  'cat__Actors_Jay Baruchel, America Ferrera, F. Murray Abraham, Cate Blanchett'),\n",
       " (0.0002912362127798257, 'cat__Director_George P. Cosmatos'),\n",
       " (0.0002907723513295035, 'cat__Director_Emile Ardolino'),\n",
       " (0.0002895028024495352,\n",
       "  'cat__Actors_Patrick Wilson, Vera Farmiga, Ron Livingston, Lili Taylor'),\n",
       " (0.00028860750726429033, 'cat__Director_Matthew Vaughn'),\n",
       " (0.0002875125887903424, 'cat__Director_Robert Schwentke'),\n",
       " (0.0002870912642719661, 'cat__Director_Tony Scott'),\n",
       " (0.00028663707162987224,\n",
       "  'cat__Actors_Tom Hardy, Charlize Theron, Nicholas Hoult, Zoë Kravitz'),\n",
       " (0.00028640879344919435, 'cat__Director_Joel Schumacher'),\n",
       " (0.00028601806874002737,\n",
       "  'cat__Actors_Leonardo DiCaprio, Matt Damon, Jack Nicholson, Mark Wahlberg'),\n",
       " (0.00028593790231925636, 'cat__Director_Pedro Almodóvar'),\n",
       " (0.0002858925109650365,\n",
       "  'cat__Actors_Jason Bateman, Melissa McCarthy, John Cho, Amanda Peet'),\n",
       " (0.00028543168640619425,\n",
       "  'cat__Actors_Daniel Craig, Ana de Armas, Rami Malek, Léa Seydoux'),\n",
       " (0.0002845042268557585, 'cat__Director_Damien Chazelle'),\n",
       " (0.0002815745127939705,\n",
       "  'cat__Actors_Bob Hoskins, Christopher Lloyd, Joanna Cassidy, Charles Fleischer'),\n",
       " (0.00028131861478261356, 'cat__Director_Martin Campbell'),\n",
       " (0.0002798618524873292,\n",
       "  'cat__Actors_Jason Statham, Bingbing Li, Rainn Wilson, Cliff Curtis'),\n",
       " (0.00027975515737778655,\n",
       "  'cat__Actors_Arnold Schwarzenegger, Nick Stahl, Kristanna Loken, Claire Danes'),\n",
       " (0.00027952278979674134, 'cat__Director_Nicholas Stoller'),\n",
       " (0.0002758104102445803, 'cat__Director_Michael Haneke'),\n",
       " (0.00027558574615771695,\n",
       "  'cat__Actors_Richard Gere, Debra Winger, David Keith, Robert Loggia'),\n",
       " (0.00027395800083710673,\n",
       "  'cat__Director_Directors:Chris Renaud, Jonathan del Val'),\n",
       " (0.00027368532983924556,\n",
       "  'cat__Actors_Jason Biggs, Seann William Scott, Shannon Elizabeth, Alyson Hannigan'),\n",
       " (0.0002736046676232623, 'cat__Censor_UA 16+'),\n",
       " (0.00027324527084475394, 'cat__side_genre_ Crime,  Sport'),\n",
       " (0.00027229727750584107, 'cat__Director_Brian Levant'),\n",
       " (0.0002707559704215056, 'cat__Director_Paul W.S. Anderson'),\n",
       " (0.0002707493308726562,\n",
       "  'cat__Actors_Will Smith, Bridget Moynahan, Bruce Greenwood, Alan Tudyk'),\n",
       " (0.000269889653797297,\n",
       "  'cat__Actors_Adam Sandler, Kate Beckinsale, Christopher Walken, David Hasselhoff'),\n",
       " (0.00026963840234957374,\n",
       "  'cat__Actors_Tim Allen, Spencer Breslin, Elizabeth Mitchell, Eric Lloyd'),\n",
       " (0.00026931802282944645,\n",
       "  \"cat__Actors_Tim Curry, Susan Sarandon, Barry Bostwick, Richard O'Brien\"),\n",
       " (0.0002689388835022305, 'cat__side_genre_ Crime,  Fantasy'),\n",
       " (0.0002678322683809106, 'cat__Director_Isao Takahata'),\n",
       " (0.0002675145788256166,\n",
       "  'cat__Actors_Bradley Cooper, Jennifer Lawrence, Robert De Niro, Jacki Weaver'),\n",
       " (0.0002670906112381903, 'cat__Director_Imtiaz Ali'),\n",
       " (0.00026682808337285543,\n",
       "  'cat__Actors_Matthew McConaughey, Reese Witherspoon, Scarlett Johansson, Tori Kelly'),\n",
       " (0.00026656363109267285, 'cat__side_genre_ Drama,  Horror'),\n",
       " (0.0002660655334561253,\n",
       "  'cat__Actors_Adam Sandler, Kevin James, Chris Rock, David Spade'),\n",
       " (0.00026569354283177785, 'cat__side_genre_ Comedy'),\n",
       " (0.00026535488804992893,\n",
       "  'cat__Actors_Chris Pine, Zachary Quinto, Karl Urban, Zoe Saldana'),\n",
       " (0.00026406559397687974,\n",
       "  'cat__Actors_Dakota Johnson, Jamie Dornan, Eric Johnson, Eloise Mumford'),\n",
       " (0.0002631933797717846, 'cat__Director_David Cronenberg'),\n",
       " (0.00026306653478189076, 'cat__Director_Guillermo del Toro'),\n",
       " (0.0002626469141001427, 'cat__Director_John Singleton'),\n",
       " (0.0002623439411688108,\n",
       "  'cat__Actors_James McAvoy, Michael Fassbender, Jennifer Lawrence, Nicholas Hoult'),\n",
       " (0.0002620747130356918, 'cat__Director_Rupert Sanders'),\n",
       " (0.0002618537775338722,\n",
       "  'cat__Actors_Richard Dreyfuss, François Truffaut, Teri Garr, Melinda Dillon'),\n",
       " (0.00026164064800126777,\n",
       "  'cat__Actors_Glenn Close, Jeff Daniels, Joely Richardson, Joan Plowright'),\n",
       " (0.00026130767219601056,\n",
       "  'cat__Actors_Jack Nicholson, Adam Sandler, Marisa Tomei, Luis Guzmán'),\n",
       " (0.00026041506634282355,\n",
       "  'cat__Actors_Patton Oswalt, Kevin Hart, Harrison Ford, Eric Stonestreet'),\n",
       " (0.00025991268281024075,\n",
       "  'cat__Actors_Michael J. Fox, Geena Davis, Hugh Laurie, Jonathan Lipnicki'),\n",
       " (0.00025889852776556126, 'cat__Director_Cary Joji Fukunaga'),\n",
       " (0.0002585671281603472, 'cat__side_genre_ Family,  Sport'),\n",
       " (0.0002584956061850704, 'cat__Director_Farah Khan'),\n",
       " (0.00025848810113143333, 'cat__Director_Directors:Joel Coen, Ethan Coen'),\n",
       " (0.0002580584986859795, 'cat__Director_Rob Letterman'),\n",
       " (0.00025688429603292374,\n",
       "  'cat__Actors_Julia Roberts, Dermot Mulroney, Cameron Diaz, Rupert Everett'),\n",
       " (0.0002562419161087837,\n",
       "  'cat__Actors_Michael Douglas, Benicio Del Toro, Catherine Zeta-Jones, Jacob Vargas'),\n",
       " (0.0002549250716113098,\n",
       "  'cat__Actors_Scarlett Johansson, Morgan Freeman, Choi Min-sik, Amr Waked'),\n",
       " (0.00025446517267819574, 'cat__Director_Mike Leigh'),\n",
       " (0.0002543239764289114,\n",
       "  'cat__Actors_Jodie Foster, Anthony Hopkins, Lawrence A. Bonney, Kasi Lemmons'),\n",
       " (0.00025404595433450877,\n",
       "  'cat__Actors_Whoopi Goldberg, Maggie Smith, Kathy Najimy, Wendy Makkena'),\n",
       " (0.0002531181139498349,\n",
       "  'cat__Actors_Paul Walker, Tyrese Gibson, Cole Hauser, Eva Mendes'),\n",
       " (0.00025165423976458,\n",
       "  'cat__Director_Directors:Tim Johnson, Karey Kirkpatrick'),\n",
       " (0.000250210619927807,\n",
       "  'cat__Actors_Bruce Willis, Garry Shandling, Steve Carell, Wanda Sykes'),\n",
       " (0.00024974094151967654,\n",
       "  'cat__Actors_Ryan Reynolds, Justice Smith, Kathryn Newton, Bill Nighy'),\n",
       " (0.00024968500053041613,\n",
       "  'cat__Actors_Arnold Schwarzenegger, Jamie Lee Curtis, Tom Arnold, Bill Paxton'),\n",
       " (0.00024917896138306687, 'cat__Censor_G'),\n",
       " (0.00024915382371153925,\n",
       "  'cat__Actors_Denzel Washington, Russell Crowe, Chiwetel Ejiofor, Josh Brolin'),\n",
       " (0.0002490982394416068, 'cat__Director_Robert Rodriguez'),\n",
       " (0.00024896707042726765, 'cat__Director_Jonathan Mostow'),\n",
       " (0.00024870324365729445,\n",
       "  'cat__Actors_Jonah Hill, Channing Tatum, Ice Cube, Brie Larson'),\n",
       " (0.00024846846685577475,\n",
       "  'cat__Actors_Mel Gibson, Gary Sinise, Rene Russo, Brawley Nolte'),\n",
       " (0.00024841876788834,\n",
       "  'cat__Actors_James McAvoy, Michael Fassbender, Jennifer Lawrence, Kevin Bacon'),\n",
       " (0.00024812119182397247,\n",
       "  'cat__Actors_Steve Martin, Bonnie Hunt, Hilary Duff, Piper Perabo'),\n",
       " (0.0002479698064384058, 'cat__Director_Wilson Yip'),\n",
       " (0.00024774072090283166, 'cat__Director_Josh Boone'),\n",
       " (0.00024711295100981036, 'cat__Director_Gérard Krawczyk'),\n",
       " (0.00024703591910066585, 'cat__Director_Howard McCain'),\n",
       " (0.0002464149539167651,\n",
       "  'cat__Actors_Shailene Woodley, Ansel Elgort, Nat Wolff, Laura Dern'),\n",
       " (0.00024607275987200837,\n",
       "  'cat__Actors_Daveigh Chase, Chris Sanders, Tia Carrere, David Ogden Stiers'),\n",
       " (0.0002459982498776453, 'cat__Director_Chris Miller'),\n",
       " (0.00024467788940265434,\n",
       "  'cat__Actors_Angelina Jolie, James McAvoy, Morgan Freeman, Terence Stamp'),\n",
       " (0.0002446093338416193,\n",
       "  'cat__Actors_Brad Pitt, Eric Bana, Orlando Bloom, Julian Glover'),\n",
       " (0.0002445314319167224, 'cat__Director_Jim Sharman'),\n",
       " (0.0002442740117364842, 'cat__Director_Sergio Leone'),\n",
       " (0.00024391113763755397,\n",
       "  'cat__Actors_Adam Sandler, Winona Ryder, John Turturro, Allen Covert'),\n",
       " (0.00024370131597062646,\n",
       "  'cat__Actors_Sacha Baron Cohen, Ken Davitian, Luenell, Chester'),\n",
       " (0.00024364505967133394, 'cat__Director_Curtis Hanson'),\n",
       " (0.00024291614590552258,\n",
       "  'cat__Actors_Andy Serkis, Woody Harrelson, Steve Zahn, Karin Konoval'),\n",
       " (0.0002427240294201045,\n",
       "  'cat__Actors_Marlon Brando, Al Pacino, James Caan, Diane Keaton'),\n",
       " (0.00024133104209512877, 'cat__Director_Michael Sucsy'),\n",
       " (0.00024054806079813724,\n",
       "  'cat__Actors_Shailene Woodley, Theo James, Kate Winslet, Jai Courtney'),\n",
       " (0.00024028784779768242, 'cat__Director_Michael Lehmann'),\n",
       " (0.00024025140016821242,\n",
       "  'cat__Actors_Adam Sandler, Kevin James, Andy Samberg, Selena Gomez'),\n",
       " (0.00024015777802707737,\n",
       "  'cat__Actors_Rachel McAdams, Channing Tatum, Sam Neill, Jessica Lange'),\n",
       " (0.00023930128385249577,\n",
       "  'cat__Director_Directors:Clyde Geronimi, Hamilton Luske, Wolfgang Reitherman'),\n",
       " (0.00023823576164202665,\n",
       "  'cat__Director_Directors:Daniel Myrick, Eduardo Sánchez'),\n",
       " (0.0002381320695338238, 'cat__Director_Adam Shankman'),\n",
       " (0.00023791455537624007,\n",
       "  'cat__Actors_Robert Duvall, Téa Leoni, Elijah Wood, Morgan Freeman'),\n",
       " (0.00023766077469903783,\n",
       "  'cat__Actors_D.B. Sweeney, Julianna Margulies, Samuel E. Wright, Alfre Woodard'),\n",
       " (0.0002371766529547575, 'cat__Director_Denis Villeneuve'),\n",
       " (0.0002349439216148029, 'cat__Director_Terry Gilliam'),\n",
       " (0.00023477366987673966,\n",
       "  'cat__Actors_Tom Hanks, Aaron Eckhart, Laura Linney, Valerie Mahaffey'),\n",
       " (0.00023355177263656614, 'cat__Director_Ben Wheatley'),\n",
       " (0.00023346771273970472, 'cat__Director_David Frankel'),\n",
       " (0.0002333989924287545,\n",
       "  'cat__Actors_Matthew Broderick, Jean Reno, Maria Pitillo, Hank Azaria'),\n",
       " (0.0002332619107383977,\n",
       "  'cat__Actors_Vin Diesel, Asia Argento, Marton Csokas, Samuel L. Jackson'),\n",
       " (0.0002331681567688236,\n",
       "  'cat__Actors_Leonardo DiCaprio, Emily Mortimer, Mark Ruffalo, Ben Kingsley'),\n",
       " (0.0002327175168696475, 'cat__Director_Steve Carr'),\n",
       " (0.00023246023526271608,\n",
       "  'cat__Actors_Heather Donahue, Michael C. Williams, Joshua Leonard, Bob Griffin'),\n",
       " (0.00023245209604929562,\n",
       "  'cat__Actors_Will Smith, Martin Lawrence, Gabrielle Union, Jordi Mollà'),\n",
       " (0.0002318448580155961, 'cat__Director_Richard Linklater'),\n",
       " (0.00023164053353184316,\n",
       "  'cat__Actors_Jim Carrey, Steve Carell, Carol Burnett, Will Arnett'),\n",
       " (0.00023090314726640905,\n",
       "  \"cat__Actors_Rod Taylor, Betty Lou Gerson, J. Pat O'Malley, Martha Wentworth\"),\n",
       " (0.00023059038845485964,\n",
       "  'cat__Actors_Jacob Tremblay, Owen Wilson, Izabela Vidovic, Julia Roberts'),\n",
       " (0.00022951544527072729,\n",
       "  'cat__Actors_Mel Gibson, Linda Hunt, Christian Bale, Joe Baker'),\n",
       " (0.00022946806930685055, 'cat__Director_Neil Burger'),\n",
       " (0.00022873452056061046, 'cat__Director_Steve Barron'),\n",
       " (0.00022848776802600015,\n",
       "  'cat__Actors_Jack Nicholson, Diane Keaton, Keanu Reeves, Amanda Peet'),\n",
       " (0.00022779103974892442, 'cat__Director_Andy Tennant'),\n",
       " (0.0002270135775886392, 'cat__Director_Edward Zwick'),\n",
       " (0.0002265806243847092,\n",
       "  'cat__Actors_Eddie Murphy, Janet Jackson, Larry Miller, John Ales'),\n",
       " (0.0002265287671092791, 'cat__side_genre_ History'),\n",
       " (0.00022616781453312296, 'cat__Director_Yimou Zhang'),\n",
       " (0.00022611848614268747,\n",
       "  'cat__Actors_Tom Hanks, Meg Ryan, Ross Malinger, Rita Wilson'),\n",
       " (0.00022596732064650253, 'cat__Director_Richard Rich'),\n",
       " (0.00022581119589788572, 'cat__Director_Pierre Morel'),\n",
       " (0.00022576812498128115,\n",
       "  'cat__Actors_Billy Crystal, Jack Palance, Daniel Stern, Bruno Kirby'),\n",
       " (0.00022502317082821123, 'cat__Director_Mathieu Kassovitz'),\n",
       " (0.00022460820401096104, 'cat__Director_John McTiernan'),\n",
       " (0.00022425808199242668, 'cat__Director_Chuck Russell'),\n",
       " (0.00022292136364322564, 'cat__Director_McG'),\n",
       " (0.00022197168933788168, 'cat__side_genre_ Action,  Comedy'),\n",
       " (0.0002219669509013599,\n",
       "  'cat__Director_Directors:Mike Gabriel, Eric Goldberg'),\n",
       " (0.00022173486563121774,\n",
       "  'cat__Actors_Eddie Murphy, Paul Bates, Garcelle Beauvais, Feather'),\n",
       " (0.00022147956926980207,\n",
       "  'cat__Actors_Robin Williams, Forest Whitaker, Tom. T. Tran, Chintara Sukapatana'),\n",
       " (0.00022114835672930772, 'cat__Director_Karan Johar'),\n",
       " (0.00022044368014175508,\n",
       "  'cat__Actors_Justin Fletcher, John Sparkes, Omid Djalili, Richard Webber'),\n",
       " (0.00021996630300502514, 'cat__Director_P.J. Hogan'),\n",
       " (0.00021964741875368912, 'cat__Director_Neill Blomkamp'),\n",
       " (0.00021951314781051143,\n",
       "  'cat__Actors_Brad Pitt, Cate Blanchett, Tilda Swinton, Julia Ormond'),\n",
       " (0.0002191517840378268, 'cat__Director_James Foley'),\n",
       " (0.00021908600952848047,\n",
       "  'cat__Actors_Ioan Gruffudd, Jessica Alba, Chris Evans, Michael Chiklis'),\n",
       " (0.0002186410186282075,\n",
       "  'cat__Director_Directors:Peter Farrelly, Bobby Farrelly'),\n",
       " (0.00021815778816656252,\n",
       "  'cat__Actors_Reese Witherspoon, Patrick Dempsey, Josh Lucas, Candice Bergen'),\n",
       " (0.00021802814536523864,\n",
       "  'cat__Actors_Adam Sandler, Drew Barrymore, Rob Schneider, Sean Astin'),\n",
       " (0.00021796621746346246,\n",
       "  'cat__Actors_Michael Douglas, Sharon Stone, George Dzundza, Jeanne Tripplehorn'),\n",
       " (0.0002178359832990878, 'cat__Director_Walter Hill'),\n",
       " (0.00021779522350808217,\n",
       "  'cat__Actors_Owen Wilson, Cristela Alonzo, Chris Cooper, Nathan Fillion'),\n",
       " (0.00021758564238375208, 'cat__Director_Travis Knight'),\n",
       " (0.00021717374858663436,\n",
       "  'cat__Director_Directors:Eric Leighton, Ralph Zondag'),\n",
       " (0.0002170083845150796, 'cat__Director_Mel Brooks'),\n",
       " (0.0002163982528570698,\n",
       "  'cat__Actors_Cate Blanchett, Matt Damon, Liam Neeson, Tomoko Yamaguchi'),\n",
       " (0.00021560925242003294, 'cat__side_genre_ Crime,  Mystery'),\n",
       " (0.00021551180194069532, 'cat__Director_John Glen'),\n",
       " (0.0002147947553184235, 'cat__Director_Jee-woon Kim'),\n",
       " (0.00021434916856471426, 'cat__side_genre_ Adventure,  Biography'),\n",
       " (0.00021388773020175524, 'cat__Director_Directors:Evan Goldberg, Seth Rogen'),\n",
       " (0.00021381935136294877, 'cat__side_genre_ History,  Thriller'),\n",
       " (0.00021357329941292335,\n",
       "  'cat__Actors_Naomi Watts, Martin Henderson, Brian Cox, David Dorfman'),\n",
       " (0.00021316660835789695, 'cat__Director_Timur Bekmambetov'),\n",
       " (0.00021288210655767296, 'cat__Director_Lasse Hallström'),\n",
       " (0.0002128579147463649,\n",
       "  'cat__Actors_Judith Hoag, Elias Koteas, Josh Pais, David Forman'),\n",
       " (0.0002117983954961401, 'cat__side_genre_ Comedy,  Horror'),\n",
       " (0.00021164451460520947, 'cat__Director_Mimi Leder'),\n",
       " (0.0002111462558535295, 'cat__side_genre_ Comedy,  Romance'),\n",
       " (0.00021036166757560471, 'cat__Director_Robert Luketic'),\n",
       " (0.00021007862130653215, 'cat__Director_Antoine Fuqua'),\n",
       " (0.0002099099957728488, 'cat__Director_Mark Dindal'),\n",
       " (0.00020952287854171593,\n",
       "  'cat__Actors_Ashley Judd, Tommy Lee Jones, Bruce Greenwood, Benjamin Weir'),\n",
       " (0.00020944579497569478, 'cat__Director_Kevin Lima'),\n",
       " (0.0002093684657120021, 'cat__Director_Danny Boyle'),\n",
       " (0.00020886048608806648,\n",
       "  'cat__Actors_Anna Kendrick, Meryl Streep, Chris Pine, Emily Blunt'),\n",
       " (0.00020876422513812744, 'cat__Director_Milos Forman'),\n",
       " (0.00020824966777180427, 'cat__Director_Rob Reiner'),\n",
       " (0.00020808606422569783,\n",
       "  \"cat__Actors_John Goodman, Rick Moranis, Rosie O'Donnell, Halle Berry\"),\n",
       " (0.00020794942582008346, 'cat__Director_Gérard Pirès'),\n",
       " (0.0002071290002626407,\n",
       "  'cat__Actors_Samy Naceri, Frédéric Diefenthal, Marion Cotillard, Manuela Gourary'),\n",
       " (0.00020706948204158153, 'cat__Director_Stephen Chbosky'),\n",
       " (0.00020686729514456792,\n",
       "  'cat__Actors_Jack Palance, Howard McGillin, Michelle Nicastro, Liz Callaway'),\n",
       " (0.0002062569465143776,\n",
       "  'cat__Actors_Will Ferrell, Jonah Hill, Brad Pitt, Tina Fey'),\n",
       " (0.00020568253682488985, 'cat__Director_Steven Brill'),\n",
       " (0.00020546933779101153, 'cat__Director_Rajkumar Hirani'),\n",
       " (0.00020529149770873425,\n",
       "  'cat__Actors_Antonio Banderas, Salma Hayek, Zach Galifianakis, Billy Bob Thornton'),\n",
       " (0.00020503730132631886,\n",
       "  'cat__Actors_Ryûnosuke Kamiki, Nanami Sakuraba, Mitsuki Tanimura, Takahiro Yokokawa'),\n",
       " (0.00020482581791150453, 'cat__Director_Mark Waters'),\n",
       " (0.00020464455368741113,\n",
       "  'cat__Actors_George Clooney, Brad Pitt, Julia Roberts, Catherine Zeta-Jones'),\n",
       " (0.00020456958065252588, 'cat__Director_Mike Mitchell'),\n",
       " (0.00020455216601105008,\n",
       "  'cat__Actors_Hank Azaria, Katy Perry, Jonathan Winters, Neil Patrick Harris'),\n",
       " (0.0002044955170393139,\n",
       "  'cat__Actors_Cameron Diaz, Drew Barrymore, Lucy Liu, Bill Murray'),\n",
       " (0.00020398066333721768, 'cat__Director_Ron Underwood'),\n",
       " (0.0002032322417216071,\n",
       "  'cat__Actors_Steve Carell, Anne Hathaway, Alan Arkin, Dwayne Johnson'),\n",
       " (0.00020286127306350685, 'cat__Director_Wes Craven'),\n",
       " (0.00020267252178472986,\n",
       "  'cat__Actors_Angelina Jolie, Jon Voight, Iain Glen, Noah Taylor'),\n",
       " (0.00020258391189079337,\n",
       "  'cat__Actors_Robin Williams, Nathan Lane, Gene Hackman, Dianne Wiest'),\n",
       " (0.0002020109243635634, 'cat__Director_Brian Fee'),\n",
       " (0.000201949766785759, 'cat__Director_Paul Verhoeven'),\n",
       " (0.0002016897655437319, 'cat__Director_David Zucker'),\n",
       " (0.00020166302299392896,\n",
       "  'cat__Actors_Robert Redford, Demi Moore, Woody Harrelson, Seymour Cassel'),\n",
       " (0.00020155918638945473, 'cat__Director_Edgar Wright'),\n",
       " (0.00020153366627963948, 'cat__Director_Greg Mottola'),\n",
       " (0.00020130708846028306,\n",
       "  'cat__Actors_Jesse Eisenberg, Anne Hathaway, George Lopez, Karen Disher'),\n",
       " (0.00020038299738736615, 'cat__Director_Sanjay Leela Bhansali'),\n",
       " (0.00020037368995839727, 'cat__Director_Alex Proyas'),\n",
       " (0.00019990471892857551,\n",
       "  'cat__Director_Directors:Mark Burton, Richard Starzak'),\n",
       " (0.00019909831875318296,\n",
       "  'cat__Actors_Tom Cruise, Colin Farrell, Samantha Morton, Max von Sydow'),\n",
       " (0.00019872195917307114,\n",
       "  'cat__Actors_Edward Norton, Liv Tyler, Tim Roth, William Hurt'),\n",
       " (0.00019832528663136983,\n",
       "  'cat__Actors_Suraj Sharma, Irrfan Khan, Adil Hussain, Tabu'),\n",
       " (0.00019823320240676067,\n",
       "  'cat__Actors_Jim Caviezel, Sophia Myles, Ron Perlman, Jack Huston'),\n",
       " (0.00019787848407731411,\n",
       "  'cat__Actors_Eric Bana, Jennifer Connelly, Sam Elliott, Josh Lucas'),\n",
       " (0.0001976636246848047, 'cat__Director_Lee Daniels'),\n",
       " (0.00019632514144125616, 'cat__side_genre_ Action,  Drama'),\n",
       " (0.00019598891702750907,\n",
       "  'cat__Actors_Reese Witherspoon, Vince Vaughn, Mary Steenburgen, Robert Duvall'),\n",
       " (0.00019528145177689514, 'cat__Director_Darren Aronofsky'),\n",
       " (0.0001952176644956456, 'cat__Director_Sidney Lumet'),\n",
       " (0.00019518668925963407, 'cat__Director_Will Gluck'),\n",
       " (0.00019411368666041626, 'cat__Director_François Ozon'),\n",
       " (0.00019388883817493093, 'cat__side_genre_ Comedy,  Thriller'),\n",
       " (0.00019366652452426766,\n",
       "  'cat__Actors_Alexander Skarsgård, Rory J. Saper, Christian Stevens, Christoph Waltz'),\n",
       " (0.00019288679727498927,\n",
       "  'cat__Actors_Eminem, Brittany Murphy, Kim Basinger, Mekhi Phifer'),\n",
       " (0.00019247344174811693, 'cat__Director_Corin Hardy'),\n",
       " (0.00019123638626390274,\n",
       "  'cat__Actors_Dwayne Johnson, Kevin Hart, Danielle Nicolet, Amy Ryan'),\n",
       " (0.000189550188272758, 'cat__Director_Peter Weir'),\n",
       " (0.0001891191391223007, 'cat__Director_Gary Ross'),\n",
       " (0.00018910770974747736, 'cat__Director_Harold Ramis'),\n",
       " (0.00018791791313736957,\n",
       "  'cat__Actors_Mike Myers, Dana Carvey, Rob Lowe, Tia Carrere'),\n",
       " (0.00018767510499084625, 'cat__Director_Akira Kurosawa'),\n",
       " (0.00018758575128076, 'cat__Director_Mamoru Hosoda'),\n",
       " (0.00018714958513468743, 'cat__side_genre_ Crime,  Horror'),\n",
       " (0.00018633726948543396, 'cat__Director_Gareth Evans'),\n",
       " (0.00018620879846960385,\n",
       "  'cat__Actors_George Clooney, Meryl Streep, Bill Murray, Jason Schwartzman'),\n",
       " (0.00018537199734906535,\n",
       "  'cat__Actors_George Clooney, Brad Pitt, Matt Damon, Michael Mantell'),\n",
       " (0.0001851501715192263, 'cat__Director_Brad Silberling'),\n",
       " (0.0001845406278975704, 'cat__Director_Kenneth Branagh'),\n",
       " (0.00018451510026354338, 'cat__Director_Larry Charles'),\n",
       " (0.00018392123692583304,\n",
       "  'cat__Actors_Zach Braff, Joan Cusack, Garry Marshall, Don Knotts'),\n",
       " (0.0001835333721056537, 'cat__side_genre_ History,  War'),\n",
       " (0.0001827761661544611,\n",
       "  'cat__Actors_Jim Carrey, Jeff Daniels, Lauren Holly, Mike Starr'),\n",
       " (0.00018263314710296755,\n",
       "  'cat__Actors_Denzel Washington, Will Patton, Wood Harris, Ryan Hurst'),\n",
       " (0.0001823326481375229,\n",
       "  'cat__Actors_Christopher Reeve, Margot Kidder, Gene Hackman, Marlon Brando'),\n",
       " (0.00018205932082959777, 'cat__Director_Neil Jordan'),\n",
       " (0.0001820537258059579,\n",
       "  'cat__Actors_Will Ferrell, Jon Heder, Amy Poehler, Will Arnett'),\n",
       " (0.00018152584466097312,\n",
       "  'cat__Actors_Salman Khan, Katrina Kaif, Anupriya Goenka, Paresh Rawal'),\n",
       " (0.00018130885994736932,\n",
       "  'cat__Actors_Elle Fanning, AJ Michalka, Kyle Chandler, Joel Courtney'),\n",
       " (0.00018074108510502315,\n",
       "  'cat__Actors_Adam Sandler, Kevin James, Jessica Biel, Dan Aykroyd'),\n",
       " (0.00018060756552975264, 'cat__Director_Asghar Farhadi'),\n",
       " (0.00017988003329330032, 'cat__Director_Spike Lee'),\n",
       " (0.00017902912137414992,\n",
       "  'cat__Actors_Harrison Ford, Willem Dafoe, Anne Archer, Joaquim de Almeida'),\n",
       " (0.00017898453234955987,\n",
       "  'cat__Actors_Ben Affleck, Morgan Freeman, Ian Mongrain, Russell Bobbitt'),\n",
       " (0.00017876069297343886,\n",
       "  'cat__Actors_Amy Schumer, Bill Hader, Brie Larson, Colin Quinn'),\n",
       " (0.0001786160614612945, 'cat__Director_Mamoru Oshii'),\n",
       " (0.00017846625204260614, 'cat__side_genre_ Adventure,  Romance'),\n",
       " (0.00017799738460787614, 'cat__Director_Andrei Tarkovsky'),\n",
       " (0.00017769843440405285,\n",
       "  'cat__Actors_Cleavon Little, Gene Wilder, Slim Pickens, Harvey Korman'),\n",
       " (0.0001776617295834032, 'cat__Director_Morten Tyldum'),\n",
       " (0.00017752469054157125, 'cat__Director_Sam Raimi'),\n",
       " (0.00017737057907072927,\n",
       "  'cat__Actors_Jesse Eisenberg, Common, Mark Ruffalo, Woody Harrelson'),\n",
       " (0.00017725342936586986,\n",
       "  'cat__Actors_Mark Wahlberg, Anthony Hopkins, Josh Duhamel, Laura Haddock'),\n",
       " (0.00017703724699253586, 'cat__Director_Dave Wilson'),\n",
       " (0.00017690738644889536,\n",
       "  'cat__Actors_Forest Whitaker, Oprah Winfrey, John Cusack, Jane Fonda'),\n",
       " (0.00017689938201015517, 'cat__Director_John A. Davis'),\n",
       " (0.00017677652476369147,\n",
       "  'cat__Actors_Meryl Streep, Steve Martin, Alec Baldwin, John Krasinski'),\n",
       " (0.00017673413423477478, 'cat__Director_Simon Wincer'),\n",
       " (0.0001763729313154312, 'cat__Director_Jean-Luc Godard'),\n",
       " (0.00017622091994610732,\n",
       "  'cat__Actors_Rick Moranis, Matt Frewer, Marcia Strassman, Kristine Sutherland'),\n",
       " (0.00017555619349499818,\n",
       "  'cat__Actors_Demián Bichir, Taissa Farmiga, Jonas Bloquet, Bonnie Aarons'),\n",
       " (0.00017513041226165972,\n",
       "  'cat__Actors_Natalie Portman, Mila Kunis, Vincent Cassel, Winona Ryder'),\n",
       " (0.00017503260778166643,\n",
       "  'cat__Actors_Michael Cera, Jonah Hill, Christopher Mintz-Plasse, Bill Hader'),\n",
       " (0.00017484072907131978, 'cat__side_genre_ Romance,  Sport'),\n",
       " (0.00017448996838696407,\n",
       "  'cat__Actors_Hugh Jackman, Will Yun Lee, Tao Okamoto, Rila Fukushima'),\n",
       " (0.00017316097374168099, 'cat__Director_Neil Marshall'),\n",
       " (0.0001723960400081573,\n",
       "  'cat__Actors_Akshay Kumar, Sonakshi Sinha, Freddy Daruwala, Sumeet Raghavan'),\n",
       " (0.0001720722153619715,\n",
       "  'cat__Actors_Shailene Woodley, Ansel Elgort, Theo James, Kate Winslet'),\n",
       " (0.0001720097747771183,\n",
       "  'cat__Actors_Tôru Emori, Yoshiaki Umegaki, Aya Okamoto, Shôzô Îzuka'),\n",
       " (0.00017195004125861865, 'cat__Director_Brian Helgeland'),\n",
       " (0.0001717611158084233, 'cat__Director_Krzysztof Kieslowski'),\n",
       " (0.00017164942911713105, 'cat__Director_Vikas Bahl'),\n",
       " (0.0001714550660819005,\n",
       "  'cat__Actors_Paul Giamatti, Nicolas Cage, Julia Roberts, Meryl Streep'),\n",
       " (0.00017116278100649357,\n",
       "  'cat__Actors_Tye Sheridan, Olivia Cooke, Ben Mendelsohn, Lena Waithe'),\n",
       " (0.00017115888479283378,\n",
       "  'cat__Actors_Joaquin Phoenix, Reese Witherspoon, Ginnifer Goodwin, Robert Patrick'),\n",
       " (0.00017003028489892815, 'cat__Director_Tom Tykwer'),\n",
       " (0.00016930283495799616, 'cat__Director_Rahul Dholakia'),\n",
       " (0.00016924002685133333,\n",
       "  'cat__Actors_Tom Hanks, Meg Ryan, Greg Kinnear, Parker Posey'),\n",
       " (0.00016909327865942368, 'cat__Director_Gaspar Noé'),\n",
       " (0.0001689892081712357,\n",
       "  'cat__Actors_Brad Pitt, Catherine Zeta-Jones, Joseph Fiennes, Michelle Pfeiffer'),\n",
       " (0.0001686793605238275,\n",
       "  'cat__Actors_Brendan Fraser, Jenna Elfman, Steve Martin, Heather Locklear'),\n",
       " (0.00016809312962071313,\n",
       "  'cat__Actors_Anil Kapoor, Salman Khan, Bobby Deol, Jacqueline Fernandez'),\n",
       " (0.00016796853680864005, 'cat__Director_Alan J. Pakula'),\n",
       " (0.0001677792271770807,\n",
       "  'cat__Actors_Denzel Washington, Ryan Reynolds, Robert Patrick, Vera Farmiga'),\n",
       " (0.0001666652188437317, 'cat__Director_Robert Benton'),\n",
       " (0.00016620509642504652, 'cat__side_genre_ Crime,  Sci-Fi'),\n",
       " (0.00016607341302843159, 'cat__Director_John Waters'),\n",
       " (0.0001656537146238135, 'cat__Director_Boaz Yakin'),\n",
       " (0.00016506398962582724, 'cat__Director_Bong Joon Ho'),\n",
       " (0.00016474654338412693, 'cat__Director_Aditya Dhar'),\n",
       " (0.00016458818437342423, 'cat__side_genre_ Crime,  Romance'),\n",
       " (0.00016421120822370143, 'cat__Director_Directors:Joe Dante, Eric Goldberg'),\n",
       " (0.00016405637380504756, 'cat__Director_Alejandro Amenábar'),\n",
       " (0.0001639998001737189, 'cat__Director_Gauri Shinde'),\n",
       " (0.00016308529905036334, 'cat__Director_Arthur Hiller'),\n",
       " (0.00016286306589591908, 'cat__Director_Clark Johnson'),\n",
       " (0.00016284251645409554, 'cat__Director_Michael Caton-Jones'),\n",
       " (0.0001627594494184349, 'cat__Director_Terrence Malick'),\n",
       " (0.00016274832918074724, 'cat__Director_Directors:Jon Lucas, Scott Moore'),\n",
       " (0.00016257853514351197, 'cat__Director_Roger Donaldson'),\n",
       " (0.00016249430148388127,\n",
       "  'cat__Director_Directors:Patrick Gilmore, Tim Johnson'),\n",
       " (0.00016246840364155535,\n",
       "  'cat__Actors_Jim Carrey, Cameron Diaz, Peter Riegert, Peter Greene'),\n",
       " (0.00016230568736056518,\n",
       "  'cat__Actors_Dustin Hoffman, Meryl Streep, Jane Alexander, Justin Henry'),\n",
       " (0.00016207674667131463,\n",
       "  'cat__Actors_Eli Marienthal, Harry Connick Jr., Jennifer Aniston, Vin Diesel'),\n",
       " (0.00016192643496959998,\n",
       "  'cat__Actors_Carrie Coon, Paul Rudd, Finn Wolfhard, Mckenna Grace'),\n",
       " (0.00016163238933069693, 'cat__Director_Brad Peyton'),\n",
       " (0.00016160788655888354, 'cat__side_genre_ Comedy,  War'),\n",
       " (0.00016160040387508298,\n",
       "  'cat__Actors_Hugh Grant, Julia Roberts, Richard McCabe, Rhys Ifans'),\n",
       " (0.00016145182327628128, 'cat__side_genre_ History,  Sport'),\n",
       " (0.00016134476645217845, 'cat__Director_J.C. Chandor'),\n",
       " (0.00016111978534007006,\n",
       "  'cat__Actors_Lily James, Amanda Seyfried, Meryl Streep, Cher'),\n",
       " (0.0001610961630650802, 'cat__Director_Lawrence Kasdan'),\n",
       " (0.0001610691329489568,\n",
       "  'cat__Actors_Will Ferrell, Mark Wahlberg, Derek Jeter, Eva Mendes'),\n",
       " (0.00016073570454728587,\n",
       "  'cat__Actors_Michael B. Jordan, Sylvester Stallone, Tessa Thompson, Phylicia Rashad'),\n",
       " (0.00016046967260800084, 'cat__Director_Greta Gerwig'),\n",
       " (0.00016038208428318081,\n",
       "  'cat__Actors_Bruce Willis, William Atherton, Bonnie Bedelia, Reginald VelJohnson'),\n",
       " (0.0001598960384526482, 'cat__side_genre_ Family,  Music'),\n",
       " (0.00015988123113046845,\n",
       "  'cat__Actors_Hitoshi Takagi, Noriko Hidaka, Chika Sakamoto, Shigesato Itoi'),\n",
       " (0.00015977258022756692, 'cat__side_genre_ Horror,  Musical'),\n",
       " (0.00015942749592846563,\n",
       "  'cat__Actors_Jim Carrey, Gary Oldman, Colin Firth, Steve Valentine'),\n",
       " (0.00015929130493797783, 'cat__Censor_All'),\n",
       " (0.00015912581286511317,\n",
       "  'cat__Actors_Tobey Maguire, Jeff Bridges, Elizabeth Banks, Chris Cooper'),\n",
       " (0.000158770741047275,\n",
       "  'cat__Actors_Samuel L. Jackson, Colin Farrell, Michelle Rodriguez, LL Cool J'),\n",
       " (0.00015835134678617878, 'cat__Director_Nicolas Winding Refn'),\n",
       " (0.0001582130755858444, 'cat__Director_Daniel Espinosa'),\n",
       " (0.00015799810552952662,\n",
       "  \"cat__Actors_Ali MacGraw, Ryan O'Neal, John Marley, Ray Milland\"),\n",
       " (0.00015797549119728397, 'cat__Director_Emir Kusturica'),\n",
       " (0.00015770500848004559,\n",
       "  'cat__Actors_Vin Diesel, Eiza González, Sam Heughan, Toby Kebbell'),\n",
       " (0.00015746164204519039, 'cat__Director_Peter Berg'),\n",
       " (0.0001572945313192296, 'cat__Director_Hirokazu Koreeda'),\n",
       " (0.00015712313337628233, 'cat__Director_David Twohy'),\n",
       " (0.00015693570232949247, 'cat__Director_Giuseppe Tornatore'),\n",
       " (0.00015587636816137356, 'cat__Director_Phil Alden Robinson'),\n",
       " (0.00015566790130192492, 'cat__Director_Donald Petrie'),\n",
       " (0.00015548892495032254, 'cat__Director_David Lean'),\n",
       " (0.00015526172640714683, 'cat__Director_Vishal Bhardwaj'),\n",
       " (0.00015514757859915628, 'cat__Director_Ol Parker'),\n",
       " (0.00015449793738988638,\n",
       "  'cat__Actors_Tom Hanks, Tyler Hoechlin, Rob Maxey, Liam Aiken'),\n",
       " (0.0001543660274792589,\n",
       "  'cat__Actors_Omar Sharif, Julie Christie, Geraldine Chaplin, Rod Steiger'),\n",
       " (0.00015433777042998578, 'cat__Director_Brian Robbins'),\n",
       " (0.00015388952018816163,\n",
       "  'cat__Actors_Irrfan Khan, Mahie Gill, Rajesh Abhay, Hemendra Dandotiya'),\n",
       " (0.0001537198874411504, 'cat__Director_Farhan Akhtar'),\n",
       " (0.00015344379091644422, 'cat__Director_Sanjay Gadhvi'),\n",
       " (0.00015342747675969046, 'cat__side_genre_ Adventure,  Western'),\n",
       " (0.00015267294005234943, 'cat__Director_Steven Caple Jr.'),\n",
       " (0.00015264844004020376,\n",
       "  'cat__Actors_Martin Lawrence, Nia Long, Paul Giamatti, Jascha Washington'),\n",
       " (0.00015230139127193554, 'cat__Director_Ken Loach'),\n",
       " (0.00015220865987622777,\n",
       "  'cat__Actors_Matthew McConaughey, Sandra Bullock, Samuel L. Jackson, Kevin Spacey'),\n",
       " (0.0001520673419633892, 'cat__Director_Abhinav Kashyap'),\n",
       " (0.00015162154148763888, 'cat__Director_Andrew Niccol'),\n",
       " (0.00015093008729883506,\n",
       "  'cat__Actors_Sean Connery, Alec Baldwin, Scott Glenn, Sam Neill'),\n",
       " (0.00015072103928528253,\n",
       "  'cat__Actors_Orson Welles, Robert Stack, Leonard Nimoy, Norman Alden'),\n",
       " (0.00015063303904651662, 'cat__Director_Craig Gillespie'),\n",
       " (0.00015043501436204693, 'cat__Director_Paul Thomas Anderson'),\n",
       " (0.00015032415988191477, 'cat__Director_John Badham'),\n",
       " (0.00015017641192358058,\n",
       "  'cat__Actors_Emmanuel Garijo, Tom Hudson, Baptiste Goy, Axel Devillers'),\n",
       " (0.00015008438480282655, 'cat__side_genre_ Family,  Romance'),\n",
       " (0.00015005605433531118,\n",
       "  'cat__Actors_Amy Adams, Susan Sarandon, James Marsden, Patrick Dempsey'),\n",
       " (0.0001496402207708727,\n",
       "  'cat__Actors_Shah Rukh Khan, Priyanka Chopra Jonas, Arjun Rampal, Isha Koppikar'),\n",
       " (0.00014952494276975154,\n",
       "  'cat__Actors_Bryan Cranston, Koyu Rankin, Edward Norton, Bob Balaban'),\n",
       " (0.0001494694833129051,\n",
       "  'cat__Actors_Melissa McCarthy, Kristen Wiig, Kate McKinnon, Leslie Jones'),\n",
       " (0.00014906514692980522,\n",
       "  \"cat__Actors_Jack O'Connell, Miyavi, Domhnall Gleeson, Garrett Hedlund\"),\n",
       " (0.00014901167991681334, 'cat__Director_Roger Michell'),\n",
       " (0.00014899792857655543, 'cat__Director_Sajid Nadiadwala'),\n",
       " (0.0001488216318565415,\n",
       "  'cat__Actors_Sharlto Copley, David James, Jason Cope, Nathalie Boltt'),\n",
       " (0.00014880535598348098,\n",
       "  'cat__Actors_Hrithik Roshan, Abhishek Bachchan, Aishwarya Rai Bachchan, Uday Chopra'),\n",
       " (0.0001487500558631602, 'cat__Director_Bernardo Bertolucci'),\n",
       " (0.0001483714583051573, 'cat__Director_Alejandro G. Iñárritu'),\n",
       " (0.00014818389138917273, 'cat__Director_Noah Baumbach'),\n",
       " (0.00014805270351552066,\n",
       "  'cat__Actors_Hailee Steinfeld, Jorge Lendeborg Jr., John Cena, Jason Drucker'),\n",
       " (0.0001478350263947211, 'cat__Director_Sujoy Ghosh'),\n",
       " (0.00014773768016786246,\n",
       "  'cat__Actors_Chow Yun-Fat, Michelle Yeoh, Ziyi Zhang, Chang Chen'),\n",
       " (0.00014669229242901674, 'cat__Director_Michel Gondry'),\n",
       " (0.00014665429502318242, \"cat__Director_Remo D'Souza\"),\n",
       " (0.00014648317540025664, 'cat__Director_Jaume Collet-Serra'),\n",
       " (0.000146407603786467,\n",
       "  'cat__Actors_Shirley MacLaine, Debra Winger, Jack Nicholson, Danny DeVito'),\n",
       " (0.00014623628230956803, 'cat__Director_Roger Spottiswoode'),\n",
       " (0.00014602108327582363, 'cat__Director_Steve Martino'),\n",
       " (0.00014580331019758958,\n",
       "  'cat__Actors_Justin Long, Matthew Gray Gubler, Jesse McCartney, Jason Lee'),\n",
       " (0.00014564260181490176,\n",
       "  'cat__Actors_Alexa PenaVega, Daryl Sabara, Antonio Banderas, Carla Gugino'),\n",
       " (0.00014562091922090304, 'cat__Director_Robert Altman'),\n",
       " (0.00014552540032507124,\n",
       "  'cat__Actors_Clint Eastwood, Patrick L. Reyes, Cesar De León, Gustavo Muñoz'),\n",
       " (0.00014551988622757525, 'cat__Director_Billy Wilder'),\n",
       " (0.0001449202743484383,\n",
       "  'cat__Actors_Jack Nicholson, Louise Fletcher, Michael Berryman, Peter Brocco'),\n",
       " (0.00014470266982158733, 'cat__Director_Angelina Jolie'),\n",
       " (0.00014431214259257141,\n",
       "  'cat__Actors_Arnold Schwarzenegger, Danny DeVito, Kelly Preston, Chloe Webb'),\n",
       " (0.00014428061814366673,\n",
       "  'cat__Actors_John Travolta, Uma Thurman, Samuel L. Jackson, Bruce Willis'),\n",
       " (0.00014427665592080263, 'cat__Director_S.S. Rajamouli'),\n",
       " (0.00014417568414670795,\n",
       "  'cat__Director_Directors:Don Bluth, Gary Goldman, Dan Kuenster'),\n",
       " (0.00014416650633442314,\n",
       "  'cat__Actors_Kenneth Branagh, Penélope Cruz, Willem Dafoe, Judi Dench'),\n",
       " (0.00014410881430703404, 'cat__main_genre_Fantasy'),\n",
       " (0.00014408876095862162, 'cat__Director_Sang-ho Yeon'),\n",
       " (0.0001440706275143713,\n",
       "  'cat__Actors_James Franco, Seth Rogen, Randall Park, Lizzy Caplan'),\n",
       " (0.00014400077307836261, 'cat__Director_Makoto Shinkai'),\n",
       " (0.000143927854889016,\n",
       "  'cat__Actors_Will Smith, Kevin Kline, Kenneth Branagh, Salma Hayek'),\n",
       " (0.00014392104844614914, 'cat__Director_John Madden'),\n",
       " (0.00014374027569760898,\n",
       "  'cat__Actors_Johnny Depp, Isla Fisher, Timothy Olyphant, Abigail Breslin'),\n",
       " (0.00014331950522300098, 'cat__Director_Christian Rivers'),\n",
       " (0.00014320403888705156,\n",
       "  'cat__Actors_Chris Hemsworth, Viola Davis, Tang Wei, Leehom Wang'),\n",
       " (0.00014317202929404208,\n",
       "  'cat__Actors_Bruce Willis, Samuel L. Jackson, Robin Wright, Spencer Treat Clark'),\n",
       " (0.0001431374063129918, 'cat__Director_David Koepp'),\n",
       " (0.00014296776079074497,\n",
       "  'cat__Actors_Anjelica Huston, Raul Julia, Christopher Lloyd, Dan Hedaya'),\n",
       " (0.000142824944200893, 'cat__Director_Directors:Josh Gordon, Will Speck'),\n",
       " (0.00014279184737121272, 'cat__Director_Frank Capra'),\n",
       " (0.00014275360083407742, 'cat__Director_Jean-François Richet'),\n",
       " (0.00014273684996234383, 'cat__Director_Alexander Payne'),\n",
       " (0.00014249269455592344, 'cat__Director_Maneesh Sharma'),\n",
       " (0.00014223006844189728,\n",
       "  'cat__Actors_Brad Pitt, Tom Cruise, Antonio Banderas, Kirsten Dunst'),\n",
       " (0.0001421613185300359, 'cat__Director_Wim Wenders'),\n",
       " (0.000142105274583774,\n",
       "  'cat__Actors_Angelina Jolie, Liev Schreiber, Chiwetel Ejiofor, Daniel Olbrychski'),\n",
       " (0.00014164674616553053,\n",
       "  'cat__Actors_Vicky Kaushal, Paresh Rawal, Mohit Raina, Yami Gautam'),\n",
       " (0.00014144725916846648, 'cat__Director_Tigmanshu Dhulia'),\n",
       " (0.00014114053965627165,\n",
       "  'cat__Actors_Jane Fonda, Lily Tomlin, Dolly Parton, Dabney Coleman'),\n",
       " (0.00014110867992962154,\n",
       "  'cat__Actors_Franka Potente, Matt Damon, Chris Cooper, Clive Owen'),\n",
       " (0.00014096907605223887, 'cat__Director_J.A. Bayona'),\n",
       " (0.00014066760531511243,\n",
       "  'cat__Actors_Mila Kunis, Kathryn Hahn, Kristen Bell, Christina Applegate'),\n",
       " (0.00014063662219897602, 'cat__Director_Dominic Sena'),\n",
       " (0.0001405823060027315,\n",
       "  'cat__Actors_Cyril Raffaelli, David Belle, Philippe Torreton, Daniel Duval'),\n",
       " (0.00014050209693233792,\n",
       "  'cat__Actors_Beyoncé, Jamie Foxx, Eddie Murphy, Danny Glover'),\n",
       " (0.00014016245501918665, 'cat__Director_Jacques Audiard'),\n",
       " (0.0001399491026940661,\n",
       "  'cat__Actors_Dwayne Johnson, Channing Tatum, Adrianne Palicki, Lee Byung-hun'),\n",
       " (0.00013956548488324686,\n",
       "  'cat__Actors_Sarah Michelle Gellar, Jason Behr, Clea DuVall, William Mapother'),\n",
       " (0.00013926086908523584,\n",
       "  'cat__Actors_Jim Carrey, Jude Law, Meryl Streep, Liam Aiken'),\n",
       " (0.00013925748727686382,\n",
       "  'cat__Actors_James McAvoy, Bruce Willis, Samuel L. Jackson, Anya Taylor-Joy'),\n",
       " (0.00013880909158498828, 'cat__Director_Andy Fickman'),\n",
       " (0.00013830457346071444, 'cat__Director_Don Bluth'),\n",
       " (0.0001381262488560848, 'cat__Director_Hoyt Yeatman'),\n",
       " (0.00013807616328869853, 'cat__side_genre_ History,  Romance'),\n",
       " (0.00013804863804129936,\n",
       "  'cat__Actors_Julia Roberts, Patrick Bergin, Kevin Anderson, Elizabeth Lawrence'),\n",
       " (0.00013799665680638216, 'cat__Director_Paolo Sorrentino'),\n",
       " (0.0001379744893393777, 'cat__Director_William Friedkin'),\n",
       " (0.00013758750703201774, 'cat__Director_Steve Oedekerk'),\n",
       " (0.00013719872815811594,\n",
       "  'cat__Actors_Hera Hilmar, Robert Sheehan, Hugo Weaving, Jihae'),\n",
       " (0.00013712132561776182,\n",
       "  'cat__Actors_Julia Roberts, Jamie Foxx, Anne Hathaway, Jessica Alba'),\n",
       " (0.00013665970239706347, 'cat__side_genre_ Fantasy,  Mystery'),\n",
       " (0.0001366567303769876,\n",
       "  'cat__Actors_Robert De Niro, Billy Crystal, Lisa Kudrow, Chazz Palminteri'),\n",
       " (0.00013659264485809506,\n",
       "  'cat__Actors_Ben Stiller, Christine Taylor, Vince Vaughn, Rip Torn'),\n",
       " (0.00013654411154409603,\n",
       "  'cat__Actors_Salman Khan, Jacqueline Fernandez, Nawazuddin Siddiqui, Randeep Hooda'),\n",
       " (0.0001363313552755556, 'cat__Director_Nicolas Roeg'),\n",
       " (0.000135094377275095, 'cat__Director_Wes Ball'),\n",
       " (0.0001348558987527213,\n",
       "  'cat__Actors_Morgan Freeman, Jessica Tandy, Dan Aykroyd, Patti LuPone'),\n",
       " (0.0001348136468156709,\n",
       "  'cat__Actors_Leonardo DiCaprio, Jonah Hill, Margot Robbie, Matthew McConaughey'),\n",
       " (0.0001347775229931596,\n",
       "  'cat__Actors_James Corden, Fayssal Bazzi, Domhnall Gleeson, Sia'),\n",
       " (0.00013468071850329595,\n",
       "  'cat__Actors_Saoirse Ronan, Emma Watson, Florence Pugh, Eliza Scanlen'),\n",
       " (0.00013463318583344376,\n",
       "  'cat__Actors_Chieko Baishô, Takuya Kimura, Tatsuya Gashûin, Akihiro Miwa'),\n",
       " (0.00013444215229994528,\n",
       "  'cat__Actors_Pat Morita, Ralph Macchio, Pat E. Johnson, Bruce Malmuth'),\n",
       " (0.00013433209735310615,\n",
       "  'cat__Actors_Hugh Jackman, Kate Beckinsale, Richard Roxburgh, Shuler Hensley'),\n",
       " (0.00013360518099989806, 'cat__Director_Nelson Shin'),\n",
       " (0.00013354167583871538,\n",
       "  'cat__Actors_Noah Schnapp, Bill Melendez, Hadley Belle Miller, Francesca Capaldi'),\n",
       " ...]"
      ]
     },
     "execution_count": 73,
     "metadata": {},
     "output_type": "execute_result"
    }
   ],
   "source": [
    "feature_importances = rf_model[\"random_forest\"].feature_importances_\n",
    "sorted(zip(feature_importances,\n",
    "          rf_model[\"preprocessing\"].get_feature_names_out()),\n",
    "      reverse=True)"
   ]
  },
  {
   "cell_type": "markdown",
   "id": "03fd0dde",
   "metadata": {},
   "source": [
    "We can try the best parameters on the training set:"
   ]
  },
  {
   "cell_type": "code",
   "execution_count": 74,
   "id": "6512550f",
   "metadata": {},
   "outputs": [
    {
     "data": {
      "text/plain": [
       "count    3.000000e+00\n",
       "mean     4.397829e+07\n",
       "std      2.258038e+06\n",
       "min      4.169479e+07\n",
       "25%      4.286245e+07\n",
       "50%      4.403011e+07\n",
       "75%      4.512004e+07\n",
       "max      4.620998e+07\n",
       "dtype: float64"
      ]
     },
     "execution_count": 74,
     "metadata": {},
     "output_type": "execute_result"
    }
   ],
   "source": [
    "from sklearn.ensemble import RandomForestRegressor\n",
    "\n",
    "forest_reg = make_pipeline(preprocessing,\n",
    "                           RandomForestRegressor(max_depth=1308,\n",
    "                                                 max_features=3,\n",
    "                                                 n_estimators=1343,\n",
    "                                                 random_state=42,\n",
    "                                                 n_jobs=-1))\n",
    "forest_rmses = -cross_val_score(forest_reg, movies, movies_labels, scoring=\"neg_root_mean_squared_error\", cv=3, n_jobs=-1)\n",
    "pd.Series(forest_rmses).describe()"
   ]
  },
  {
   "cell_type": "markdown",
   "id": "4c26f750",
   "metadata": {},
   "source": [
    "After this, we can try varying other hyperparameters:"
   ]
  },
  {
   "cell_type": "code",
   "execution_count": 75,
   "id": "2d3dd62c",
   "metadata": {},
   "outputs": [
    {
     "data": {
      "text/plain": [
       "{'random_forest__min_samples_split': 2}"
      ]
     },
     "execution_count": 75,
     "metadata": {},
     "output_type": "execute_result"
    }
   ],
   "source": [
    "param_distribs = {'random_forest__min_samples_split': randint(low=1, high=5)}\n",
    "\n",
    "full_pipeline = Pipeline([\n",
    "    (\"preprocessing\", preprocessing),\n",
    "    (\"random_forest\", RandomForestRegressor(max_depth=1450,\n",
    "                                                 max_features=3,\n",
    "                                                 n_estimators=1450,\n",
    "                                                 random_state=42,\n",
    "                                                 n_jobs=-1)),\n",
    "])\n",
    "\n",
    "rnd_search = RandomizedSearchCV(\n",
    "    full_pipeline, param_distributions=param_distribs, n_iter=10, cv=3,\n",
    "    scoring='neg_root_mean_squared_error', random_state=42, n_jobs=-1)\n",
    "\n",
    "rnd_search.fit(movies, movies_labels)\n",
    "\n",
    "rnd_search.best_params_"
   ]
  },
  {
   "cell_type": "markdown",
   "id": "ef89c05d",
   "metadata": {},
   "source": [
    "This is the same as the default value, let us stick with it.\n",
    "\n",
    "Below, we vary \"min_samples_leaf\":"
   ]
  },
  {
   "cell_type": "code",
   "execution_count": 72,
   "id": "44adde06",
   "metadata": {},
   "outputs": [
    {
     "data": {
      "text/plain": [
       "{'random_forest__min_samples_leaf': 1}"
      ]
     },
     "execution_count": 72,
     "metadata": {},
     "output_type": "execute_result"
    }
   ],
   "source": [
    "param_distribs = {'random_forest__min_samples_leaf': randint(low=1, high=3)}\n",
    "\n",
    "full_pipeline = Pipeline([\n",
    "    (\"preprocessing\", preprocessing),\n",
    "    (\"random_forest\", RandomForestRegressor(max_depth=1308,\n",
    "                                                 max_features=3,\n",
    "                                                 n_estimators=1343,\n",
    "                                                 random_state=42,\n",
    "                                                 n_jobs=-1)),\n",
    "])\n",
    "\n",
    "\n",
    "\n",
    "rnd_search = RandomizedSearchCV(\n",
    "    full_pipeline, param_distributions=param_distribs, n_iter=10, cv=3,\n",
    "    scoring='neg_root_mean_squared_error', random_state=42, n_jobs=-1)\n",
    "\n",
    "rnd_search.fit(movies, movies_labels)\n",
    "\n",
    "rnd_search.best_params_"
   ]
  },
  {
   "cell_type": "code",
   "execution_count": 73,
   "id": "c8e0a4f8",
   "metadata": {},
   "outputs": [
    {
     "data": {
      "text/plain": [
       "count    1.000000e+01\n",
       "mean     4.408859e+07\n",
       "std      2.319549e+06\n",
       "min      3.908082e+07\n",
       "25%      4.303077e+07\n",
       "50%      4.459353e+07\n",
       "75%      4.487054e+07\n",
       "max      4.806537e+07\n",
       "dtype: float64"
      ]
     },
     "execution_count": 73,
     "metadata": {},
     "output_type": "execute_result"
    }
   ],
   "source": [
    "from sklearn.ensemble import RandomForestRegressor\n",
    "\n",
    "forest_reg = make_pipeline(preprocessing,\n",
    "                           RandomForestRegressor(max_depth=1308,\n",
    "                                                 max_features=3,\n",
    "                                                 n_estimators=1343,\n",
    "                                                 random_state=42,\n",
    "                                                 n_jobs=-1))\n",
    "forest_rmses = -cross_val_score(forest_reg, movies, movies_labels, scoring=\"neg_root_mean_squared_error\", cv=3, n_jobs=-1)\n",
    "pd.Series(forest_rmses).describe()"
   ]
  },
  {
   "cell_type": "markdown",
   "id": "4e8f9a73",
   "metadata": {},
   "source": [
    "We can use random search for *Gradient Boosted Decision Trees*:"
   ]
  },
  {
   "cell_type": "code",
   "execution_count": 49,
   "id": "edcf89cb",
   "metadata": {},
   "outputs": [
    {
     "data": {
      "text/plain": [
       "{'GBDT__learning_rate': 0.1,\n",
       " 'GBDT__loss': 'squared_error',\n",
       " 'GBDT__max_depth': 21,\n",
       " 'GBDT__n_estimators': 2143}"
      ]
     },
     "execution_count": 49,
     "metadata": {},
     "output_type": "execute_result"
    }
   ],
   "source": [
    "from sklearn.ensemble import GradientBoostingRegressor\n",
    "from sklearn.experimental import enable_halving_search_cv\n",
    "from sklearn.model_selection import HalvingRandomSearchCV\n",
    "\n",
    "from sklearn.model_selection import RandomizedSearchCV\n",
    "from scipy.stats import randint\n",
    "\n",
    "full_pipeline = Pipeline([\n",
    "    (\"preprocessing\", preprocessing),\n",
    "    (\"GBDT\", GradientBoostingRegressor()),\n",
    "])\n",
    "\n",
    "param_distribs = {\n",
    "                 'GBDT__loss': [\"squared_error\"],\n",
    "                 'GBDT__learning_rate': [0.1, 0.2],\n",
    "                 'GBDT__max_depth': randint(low=20, high=40),\n",
    "                 'GBDT__n_estimators': randint(low=1800, high=2300)}\n",
    "\n",
    "rnd_search = RandomizedSearchCV(\n",
    "    full_pipeline, param_distributions=param_distribs, n_iter=10, cv=3,\n",
    "    scoring='neg_root_mean_squared_error', random_state=42, n_jobs=-1)\n",
    "\n",
    "rnd_search.fit(movies, movies_labels)\n",
    "rnd_search.best_params_"
   ]
  },
  {
   "cell_type": "markdown",
   "id": "96fcc497",
   "metadata": {},
   "source": [
    "we can try the best set on the training set:"
   ]
  },
  {
   "cell_type": "code",
   "execution_count": 51,
   "id": "8afda976",
   "metadata": {},
   "outputs": [
    {
     "data": {
      "text/plain": [
       "count    1.000000e+01\n",
       "mean     4.548574e+07\n",
       "std      3.538748e+06\n",
       "min      3.848032e+07\n",
       "25%      4.482605e+07\n",
       "50%      4.551851e+07\n",
       "75%      4.641887e+07\n",
       "max      5.269015e+07\n",
       "dtype: float64"
      ]
     },
     "execution_count": 51,
     "metadata": {},
     "output_type": "execute_result"
    }
   ],
   "source": [
    "GBDT_reg = make_pipeline(preprocessing,\n",
    "                           GradientBoostingRegressor(\n",
    "                               loss=\"squared_error\",\n",
    "                               learning_rate=0.1,\n",
    "                               max_depth=21,\n",
    "                               n_estimators=2143)\n",
    "                           )\n",
    "GBDT_rmses = -cross_val_score(GBDT_reg, movies, movies_labels, scoring=\"neg_root_mean_squared_error\", cv=10, n_jobs=-1)\n",
    "pd.Series(GBDT_rmses).describe()"
   ]
  },
  {
   "cell_type": "markdown",
   "id": "4cb09835",
   "metadata": {},
   "source": [
    "### 7.2 Manual Search"
   ]
  },
  {
   "cell_type": "markdown",
   "id": "7171c060",
   "metadata": {},
   "source": [
    "Now that we have narrowed our parameters, we can use *GridSearchCV*. The problem is that it is very time consuming (I tried to run it and it would take me more than an hour, depending on the grids of the parameters used). For that reason, I will just manually change certain parametrs of the *Random Forest* model and compare it to the best model we obtained from random search.\n",
    "\n",
    "I will start by changing the best result obtained by random search:"
   ]
  },
  {
   "cell_type": "code",
   "execution_count": 76,
   "id": "48afca2a",
   "metadata": {},
   "outputs": [
    {
     "data": {
      "text/plain": [
       "count    1.000000e+01\n",
       "mean     4.343618e+07\n",
       "std      3.154372e+06\n",
       "min      3.920571e+07\n",
       "25%      4.152894e+07\n",
       "50%      4.307577e+07\n",
       "75%      4.444345e+07\n",
       "max      5.082054e+07\n",
       "dtype: float64"
      ]
     },
     "execution_count": 76,
     "metadata": {},
     "output_type": "execute_result"
    }
   ],
   "source": [
    "from sklearn.ensemble import RandomForestRegressor\n",
    "\n",
    "forest_reg = make_pipeline(preprocessing,\n",
    "                           RandomForestRegressor(max_depth=1450,\n",
    "                                                 max_features=2,\n",
    "                                                 n_estimators=1600,\n",
    "                                                 random_state=42,\n",
    "                                                 n_jobs=-1))\n",
    "forest_rmses = -cross_val_score(forest_reg, movies, movies_labels, scoring=\"neg_root_mean_squared_error\", cv=3, n_jobs=-1)\n",
    "pd.Series(forest_rmses).describe()"
   ]
  },
  {
   "cell_type": "code",
   "execution_count": 60,
   "id": "44935076",
   "metadata": {},
   "outputs": [
    {
     "data": {
      "text/plain": [
       "count    3.000000e+00\n",
       "mean     4.475427e+07\n",
       "std      1.548096e+06\n",
       "min      4.308883e+07\n",
       "25%      4.405669e+07\n",
       "50%      4.502454e+07\n",
       "75%      4.558699e+07\n",
       "max      4.614944e+07\n",
       "dtype: float64"
      ]
     },
     "execution_count": 60,
     "metadata": {},
     "output_type": "execute_result"
    }
   ],
   "source": [
    "from sklearn.ensemble import RandomForestRegressor\n",
    "\n",
    "forest_reg = make_pipeline(preprocessing,\n",
    "                           RandomForestRegressor(max_depth=1550,\n",
    "                                                 max_features=2,\n",
    "                                                 n_estimators=1700,\n",
    "                                                 random_state=42,\n",
    "                                                 n_jobs=-1))\n",
    "forest_rmses = -cross_val_score(forest_reg, movies, movies_labels, scoring=\"neg_root_mean_squared_error\", cv=3, n_jobs=-1)\n",
    "pd.Series(forest_rmses).describe()"
   ]
  },
  {
   "cell_type": "markdown",
   "id": "e9beb94e",
   "metadata": {},
   "source": [
    "it seems that the *Random Forest* model stopped improving.\n",
    "\n",
    "Let us now turn to tuning the hyperparameters of *Gradient Boosted Decision Trees*."
   ]
  },
  {
   "cell_type": "code",
   "execution_count": 52,
   "id": "96634475",
   "metadata": {},
   "outputs": [
    {
     "data": {
      "text/plain": [
       "count    3.000000e+00\n",
       "mean     4.685874e+07\n",
       "std      1.950422e+06\n",
       "min      4.467079e+07\n",
       "25%      4.608057e+07\n",
       "50%      4.749035e+07\n",
       "75%      4.795272e+07\n",
       "max      4.841509e+07\n",
       "dtype: float64"
      ]
     },
     "execution_count": 52,
     "metadata": {},
     "output_type": "execute_result"
    }
   ],
   "source": [
    "GBDT_reg = make_pipeline(preprocessing,\n",
    "                           GradientBoostingRegressor(\n",
    "                               loss=\"squared_error\",\n",
    "                               learning_rate=0.1,\n",
    "                               max_depth=21,\n",
    "                               n_estimators=2250)\n",
    "                           )\n",
    "GBDT_rmses = -cross_val_score(GBDT_reg, movies, movies_labels, scoring=\"neg_root_mean_squared_error\", cv=3, n_jobs=-1)\n",
    "pd.Series(GBDT_rmses).describe()"
   ]
  },
  {
   "cell_type": "code",
   "execution_count": 53,
   "id": "5302e455",
   "metadata": {},
   "outputs": [
    {
     "data": {
      "text/plain": [
       "count    1.000000e+01\n",
       "mean     4.783395e+07\n",
       "std      4.085926e+06\n",
       "min      4.179308e+07\n",
       "25%      4.599120e+07\n",
       "50%      4.760302e+07\n",
       "75%      4.880604e+07\n",
       "max      5.720140e+07\n",
       "dtype: float64"
      ]
     },
     "execution_count": 53,
     "metadata": {},
     "output_type": "execute_result"
    }
   ],
   "source": [
    "GBDT_reg = make_pipeline(preprocessing,\n",
    "                           GradientBoostingRegressor(\n",
    "                               loss=\"squared_error\",\n",
    "                               learning_rate=0.1,\n",
    "                               max_depth=30,\n",
    "                               n_estimators=2143)\n",
    "                           )\n",
    "GBDT_rmses = -cross_val_score(GBDT_reg, movies, movies_labels, scoring=\"neg_root_mean_squared_error\", cv=10, n_jobs=-1)\n",
    "pd.Series(GBDT_rmses).describe()"
   ]
  },
  {
   "cell_type": "markdown",
   "id": "b74dc5bd",
   "metadata": {},
   "source": [
    "We will stop hyperparameters tuning now, and we will use the best set of hyperparameters we found on a *Voting* regressor:"
   ]
  },
  {
   "cell_type": "code",
   "execution_count": 64,
   "id": "94b7bc0f",
   "metadata": {},
   "outputs": [
    {
     "data": {
      "text/html": [
       "<style>#sk-container-id-4 {color: black;}#sk-container-id-4 pre{padding: 0;}#sk-container-id-4 div.sk-toggleable {background-color: white;}#sk-container-id-4 label.sk-toggleable__label {cursor: pointer;display: block;width: 100%;margin-bottom: 0;padding: 0.3em;box-sizing: border-box;text-align: center;}#sk-container-id-4 label.sk-toggleable__label-arrow:before {content: \"▸\";float: left;margin-right: 0.25em;color: #696969;}#sk-container-id-4 label.sk-toggleable__label-arrow:hover:before {color: black;}#sk-container-id-4 div.sk-estimator:hover label.sk-toggleable__label-arrow:before {color: black;}#sk-container-id-4 div.sk-toggleable__content {max-height: 0;max-width: 0;overflow: hidden;text-align: left;background-color: #f0f8ff;}#sk-container-id-4 div.sk-toggleable__content pre {margin: 0.2em;color: black;border-radius: 0.25em;background-color: #f0f8ff;}#sk-container-id-4 input.sk-toggleable__control:checked~div.sk-toggleable__content {max-height: 200px;max-width: 100%;overflow: auto;}#sk-container-id-4 input.sk-toggleable__control:checked~label.sk-toggleable__label-arrow:before {content: \"▾\";}#sk-container-id-4 div.sk-estimator input.sk-toggleable__control:checked~label.sk-toggleable__label {background-color: #d4ebff;}#sk-container-id-4 div.sk-label input.sk-toggleable__control:checked~label.sk-toggleable__label {background-color: #d4ebff;}#sk-container-id-4 input.sk-hidden--visually {border: 0;clip: rect(1px 1px 1px 1px);clip: rect(1px, 1px, 1px, 1px);height: 1px;margin: -1px;overflow: hidden;padding: 0;position: absolute;width: 1px;}#sk-container-id-4 div.sk-estimator {font-family: monospace;background-color: #f0f8ff;border: 1px dotted black;border-radius: 0.25em;box-sizing: border-box;margin-bottom: 0.5em;}#sk-container-id-4 div.sk-estimator:hover {background-color: #d4ebff;}#sk-container-id-4 div.sk-parallel-item::after {content: \"\";width: 100%;border-bottom: 1px solid gray;flex-grow: 1;}#sk-container-id-4 div.sk-label:hover label.sk-toggleable__label {background-color: #d4ebff;}#sk-container-id-4 div.sk-serial::before {content: \"\";position: absolute;border-left: 1px solid gray;box-sizing: border-box;top: 0;bottom: 0;left: 50%;z-index: 0;}#sk-container-id-4 div.sk-serial {display: flex;flex-direction: column;align-items: center;background-color: white;padding-right: 0.2em;padding-left: 0.2em;position: relative;}#sk-container-id-4 div.sk-item {position: relative;z-index: 1;}#sk-container-id-4 div.sk-parallel {display: flex;align-items: stretch;justify-content: center;background-color: white;position: relative;}#sk-container-id-4 div.sk-item::before, #sk-container-id-4 div.sk-parallel-item::before {content: \"\";position: absolute;border-left: 1px solid gray;box-sizing: border-box;top: 0;bottom: 0;left: 50%;z-index: -1;}#sk-container-id-4 div.sk-parallel-item {display: flex;flex-direction: column;z-index: 1;position: relative;background-color: white;}#sk-container-id-4 div.sk-parallel-item:first-child::after {align-self: flex-end;width: 50%;}#sk-container-id-4 div.sk-parallel-item:last-child::after {align-self: flex-start;width: 50%;}#sk-container-id-4 div.sk-parallel-item:only-child::after {width: 0;}#sk-container-id-4 div.sk-dashed-wrapped {border: 1px dashed gray;margin: 0 0.4em 0.5em 0.4em;box-sizing: border-box;padding-bottom: 0.4em;background-color: white;}#sk-container-id-4 div.sk-label label {font-family: monospace;font-weight: bold;display: inline-block;line-height: 1.2em;}#sk-container-id-4 div.sk-label-container {text-align: center;}#sk-container-id-4 div.sk-container {/* jupyter's `normalize.less` sets `[hidden] { display: none; }` but bootstrap.min.css set `[hidden] { display: none !important; }` so we also need the `!important` here to be able to override the default hidden behavior on the sphinx rendered scikit-learn.org. See: https://github.com/scikit-learn/scikit-learn/issues/21755 */display: inline-block !important;position: relative;}#sk-container-id-4 div.sk-text-repr-fallback {display: none;}</style><div id=\"sk-container-id-4\" class=\"sk-top-container\"><div class=\"sk-text-repr-fallback\"><pre>Pipeline(steps=[(&#x27;columntransformer&#x27;,\n",
       "                 ColumnTransformer(remainder=Pipeline(steps=[(&#x27;maxabsscaler&#x27;,\n",
       "                                                              MaxAbsScaler()),\n",
       "                                                             (&#x27;standardscaler&#x27;,\n",
       "                                                              StandardScaler())]),\n",
       "                                   transformers=[(&#x27;log&#x27;,\n",
       "                                                  Pipeline(steps=[(&#x27;functiontransformer&#x27;,\n",
       "                                                                   FunctionTransformer(feature_names_out=&#x27;one-to-one&#x27;,\n",
       "                                                                                       func=&lt;ufunc &#x27;log&#x27;&gt;)),\n",
       "                                                                  (&#x27;minmaxscaler&#x27;,\n",
       "                                                                   MinMaxScaler())]),\n",
       "                                                  [&#x27;Year&#x27;, &#x27;Runtime(Mins)&#x27;]),\n",
       "                                                 (&#x27;genre_...\n",
       "                                                                   OneHotEncoder(handle_unknown=&#x27;ignore&#x27;))]),\n",
       "                                                  &lt;sklearn.compose._column_transformer.make_column_selector object at 0x0000022F5BEA6A50&gt;)])),\n",
       "                (&#x27;votingregressor&#x27;,\n",
       "                 VotingRegressor(estimators=[(&#x27;mod_rf&#x27;,\n",
       "                                              RandomForestRegressor(max_depth=1450,\n",
       "                                                                    max_features=2,\n",
       "                                                                    n_estimators=1600,\n",
       "                                                                    n_jobs=-1,\n",
       "                                                                    random_state=42)),\n",
       "                                             (&#x27;mod_gb&#x27;,\n",
       "                                              GradientBoostingRegressor(max_depth=21,\n",
       "                                                                        n_estimators=2250))]))])</pre><b>In a Jupyter environment, please rerun this cell to show the HTML representation or trust the notebook. <br />On GitHub, the HTML representation is unable to render, please try loading this page with nbviewer.org.</b></div><div class=\"sk-container\" hidden><div class=\"sk-item sk-dashed-wrapped\"><div class=\"sk-label-container\"><div class=\"sk-label sk-toggleable\"><input class=\"sk-toggleable__control sk-hidden--visually\" id=\"sk-estimator-id-46\" type=\"checkbox\" ><label for=\"sk-estimator-id-46\" class=\"sk-toggleable__label sk-toggleable__label-arrow\">Pipeline</label><div class=\"sk-toggleable__content\"><pre>Pipeline(steps=[(&#x27;columntransformer&#x27;,\n",
       "                 ColumnTransformer(remainder=Pipeline(steps=[(&#x27;maxabsscaler&#x27;,\n",
       "                                                              MaxAbsScaler()),\n",
       "                                                             (&#x27;standardscaler&#x27;,\n",
       "                                                              StandardScaler())]),\n",
       "                                   transformers=[(&#x27;log&#x27;,\n",
       "                                                  Pipeline(steps=[(&#x27;functiontransformer&#x27;,\n",
       "                                                                   FunctionTransformer(feature_names_out=&#x27;one-to-one&#x27;,\n",
       "                                                                                       func=&lt;ufunc &#x27;log&#x27;&gt;)),\n",
       "                                                                  (&#x27;minmaxscaler&#x27;,\n",
       "                                                                   MinMaxScaler())]),\n",
       "                                                  [&#x27;Year&#x27;, &#x27;Runtime(Mins)&#x27;]),\n",
       "                                                 (&#x27;genre_...\n",
       "                                                                   OneHotEncoder(handle_unknown=&#x27;ignore&#x27;))]),\n",
       "                                                  &lt;sklearn.compose._column_transformer.make_column_selector object at 0x0000022F5BEA6A50&gt;)])),\n",
       "                (&#x27;votingregressor&#x27;,\n",
       "                 VotingRegressor(estimators=[(&#x27;mod_rf&#x27;,\n",
       "                                              RandomForestRegressor(max_depth=1450,\n",
       "                                                                    max_features=2,\n",
       "                                                                    n_estimators=1600,\n",
       "                                                                    n_jobs=-1,\n",
       "                                                                    random_state=42)),\n",
       "                                             (&#x27;mod_gb&#x27;,\n",
       "                                              GradientBoostingRegressor(max_depth=21,\n",
       "                                                                        n_estimators=2250))]))])</pre></div></div></div><div class=\"sk-serial\"><div class=\"sk-item sk-dashed-wrapped\"><div class=\"sk-label-container\"><div class=\"sk-label sk-toggleable\"><input class=\"sk-toggleable__control sk-hidden--visually\" id=\"sk-estimator-id-47\" type=\"checkbox\" ><label for=\"sk-estimator-id-47\" class=\"sk-toggleable__label sk-toggleable__label-arrow\">columntransformer: ColumnTransformer</label><div class=\"sk-toggleable__content\"><pre>ColumnTransformer(remainder=Pipeline(steps=[(&#x27;maxabsscaler&#x27;, MaxAbsScaler()),\n",
       "                                            (&#x27;standardscaler&#x27;,\n",
       "                                             StandardScaler())]),\n",
       "                  transformers=[(&#x27;log&#x27;,\n",
       "                                 Pipeline(steps=[(&#x27;functiontransformer&#x27;,\n",
       "                                                  FunctionTransformer(feature_names_out=&#x27;one-to-one&#x27;,\n",
       "                                                                      func=&lt;ufunc &#x27;log&#x27;&gt;)),\n",
       "                                                 (&#x27;minmaxscaler&#x27;,\n",
       "                                                  MinMaxScaler())]),\n",
       "                                 [&#x27;Year&#x27;, &#x27;Runtime(Mins)&#x27;]),\n",
       "                                (&#x27;genre_ordinal&#x27;,\n",
       "                                 Pipeline(steps=[(&#x27;ordinalencoder&#x27;,\n",
       "                                                  OrdinalEncoder(categories=[[&#x27;Action&#x27;,\n",
       "                                                                              &#x27;Comedy&#x27;,\n",
       "                                                                              &#x27;Animation&#x27;,\n",
       "                                                                              &#x27;Drama&#x27;,\n",
       "                                                                              &#x27;Adventure&#x27;,\n",
       "                                                                              &#x27;Biography&#x27;,\n",
       "                                                                              &#x27;Crime&#x27;,\n",
       "                                                                              &#x27;Horror&#x27;,\n",
       "                                                                              &#x27;Mystery&#x27;,\n",
       "                                                                              &#x27;Fantasy&#x27;,\n",
       "                                                                              &#x27;Western&#x27;,\n",
       "                                                                              &#x27;Film-Noir&#x27;]]))]),\n",
       "                                 [&#x27;main_genre&#x27;]),\n",
       "                                (&#x27;cat&#x27;,\n",
       "                                 Pipeline(steps=[(&#x27;onehotencoder&#x27;,\n",
       "                                                  OneHotEncoder(handle_unknown=&#x27;ignore&#x27;))]),\n",
       "                                 &lt;sklearn.compose._column_transformer.make_column_selector object at 0x0000022F5BEA6A50&gt;)])</pre></div></div></div><div class=\"sk-parallel\"><div class=\"sk-parallel-item\"><div class=\"sk-item\"><div class=\"sk-label-container\"><div class=\"sk-label sk-toggleable\"><input class=\"sk-toggleable__control sk-hidden--visually\" id=\"sk-estimator-id-48\" type=\"checkbox\" ><label for=\"sk-estimator-id-48\" class=\"sk-toggleable__label sk-toggleable__label-arrow\">log</label><div class=\"sk-toggleable__content\"><pre>[&#x27;Year&#x27;, &#x27;Runtime(Mins)&#x27;]</pre></div></div></div><div class=\"sk-serial\"><div class=\"sk-item\"><div class=\"sk-serial\"><div class=\"sk-item\"><div class=\"sk-estimator sk-toggleable\"><input class=\"sk-toggleable__control sk-hidden--visually\" id=\"sk-estimator-id-49\" type=\"checkbox\" ><label for=\"sk-estimator-id-49\" class=\"sk-toggleable__label sk-toggleable__label-arrow\">FunctionTransformer</label><div class=\"sk-toggleable__content\"><pre>FunctionTransformer(feature_names_out=&#x27;one-to-one&#x27;, func=&lt;ufunc &#x27;log&#x27;&gt;)</pre></div></div></div><div class=\"sk-item\"><div class=\"sk-estimator sk-toggleable\"><input class=\"sk-toggleable__control sk-hidden--visually\" id=\"sk-estimator-id-50\" type=\"checkbox\" ><label for=\"sk-estimator-id-50\" class=\"sk-toggleable__label sk-toggleable__label-arrow\">MinMaxScaler</label><div class=\"sk-toggleable__content\"><pre>MinMaxScaler()</pre></div></div></div></div></div></div></div></div><div class=\"sk-parallel-item\"><div class=\"sk-item\"><div class=\"sk-label-container\"><div class=\"sk-label sk-toggleable\"><input class=\"sk-toggleable__control sk-hidden--visually\" id=\"sk-estimator-id-51\" type=\"checkbox\" ><label for=\"sk-estimator-id-51\" class=\"sk-toggleable__label sk-toggleable__label-arrow\">genre_ordinal</label><div class=\"sk-toggleable__content\"><pre>[&#x27;main_genre&#x27;]</pre></div></div></div><div class=\"sk-serial\"><div class=\"sk-item\"><div class=\"sk-serial\"><div class=\"sk-item\"><div class=\"sk-estimator sk-toggleable\"><input class=\"sk-toggleable__control sk-hidden--visually\" id=\"sk-estimator-id-52\" type=\"checkbox\" ><label for=\"sk-estimator-id-52\" class=\"sk-toggleable__label sk-toggleable__label-arrow\">OrdinalEncoder</label><div class=\"sk-toggleable__content\"><pre>OrdinalEncoder(categories=[[&#x27;Action&#x27;, &#x27;Comedy&#x27;, &#x27;Animation&#x27;, &#x27;Drama&#x27;,\n",
       "                            &#x27;Adventure&#x27;, &#x27;Biography&#x27;, &#x27;Crime&#x27;, &#x27;Horror&#x27;,\n",
       "                            &#x27;Mystery&#x27;, &#x27;Fantasy&#x27;, &#x27;Western&#x27;, &#x27;Film-Noir&#x27;]])</pre></div></div></div></div></div></div></div></div><div class=\"sk-parallel-item\"><div class=\"sk-item\"><div class=\"sk-label-container\"><div class=\"sk-label sk-toggleable\"><input class=\"sk-toggleable__control sk-hidden--visually\" id=\"sk-estimator-id-53\" type=\"checkbox\" ><label for=\"sk-estimator-id-53\" class=\"sk-toggleable__label sk-toggleable__label-arrow\">cat</label><div class=\"sk-toggleable__content\"><pre>&lt;sklearn.compose._column_transformer.make_column_selector object at 0x0000022F5BEA6A50&gt;</pre></div></div></div><div class=\"sk-serial\"><div class=\"sk-item\"><div class=\"sk-serial\"><div class=\"sk-item\"><div class=\"sk-estimator sk-toggleable\"><input class=\"sk-toggleable__control sk-hidden--visually\" id=\"sk-estimator-id-54\" type=\"checkbox\" ><label for=\"sk-estimator-id-54\" class=\"sk-toggleable__label sk-toggleable__label-arrow\">OneHotEncoder</label><div class=\"sk-toggleable__content\"><pre>OneHotEncoder(handle_unknown=&#x27;ignore&#x27;)</pre></div></div></div></div></div></div></div></div><div class=\"sk-parallel-item\"><div class=\"sk-item\"><div class=\"sk-label-container\"><div class=\"sk-label sk-toggleable\"><input class=\"sk-toggleable__control sk-hidden--visually\" id=\"sk-estimator-id-55\" type=\"checkbox\" ><label for=\"sk-estimator-id-55\" class=\"sk-toggleable__label sk-toggleable__label-arrow\">remainder</label><div class=\"sk-toggleable__content\"><pre>[&#x27;Rating&#x27;]</pre></div></div></div><div class=\"sk-serial\"><div class=\"sk-item\"><div class=\"sk-serial\"><div class=\"sk-item\"><div class=\"sk-estimator sk-toggleable\"><input class=\"sk-toggleable__control sk-hidden--visually\" id=\"sk-estimator-id-56\" type=\"checkbox\" ><label for=\"sk-estimator-id-56\" class=\"sk-toggleable__label sk-toggleable__label-arrow\">MaxAbsScaler</label><div class=\"sk-toggleable__content\"><pre>MaxAbsScaler()</pre></div></div></div><div class=\"sk-item\"><div class=\"sk-estimator sk-toggleable\"><input class=\"sk-toggleable__control sk-hidden--visually\" id=\"sk-estimator-id-57\" type=\"checkbox\" ><label for=\"sk-estimator-id-57\" class=\"sk-toggleable__label sk-toggleable__label-arrow\">StandardScaler</label><div class=\"sk-toggleable__content\"><pre>StandardScaler()</pre></div></div></div></div></div></div></div></div></div></div><div class=\"sk-item sk-dashed-wrapped\"><div class=\"sk-label-container\"><div class=\"sk-label sk-toggleable\"><input class=\"sk-toggleable__control sk-hidden--visually\" id=\"sk-estimator-id-58\" type=\"checkbox\" ><label for=\"sk-estimator-id-58\" class=\"sk-toggleable__label sk-toggleable__label-arrow\">votingregressor: VotingRegressor</label><div class=\"sk-toggleable__content\"><pre>VotingRegressor(estimators=[(&#x27;mod_rf&#x27;,\n",
       "                             RandomForestRegressor(max_depth=1450,\n",
       "                                                   max_features=2,\n",
       "                                                   n_estimators=1600, n_jobs=-1,\n",
       "                                                   random_state=42)),\n",
       "                            (&#x27;mod_gb&#x27;,\n",
       "                             GradientBoostingRegressor(max_depth=21,\n",
       "                                                       n_estimators=2250))])</pre></div></div></div><div class=\"sk-parallel\"><div class=\"sk-parallel-item\"><div class=\"sk-item\"><div class=\"sk-label-container\"><div class=\"sk-label sk-toggleable\"><label>mod_rf</label></div></div><div class=\"sk-serial\"><div class=\"sk-item\"><div class=\"sk-estimator sk-toggleable\"><input class=\"sk-toggleable__control sk-hidden--visually\" id=\"sk-estimator-id-59\" type=\"checkbox\" ><label for=\"sk-estimator-id-59\" class=\"sk-toggleable__label sk-toggleable__label-arrow\">RandomForestRegressor</label><div class=\"sk-toggleable__content\"><pre>RandomForestRegressor(max_depth=1450, max_features=2, n_estimators=1600,\n",
       "                      n_jobs=-1, random_state=42)</pre></div></div></div></div></div></div><div class=\"sk-parallel-item\"><div class=\"sk-item\"><div class=\"sk-label-container\"><div class=\"sk-label sk-toggleable\"><label>mod_gb</label></div></div><div class=\"sk-serial\"><div class=\"sk-item\"><div class=\"sk-estimator sk-toggleable\"><input class=\"sk-toggleable__control sk-hidden--visually\" id=\"sk-estimator-id-60\" type=\"checkbox\" ><label for=\"sk-estimator-id-60\" class=\"sk-toggleable__label sk-toggleable__label-arrow\">GradientBoostingRegressor</label><div class=\"sk-toggleable__content\"><pre>GradientBoostingRegressor(max_depth=21, n_estimators=2250)</pre></div></div></div></div></div></div></div></div></div></div></div></div>"
      ],
      "text/plain": [
       "Pipeline(steps=[('columntransformer',\n",
       "                 ColumnTransformer(remainder=Pipeline(steps=[('maxabsscaler',\n",
       "                                                              MaxAbsScaler()),\n",
       "                                                             ('standardscaler',\n",
       "                                                              StandardScaler())]),\n",
       "                                   transformers=[('log',\n",
       "                                                  Pipeline(steps=[('functiontransformer',\n",
       "                                                                   FunctionTransformer(feature_names_out='one-to-one',\n",
       "                                                                                       func=<ufunc 'log'>)),\n",
       "                                                                  ('minmaxscaler',\n",
       "                                                                   MinMaxScaler())]),\n",
       "                                                  ['Year', 'Runtime(Mins)']),\n",
       "                                                 ('genre_...\n",
       "                                                                   OneHotEncoder(handle_unknown='ignore'))]),\n",
       "                                                  <sklearn.compose._column_transformer.make_column_selector object at 0x0000022F5BEA6A50>)])),\n",
       "                ('votingregressor',\n",
       "                 VotingRegressor(estimators=[('mod_rf',\n",
       "                                              RandomForestRegressor(max_depth=1450,\n",
       "                                                                    max_features=2,\n",
       "                                                                    n_estimators=1600,\n",
       "                                                                    n_jobs=-1,\n",
       "                                                                    random_state=42)),\n",
       "                                             ('mod_gb',\n",
       "                                              GradientBoostingRegressor(max_depth=21,\n",
       "                                                                        n_estimators=2250))]))])"
      ]
     },
     "execution_count": 64,
     "metadata": {},
     "output_type": "execute_result"
    }
   ],
   "source": [
    "from sklearn.ensemble import VotingRegressor\n",
    "\n",
    "modified_reg1 = RandomForestRegressor(max_depth=1450,\n",
    "                                      max_features=2,\n",
    "                                      n_estimators=1600,\n",
    "                                      random_state=42,\n",
    "                                      n_jobs=-1)\n",
    "\n",
    "modified_reg2 = GradientBoostingRegressor(loss=\"squared_error\",\n",
    "                                         learning_rate=0.1,\n",
    "                                         max_depth=21,\n",
    "                                         n_estimators=2250)\n",
    "\n",
    "voting_reg = make_pipeline(preprocessing, VotingRegressor(estimators=[('mod_rf', modified_reg1), ('mod_gb', modified_reg2)]))\n",
    "voting_reg.fit(movies, movies_labels)"
   ]
  },
  {
   "cell_type": "code",
   "execution_count": 65,
   "id": "efab7204",
   "metadata": {},
   "outputs": [
    {
     "data": {
      "text/plain": [
       "count    1.000000e+01\n",
       "mean     4.351137e+07\n",
       "std      2.788242e+06\n",
       "min      3.761031e+07\n",
       "25%      4.274772e+07\n",
       "50%      4.340098e+07\n",
       "75%      4.445686e+07\n",
       "max      4.863396e+07\n",
       "dtype: float64"
      ]
     },
     "execution_count": 65,
     "metadata": {},
     "output_type": "execute_result"
    }
   ],
   "source": [
    "voting_rmses = -cross_val_score(voting_reg, movies, movies_labels, scoring=\"neg_root_mean_squared_error\", cv=10, n_jobs=-1)\n",
    "pd.Series(voting_rmses).describe()"
   ]
  },
  {
   "cell_type": "markdown",
   "id": "02778b1f",
   "metadata": {},
   "source": [
    "### 7.3 Tuned Models Performance on the Training Set"
   ]
  },
  {
   "cell_type": "markdown",
   "id": "1f398a25",
   "metadata": {},
   "source": [
    "Now, we can evaluate the performance of the ML models on the training set after we tuned their hyperparameters."
   ]
  },
  {
   "cell_type": "code",
   "execution_count": 88,
   "id": "afdc42db",
   "metadata": {},
   "outputs": [
    {
     "data": {
      "text/plain": [
       "count    3.000000e+00\n",
       "mean     4.401424e+07\n",
       "std      2.256657e+06\n",
       "min      4.174176e+07\n",
       "25%      4.289400e+07\n",
       "50%      4.404623e+07\n",
       "75%      4.515048e+07\n",
       "max      4.625473e+07\n",
       "dtype: float64"
      ]
     },
     "execution_count": 88,
     "metadata": {},
     "output_type": "execute_result"
    }
   ],
   "source": [
    "from sklearn.ensemble import RandomForestRegressor\n",
    "\n",
    "forest_reg = make_pipeline(preprocessing,\n",
    "                           RandomForestRegressor(max_depth=1650,\n",
    "                                                 max_features=2,\n",
    "                                                 n_estimators=1700,\n",
    "                                                 random_state=42,\n",
    "                                                 n_jobs=-1))\n",
    "\n",
    "forest_rmses = -cross_val_score(forest_reg, movies, movies_labels, scoring=\"neg_root_mean_squared_error\", cv=3, n_jobs=-1)\n",
    "pd.Series(forest_rmses).describe()"
   ]
  },
  {
   "cell_type": "code",
   "execution_count": 105,
   "id": "f7b16edd",
   "metadata": {},
   "outputs": [
    {
     "name": "stdout",
     "output_type": "stream",
     "text": [
      "NRMSE of Random Forest =  0.9184520112858395\n"
     ]
    }
   ],
   "source": [
    "print(\"NRMSE of Random Forest = \", forest_rmses.mean() / movies_labels.mean())"
   ]
  },
  {
   "cell_type": "code",
   "execution_count": 102,
   "id": "b41b2181",
   "metadata": {},
   "outputs": [
    {
     "data": {
      "text/plain": [
       "count    3.000000e+00\n",
       "mean     4.611446e+07\n",
       "std      2.623359e+06\n",
       "min      4.378473e+07\n",
       "25%      4.469369e+07\n",
       "50%      4.560264e+07\n",
       "75%      4.727933e+07\n",
       "max      4.895602e+07\n",
       "dtype: float64"
      ]
     },
     "execution_count": 102,
     "metadata": {},
     "output_type": "execute_result"
    }
   ],
   "source": [
    "GBDT_reg = make_pipeline(preprocessing,\n",
    "                           GradientBoostingRegressor(\n",
    "                               loss=\"squared_error\",\n",
    "                               learning_rate=0.1,\n",
    "                               max_depth=21,\n",
    "                               n_estimators=2250)\n",
    "                           )\n",
    "GBDT_rmses = -cross_val_score(GBDT_reg, movies, movies_labels, scoring=\"neg_root_mean_squared_error\", cv=3, n_jobs=-1)\n",
    "pd.Series(GBDT_rmses).describe()"
   ]
  },
  {
   "cell_type": "code",
   "execution_count": 106,
   "id": "a370e9dc",
   "metadata": {},
   "outputs": [
    {
     "name": "stdout",
     "output_type": "stream",
     "text": [
      "NRMSE of GBDT =  0.9622776571741998\n"
     ]
    }
   ],
   "source": [
    "print(\"NRMSE of GBDT = \", GBDT_rmses.mean() / movies_labels.mean())"
   ]
  },
  {
   "cell_type": "code",
   "execution_count": 103,
   "id": "37e4d60d",
   "metadata": {},
   "outputs": [
    {
     "data": {
      "text/plain": [
       "count    3.000000e+00\n",
       "mean     4.336674e+07\n",
       "std      2.095805e+06\n",
       "min      4.127253e+07\n",
       "25%      4.231803e+07\n",
       "50%      4.336353e+07\n",
       "75%      4.441384e+07\n",
       "max      4.546414e+07\n",
       "dtype: float64"
      ]
     },
     "execution_count": 103,
     "metadata": {},
     "output_type": "execute_result"
    }
   ],
   "source": [
    "modified_reg1 = RandomForestRegressor(max_depth=1650,\n",
    "                                      max_features=2,\n",
    "                                      n_estimators=1700,\n",
    "                                      random_state=42,\n",
    "                                      n_jobs=-1)\n",
    "\n",
    "modified_reg2 = GradientBoostingRegressor(loss=\"squared_error\",\n",
    "                                         learning_rate=0.1,\n",
    "                                         max_depth=21,\n",
    "                                         n_estimators=2250)\n",
    "\n",
    "modified_reg3 = ExtraTreesRegressor(max_depth=1800,\n",
    "                                      max_features=2,\n",
    "                                      n_estimators=1800,\n",
    "                                      random_state=42,\n",
    "                                      n_jobs=-1)\n",
    "\n",
    "voting_reg = make_pipeline(preprocessing, VotingRegressor(estimators=[\n",
    "    ('mod_rf', modified_reg1),\n",
    "    ('mod_gb', modified_reg2),\n",
    "    ('mod_ex', modified_reg3)\n",
    "]))\n",
    "\n",
    "voting_rmses = -cross_val_score(voting_reg, movies, movies_labels, scoring=\"neg_root_mean_squared_error\", cv=3, n_jobs=-1)\n",
    "pd.Series(voting_rmses).describe()"
   ]
  },
  {
   "cell_type": "code",
   "execution_count": 104,
   "id": "5a50faf3",
   "metadata": {},
   "outputs": [
    {
     "name": "stdout",
     "output_type": "stream",
     "text": [
      "NRMSE of Voting =  0.904940399292783\n"
     ]
    }
   ],
   "source": [
    "print(\"NRMSE of Voting = \",voting_rmses.mean() / movies_labels.mean())"
   ]
  },
  {
   "cell_type": "markdown",
   "id": "54aa6b99",
   "metadata": {},
   "source": [
    "This RMSE score of the *Voting* regressor is the best one we got so far. \n",
    "\n",
    "The table below summarizes our tuning results:"
   ]
  },
  {
   "cell_type": "markdown",
   "id": "419b2d0a",
   "metadata": {},
   "source": [
    "| Regression Model | RMSE | NRMSE |\n",
    "|----------|----------|----------|\n",
    "| Random Forest |  44,014,240 | 0.92 |\n",
    "| Gradient Boosted Decision Trees |  46,114,460 | 0.96 |\n",
    "| **Voting** | **43,366,740** | **0.90** |"
   ]
  },
  {
   "cell_type": "markdown",
   "id": "70f82f54",
   "metadata": {},
   "source": [
    "## Section 8: Model Evaluation on the Test Set"
   ]
  },
  {
   "cell_type": "markdown",
   "id": "7c94f000",
   "metadata": {},
   "source": [
    "After we trained our ML models on the training sets, we should evaluate their performance on the testing set.\n"
   ]
  },
  {
   "cell_type": "markdown",
   "id": "9e3509d2",
   "metadata": {},
   "source": [
    "### 8.1: Linear Regression"
   ]
  },
  {
   "cell_type": "markdown",
   "id": "9742cf22",
   "metadata": {},
   "source": [
    "Let us start by evaluating the *Linear Regression* model:"
   ]
  },
  {
   "cell_type": "code",
   "execution_count": 93,
   "id": "55c5dc06",
   "metadata": {},
   "outputs": [
    {
     "name": "stdout",
     "output_type": "stream",
     "text": [
      "Testing Set: Linear Regression RMSE =  244670186.12869433\n"
     ]
    }
   ],
   "source": [
    "lin_reg_model = lin_reg.fit(movies, movies_labels)\n",
    "X_test = test_set.drop(\"Total_Gross\", axis=1)\n",
    "y_test = test_set[\"Total_Gross\"].copy()\n",
    "\n",
    "final_predictions = lin_reg_model.predict(X_test)\n",
    "\n",
    "final_rmse = mean_squared_error(y_test, final_predictions, squared=False)\n",
    "print(\"Testing Set: Linear Regression RMSE = \", final_rmse)"
   ]
  },
  {
   "cell_type": "code",
   "execution_count": 94,
   "id": "729c2f57",
   "metadata": {},
   "outputs": [
    {
     "name": "stdout",
     "output_type": "stream",
     "text": [
      "Testing Set: Linear Regression NRMSE =  4.912917513543358\n"
     ]
    }
   ],
   "source": [
    "print(\"Testing Set: Linear Regression NRMSE = \", final_rmse/y_test.mean())"
   ]
  },
  {
   "cell_type": "markdown",
   "id": "54503340",
   "metadata": {},
   "source": [
    "it is helpful to have a general idea of how precise a model is by computing a 95% convidence interval for the generalization error."
   ]
  },
  {
   "cell_type": "code",
   "execution_count": 81,
   "id": "be6dddb3",
   "metadata": {},
   "outputs": [
    {
     "data": {
      "text/plain": [
       "array([2.31306354e+08, 2.57340961e+08])"
      ]
     },
     "execution_count": 81,
     "metadata": {},
     "output_type": "execute_result"
    }
   ],
   "source": [
    "from scipy import stats\n",
    "confidence = 0.95\n",
    "squared_errors = (final_predictions - y_test) ** 2\n",
    "np.sqrt(stats.t.interval(confidence, len(squared_errors) - 1,\n",
    "                         loc=squared_errors.mean(),\n",
    "                         scale=stats.sem(squared_errors)))"
   ]
  },
  {
   "cell_type": "markdown",
   "id": "5823fc6f",
   "metadata": {},
   "source": [
    "### 8.2: Decision Tree"
   ]
  },
  {
   "cell_type": "markdown",
   "id": "1a6ca856",
   "metadata": {},
   "source": [
    "Below, we evaluate the performance of the *Decision Tree* model:"
   ]
  },
  {
   "cell_type": "code",
   "execution_count": 95,
   "id": "d280c385",
   "metadata": {},
   "outputs": [
    {
     "name": "stdout",
     "output_type": "stream",
     "text": [
      "Testing Set: Decision Tree RMSE =  59638189.99937032\n"
     ]
    }
   ],
   "source": [
    "dt_tree_reg = make_pipeline(preprocessing, DecisionTreeRegressor(random_state=42))\n",
    "\n",
    "DT_model = dt_tree_reg.fit(movies, movies_labels)\n",
    "X_test = test_set.drop(\"Total_Gross\", axis=1)\n",
    "y_test = test_set[\"Total_Gross\"].copy()\n",
    "\n",
    "final_predictions = DT_model.predict(X_test)\n",
    "\n",
    "final_rmse = mean_squared_error(y_test, final_predictions, squared=False)\n",
    "print(\"Testing Set: Decision Tree RMSE = \", final_rmse)"
   ]
  },
  {
   "cell_type": "code",
   "execution_count": 96,
   "id": "ea1f9f98",
   "metadata": {},
   "outputs": [
    {
     "name": "stdout",
     "output_type": "stream",
     "text": [
      "Testing Set: Decision Tree NRMSE =  1.1975202731477006\n"
     ]
    }
   ],
   "source": [
    "print(\"Testing Set: Decision Tree NRMSE = \", final_rmse/y_test.mean())"
   ]
  },
  {
   "cell_type": "code",
   "execution_count": 84,
   "id": "33a66527",
   "metadata": {},
   "outputs": [
    {
     "data": {
      "text/plain": [
       "array([54686574.83213909, 64209079.93368882])"
      ]
     },
     "execution_count": 84,
     "metadata": {},
     "output_type": "execute_result"
    }
   ],
   "source": [
    "from scipy import stats\n",
    "confidence = 0.95\n",
    "squared_errors = (final_predictions - y_test) ** 2\n",
    "np.sqrt(stats.t.interval(confidence, len(squared_errors) - 1,\n",
    "                         loc=squared_errors.mean(),\n",
    "                         scale=stats.sem(squared_errors)))"
   ]
  },
  {
   "cell_type": "markdown",
   "id": "66a96721",
   "metadata": {},
   "source": [
    "### 8.3 Random Forest"
   ]
  },
  {
   "cell_type": "markdown",
   "id": "a591e04f",
   "metadata": {},
   "source": [
    "Below, we evaluate the performance of the *Random Forest* model:"
   ]
  },
  {
   "cell_type": "code",
   "execution_count": 85,
   "id": "6c584c08",
   "metadata": {},
   "outputs": [
    {
     "name": "stdout",
     "output_type": "stream",
     "text": [
      "Testing Set: Random Foorest Tree RMSE =  46343432.431981735\n"
     ]
    }
   ],
   "source": [
    "forest_reg = make_pipeline(preprocessing,\n",
    "                           RandomForestRegressor(max_depth=1650,\n",
    "                                                 max_features=2,\n",
    "                                                 n_estimators=1700,\n",
    "                                                 random_state=42,\n",
    "                                                 n_jobs=-1))\n",
    "\n",
    "RF_model = forest_reg.fit(movies, movies_labels)\n",
    "X_test = test_set.drop(\"Total_Gross\", axis=1)\n",
    "y_test = test_set[\"Total_Gross\"].copy()\n",
    "\n",
    "final_predictions = RF_model.predict(X_test)\n",
    "\n",
    "final_rmse = mean_squared_error(y_test, final_predictions, squared=False)\n",
    "print(\"Testing Set: Random Foorest Tree RMSE = \", final_rmse)"
   ]
  },
  {
   "cell_type": "code",
   "execution_count": 86,
   "id": "37fddee8",
   "metadata": {},
   "outputs": [
    {
     "name": "stdout",
     "output_type": "stream",
     "text": [
      "Testing Set: Random Forest NRMSE =  0.9305647918747154\n"
     ]
    }
   ],
   "source": [
    "print(\"Testing Set: Random Forest NRMSE = \", final_rmse/y_test.mean())"
   ]
  },
  {
   "cell_type": "code",
   "execution_count": 87,
   "id": "9c07f839",
   "metadata": {},
   "outputs": [
    {
     "data": {
      "text/plain": [
       "array([42803597.16859379, 49631436.89824084])"
      ]
     },
     "execution_count": 87,
     "metadata": {},
     "output_type": "execute_result"
    }
   ],
   "source": [
    "from scipy import stats\n",
    "confidence = 0.95\n",
    "squared_errors = (final_predictions - y_test) ** 2\n",
    "np.sqrt(stats.t.interval(confidence, len(squared_errors) - 1,\n",
    "                         loc=squared_errors.mean(),\n",
    "                         scale=stats.sem(squared_errors)))"
   ]
  },
  {
   "cell_type": "markdown",
   "id": "d0288214",
   "metadata": {},
   "source": [
    "### 8.4 Gradient Boosted Decision Trees"
   ]
  },
  {
   "cell_type": "markdown",
   "id": "093bae7d",
   "metadata": {},
   "source": [
    "Below, we evaluate the *Gradient Boosted Decision Trees* model:"
   ]
  },
  {
   "cell_type": "code",
   "execution_count": 89,
   "id": "d6c22da8",
   "metadata": {},
   "outputs": [
    {
     "name": "stdout",
     "output_type": "stream",
     "text": [
      "Testing Set: Gradient Boosted Decision Trees RMSE =  48070088.189808734\n"
     ]
    }
   ],
   "source": [
    "GBDT_reg = make_pipeline(preprocessing,\n",
    "                           GradientBoostingRegressor(\n",
    "                               loss=\"squared_error\",\n",
    "                               learning_rate=0.1,\n",
    "                               max_depth=21,\n",
    "                               n_estimators=2250)\n",
    "                           )\n",
    "\n",
    "GBDT_model = GBDT_reg.fit(movies, movies_labels)\n",
    "X_test = test_set.drop(\"Total_Gross\", axis=1)\n",
    "y_test = test_set[\"Total_Gross\"].copy()\n",
    "\n",
    "final_predictions = GBDT_model.predict(X_test)\n",
    "\n",
    "final_rmse = mean_squared_error(y_test, final_predictions, squared=False)\n",
    "print(\"Testing Set: Gradient Boosted Decision Trees RMSE = \", final_rmse)"
   ]
  },
  {
   "cell_type": "code",
   "execution_count": 90,
   "id": "a964c879",
   "metadata": {},
   "outputs": [
    {
     "name": "stdout",
     "output_type": "stream",
     "text": [
      "Testing Set: Gradient Boosted Decision Trees NRMSE =  0.965235617310009\n"
     ]
    }
   ],
   "source": [
    "print(\"Testing Set: Gradient Boosted Decision Trees NRMSE = \", final_rmse/y_test.mean())"
   ]
  },
  {
   "cell_type": "code",
   "execution_count": 91,
   "id": "b16ae814",
   "metadata": {},
   "outputs": [
    {
     "data": {
      "text/plain": [
       "array([43995795.95014407, 51825058.5707847 ])"
      ]
     },
     "execution_count": 91,
     "metadata": {},
     "output_type": "execute_result"
    }
   ],
   "source": [
    "from scipy import stats\n",
    "confidence = 0.95\n",
    "squared_errors = (final_predictions - y_test) ** 2\n",
    "np.sqrt(stats.t.interval(confidence, len(squared_errors) - 1,\n",
    "                         loc=squared_errors.mean(),\n",
    "                         scale=stats.sem(squared_errors)))"
   ]
  },
  {
   "cell_type": "markdown",
   "id": "e81ab883",
   "metadata": {},
   "source": [
    "### 8.5: Voting"
   ]
  },
  {
   "cell_type": "markdown",
   "id": "eace130e",
   "metadata": {},
   "source": [
    "Below, we evaluate the *Voting* ensemble:"
   ]
  },
  {
   "cell_type": "code",
   "execution_count": 100,
   "id": "34e8291e",
   "metadata": {},
   "outputs": [
    {
     "name": "stdout",
     "output_type": "stream",
     "text": [
      "Testing Set: Voting RMSE =  45696906.931409806\n"
     ]
    }
   ],
   "source": [
    "modified_reg1 = RandomForestRegressor(max_depth=1650,\n",
    "                                      max_features=2,\n",
    "                                      n_estimators=1700,\n",
    "                                      random_state=42,\n",
    "                                      n_jobs=-1)\n",
    "\n",
    "modified_reg2 = GradientBoostingRegressor(loss=\"squared_error\",\n",
    "                                         learning_rate=0.1,\n",
    "                                         max_depth=21,\n",
    "                                         n_estimators=2250)\n",
    "\n",
    "modified_reg3 = ExtraTreesRegressor(max_depth=1800,\n",
    "                                      max_features=2,\n",
    "                                      n_estimators=1800,\n",
    "                                      random_state=42,\n",
    "                                      n_jobs=-1)\n",
    "\n",
    "voting_reg = make_pipeline(preprocessing, VotingRegressor(estimators=[\n",
    "    ('mod_rf', modified_reg1),\n",
    "    ('mod_gb', modified_reg2),\n",
    "    ('mod_ex', modified_reg3)\n",
    "]))\n",
    "\n",
    "voting_model = voting_reg.fit(movies, movies_labels)\n",
    "X_test = test_set.drop(\"Total_Gross\", axis=1)\n",
    "y_test = test_set[\"Total_Gross\"].copy()\n",
    "\n",
    "final_predictions = voting_model.predict(X_test)\n",
    "\n",
    "final_rmse = mean_squared_error(y_test, final_predictions, squared=False)\n",
    "print(\"Testing Set: Voting RMSE = \", final_rmse)"
   ]
  },
  {
   "cell_type": "code",
   "execution_count": 101,
   "id": "ede49469",
   "metadata": {},
   "outputs": [
    {
     "name": "stdout",
     "output_type": "stream",
     "text": [
      "Testing Set: Voting NRMSE =  0.9175827179041602\n"
     ]
    }
   ],
   "source": [
    "print(\"Testing Set: Voting NRMSE = \", final_rmse/y_test.mean())"
   ]
  },
  {
   "cell_type": "code",
   "execution_count": 99,
   "id": "5320a674",
   "metadata": {},
   "outputs": [
    {
     "data": {
      "text/plain": [
       "array([42407301.89199194, 49623522.6436867 ])"
      ]
     },
     "execution_count": 99,
     "metadata": {},
     "output_type": "execute_result"
    }
   ],
   "source": [
    "from scipy import stats\n",
    "confidence = 0.95\n",
    "squared_errors = (final_predictions - y_test) ** 2\n",
    "np.sqrt(stats.t.interval(confidence, len(squared_errors) - 1,\n",
    "                         loc=squared_errors.mean(),\n",
    "                         scale=stats.sem(squared_errors)))"
   ]
  },
  {
   "cell_type": "markdown",
   "id": "c967d2d2",
   "metadata": {},
   "source": [
    "### 8.5: Performance on the Testing Set"
   ]
  },
  {
   "cell_type": "markdown",
   "id": "4b175a25",
   "metadata": {},
   "source": [
    "| Regression Model | RMSE | NRMSE |\n",
    "|----------|----------|----------|\n",
    "| Linear Regression | 244,670,186 | 4.9 |\n",
    "| Decision Tree | 59,638,189 | 1.19 |\n",
    "| Random Forest |  46,343,432 | 0.93 |\n",
    "| Gradient Boosted Decision Trees |  48,070,088 | 0.97 |\n",
    "| **Voting** | **45,696,906** | **0.91** |\n"
   ]
  },
  {
   "cell_type": "markdown",
   "id": "91df631f",
   "metadata": {},
   "source": [
    "## Section 9: Conclusion"
   ]
  },
  {
   "cell_type": "markdown",
   "id": "fe032392",
   "metadata": {},
   "source": [
    "### 9.1 Why Ensembles Perform Well"
   ]
  },
  {
   "cell_type": "markdown",
   "id": "a80daed2",
   "metadata": {},
   "source": [
    "Ensemble models, such as *Random Forest*, *Gradient-Boosted Trees*, and *Voting*, often outperform\n",
    "models like *Decision Tree* or *Linear Regression* for several reasons:\n",
    "\n",
    "1. **Diversity**: A *Random Forest* creates multiple decision trees and trains them on different\n",
    "subsets of the datasets. This randomness helps in reducing overfitting. *Gradient-Boosted Trees*\n",
    "build trees sequentially, and every new learner tries to improve on the errors made by the previous\n",
    "model [[9]](https://towardsdatascience.com/understanding-the-importance-of-diversity-in-ensemble-learning-34fb58fd2ed0#:~:text=Diversity%20is%20an%20important%20concept,make%20different%20types%20of%20errors.).\n",
    "\n",
    "2. **Handling Non-linearity**: In real life, data is usually non-linear. A *Decision Tree* can\n",
    "substantially improve on the accuracy of a *Linear Regression* model; however, if we use ensembles,\n",
    "we gain more power in increasing the accuracy of our predictions.\n",
    "\n",
    "3. **Tuning Capabilities**: Ensemble models allow for tuning hyperparameters, providing a chance to\n",
    "optimize their performance.\n",
    "\n",
    "The following are some specifc reasons why a *Random Forest* model makes lower prediction\n",
    "errors:\n",
    "\n",
    "1. *Random Forests* are less sensitive to outliers. When visualizing the data, we have seen that\n",
    "our dataset has many outliers; therefore, we needed a powerful model, like a *Random Forest*, to be able\n",
    "to handle these instances [[10]](https://www.analyticsvidhya.com/blog/2021/06/understanding-random-forest/#:~:text=Random%20Forest%20reduces%20overfitting%20by,feature%20selection%20and%20data%20interpretation).\n",
    "\n",
    "2. *Random Forests* reduce overfiting, because they average several decision trees [[10]](https://www.analyticsvidhya.com/blog/2021/06/understanding-random-forest/#:~:text=Random%20Forest%20reduces%20overfitting%20by,feature%20selection%20and%20data%20interpretation).\n",
    "\n",
    "3. *Random Forests* **DO NOT** overfit **as more decision trees are added** [[10]](https://www.analyticsvidhya.com/blog/2021/06/understanding-random-forest/#:~:text=Random%20Forest%20reduces%20overfitting%20by,feature%20selection%20and%20data%20interpretation).\n",
    "[[11]](https://arxiv.org/pdf/2111.04409.pdf).\n",
    "\n",
    "   * **Note:** A *Random Forest* can overfit (any model can), but it does not overfit as a result of adding more trees.\n",
    "\n",
    "And, finally, the reason a *Voting* ensemble performed the best is that it combined to other ensembles to make final predictions."
   ]
  },
  {
   "cell_type": "markdown",
   "id": "328ffbf4",
   "metadata": {},
   "source": [
    "### 9.2 Notes about the Dataset"
   ]
  },
  {
   "cell_type": "markdown",
   "id": "57477b8c",
   "metadata": {},
   "source": [
    "In conclusion, there are some limiting factors that made it hard to improve the accuracy (i.e., minimize the RMSE) of our prediction further.\n",
    "\n",
    "1. Limited Features: The dataset lacks features that influence a movie's revenue. For example, we could benefit from the opening week Box Office performance, but such a feature is not present in our dataset. \n",
    "\n",
    "2. Inherent Variability: We can't really exactly tell what makes a movie perform well in terms of revenue. There are some complex factors that cause a movie to do well in the Box Office, and it is difficult to quantiy factors.\n",
    "\n",
    "3. Small Training Data: We started with a dataset that contain a little more than 5,000 instances. We eliminated some outliers and we needed a train/test split. This made the dataset even small. Since this dataset is not large, we can't expect ML models to learn a lot from it.\n",
    "\n",
    "4. The range of the values of the instances is very large (as indicated below)."
   ]
  },
  {
   "cell_type": "code",
   "execution_count": 115,
   "id": "960da289",
   "metadata": {},
   "outputs": [
    {
     "data": {
      "text/plain": [
       "312327550.4803097"
      ]
     },
     "execution_count": 115,
     "metadata": {},
     "output_type": "execute_result"
    }
   ],
   "source": [
    "y_test.max() - y_test.min()"
   ]
  },
  {
   "cell_type": "code",
   "execution_count": 108,
   "id": "8e3a6b6f",
   "metadata": {},
   "outputs": [
    {
     "data": {
      "text/html": [
       "<style>#sk-container-id-6 {color: black;}#sk-container-id-6 pre{padding: 0;}#sk-container-id-6 div.sk-toggleable {background-color: white;}#sk-container-id-6 label.sk-toggleable__label {cursor: pointer;display: block;width: 100%;margin-bottom: 0;padding: 0.3em;box-sizing: border-box;text-align: center;}#sk-container-id-6 label.sk-toggleable__label-arrow:before {content: \"▸\";float: left;margin-right: 0.25em;color: #696969;}#sk-container-id-6 label.sk-toggleable__label-arrow:hover:before {color: black;}#sk-container-id-6 div.sk-estimator:hover label.sk-toggleable__label-arrow:before {color: black;}#sk-container-id-6 div.sk-toggleable__content {max-height: 0;max-width: 0;overflow: hidden;text-align: left;background-color: #f0f8ff;}#sk-container-id-6 div.sk-toggleable__content pre {margin: 0.2em;color: black;border-radius: 0.25em;background-color: #f0f8ff;}#sk-container-id-6 input.sk-toggleable__control:checked~div.sk-toggleable__content {max-height: 200px;max-width: 100%;overflow: auto;}#sk-container-id-6 input.sk-toggleable__control:checked~label.sk-toggleable__label-arrow:before {content: \"▾\";}#sk-container-id-6 div.sk-estimator input.sk-toggleable__control:checked~label.sk-toggleable__label {background-color: #d4ebff;}#sk-container-id-6 div.sk-label input.sk-toggleable__control:checked~label.sk-toggleable__label {background-color: #d4ebff;}#sk-container-id-6 input.sk-hidden--visually {border: 0;clip: rect(1px 1px 1px 1px);clip: rect(1px, 1px, 1px, 1px);height: 1px;margin: -1px;overflow: hidden;padding: 0;position: absolute;width: 1px;}#sk-container-id-6 div.sk-estimator {font-family: monospace;background-color: #f0f8ff;border: 1px dotted black;border-radius: 0.25em;box-sizing: border-box;margin-bottom: 0.5em;}#sk-container-id-6 div.sk-estimator:hover {background-color: #d4ebff;}#sk-container-id-6 div.sk-parallel-item::after {content: \"\";width: 100%;border-bottom: 1px solid gray;flex-grow: 1;}#sk-container-id-6 div.sk-label:hover label.sk-toggleable__label {background-color: #d4ebff;}#sk-container-id-6 div.sk-serial::before {content: \"\";position: absolute;border-left: 1px solid gray;box-sizing: border-box;top: 0;bottom: 0;left: 50%;z-index: 0;}#sk-container-id-6 div.sk-serial {display: flex;flex-direction: column;align-items: center;background-color: white;padding-right: 0.2em;padding-left: 0.2em;position: relative;}#sk-container-id-6 div.sk-item {position: relative;z-index: 1;}#sk-container-id-6 div.sk-parallel {display: flex;align-items: stretch;justify-content: center;background-color: white;position: relative;}#sk-container-id-6 div.sk-item::before, #sk-container-id-6 div.sk-parallel-item::before {content: \"\";position: absolute;border-left: 1px solid gray;box-sizing: border-box;top: 0;bottom: 0;left: 50%;z-index: -1;}#sk-container-id-6 div.sk-parallel-item {display: flex;flex-direction: column;z-index: 1;position: relative;background-color: white;}#sk-container-id-6 div.sk-parallel-item:first-child::after {align-self: flex-end;width: 50%;}#sk-container-id-6 div.sk-parallel-item:last-child::after {align-self: flex-start;width: 50%;}#sk-container-id-6 div.sk-parallel-item:only-child::after {width: 0;}#sk-container-id-6 div.sk-dashed-wrapped {border: 1px dashed gray;margin: 0 0.4em 0.5em 0.4em;box-sizing: border-box;padding-bottom: 0.4em;background-color: white;}#sk-container-id-6 div.sk-label label {font-family: monospace;font-weight: bold;display: inline-block;line-height: 1.2em;}#sk-container-id-6 div.sk-label-container {text-align: center;}#sk-container-id-6 div.sk-container {/* jupyter's `normalize.less` sets `[hidden] { display: none; }` but bootstrap.min.css set `[hidden] { display: none !important; }` so we also need the `!important` here to be able to override the default hidden behavior on the sphinx rendered scikit-learn.org. See: https://github.com/scikit-learn/scikit-learn/issues/21755 */display: inline-block !important;position: relative;}#sk-container-id-6 div.sk-text-repr-fallback {display: none;}</style><div id=\"sk-container-id-6\" class=\"sk-top-container\"><div class=\"sk-text-repr-fallback\"><pre>Pipeline(steps=[(&#x27;columntransformer&#x27;,\n",
       "                 ColumnTransformer(remainder=Pipeline(steps=[(&#x27;maxabsscaler&#x27;,\n",
       "                                                              MaxAbsScaler()),\n",
       "                                                             (&#x27;standardscaler&#x27;,\n",
       "                                                              StandardScaler())]),\n",
       "                                   transformers=[(&#x27;log&#x27;,\n",
       "                                                  Pipeline(steps=[(&#x27;functiontransformer&#x27;,\n",
       "                                                                   FunctionTransformer(feature_names_out=&#x27;one-to-one&#x27;,\n",
       "                                                                                       func=&lt;ufunc &#x27;log&#x27;&gt;)),\n",
       "                                                                  (&#x27;minmaxscaler&#x27;,\n",
       "                                                                   MinMaxScaler())]),\n",
       "                                                  [&#x27;Year&#x27;, &#x27;Runtime(Mins)&#x27;]),\n",
       "                                                 (&#x27;genre_...\n",
       "                                                  Pipeline(steps=[(&#x27;onehotencoder&#x27;,\n",
       "                                                                   OneHotEncoder(handle_unknown=&#x27;ignore&#x27;))]),\n",
       "                                                  &lt;sklearn.compose._column_transformer.make_column_selector object at 0x0000028846061250&gt;)])),\n",
       "                (&#x27;votingregressor&#x27;,\n",
       "                 VotingRegressor(estimators=[(&#x27;rf&#x27;,\n",
       "                                              RandomForestRegressor(random_state=42)),\n",
       "                                             (&#x27;gb&#x27;,\n",
       "                                              GradientBoostingRegressor(random_state=42)),\n",
       "                                             (&#x27;ex&#x27;,\n",
       "                                              ExtraTreesRegressor(random_state=42))]))])</pre><b>In a Jupyter environment, please rerun this cell to show the HTML representation or trust the notebook. <br />On GitHub, the HTML representation is unable to render, please try loading this page with nbviewer.org.</b></div><div class=\"sk-container\" hidden><div class=\"sk-item sk-dashed-wrapped\"><div class=\"sk-label-container\"><div class=\"sk-label sk-toggleable\"><input class=\"sk-toggleable__control sk-hidden--visually\" id=\"sk-estimator-id-72\" type=\"checkbox\" ><label for=\"sk-estimator-id-72\" class=\"sk-toggleable__label sk-toggleable__label-arrow\">Pipeline</label><div class=\"sk-toggleable__content\"><pre>Pipeline(steps=[(&#x27;columntransformer&#x27;,\n",
       "                 ColumnTransformer(remainder=Pipeline(steps=[(&#x27;maxabsscaler&#x27;,\n",
       "                                                              MaxAbsScaler()),\n",
       "                                                             (&#x27;standardscaler&#x27;,\n",
       "                                                              StandardScaler())]),\n",
       "                                   transformers=[(&#x27;log&#x27;,\n",
       "                                                  Pipeline(steps=[(&#x27;functiontransformer&#x27;,\n",
       "                                                                   FunctionTransformer(feature_names_out=&#x27;one-to-one&#x27;,\n",
       "                                                                                       func=&lt;ufunc &#x27;log&#x27;&gt;)),\n",
       "                                                                  (&#x27;minmaxscaler&#x27;,\n",
       "                                                                   MinMaxScaler())]),\n",
       "                                                  [&#x27;Year&#x27;, &#x27;Runtime(Mins)&#x27;]),\n",
       "                                                 (&#x27;genre_...\n",
       "                                                  Pipeline(steps=[(&#x27;onehotencoder&#x27;,\n",
       "                                                                   OneHotEncoder(handle_unknown=&#x27;ignore&#x27;))]),\n",
       "                                                  &lt;sklearn.compose._column_transformer.make_column_selector object at 0x0000028846061250&gt;)])),\n",
       "                (&#x27;votingregressor&#x27;,\n",
       "                 VotingRegressor(estimators=[(&#x27;rf&#x27;,\n",
       "                                              RandomForestRegressor(random_state=42)),\n",
       "                                             (&#x27;gb&#x27;,\n",
       "                                              GradientBoostingRegressor(random_state=42)),\n",
       "                                             (&#x27;ex&#x27;,\n",
       "                                              ExtraTreesRegressor(random_state=42))]))])</pre></div></div></div><div class=\"sk-serial\"><div class=\"sk-item sk-dashed-wrapped\"><div class=\"sk-label-container\"><div class=\"sk-label sk-toggleable\"><input class=\"sk-toggleable__control sk-hidden--visually\" id=\"sk-estimator-id-73\" type=\"checkbox\" ><label for=\"sk-estimator-id-73\" class=\"sk-toggleable__label sk-toggleable__label-arrow\">columntransformer: ColumnTransformer</label><div class=\"sk-toggleable__content\"><pre>ColumnTransformer(remainder=Pipeline(steps=[(&#x27;maxabsscaler&#x27;, MaxAbsScaler()),\n",
       "                                            (&#x27;standardscaler&#x27;,\n",
       "                                             StandardScaler())]),\n",
       "                  transformers=[(&#x27;log&#x27;,\n",
       "                                 Pipeline(steps=[(&#x27;functiontransformer&#x27;,\n",
       "                                                  FunctionTransformer(feature_names_out=&#x27;one-to-one&#x27;,\n",
       "                                                                      func=&lt;ufunc &#x27;log&#x27;&gt;)),\n",
       "                                                 (&#x27;minmaxscaler&#x27;,\n",
       "                                                  MinMaxScaler())]),\n",
       "                                 [&#x27;Year&#x27;, &#x27;Runtime(Mins)&#x27;]),\n",
       "                                (&#x27;genre_ordinal&#x27;,\n",
       "                                 Pipeline(steps=[(&#x27;ordinalencoder&#x27;,\n",
       "                                                  OrdinalEncoder(categories=[[&#x27;Action&#x27;,\n",
       "                                                                              &#x27;Comedy&#x27;,\n",
       "                                                                              &#x27;Animation&#x27;,\n",
       "                                                                              &#x27;Drama&#x27;,\n",
       "                                                                              &#x27;Adventure&#x27;,\n",
       "                                                                              &#x27;Biography&#x27;,\n",
       "                                                                              &#x27;Crime&#x27;,\n",
       "                                                                              &#x27;Horror&#x27;,\n",
       "                                                                              &#x27;Mystery&#x27;,\n",
       "                                                                              &#x27;Fantasy&#x27;,\n",
       "                                                                              &#x27;Western&#x27;,\n",
       "                                                                              &#x27;Film-Noir&#x27;]]))]),\n",
       "                                 [&#x27;main_genre&#x27;]),\n",
       "                                (&#x27;cat&#x27;,\n",
       "                                 Pipeline(steps=[(&#x27;onehotencoder&#x27;,\n",
       "                                                  OneHotEncoder(handle_unknown=&#x27;ignore&#x27;))]),\n",
       "                                 &lt;sklearn.compose._column_transformer.make_column_selector object at 0x0000028846061250&gt;)])</pre></div></div></div><div class=\"sk-parallel\"><div class=\"sk-parallel-item\"><div class=\"sk-item\"><div class=\"sk-label-container\"><div class=\"sk-label sk-toggleable\"><input class=\"sk-toggleable__control sk-hidden--visually\" id=\"sk-estimator-id-74\" type=\"checkbox\" ><label for=\"sk-estimator-id-74\" class=\"sk-toggleable__label sk-toggleable__label-arrow\">log</label><div class=\"sk-toggleable__content\"><pre>[&#x27;Year&#x27;, &#x27;Runtime(Mins)&#x27;]</pre></div></div></div><div class=\"sk-serial\"><div class=\"sk-item\"><div class=\"sk-serial\"><div class=\"sk-item\"><div class=\"sk-estimator sk-toggleable\"><input class=\"sk-toggleable__control sk-hidden--visually\" id=\"sk-estimator-id-75\" type=\"checkbox\" ><label for=\"sk-estimator-id-75\" class=\"sk-toggleable__label sk-toggleable__label-arrow\">FunctionTransformer</label><div class=\"sk-toggleable__content\"><pre>FunctionTransformer(feature_names_out=&#x27;one-to-one&#x27;, func=&lt;ufunc &#x27;log&#x27;&gt;)</pre></div></div></div><div class=\"sk-item\"><div class=\"sk-estimator sk-toggleable\"><input class=\"sk-toggleable__control sk-hidden--visually\" id=\"sk-estimator-id-76\" type=\"checkbox\" ><label for=\"sk-estimator-id-76\" class=\"sk-toggleable__label sk-toggleable__label-arrow\">MinMaxScaler</label><div class=\"sk-toggleable__content\"><pre>MinMaxScaler()</pre></div></div></div></div></div></div></div></div><div class=\"sk-parallel-item\"><div class=\"sk-item\"><div class=\"sk-label-container\"><div class=\"sk-label sk-toggleable\"><input class=\"sk-toggleable__control sk-hidden--visually\" id=\"sk-estimator-id-77\" type=\"checkbox\" ><label for=\"sk-estimator-id-77\" class=\"sk-toggleable__label sk-toggleable__label-arrow\">genre_ordinal</label><div class=\"sk-toggleable__content\"><pre>[&#x27;main_genre&#x27;]</pre></div></div></div><div class=\"sk-serial\"><div class=\"sk-item\"><div class=\"sk-serial\"><div class=\"sk-item\"><div class=\"sk-estimator sk-toggleable\"><input class=\"sk-toggleable__control sk-hidden--visually\" id=\"sk-estimator-id-78\" type=\"checkbox\" ><label for=\"sk-estimator-id-78\" class=\"sk-toggleable__label sk-toggleable__label-arrow\">OrdinalEncoder</label><div class=\"sk-toggleable__content\"><pre>OrdinalEncoder(categories=[[&#x27;Action&#x27;, &#x27;Comedy&#x27;, &#x27;Animation&#x27;, &#x27;Drama&#x27;,\n",
       "                            &#x27;Adventure&#x27;, &#x27;Biography&#x27;, &#x27;Crime&#x27;, &#x27;Horror&#x27;,\n",
       "                            &#x27;Mystery&#x27;, &#x27;Fantasy&#x27;, &#x27;Western&#x27;, &#x27;Film-Noir&#x27;]])</pre></div></div></div></div></div></div></div></div><div class=\"sk-parallel-item\"><div class=\"sk-item\"><div class=\"sk-label-container\"><div class=\"sk-label sk-toggleable\"><input class=\"sk-toggleable__control sk-hidden--visually\" id=\"sk-estimator-id-79\" type=\"checkbox\" ><label for=\"sk-estimator-id-79\" class=\"sk-toggleable__label sk-toggleable__label-arrow\">cat</label><div class=\"sk-toggleable__content\"><pre>&lt;sklearn.compose._column_transformer.make_column_selector object at 0x0000028846061250&gt;</pre></div></div></div><div class=\"sk-serial\"><div class=\"sk-item\"><div class=\"sk-serial\"><div class=\"sk-item\"><div class=\"sk-estimator sk-toggleable\"><input class=\"sk-toggleable__control sk-hidden--visually\" id=\"sk-estimator-id-80\" type=\"checkbox\" ><label for=\"sk-estimator-id-80\" class=\"sk-toggleable__label sk-toggleable__label-arrow\">OneHotEncoder</label><div class=\"sk-toggleable__content\"><pre>OneHotEncoder(handle_unknown=&#x27;ignore&#x27;)</pre></div></div></div></div></div></div></div></div><div class=\"sk-parallel-item\"><div class=\"sk-item\"><div class=\"sk-label-container\"><div class=\"sk-label sk-toggleable\"><input class=\"sk-toggleable__control sk-hidden--visually\" id=\"sk-estimator-id-81\" type=\"checkbox\" ><label for=\"sk-estimator-id-81\" class=\"sk-toggleable__label sk-toggleable__label-arrow\">remainder</label><div class=\"sk-toggleable__content\"><pre>[&#x27;Rating&#x27;]</pre></div></div></div><div class=\"sk-serial\"><div class=\"sk-item\"><div class=\"sk-serial\"><div class=\"sk-item\"><div class=\"sk-estimator sk-toggleable\"><input class=\"sk-toggleable__control sk-hidden--visually\" id=\"sk-estimator-id-82\" type=\"checkbox\" ><label for=\"sk-estimator-id-82\" class=\"sk-toggleable__label sk-toggleable__label-arrow\">MaxAbsScaler</label><div class=\"sk-toggleable__content\"><pre>MaxAbsScaler()</pre></div></div></div><div class=\"sk-item\"><div class=\"sk-estimator sk-toggleable\"><input class=\"sk-toggleable__control sk-hidden--visually\" id=\"sk-estimator-id-83\" type=\"checkbox\" ><label for=\"sk-estimator-id-83\" class=\"sk-toggleable__label sk-toggleable__label-arrow\">StandardScaler</label><div class=\"sk-toggleable__content\"><pre>StandardScaler()</pre></div></div></div></div></div></div></div></div></div></div><div class=\"sk-item sk-dashed-wrapped\"><div class=\"sk-label-container\"><div class=\"sk-label sk-toggleable\"><input class=\"sk-toggleable__control sk-hidden--visually\" id=\"sk-estimator-id-84\" type=\"checkbox\" ><label for=\"sk-estimator-id-84\" class=\"sk-toggleable__label sk-toggleable__label-arrow\">votingregressor: VotingRegressor</label><div class=\"sk-toggleable__content\"><pre>VotingRegressor(estimators=[(&#x27;rf&#x27;, RandomForestRegressor(random_state=42)),\n",
       "                            (&#x27;gb&#x27;, GradientBoostingRegressor(random_state=42)),\n",
       "                            (&#x27;ex&#x27;, ExtraTreesRegressor(random_state=42))])</pre></div></div></div><div class=\"sk-parallel\"><div class=\"sk-parallel-item\"><div class=\"sk-item\"><div class=\"sk-label-container\"><div class=\"sk-label sk-toggleable\"><label>rf</label></div></div><div class=\"sk-serial\"><div class=\"sk-item\"><div class=\"sk-estimator sk-toggleable\"><input class=\"sk-toggleable__control sk-hidden--visually\" id=\"sk-estimator-id-85\" type=\"checkbox\" ><label for=\"sk-estimator-id-85\" class=\"sk-toggleable__label sk-toggleable__label-arrow\">RandomForestRegressor</label><div class=\"sk-toggleable__content\"><pre>RandomForestRegressor(random_state=42)</pre></div></div></div></div></div></div><div class=\"sk-parallel-item\"><div class=\"sk-item\"><div class=\"sk-label-container\"><div class=\"sk-label sk-toggleable\"><label>gb</label></div></div><div class=\"sk-serial\"><div class=\"sk-item\"><div class=\"sk-estimator sk-toggleable\"><input class=\"sk-toggleable__control sk-hidden--visually\" id=\"sk-estimator-id-86\" type=\"checkbox\" ><label for=\"sk-estimator-id-86\" class=\"sk-toggleable__label sk-toggleable__label-arrow\">GradientBoostingRegressor</label><div class=\"sk-toggleable__content\"><pre>GradientBoostingRegressor(random_state=42)</pre></div></div></div></div></div></div><div class=\"sk-parallel-item\"><div class=\"sk-item\"><div class=\"sk-label-container\"><div class=\"sk-label sk-toggleable\"><label>ex</label></div></div><div class=\"sk-serial\"><div class=\"sk-item\"><div class=\"sk-estimator sk-toggleable\"><input class=\"sk-toggleable__control sk-hidden--visually\" id=\"sk-estimator-id-87\" type=\"checkbox\" ><label for=\"sk-estimator-id-87\" class=\"sk-toggleable__label sk-toggleable__label-arrow\">ExtraTreesRegressor</label><div class=\"sk-toggleable__content\"><pre>ExtraTreesRegressor(random_state=42)</pre></div></div></div></div></div></div></div></div></div></div></div></div>"
      ],
      "text/plain": [
       "Pipeline(steps=[('columntransformer',\n",
       "                 ColumnTransformer(remainder=Pipeline(steps=[('maxabsscaler',\n",
       "                                                              MaxAbsScaler()),\n",
       "                                                             ('standardscaler',\n",
       "                                                              StandardScaler())]),\n",
       "                                   transformers=[('log',\n",
       "                                                  Pipeline(steps=[('functiontransformer',\n",
       "                                                                   FunctionTransformer(feature_names_out='one-to-one',\n",
       "                                                                                       func=<ufunc 'log'>)),\n",
       "                                                                  ('minmaxscaler',\n",
       "                                                                   MinMaxScaler())]),\n",
       "                                                  ['Year', 'Runtime(Mins)']),\n",
       "                                                 ('genre_...\n",
       "                                                  Pipeline(steps=[('onehotencoder',\n",
       "                                                                   OneHotEncoder(handle_unknown='ignore'))]),\n",
       "                                                  <sklearn.compose._column_transformer.make_column_selector object at 0x0000028846061250>)])),\n",
       "                ('votingregressor',\n",
       "                 VotingRegressor(estimators=[('rf',\n",
       "                                              RandomForestRegressor(random_state=42)),\n",
       "                                             ('gb',\n",
       "                                              GradientBoostingRegressor(random_state=42)),\n",
       "                                             ('ex',\n",
       "                                              ExtraTreesRegressor(random_state=42))]))])"
      ]
     },
     "execution_count": 108,
     "metadata": {},
     "output_type": "execute_result"
    }
   ],
   "source": [
    "rand_forest_reg = RandomForestRegressor(random_state=42)\n",
    "grad_boost_reg = GradientBoostingRegressor(loss='squared_error', random_state=42)\n",
    "extra_trees_reg = ExtraTreesRegressor(random_state=42)\n",
    "\n",
    "final_voting_reg = make_pipeline(preprocessing, VotingRegressor(\n",
    "    estimators=[\n",
    "        ('rf', rand_forest_reg),\n",
    "        ('gb', grad_boost_reg),\n",
    "        ('ex', extra_trees_reg)\n",
    "    ]\n",
    "))\n",
    "\n",
    "final_voting_reg.fit(movies, movies_labels)"
   ]
  },
  {
   "cell_type": "markdown",
   "id": "414bda69",
   "metadata": {},
   "source": [
    "## References"
   ]
  },
  {
   "cell_type": "markdown",
   "id": "eeb6d5b4",
   "metadata": {},
   "source": [
    "[1] Tetbook: *Hands-on Machine Learning with Scikit-Leand, Keras & Tensorflow.*\n",
    "\n",
    "[2] https://www.bcheights.com/2017/04/26/the-appeal-of-the-action-genre/\n",
    "\n",
    "[3] https://seaborn.pydata.org/tutorial/categorical.html\n",
    "\n",
    "[4] https://medium.com/@alvaro.henriquez/adjusting-for-inflation-in-pandas-9cffc0d888ac\n",
    "\n",
    "[5] https://machinelearningmastery.com/how-to-use-statistics-to-identify-outliers-in-data/\n",
    "\n",
    "[6] https://scikit-learn.org/stable/modules/generated/sklearn.ensemble.RandomForestClassifier.html\n",
    "\n",
    "[7] https://machinelearningmastery.com/gradient-boosting-with-scikit-learn-xgboost-lightgbm-and-catboost/\n",
    "\n",
    "[8] https://scikit-learn.org/stable/modules/ensemble.html#voting-regressor\n",
    "\n",
    "[9] https://towardsdatascience.com/understanding-the-importance-of-diversity-in-ensemble-learning-34fb58fd2ed0#:~:text=Diversity%20is%20an%20important%20concept,make%20different%20types%20of%20errors.\n",
    "\n",
    "[10] https://www.analyticsvidhya.com/blog/2021/06/understanding-random-forest/#:~:text=Random%20Forest%20reduces%20overfitting%20by,feature%20selection%20and%20data%20interpretation.\n",
    "\n",
    "[11] https://www.analyticsvidhya.com/blog/2021/06/understanding-random-forest/#:~:text=Random%20Forest%20reduces%20overfitting%20by,feature%20selection%20and%20data%20interpretation.\n",
    "\n",
    "[12] https://arxiv.org/pdf/2111.04409.pdf"
   ]
  }
 ],
 "metadata": {
  "kernelspec": {
   "display_name": "Python 3 (ipykernel)",
   "language": "python",
   "name": "python3"
  },
  "language_info": {
   "codemirror_mode": {
    "name": "ipython",
    "version": 3
   },
   "file_extension": ".py",
   "mimetype": "text/x-python",
   "name": "python",
   "nbconvert_exporter": "python",
   "pygments_lexer": "ipython3",
   "version": "3.11.4"
  }
 },
 "nbformat": 4,
 "nbformat_minor": 5
}
